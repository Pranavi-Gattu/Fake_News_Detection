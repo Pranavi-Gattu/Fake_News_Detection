{
  "nbformat": 4,
  "nbformat_minor": 0,
  "metadata": {
    "colab": {
      "name": "Textualfeatures_analysis&selection.ipynb",
      "provenance": []
    },
    "kernelspec": {
      "name": "python3",
      "display_name": "Python 3"
    },
    "language_info": {
      "name": "python"
    }
  },
  "cells": [
    {
      "cell_type": "markdown",
      "metadata": {
        "id": "wb7I7at0lWxs"
      },
      "source": [
        "#Calculating sentiment using nltk"
      ]
    },
    {
      "cell_type": "code",
      "metadata": {
        "colab": {
          "base_uri": "https://localhost:8080/"
        },
        "id": "DjJ0mlfMn2dG",
        "outputId": "4a07f82c-16bb-48da-8b74-c4e2baa65fc1"
      },
      "source": [
        "import regex as re\n",
        "import nltk\n",
        "from textblob import TextBlob, Word, Blobber\n",
        "import json\n",
        "nltk.download('vader_lexicon')\n",
        "from nltk.sentiment import SentimentIntensityAnalyzer\n",
        "\n",
        "class Sentiment:\n",
        "  def __init__(self):\n",
        "    self.HN=0\n",
        "    self.N=0\n",
        "    self.Neu=0\n",
        "    self.P=0\n",
        "    self.HP=0\n",
        "    self.tweet_list=[]\n",
        "\n",
        "  def cleantext(self,text):\n",
        "    #print(text)\n",
        "    return ' '.join(re.sub(\"(@[A-Za-z0-9]+)|([^0-9A-Za-z \\t])|(\\w+:\\/\\/\\S+)\", \" \", text).split())\n",
        "\n",
        "  def tweetsenti(self,text):\n",
        "    cleaned_text=self.cleantext(text)\n",
        "    self.tweet_list.append(text)\n",
        "    txtblob=self.txtblobsenti(cleaned_text)\n",
        "    result=self.nltksenti(cleaned_text)\n",
        "\n",
        "    if cleaned_text!=\"\":\n",
        "      print(cleaned_text)\n",
        "      if result['compound']==0 or (result['compound']>0 and  txtblob[0]==0):\n",
        "        self.Neu=self.Neu+1\n",
        "      elif result['compound']>0 and result['compound']<0.5 and txtblob[0]>0 or (result['compound']>=0.5 and (txtblob[0]<0.5 and txtblob[0]>0)):\n",
        "        self.P=self.P+1\n",
        "\n",
        "      elif result['compound']>=0.5 and txtblob[0]>=0.5:\n",
        "        self.HP=self.HP+1\n",
        "        \n",
        "      elif result['compound']<0 and result['compound']>-0.5 or (txtblob[0]<0 and txtblob[0]>-0.5) :\n",
        "        self.N=self.N+1\n",
        "    \n",
        "      elif result['compound']<=0.5 or txtblob[0]<=0.5:\n",
        "        self.HN=self.HN+1\n",
        "    return (self.P,self.HP,self.Neu,self.N,self.HN)\n",
        "\n",
        "  def nltksenti(self,text):\n",
        "    sia = SentimentIntensityAnalyzer()\n",
        "    result=sia.polarity_scores(text)\n",
        "    print(result)\n",
        "    return result\n",
        "\n",
        "  def txtblobsenti(self,text):\n",
        "    text = TextBlob(text)\n",
        "    #print(text.sentiment[0])\n",
        "    return text.sentiment\n",
        "  \n",
        "  def usertimelinesenti(self,path):\n",
        "    f = open(path,) \n",
        "    data = json.load(f)\n",
        "    for tweet in data:\n",
        "      (P,HP,Neu,N,HN)=self.tweetsenti(tweet['text'])\n",
        "      print((P,HP,Neu,N,HN))\n",
        "      (P,HP,Neu,N,HN)=(0,0,0,0,0)"
      ],
      "execution_count": null,
      "outputs": [
        {
          "output_type": "stream",
          "text": [
            "[nltk_data] Downloading package vader_lexicon to /root/nltk_data...\n"
          ],
          "name": "stdout"
        },
        {
          "output_type": "stream",
          "text": [
            "/usr/local/lib/python3.7/dist-packages/nltk/twitter/__init__.py:20: UserWarning: The twython library has not been installed. Some functionality from the twitter package will not be available.\n",
            "  warnings.warn(\"The twython library has not been installed. \"\n"
          ],
          "name": "stderr"
        }
      ]
    },
    {
      "cell_type": "code",
      "metadata": {
        "id": "_yvGtGoioK4E"
      },
      "source": [
        "import pandas as pd\n",
        "data=pd.read_csv(\"/content/drive/MyDrive/BTECH_PRO_COE1,29,48/articleavgsentiment.csv\")"
      ],
      "execution_count": null,
      "outputs": []
    },
    {
      "cell_type": "markdown",
      "metadata": {
        "id": "GEfumZZBkVGO"
      },
      "source": [
        "#Importing modules for Named entity recongnition\n"
      ]
    },
    {
      "cell_type": "code",
      "metadata": {
        "colab": {
          "base_uri": "https://localhost:8080/"
        },
        "id": "3THGdNWbCltp",
        "outputId": "28d219e2-2d06-4e7d-e269-61613ec75ab1"
      },
      "source": [
        "import nltk\n",
        "nltk.download('punkt')\n",
        "nltk.download('averaged_perceptron_tagger')\n",
        "from nltk.tokenize import word_tokenize\n",
        "\n"
      ],
      "execution_count": null,
      "outputs": [
        {
          "output_type": "stream",
          "text": [
            "[nltk_data] Downloading package punkt to /root/nltk_data...\n",
            "[nltk_data]   Unzipping tokenizers/punkt.zip.\n",
            "[nltk_data] Downloading package averaged_perceptron_tagger to\n",
            "[nltk_data]     /root/nltk_data...\n",
            "[nltk_data]   Unzipping taggers/averaged_perceptron_tagger.zip.\n"
          ],
          "name": "stdout"
        }
      ]
    },
    {
      "cell_type": "code",
      "metadata": {
        "id": "oYOGsdRcyEWh"
      },
      "source": [
        "import spacy\n",
        "from spacy import displacy\n",
        "from collections import Counter\n",
        "import en_core_web_sm\n",
        "nlp = en_core_web_sm.load()"
      ],
      "execution_count": null,
      "outputs": []
    },
    {
      "cell_type": "markdown",
      "metadata": {
        "id": "N2zE5ZzbkmhU"
      },
      "source": [
        "Putting Real News text info into a dictionary"
      ]
    },
    {
      "cell_type": "code",
      "metadata": {
        "colab": {
          "base_uri": "https://localhost:8080/"
        },
        "id": "U-4K5j01Ll9e",
        "outputId": "a361952c-0f68-4f07-b24a-31b4fae2ae72"
      },
      "source": [
        "import os\n",
        "import json\n",
        "m=[]\n",
        "cn=0\n",
        "cy=0\n",
        "for folder in os.listdir('/content/drive/MyDrive/BTECH_PRO_COE1,29,48/FakeNewDet-FYP/code/fakenewsnet_dataset/politifact/real'):\n",
        "  print(folder)\n",
        "  if folder in list(real['name']):\n",
        "    for subf in os.listdir('/content/drive/MyDrive/BTECH_PRO_COE1,29,48/FakeNewDet-FYP/code/fakenewsnet_dataset/politifact/real'+\"/\"+str(folder)):\n",
        "      if str(subf)==\"tweets\":\n",
        "        c=0\n",
        "        articles={}\n",
        "        \n",
        "        for files in os.listdir('/content/drive/MyDrive/BTECH_PRO_COE1,29,48/FakeNewDet-FYP/code/fakenewsnet_dataset/politifact/real'+\"/\"+str(folder)+\"/\"+subf):\n",
        "          f=open('/content/drive/MyDrive/BTECH_PRO_COE1,29,48/FakeNewDet-FYP/code/fakenewsnet_dataset/politifact/real'+\"/\"+str(folder)+\"/\"+subf+\"/\"+files)\n",
        "          d={}\n",
        "          c+=1\n",
        "          data=json.load(f)\n",
        "          if data['text']!=\"\":\n",
        "            cleaned=test.cleantext(data['text'])\n",
        "            files=files.rstrip('.json')\n",
        "            #print(files)\n",
        "            if cleaned!=\"\":\n",
        "              \"\"\"\n",
        "              vb=0\n",
        "              nn=0\n",
        "              jj=0\n",
        "              token = word_tokenize(cleaned.lower())\n",
        "              s=nltk.pos_tag(token)\n",
        "              for pos in s:\n",
        "                if len(str(pos[0]))>1:\n",
        "                  if 'VB' in str(pos[1]):\n",
        "                    vb+=1\n",
        "                  if 'NN' in str(pos[1]):     \n",
        "                    nn+=1\n",
        "                  if 'JJ' in str(pos[1]):\n",
        "                    jj+=1\n",
        "              #print(s)\n",
        "              d['id']=files\n",
        "              d['Verb count']=vb\n",
        "              d['Noun count']=nn\n",
        "              d['Adjective count']=jj\n",
        "              \"\"\"\n",
        "              PERSON=0\n",
        "              NORP=0\n",
        "              ORG=0\n",
        "              GPE=0\n",
        "              doc = nlp(cleaned)\n",
        "              for ent in doc.ents:\n",
        "                print(ent.text,ent.label_)\n",
        "                if ent.label_==\"PERSON\":\n",
        "                  PERSON+=1\n",
        "                elif ent.label_==\"NORP\":\n",
        "                  NORP+=1\n",
        "                elif ent.label_==\"ORG\":\n",
        "                  ORG+=1\n",
        "                else:\n",
        "                  GPE+=1\n",
        "                \n",
        "              \n",
        "              d['id']=files\n",
        "              d['senti']=test.txtblobsenti(cleaned)[0]\n",
        "              d['label']=0\n",
        "              d['PERSON']=PERSON\n",
        "              d['NORP']=NORP\n",
        "              d['GPE']=GPE\n",
        "              d['ORG']=ORG\n",
        "              print(d)\n",
        "              m.append(d)\n",
        "              \n",
        "        \n",
        "        \"\"\"\n",
        "        if c>0:\n",
        "          \n",
        "          articles['name']=folder\n",
        "          articles['sentiment']=overallsenti/c\n",
        "          articles['label']=0      \n",
        "          arti_sentiment.append(articles)\n",
        "        #print(\"SENTI\",overallsenti/c)\n",
        "        \"\"\"\n",
        "      print(\"\\n\")\n",
        "  "
      ],
      "execution_count": null,
      "outputs": [
        {
          "output_type": "stream",
          "text": [
            "\u001b[1;30;43mStreaming output truncated to the last 5000 lines.\u001b[0m\n",
            "Obama CARDINAL\n",
            "{'id': '1019355021392130049', 'senti': 0.0, 'label': 0, 'PERSON': 0, 'NORP': 0, 'GPE': 1, 'ORG': 0}\n",
            "Obama CARDINAL\n",
            "{'id': '1019363107175575552', 'senti': 0.0, 'label': 0, 'PERSON': 0, 'NORP': 0, 'GPE': 1, 'ORG': 0}\n",
            "Obama CARDINAL\n",
            "{'id': '1019387966450479105', 'senti': 0.0, 'label': 0, 'PERSON': 0, 'NORP': 0, 'GPE': 1, 'ORG': 0}\n",
            "Obama CARDINAL\n",
            "{'id': '1019355075758710785', 'senti': 0.0, 'label': 0, 'PERSON': 0, 'NORP': 0, 'GPE': 1, 'ORG': 0}\n",
            "2018 DATE\n",
            "Nelson Mandela PERSON\n",
            "{'id': '1019386791063965697', 'senti': 0.0, 'label': 0, 'PERSON': 1, 'NORP': 0, 'GPE': 1, 'ORG': 0}\n",
            "{'id': '1019363158954270721', 'senti': 0.5, 'label': 0, 'PERSON': 0, 'NORP': 0, 'GPE': 0, 'ORG': 0}\n",
            "{'id': '1019357952543780865', 'senti': 0.0, 'label': 0, 'PERSON': 0, 'NORP': 0, 'GPE': 0, 'ORG': 0}\n",
            "Obama CARDINAL\n",
            "{'id': '1019373718114430976', 'senti': 0.0, 'label': 0, 'PERSON': 0, 'NORP': 0, 'GPE': 1, 'ORG': 0}\n",
            "2018 DATE\n",
            "Nelson Mandela PERSON\n",
            "{'id': '1019388976635863041', 'senti': 0.0, 'label': 0, 'PERSON': 1, 'NORP': 0, 'GPE': 1, 'ORG': 0}\n",
            "today DATE\n",
            "Inspirational ORG\n",
            "{'id': '1019379155593547776', 'senti': 0.43333333333333335, 'label': 0, 'PERSON': 0, 'NORP': 0, 'GPE': 1, 'ORG': 1}\n",
            "Obama LOC\n",
            "{'id': '1019356875517816833', 'senti': 0.5, 'label': 0, 'PERSON': 0, 'NORP': 0, 'GPE': 1, 'ORG': 0}\n",
            "Barack Obama PERSON\n",
            "Obama LOC\n",
            "{'id': '1019353745514262533', 'senti': 0.0, 'label': 0, 'PERSON': 1, 'NORP': 0, 'GPE': 1, 'ORG': 0}\n",
            "Obama CARDINAL\n",
            "{'id': '1019355832276795392', 'senti': 0.0, 'label': 0, 'PERSON': 0, 'NORP': 0, 'GPE': 1, 'ORG': 0}\n",
            "Obama CARDINAL\n",
            "{'id': '1019354571716456449', 'senti': 0.0, 'label': 0, 'PERSON': 0, 'NORP': 0, 'GPE': 1, 'ORG': 0}\n",
            "Obama CARDINAL\n",
            "{'id': '1019366218640207873', 'senti': 0.13636363636363635, 'label': 0, 'PERSON': 0, 'NORP': 0, 'GPE': 1, 'ORG': 0}\n",
            "2018 DATE\n",
            "Nelson Mandela PERSON\n",
            "{'id': '1019379337684848641', 'senti': 0.0, 'label': 0, 'PERSON': 1, 'NORP': 0, 'GPE': 1, 'ORG': 0}\n",
            "Obama CARDINAL\n",
            "{'id': '1019357099778805760', 'senti': 0.0, 'label': 0, 'PERSON': 0, 'NORP': 0, 'GPE': 1, 'ORG': 0}\n",
            "Obama CARDINAL\n",
            "{'id': '1019356998276546560', 'senti': 0.13636363636363635, 'label': 0, 'PERSON': 0, 'NORP': 0, 'GPE': 1, 'ORG': 0}\n",
            "{'id': '1019357392646045696', 'senti': 0.35, 'label': 0, 'PERSON': 0, 'NORP': 0, 'GPE': 0, 'ORG': 0}\n",
            "Obama CARDINAL\n",
            "{'id': '1019383878711209988', 'senti': 0.0, 'label': 0, 'PERSON': 0, 'NORP': 0, 'GPE': 1, 'ORG': 0}\n",
            "Obama CARDINAL\n",
            "{'id': '1019356088217419776', 'senti': 0.0, 'label': 0, 'PERSON': 0, 'NORP': 0, 'GPE': 1, 'ORG': 0}\n",
            "Obama CARDINAL\n",
            "{'id': '1019359608882642944', 'senti': 0.0, 'label': 0, 'PERSON': 0, 'NORP': 0, 'GPE': 1, 'ORG': 0}\n",
            "Obama CARDINAL\n",
            "{'id': '1019361090742857729', 'senti': 0.13636363636363635, 'label': 0, 'PERSON': 0, 'NORP': 0, 'GPE': 1, 'ORG': 0}\n",
            "Obama CARDINAL\n",
            "{'id': '1019381073447456769', 'senti': 0.0, 'label': 0, 'PERSON': 0, 'NORP': 0, 'GPE': 1, 'ORG': 0}\n",
            "Obama CARDINAL\n",
            "{'id': '1019374913822523393', 'senti': 0.2857142857142857, 'label': 0, 'PERSON': 0, 'NORP': 0, 'GPE': 1, 'ORG': 0}\n",
            "US GPE\n",
            "Obama LOC\n",
            "{'id': '1019360648113868800', 'senti': 0.5166666666666666, 'label': 0, 'PERSON': 0, 'NORP': 0, 'GPE': 2, 'ORG': 0}\n",
            "{'id': '1019372494455758848', 'senti': 0.0, 'label': 0, 'PERSON': 0, 'NORP': 0, 'GPE': 0, 'ORG': 0}\n",
            "Obama CARDINAL\n",
            "{'id': '1019355139461636096', 'senti': 0.0, 'label': 0, 'PERSON': 0, 'NORP': 0, 'GPE': 1, 'ORG': 0}\n",
            "\n",
            "\n",
            "\n",
            "\n",
            "politifact4809\n",
            "politifact4358\n",
            "politifact423\n",
            "\n",
            "\n",
            "\n",
            "\n",
            "Ten CARDINAL\n",
            "Merissa McCain PERSON\n",
            "Margaret Madigan PERSON\n",
            "HERO FOR HIRE Enter ORG\n",
            "{'id': '387990600953659392', 'senti': 0.4, 'label': 0, 'PERSON': 2, 'NORP': 0, 'GPE': 1, 'ORG': 1}\n",
            "Ten CARDINAL\n",
            "{'id': '339378269365354496', 'senti': -0.016666666666666666, 'label': 0, 'PERSON': 0, 'NORP': 0, 'GPE': 1, 'ORG': 0}\n",
            "\n",
            "\n",
            "politifact4088\n",
            "politifact3892\n",
            "\n",
            "\n",
            "\n",
            "\n",
            "Charlie Gibson Interviews PERSON\n",
            "GOP ORG\n",
            "Sarah Palin PERSON\n",
            "{'id': '921844833', 'senti': 0.35, 'label': 0, 'PERSON': 2, 'NORP': 0, 'GPE': 0, 'ORG': 1}\n",
            "\n",
            "\n",
            "politifact401\n",
            "\n",
            "\n",
            "Denver Romney ORG\n",
            "NOKXL ORG\n",
            "{'id': '259051563849506816', 'senti': 0.0, 'label': 0, 'PERSON': 0, 'NORP': 0, 'GPE': 0, 'ORG': 2}\n",
            "America GPE\n",
            "{'id': '185494042459639808', 'senti': 0.0, 'label': 0, 'PERSON': 0, 'NORP': 0, 'GPE': 1, 'ORG': 0}\n",
            "GOP ORG\n",
            "Republican NORP\n",
            "Sunday DATE\n",
            "Pledge to America LOC\n",
            "{'id': '25616669011', 'senti': 0.13636363636363635, 'label': 0, 'PERSON': 0, 'NORP': 1, 'GPE': 2, 'ORG': 1}\n",
            "Pres Obama PERSON\n",
            "Obama LOC\n",
            "America GPE\n",
            "{'id': '246351474395869184', 'senti': 0.0, 'label': 0, 'PERSON': 1, 'NORP': 0, 'GPE': 2, 'ORG': 0}\n",
            "NYC Defend America Defeat JIhad ORG\n",
            "{'id': '253237104526651392', 'senti': 0.13636363636363635, 'label': 0, 'PERSON': 0, 'NORP': 0, 'GPE': 0, 'ORG': 1}\n",
            "Alejandro Alves Which America ORG\n",
            "{'id': '185412273840463872', 'senti': 0.0, 'label': 0, 'PERSON': 0, 'NORP': 0, 'GPE': 0, 'ORG': 1}\n",
            "05 CARDINAL\n",
            "{'id': '195950873761947648', 'senti': 0.0, 'label': 0, 'PERSON': 0, 'NORP': 0, 'GPE': 1, 'ORG': 0}\n",
            "GOP ORG\n",
            "Republican NORP\n",
            "Sunday DATE\n",
            "Pledge to America LOC\n",
            "{'id': '25626061811', 'senti': 0.13636363636363635, 'label': 0, 'PERSON': 0, 'NORP': 1, 'GPE': 2, 'ORG': 1}\n",
            "WASHINGTON GPE\n",
            "Republican NORP\n",
            "America GPE\n",
            "{'id': '91517837641912321', 'senti': 0.25, 'label': 0, 'PERSON': 0, 'NORP': 1, 'GPE': 2, 'ORG': 0}\n",
            "Nixon PERSON\n",
            "America GPE\n",
            "Communists NORP\n",
            "Washington GPE\n",
            "{'id': '249871917220253696', 'senti': -0.15555555555555559, 'label': 0, 'PERSON': 1, 'NORP': 1, 'GPE': 2, 'ORG': 0}\n",
            "Republican NORP\n",
            "Republican NORP\n",
            "America GPE\n",
            "{'id': '91035878058766336', 'senti': -0.5, 'label': 0, 'PERSON': 0, 'NORP': 2, 'GPE': 1, 'ORG': 0}\n",
            "America GPE\n",
            "Iran GPE\n",
            "{'id': '291664607955791872', 'senti': 0.0, 'label': 0, 'PERSON': 0, 'NORP': 0, 'GPE': 2, 'ORG': 0}\n",
            "America GPE\n",
            "{'id': '185754656113303553', 'senti': 0.0, 'label': 0, 'PERSON': 0, 'NORP': 0, 'GPE': 1, 'ORG': 0}\n",
            "Koch Bros PERSON\n",
            "Middle America LOC\n",
            "Joe PERSON\n",
            "{'id': '452027396024459264', 'senti': 0.14285714285714285, 'label': 0, 'PERSON': 2, 'NORP': 0, 'GPE': 1, 'ORG': 0}\n",
            "NYC Defend America Defeat JIhad ORG\n",
            "{'id': '253237105801707521', 'senti': 0.13636363636363635, 'label': 0, 'PERSON': 0, 'NORP': 0, 'GPE': 0, 'ORG': 1}\n",
            "Obama CARDINAL\n",
            "NSA ORG\n",
            "America GPE\n",
            "Wrong GPE\n",
            "{'id': '343031672779988993', 'senti': -0.17857142857142858, 'label': 0, 'PERSON': 0, 'NORP': 0, 'GPE': 3, 'ORG': 1}\n",
            "US Supreme Court ORG\n",
            "eBay ORG\n",
            "America GPE\n",
            "{'id': '255076474023976960', 'senti': 0.25, 'label': 0, 'PERSON': 0, 'NORP': 0, 'GPE': 1, 'ORG': 2}\n",
            "Republican NORP\n",
            "Republican NORP\n",
            "America GPE\n",
            "{'id': '91008886382923776', 'senti': -0.5, 'label': 0, 'PERSON': 0, 'NORP': 2, 'GPE': 1, 'ORG': 0}\n",
            "GOP ORG\n",
            "Republican NORP\n",
            "Sunday DATE\n",
            "Pledge to America LOC\n",
            "{'id': '25616669894', 'senti': 0.13636363636363635, 'label': 0, 'PERSON': 0, 'NORP': 1, 'GPE': 2, 'ORG': 1}\n",
            "Orly Taitz PERSON\n",
            "{'id': '321262331998924800', 'senti': 0.0, 'label': 0, 'PERSON': 1, 'NORP': 0, 'GPE': 0, 'ORG': 0}\n",
            "Republican NORP\n",
            "Republican NORP\n",
            "America GPE\n",
            "{'id': '91008878489243648', 'senti': -0.5, 'label': 0, 'PERSON': 0, 'NORP': 2, 'GPE': 1, 'ORG': 0}\n",
            "Fuels America ORG\n",
            "Earth Day DATE\n",
            "{'id': '458704653912268800', 'senti': 0.0, 'label': 0, 'PERSON': 0, 'NORP': 0, 'GPE': 1, 'ORG': 1}\n",
            "eBay ORG\n",
            "eBay ORG\n",
            "America GPE\n",
            "{'id': '255178132368265218', 'senti': 0.2857142857142857, 'label': 0, 'PERSON': 0, 'NORP': 0, 'GPE': 1, 'ORG': 2}\n",
            "eBay ORG\n",
            "America GPE\n",
            "first ORDINAL\n",
            "Supreme Court ORG\n",
            "{'id': '255216046875742209', 'senti': 0.25, 'label': 0, 'PERSON': 0, 'NORP': 0, 'GPE': 2, 'ORG': 2}\n",
            "DeVore America PERSON\n",
            "Israel GPE\n",
            "{'id': '1094273753', 'senti': 0.2857142857142857, 'label': 0, 'PERSON': 1, 'NORP': 0, 'GPE': 1, 'ORG': 0}\n",
            "Republican NORP\n",
            "Republican NORP\n",
            "America GPE\n",
            "{'id': '91008878539587584', 'senti': -0.5, 'label': 0, 'PERSON': 0, 'NORP': 2, 'GPE': 1, 'ORG': 0}\n",
            "GOP ORG\n",
            "Republican NORP\n",
            "Sunday DATE\n",
            "Pledge to America LOC\n",
            "{'id': '25654282960', 'senti': 0.13636363636363635, 'label': 0, 'PERSON': 0, 'NORP': 1, 'GPE': 2, 'ORG': 1}\n",
            "World War IV EVENT\n",
            "America GPE\n",
            "al Qaida ORG\n",
            "A Lon WORK_OF_ART\n",
            "{'id': '65501247171592192', 'senti': 0.0, 'label': 0, 'PERSON': 0, 'NORP': 0, 'GPE': 3, 'ORG': 1}\n",
            "Alejandro Alves Which America ORG\n",
            "{'id': '185404968403079168', 'senti': 0.0, 'label': 0, 'PERSON': 0, 'NORP': 0, 'GPE': 0, 'ORG': 1}\n",
            "Defend Economy on First Campaign Trip of 2012 Voice of America BloombergObama ORG\n",
            "{'id': '154627287000690688', 'senti': 0.25, 'label': 0, 'PERSON': 0, 'NORP': 0, 'GPE': 0, 'ORG': 1}\n",
            "Christians NORP\n",
            "Christianity Today America ORG\n",
            "{'id': '25761588335', 'senti': 0.06818181818181818, 'label': 0, 'PERSON': 0, 'NORP': 1, 'GPE': 0, 'ORG': 1}\n",
            "America GPE\n",
            "{'id': '295937855426002944', 'senti': 0.0, 'label': 0, 'PERSON': 0, 'NORP': 0, 'GPE': 1, 'ORG': 0}\n",
            "DeVore America PERSON\n",
            "Israel GPE\n",
            "{'id': '1094273686', 'senti': 0.2857142857142857, 'label': 0, 'PERSON': 1, 'NORP': 0, 'GPE': 1, 'ORG': 0}\n",
            "Campaign for Liberty Working ORG\n",
            "Liberty GPE\n",
            "America GPE\n",
            "{'id': '106167858064658432', 'senti': 0.35, 'label': 0, 'PERSON': 0, 'NORP': 0, 'GPE': 2, 'ORG': 1}\n",
            "GOP ORG\n",
            "Republican NORP\n",
            "Sunday DATE\n",
            "Pledge to America LOC\n",
            "{'id': '25654283000', 'senti': 0.13636363636363635, 'label': 0, 'PERSON': 0, 'NORP': 1, 'GPE': 2, 'ORG': 1}\n",
            "ACT for America Campaign ORG\n",
            "Free Speech PERSON\n",
            "September DATE\n",
            "{'id': '376044817999863808', 'senti': 0.4, 'label': 0, 'PERSON': 1, 'NORP': 0, 'GPE': 1, 'ORG': 1}\n",
            "America GPE\n",
            "{'id': '253307097280827392', 'senti': 0.0, 'label': 0, 'PERSON': 0, 'NORP': 0, 'GPE': 1, 'ORG': 0}\n",
            "the Joplin Mosque FAC\n",
            "250 CARDINAL\n",
            "2 days DATE\n",
            "America GPE\n",
            "{'id': '233919232801386500', 'senti': 0.5, 'label': 0, 'PERSON': 0, 'NORP': 0, 'GPE': 4, 'ORG': 0}\n",
            "GOP ORG\n",
            "Republican NORP\n",
            "Sunday DATE\n",
            "Pledge to America LOC\n",
            "{'id': '25625067736', 'senti': 0.13636363636363635, 'label': 0, 'PERSON': 0, 'NORP': 1, 'GPE': 2, 'ORG': 1}\n",
            "America GPE\n",
            "Israel GPE\n",
            "2012 DATE\n",
            "CUFI s PRODUCT\n",
            "{'id': '164593484152573952', 'senti': 0.0, 'label': 0, 'PERSON': 0, 'NORP': 0, 'GPE': 4, 'ORG': 0}\n",
            "America GPE\n",
            "Communists NORP\n",
            "Washington GPE\n",
            "{'id': '382319412298018817', 'senti': -0.15555555555555559, 'label': 0, 'PERSON': 0, 'NORP': 1, 'GPE': 2, 'ORG': 0}\n",
            "Alejandro Alves Which America ORG\n",
            "{'id': '185404967971069952', 'senti': 0.0, 'label': 0, 'PERSON': 0, 'NORP': 0, 'GPE': 0, 'ORG': 1}\n",
            "DTN Latin America ORG\n",
            "Argentine NORP\n",
            "{'id': '220794480939384832', 'senti': 0.2, 'label': 0, 'PERSON': 0, 'NORP': 1, 'GPE': 0, 'ORG': 1}\n",
            "ACT for America Campaign ORG\n",
            "Free Speech PERSON\n",
            "September DATE\n",
            "{'id': '376044956001243136', 'senti': 0.4, 'label': 0, 'PERSON': 1, 'NORP': 0, 'GPE': 1, 'ORG': 1}\n",
            "GOP ORG\n",
            "Republican NORP\n",
            "Sunday DATE\n",
            "Pledge to America LOC\n",
            "{'id': '25626061611', 'senti': 0.13636363636363635, 'label': 0, 'PERSON': 0, 'NORP': 1, 'GPE': 2, 'ORG': 1}\n",
            "Republican NORP\n",
            "America GPE\n",
            "{'id': '91103794443730944', 'senti': -0.3166666666666667, 'label': 0, 'PERSON': 0, 'NORP': 1, 'GPE': 1, 'ORG': 0}\n",
            "Wallace Won t Let Facts Get In The Way Of Fox s Campaign To Defend The Rich Media Matters for PERSON\n",
            "America GPE\n",
            "{'id': '122561355290132481', 'senti': 0.375, 'label': 0, 'PERSON': 1, 'NORP': 0, 'GPE': 1, 'ORG': 0}\n",
            "Republican NORP\n",
            "America GPE\n",
            "Tuesday DATE\n",
            "night TIME\n",
            "{'id': '91055816001585152', 'senti': -0.15555555555555559, 'label': 0, 'PERSON': 0, 'NORP': 1, 'GPE': 3, 'ORG': 0}\n",
            "the America s Cup EVENT\n",
            "{'id': '258576012701491200', 'senti': 0.0625, 'label': 0, 'PERSON': 0, 'NORP': 0, 'GPE': 1, 'ORG': 0}\n",
            "Obama CARDINAL\n",
            "AFTER ORG\n",
            "15 CARDINAL\n",
            "Bank of America ORG\n",
            "{'id': '261243545132875777', 'senti': 0.13636363636363635, 'label': 0, 'PERSON': 0, 'NORP': 0, 'GPE': 2, 'ORG': 2}\n",
            "America GPE\n",
            "Wisconsin GPE\n",
            "{'id': '84040598058844160', 'senti': -0.4, 'label': 0, 'PERSON': 0, 'NORP': 0, 'GPE': 2, 'ORG': 0}\n",
            "Alejandro Alves Which America ORG\n",
            "{'id': '185403094765543424', 'senti': 0.0, 'label': 0, 'PERSON': 0, 'NORP': 0, 'GPE': 0, 'ORG': 1}\n",
            "Republican NORP\n",
            "Republican NORP\n",
            "America GPE\n",
            "{'id': '91008878489251840', 'senti': -0.5, 'label': 0, 'PERSON': 0, 'NORP': 2, 'GPE': 1, 'ORG': 0}\n",
            "America GPE\n",
            "McCain PERSON\n",
            "McSame GPE\n",
            "Bush PERSON\n",
            "{'id': '767896876', 'senti': 0.0, 'label': 0, 'PERSON': 2, 'NORP': 0, 'GPE': 2, 'ORG': 0}\n",
            "Campaign for Liberty Working ORG\n",
            "Liberty GPE\n",
            "America GPE\n",
            "{'id': '106167854612754432', 'senti': 0.35, 'label': 0, 'PERSON': 0, 'NORP': 0, 'GPE': 2, 'ORG': 1}\n",
            "digg Wallace Won PERSON\n",
            "America GPE\n",
            "{'id': '122561337619529728', 'senti': 0.375, 'label': 0, 'PERSON': 1, 'NORP': 0, 'GPE': 1, 'ORG': 0}\n",
            "eBay ORG\n",
            "eBay ORG\n",
            "America GPE\n",
            "{'id': '255126495121518592', 'senti': 0.2857142857142857, 'label': 0, 'PERSON': 0, 'NORP': 0, 'GPE': 1, 'ORG': 2}\n",
            "Alejandro Alves Which America ORG\n",
            "{'id': '185402629436866562', 'senti': 0.0, 'label': 0, 'PERSON': 0, 'NORP': 0, 'GPE': 0, 'ORG': 1}\n",
            "NYC Defend America Defeat JIhad ORG\n",
            "{'id': '253244401680277504', 'senti': 0.13636363636363635, 'label': 0, 'PERSON': 0, 'NORP': 0, 'GPE': 0, 'ORG': 1}\n",
            "America Defend ORG\n",
            "the Catholic Campaign for Human Dvlpmnt ORG\n",
            "this weekend DATE\n",
            "{'id': '269615870450475008', 'senti': 0.0, 'label': 0, 'PERSON': 0, 'NORP': 0, 'GPE': 1, 'ORG': 2}\n",
            "ACT for America Campaign to Defend FreeSpeech ORG\n",
            "September DATE\n",
            "{'id': '376198263948337152', 'senti': 0.0, 'label': 0, 'PERSON': 0, 'NORP': 0, 'GPE': 1, 'ORG': 1}\n",
            "Fuels America ORG\n",
            "Earth Day DATE\n",
            "{'id': '458704647612424192', 'senti': 0.0, 'label': 0, 'PERSON': 0, 'NORP': 0, 'GPE': 1, 'ORG': 1}\n",
            "New Fuels America ORG\n",
            "RFS ORG\n",
            "{'id': '251692967859998721', 'senti': 0.06818181818181818, 'label': 0, 'PERSON': 0, 'NORP': 0, 'GPE': 0, 'ORG': 2}\n",
            "ACT for America Campaign to Defend Free Speech ORG\n",
            "September DATE\n",
            "{'id': '376182225978417152', 'senti': 0.4, 'label': 0, 'PERSON': 0, 'NORP': 0, 'GPE': 1, 'ORG': 1}\n",
            "{'id': '253434758380548098', 'senti': 0.13636363636363635, 'label': 0, 'PERSON': 0, 'NORP': 0, 'GPE': 0, 'ORG': 0}\n",
            "Defend Economy on First Campaign Trip of 2012 Voice of America ORG\n",
            "{'id': '154641539711254528', 'senti': 0.25, 'label': 0, 'PERSON': 0, 'NORP': 0, 'GPE': 0, 'ORG': 1}\n",
            "eBay ORG\n",
            "eBay ORG\n",
            "America GPE\n",
            "{'id': '255188424338853889', 'senti': 0.2857142857142857, 'label': 0, 'PERSON': 0, 'NORP': 0, 'GPE': 1, 'ORG': 2}\n",
            "RT Tea Party ORG\n",
            "America GPE\n",
            "{'id': '292500138763620352', 'senti': 0.0, 'label': 0, 'PERSON': 0, 'NORP': 0, 'GPE': 1, 'ORG': 1}\n",
            "America GPE\n",
            "{'id': '186563886957334528', 'senti': 0.0, 'label': 0, 'PERSON': 0, 'NORP': 0, 'GPE': 1, 'ORG': 0}\n",
            "Alejandro Alves Which America ORG\n",
            "{'id': '185422615278661632', 'senti': 0.0, 'label': 0, 'PERSON': 0, 'NORP': 0, 'GPE': 0, 'ORG': 1}\n",
            "ppl ORG\n",
            "america GPE\n",
            "american NORP\n",
            "{'id': '265696549579935744', 'senti': -0.1, 'label': 0, 'PERSON': 0, 'NORP': 1, 'GPE': 1, 'ORG': 1}\n",
            "America GPE\n",
            "Communists NORP\n",
            "Washington GPE\n",
            "{'id': '249867059121487872', 'senti': -0.15555555555555559, 'label': 0, 'PERSON': 0, 'NORP': 1, 'GPE': 2, 'ORG': 0}\n",
            "America GPE\n",
            "{'id': '185526115505422336', 'senti': 0.0, 'label': 0, 'PERSON': 0, 'NORP': 0, 'GPE': 1, 'ORG': 0}\n",
            "Adam Shah Wallace Won PERSON\n",
            "America GPE\n",
            "{'id': '118081555569713152', 'senti': 0.375, 'label': 0, 'PERSON': 1, 'NORP': 0, 'GPE': 1, 'ORG': 0}\n",
            "Romney ORG\n",
            "America GPE\n",
            "{'id': '260553678044418048', 'senti': -0.09444444444444439, 'label': 0, 'PERSON': 0, 'NORP': 0, 'GPE': 1, 'ORG': 1}\n",
            "Republican NORP\n",
            "Republican NORP\n",
            "America GPE\n",
            "{'id': '91033232627347456', 'senti': -0.5, 'label': 0, 'PERSON': 0, 'NORP': 2, 'GPE': 1, 'ORG': 0}\n",
            "GOP ORG\n",
            "Republican NORP\n",
            "Sunday DATE\n",
            "Pledge to America LOC\n",
            "{'id': '25620207892', 'senti': 0.13636363636363635, 'label': 0, 'PERSON': 0, 'NORP': 1, 'GPE': 2, 'ORG': 1}\n",
            "Republican NORP\n",
            "Republican NORP\n",
            "America GPE\n",
            "{'id': '91033232577007616', 'senti': -0.5, 'label': 0, 'PERSON': 0, 'NORP': 2, 'GPE': 1, 'ORG': 0}\n",
            "Fuels America ORG\n",
            "Earth Day DATE\n",
            "{'id': '458704648736485378', 'senti': 0.0, 'label': 0, 'PERSON': 0, 'NORP': 0, 'GPE': 1, 'ORG': 1}\n",
            "New Fuels America ORG\n",
            "{'id': '251647752902164480', 'senti': 0.13636363636363635, 'label': 0, 'PERSON': 0, 'NORP': 0, 'GPE': 0, 'ORG': 1}\n",
            "the NY Police Department ORG\n",
            "Follow America LOC\n",
            "Israel GPE\n",
            "{'id': '180278117141708801', 'senti': 0.0, 'label': 0, 'PERSON': 0, 'NORP': 0, 'GPE': 2, 'ORG': 1}\n",
            "Fuels America ORG\n",
            "Earth Day DATE\n",
            "{'id': '458704792827621377', 'senti': 0.0, 'label': 0, 'PERSON': 0, 'NORP': 0, 'GPE': 1, 'ORG': 1}\n",
            "the Collier County Campaign For Liberty ORG\n",
            "the Constitution for the united States of America LAW\n",
            "{'id': '8643331443', 'senti': 0.0, 'label': 0, 'PERSON': 0, 'NORP': 0, 'GPE': 1, 'ORG': 1}\n",
            "america GPE\n",
            "{'id': '4319980290', 'senti': -0.03166666666666666, 'label': 0, 'PERSON': 0, 'NORP': 0, 'GPE': 1, 'ORG': 0}\n",
            "Fuels America ORG\n",
            "Earth Day DATE\n",
            "{'id': '458704807797067776', 'senti': 0.0, 'label': 0, 'PERSON': 0, 'NORP': 0, 'GPE': 1, 'ORG': 1}\n",
            "Accion America ORG\n",
            "Brownsville GPE\n",
            "Children with Special Needs WORK_OF_ART\n",
            "{'id': '4106413741', 'senti': 0.17857142857142858, 'label': 0, 'PERSON': 0, 'NORP': 0, 'GPE': 2, 'ORG': 1}\n",
            "{'id': '10263534588', 'senti': 0.25, 'label': 0, 'PERSON': 0, 'NORP': 0, 'GPE': 0, 'ORG': 0}\n",
            "3 year old DATE\n",
            "{'id': '467360868381237248', 'senti': 0.1, 'label': 0, 'PERSON': 0, 'NORP': 0, 'GPE': 1, 'ORG': 0}\n",
            "Gen David Petraeus PERSON\n",
            "America GPE\n",
            "{'id': '20733184499', 'senti': 0.6, 'label': 0, 'PERSON': 1, 'NORP': 0, 'GPE': 1, 'ORG': 0}\n",
            "George Pataki PERSON\n",
            "America GPE\n",
            "{'id': '12307798969', 'senti': 0.0, 'label': 0, 'PERSON': 1, 'NORP': 0, 'GPE': 1, 'ORG': 0}\n",
            "DeVore America PERSON\n",
            "Israel GPE\n",
            "{'id': '1094295541', 'senti': 0.2857142857142857, 'label': 0, 'PERSON': 1, 'NORP': 0, 'GPE': 1, 'ORG': 0}\n",
            "Fuels America ORG\n",
            "Earth Day DATE\n",
            "{'id': '458704667187245057', 'senti': 0.0, 'label': 0, 'PERSON': 0, 'NORP': 0, 'GPE': 1, 'ORG': 1}\n",
            "Fuels America ORG\n",
            "Earth Day DATE\n",
            "{'id': '458704791766441985', 'senti': 0.0, 'label': 0, 'PERSON': 0, 'NORP': 0, 'GPE': 1, 'ORG': 1}\n",
            "America GPE\n",
            "Obama GPE\n",
            "{'id': '11092281350', 'senti': 0.0, 'label': 0, 'PERSON': 0, 'NORP': 0, 'GPE': 2, 'ORG': 0}\n",
            "GOP ORG\n",
            "Republican NORP\n",
            "Sunday DATE\n",
            "Pledge to America LOC\n",
            "{'id': '25616669102', 'senti': 0.13636363636363635, 'label': 0, 'PERSON': 0, 'NORP': 1, 'GPE': 2, 'ORG': 1}\n",
            "Fuels America ORG\n",
            "Earth Day DATE\n",
            "{'id': '458704798791897088', 'senti': 0.0, 'label': 0, 'PERSON': 0, 'NORP': 0, 'GPE': 1, 'ORG': 1}\n",
            "3yr DATE\n",
            "{'id': '467363460515659778', 'senti': 0.05, 'label': 0, 'PERSON': 0, 'NORP': 0, 'GPE': 1, 'ORG': 0}\n",
            "\n",
            "\n",
            "\n",
            "\n",
            "politifact384\n",
            "\n",
            "\n",
            "\n",
            "\n",
            "{'id': '604126242133151744', 'senti': 0.0, 'label': 0, 'PERSON': 0, 'NORP': 0, 'GPE': 0, 'ORG': 0}\n",
            "Yes We Can Barack Obama Music Video PRODUCT\n",
            "{'id': '569038858630922240', 'senti': 0.0, 'label': 0, 'PERSON': 0, 'NORP': 0, 'GPE': 1, 'ORG': 0}\n",
            "Rae Jepsen PERSON\n",
            "{'id': '560887109850918912', 'senti': 0.0, 'label': 0, 'PERSON': 1, 'NORP': 0, 'GPE': 0, 'ORG': 0}\n",
            "{'id': '594257104594182144', 'senti': 0.8, 'label': 0, 'PERSON': 0, 'NORP': 0, 'GPE': 0, 'ORG': 0}\n",
            "{'id': '594212608229511168', 'senti': 0.0, 'label': 0, 'PERSON': 0, 'NORP': 0, 'GPE': 0, 'ORG': 0}\n",
            "Barack Obama Speech WORK_OF_ART\n",
            "{'id': '575691369169072128', 'senti': 0.0, 'label': 0, 'PERSON': 0, 'NORP': 0, 'GPE': 1, 'ORG': 0}\n",
            "first ORDINAL\n",
            "{'id': '622204891864248320', 'senti': 0.18333333333333335, 'label': 0, 'PERSON': 0, 'NORP': 0, 'GPE': 1, 'ORG': 0}\n",
            "{'id': '604320334523703297', 'senti': 0.6, 'label': 0, 'PERSON': 0, 'NORP': 0, 'GPE': 0, 'ORG': 0}\n",
            "{'id': '594232692264153088', 'senti': 0.6, 'label': 0, 'PERSON': 0, 'NORP': 0, 'GPE': 0, 'ORG': 0}\n",
            "{'id': '594840887084982272', 'senti': 0.0, 'label': 0, 'PERSON': 0, 'NORP': 0, 'GPE': 0, 'ORG': 0}\n",
            "{'id': '569101324668817408', 'senti': 0.0, 'label': 0, 'PERSON': 0, 'NORP': 0, 'GPE': 0, 'ORG': 0}\n",
            "{'id': '600150362364973056', 'senti': 0.0, 'label': 0, 'PERSON': 0, 'NORP': 0, 'GPE': 0, 'ORG': 0}\n",
            "aime une vid PERSON\n",
            "Yes We Can Barack Obama Music Video WORK_OF_ART\n",
            "{'id': '604006584889577472', 'senti': 0.0, 'label': 0, 'PERSON': 1, 'NORP': 0, 'GPE': 1, 'ORG': 0}\n",
            "{'id': '594170268823597056', 'senti': 0.6, 'label': 0, 'PERSON': 0, 'NORP': 0, 'GPE': 0, 'ORG': 0}\n",
            "{'id': '604232329020772352', 'senti': 0.0, 'label': 0, 'PERSON': 0, 'NORP': 0, 'GPE': 0, 'ORG': 0}\n",
            "{'id': '594047066818650113', 'senti': 0.6, 'label': 0, 'PERSON': 0, 'NORP': 0, 'GPE': 0, 'ORG': 0}\n",
            "{'id': '561558761534681088', 'senti': 0.0, 'label': 0, 'PERSON': 0, 'NORP': 0, 'GPE': 0, 'ORG': 0}\n",
            "{'id': '577632464337666048', 'senti': 0.0, 'label': 0, 'PERSON': 0, 'NORP': 0, 'GPE': 0, 'ORG': 0}\n",
            "{'id': '563618412824244224', 'senti': 0.0, 'label': 0, 'PERSON': 0, 'NORP': 0, 'GPE': 0, 'ORG': 0}\n",
            "{'id': '575386219514761218', 'senti': 0.175, 'label': 0, 'PERSON': 0, 'NORP': 0, 'GPE': 0, 'ORG': 0}\n",
            "{'id': '594217427778535424', 'senti': 0.8, 'label': 0, 'PERSON': 0, 'NORP': 0, 'GPE': 0, 'ORG': 0}\n",
            "{'id': '625625407728037888', 'senti': 0.0, 'label': 0, 'PERSON': 0, 'NORP': 0, 'GPE': 0, 'ORG': 0}\n",
            "{'id': '603987355637305345', 'senti': 0.6, 'label': 0, 'PERSON': 0, 'NORP': 0, 'GPE': 0, 'ORG': 0}\n",
            "un ORG\n",
            "{'id': '574573170570698753', 'senti': 0.0, 'label': 0, 'PERSON': 0, 'NORP': 0, 'GPE': 0, 'ORG': 1}\n",
            "{'id': '574962911057166337', 'senti': 0.0, 'label': 0, 'PERSON': 0, 'NORP': 0, 'GPE': 0, 'ORG': 0}\n",
            "{'id': '627238991029501954', 'senti': 0.0, 'label': 0, 'PERSON': 0, 'NORP': 0, 'GPE': 0, 'ORG': 0}\n",
            "{'id': '582132897743790080', 'senti': 0.0, 'label': 0, 'PERSON': 0, 'NORP': 0, 'GPE': 0, 'ORG': 0}\n",
            "{'id': '569410066614321153', 'senti': 0.6, 'label': 0, 'PERSON': 0, 'NORP': 0, 'GPE': 0, 'ORG': 0}\n",
            "Taylor Swift PERSON\n",
            "{'id': '565912501746147328', 'senti': 0.0, 'label': 0, 'PERSON': 1, 'NORP': 0, 'GPE': 0, 'ORG': 0}\n",
            "Barack Obama PERSON\n",
            "{'id': '561469599624228864', 'senti': 0.8, 'label': 0, 'PERSON': 1, 'NORP': 0, 'GPE': 0, 'ORG': 0}\n",
            "{'id': '583679994502709248', 'senti': 0.0, 'label': 0, 'PERSON': 0, 'NORP': 0, 'GPE': 0, 'ORG': 0}\n",
            "Barack Obama Once WORK_OF_ART\n",
            "{'id': '616199442513817600', 'senti': 0.8, 'label': 0, 'PERSON': 0, 'NORP': 0, 'GPE': 1, 'ORG': 0}\n",
            "un ORG\n",
            "{'id': '603411783433453568', 'senti': 0.0, 'label': 0, 'PERSON': 0, 'NORP': 0, 'GPE': 0, 'ORG': 1}\n",
            "{'id': '594178146666176512', 'senti': 0.6, 'label': 0, 'PERSON': 0, 'NORP': 0, 'GPE': 0, 'ORG': 0}\n",
            "Sympathy PERSON\n",
            "1Z CARDINAL\n",
            "4 CARDINAL\n",
            "{'id': '612093777776386048', 'senti': 0.6, 'label': 0, 'PERSON': 1, 'NORP': 0, 'GPE': 2, 'ORG': 0}\n",
            "Allan Savory PERSON\n",
            "{'id': '588133270614839299', 'senti': 0.0, 'label': 0, 'PERSON': 1, 'NORP': 0, 'GPE': 0, 'ORG': 0}\n",
            "{'id': '612226570275586048', 'senti': 0.0, 'label': 0, 'PERSON': 0, 'NORP': 0, 'GPE': 0, 'ORG': 0}\n",
            "{'id': '594143270122356736', 'senti': 0.6, 'label': 0, 'PERSON': 0, 'NORP': 0, 'GPE': 0, 'ORG': 0}\n",
            "{'id': '601356250547232768', 'senti': 0.6, 'label': 0, 'PERSON': 0, 'NORP': 0, 'GPE': 0, 'ORG': 0}\n",
            "un ORG\n",
            "{'id': '594354034972176386', 'senti': 0.0, 'label': 0, 'PERSON': 0, 'NORP': 0, 'GPE': 0, 'ORG': 1}\n",
            "un ORG\n",
            "{'id': '592269769908203520', 'senti': 0.0, 'label': 0, 'PERSON': 0, 'NORP': 0, 'GPE': 0, 'ORG': 1}\n",
            "Barack Obama Victory Speech FAC\n",
            "{'id': '579477933162688512', 'senti': 0.6, 'label': 0, 'PERSON': 0, 'NORP': 0, 'GPE': 1, 'ORG': 0}\n",
            "{'id': '594360314990301184', 'senti': 0.6, 'label': 0, 'PERSON': 0, 'NORP': 0, 'GPE': 0, 'ORG': 0}\n",
            "{'id': '594289256446595072', 'senti': 0.6, 'label': 0, 'PERSON': 0, 'NORP': 0, 'GPE': 0, 'ORG': 0}\n",
            "{'id': '594095711832174592', 'senti': 0.6, 'label': 0, 'PERSON': 0, 'NORP': 0, 'GPE': 0, 'ORG': 0}\n",
            "{'id': '594242453147766784', 'senti': 0.6, 'label': 0, 'PERSON': 0, 'NORP': 0, 'GPE': 0, 'ORG': 0}\n",
            "{'id': '595811246714265603', 'senti': 0.6, 'label': 0, 'PERSON': 0, 'NORP': 0, 'GPE': 0, 'ORG': 0}\n",
            "{'id': '605011975937093632', 'senti': 0.6, 'label': 0, 'PERSON': 0, 'NORP': 0, 'GPE': 0, 'ORG': 0}\n",
            "YES WE CAN Music Video Barack PRODUCT\n",
            "{'id': '572529755045699584', 'senti': 0.0, 'label': 0, 'PERSON': 0, 'NORP': 0, 'GPE': 1, 'ORG': 0}\n",
            "{'id': '594287689689657347', 'senti': 0.6, 'label': 0, 'PERSON': 0, 'NORP': 0, 'GPE': 0, 'ORG': 0}\n",
            "{'id': '584263117980487680', 'senti': 0.0, 'label': 0, 'PERSON': 0, 'NORP': 0, 'GPE': 0, 'ORG': 0}\n",
            "{'id': '594106313363304448', 'senti': 0.6, 'label': 0, 'PERSON': 0, 'NORP': 0, 'GPE': 0, 'ORG': 0}\n",
            "{'id': '613812762666487808', 'senti': 0.6000000000000001, 'label': 0, 'PERSON': 0, 'NORP': 0, 'GPE': 0, 'ORG': 0}\n",
            "{'id': '592258074418765825', 'senti': 0.0, 'label': 0, 'PERSON': 0, 'NORP': 0, 'GPE': 0, 'ORG': 0}\n",
            "{'id': '594076371640541184', 'senti': 0.6, 'label': 0, 'PERSON': 0, 'NORP': 0, 'GPE': 0, 'ORG': 0}\n",
            "{'id': '592264884659695616', 'senti': 0.0, 'label': 0, 'PERSON': 0, 'NORP': 0, 'GPE': 0, 'ORG': 0}\n",
            "{'id': '562736590066581506', 'senti': 0.0, 'label': 0, 'PERSON': 0, 'NORP': 0, 'GPE': 0, 'ORG': 0}\n",
            "{'id': '594284898824757248', 'senti': 0.6, 'label': 0, 'PERSON': 0, 'NORP': 0, 'GPE': 0, 'ORG': 0}\n",
            "Yeswecan NORP\n",
            "{'id': '601243252851802112', 'senti': 0.0, 'label': 0, 'PERSON': 0, 'NORP': 1, 'GPE': 0, 'ORG': 0}\n",
            "{'id': '600373872467300353', 'senti': -0.08333333333333333, 'label': 0, 'PERSON': 0, 'NORP': 0, 'GPE': 0, 'ORG': 0}\n",
            "{'id': '604871829828673536', 'senti': 0.0, 'label': 0, 'PERSON': 0, 'NORP': 0, 'GPE': 0, 'ORG': 0}\n",
            "100 CARDINAL\n",
            "{'id': '627925612955463680', 'senti': 0.0, 'label': 0, 'PERSON': 0, 'NORP': 0, 'GPE': 1, 'ORG': 0}\n",
            "{'id': '594399428884209664', 'senti': 0.6, 'label': 0, 'PERSON': 0, 'NORP': 0, 'GPE': 0, 'ORG': 0}\n",
            "{'id': '592332698183565312', 'senti': 0.0, 'label': 0, 'PERSON': 0, 'NORP': 0, 'GPE': 0, 'ORG': 0}\n",
            "{'id': '615613616935555072', 'senti': -0.125, 'label': 0, 'PERSON': 0, 'NORP': 0, 'GPE': 0, 'ORG': 0}\n",
            "Yes We Can Barack Obama Music Video PRODUCT\n",
            "{'id': '594360373496582146', 'senti': 0.0, 'label': 0, 'PERSON': 0, 'NORP': 0, 'GPE': 1, 'ORG': 0}\n",
            "{'id': '594323643041259520', 'senti': 0.0, 'label': 0, 'PERSON': 0, 'NORP': 0, 'GPE': 0, 'ORG': 0}\n",
            "Barack Obama PERSON\n",
            "Jamaica Patois Greetings FAC\n",
            "Wha gwaan Jamaica PERSON\n",
            "{'id': '587693799511560192', 'senti': 0.0, 'label': 0, 'PERSON': 2, 'NORP': 0, 'GPE': 1, 'ORG': 0}\n",
            "{'id': '604055224437862400', 'senti': 0.0, 'label': 0, 'PERSON': 0, 'NORP': 0, 'GPE': 0, 'ORG': 0}\n",
            "Dick Gregory Barack PERSON\n",
            "Obama ORG\n",
            "{'id': '593814039421124608', 'senti': 0.09166666666666666, 'label': 0, 'PERSON': 1, 'NORP': 0, 'GPE': 0, 'ORG': 1}\n",
            "{'id': '592292544299540480', 'senti': 0.6, 'label': 0, 'PERSON': 0, 'NORP': 0, 'GPE': 0, 'ORG': 0}\n",
            "{'id': '563859959159353345', 'senti': 0.0, 'label': 0, 'PERSON': 0, 'NORP': 0, 'GPE': 0, 'ORG': 0}\n",
            "{'id': '594119229831450625', 'senti': 0.6, 'label': 0, 'PERSON': 0, 'NORP': 0, 'GPE': 0, 'ORG': 0}\n",
            "Yes We Can Barack Obama Music Video PRODUCT\n",
            "{'id': '620243372813484032', 'senti': 0.0, 'label': 0, 'PERSON': 0, 'NORP': 0, 'GPE': 1, 'ORG': 0}\n",
            "{'id': '601054274701762560', 'senti': 0.0, 'label': 0, 'PERSON': 0, 'NORP': 0, 'GPE': 0, 'ORG': 0}\n",
            "{'id': '593871558562717696', 'senti': 0.0, 'label': 0, 'PERSON': 0, 'NORP': 0, 'GPE': 0, 'ORG': 0}\n",
            "{'id': '591397639394086913', 'senti': 0.0, 'label': 0, 'PERSON': 0, 'NORP': 0, 'GPE': 0, 'ORG': 0}\n",
            "{'id': '589080769164869632', 'senti': 0.0, 'label': 0, 'PERSON': 0, 'NORP': 0, 'GPE': 0, 'ORG': 0}\n",
            "{'id': '589150073075826688', 'senti': 0.0, 'label': 0, 'PERSON': 0, 'NORP': 0, 'GPE': 0, 'ORG': 0}\n",
            "Barack Obama PERSON\n",
            "ISIS ORG\n",
            "Iraq GPE\n",
            "{'id': '578195151052349440', 'senti': 0.0, 'label': 0, 'PERSON': 1, 'NORP': 0, 'GPE': 1, 'ORG': 1}\n",
            "Mark Ronson PERSON\n",
            "Bruno Mars PERSON\n",
            "{'id': '565218693534457856', 'senti': 0.0, 'label': 0, 'PERSON': 2, 'NORP': 0, 'GPE': 0, 'ORG': 0}\n",
            "{'id': '622238733840986112', 'senti': 0.0, 'label': 0, 'PERSON': 0, 'NORP': 0, 'GPE': 0, 'ORG': 0}\n",
            "{'id': '569190391838330880', 'senti': 0.6, 'label': 0, 'PERSON': 0, 'NORP': 0, 'GPE': 0, 'ORG': 0}\n",
            "{'id': '594360372787683329', 'senti': 0.6, 'label': 0, 'PERSON': 0, 'NORP': 0, 'GPE': 0, 'ORG': 0}\n",
            "{'id': '600321924175036417', 'senti': 0.0, 'label': 0, 'PERSON': 0, 'NORP': 0, 'GPE': 0, 'ORG': 0}\n",
            "{'id': '604871734848684033', 'senti': 0.6, 'label': 0, 'PERSON': 0, 'NORP': 0, 'GPE': 0, 'ORG': 0}\n",
            "Barack Obama Victory Speech FAC\n",
            "{'id': '612220489499570176', 'senti': 0.6, 'label': 0, 'PERSON': 0, 'NORP': 0, 'GPE': 1, 'ORG': 0}\n",
            "{'id': '586209671469490177', 'senti': 0.06818181818181818, 'label': 0, 'PERSON': 0, 'NORP': 0, 'GPE': 0, 'ORG': 0}\n",
            "Vadimir Putin PERSON\n",
            "BHO ORG\n",
            "America GPE\n",
            "BHO ORG\n",
            "Putin PERSON\n",
            "{'id': '564823949301661696', 'senti': 0.0, 'label': 0, 'PERSON': 2, 'NORP': 0, 'GPE': 1, 'ORG': 2}\n",
            "{'id': '615084357854720003', 'senti': 0.0, 'label': 0, 'PERSON': 0, 'NORP': 0, 'GPE': 0, 'ORG': 0}\n",
            "{'id': '562656997380993025', 'senti': 0.0, 'label': 0, 'PERSON': 0, 'NORP': 0, 'GPE': 0, 'ORG': 0}\n",
            "{'id': '594093066274938880', 'senti': 0.6, 'label': 0, 'PERSON': 0, 'NORP': 0, 'GPE': 0, 'ORG': 0}\n",
            "Obama Ejemplo del poder PERSON\n",
            "Barack PERSON\n",
            "{'id': '596012827434946560', 'senti': 0.0, 'label': 0, 'PERSON': 2, 'NORP': 0, 'GPE': 0, 'ORG': 0}\n",
            "{'id': '594063855359172609', 'senti': 0.6, 'label': 0, 'PERSON': 0, 'NORP': 0, 'GPE': 0, 'ORG': 0}\n",
            "\n",
            "\n",
            "politifact356\n",
            "\n",
            "\n",
            "\n",
            "\n",
            "Hovnanian Enterprises Mourns the Loss of Kevork S Hovnanian Founder ORG\n",
            "{'id': '4373042420', 'senti': 0.0, 'label': 0, 'PERSON': 0, 'NORP': 0, 'GPE': 0, 'ORG': 1}\n",
            "Tonight TIME\n",
            "An hour TIME\n",
            "Jeff Bezos PERSON\n",
            "Amazon ORG\n",
            "{'id': '1254975096', 'senti': 0.0, 'label': 0, 'PERSON': 1, 'NORP': 0, 'GPE': 2, 'ORG': 1}\n",
            "Tonight An hour TIME\n",
            "Jeff Bezos PERSON\n",
            "Amazon ORG\n",
            "{'id': '1254505341', 'senti': 0.0, 'label': 0, 'PERSON': 1, 'NORP': 0, 'GPE': 1, 'ORG': 1}\n",
            "Quality Systems Inc ORG\n",
            "39 CARDINAL\n",
            "{'id': '2181632558', 'senti': 0.0, 'label': 0, 'PERSON': 0, 'NORP': 0, 'GPE': 1, 'ORG': 1}\n",
            "Jim Sterne PERSON\n",
            "the Board Web Analytics Association ORG\n",
            "{'id': '1672286756', 'senti': 0.0, 'label': 0, 'PERSON': 1, 'NORP': 0, 'GPE': 0, 'ORG': 1}\n",
            "Hovnanian Enterprises Mourns the Loss of Kevork S Hovnanian Founder ORG\n",
            "the Board RED BANK N J ORG\n",
            "{'id': '4373247084', 'senti': 0.0, 'label': 0, 'PERSON': 0, 'NORP': 0, 'GPE': 0, 'ORG': 2}\n",
            "Nu Skin PERSON\n",
            "Recognized PERSON\n",
            "2009 International Award FAC\n",
            "{'id': '2636443227', 'senti': 0.0, 'label': 0, 'PERSON': 2, 'NORP': 0, 'GPE': 1, 'ORG': 0}\n",
            "Kevork S Hovnanian Founder ORG\n",
            "the Board of Hovnanian Enterprises ORG\n",
            "{'id': '4381351243', 'senti': 0.0, 'label': 0, 'PERSON': 0, 'NORP': 0, 'GPE': 0, 'ORG': 2}\n",
            "Amazon ORG\n",
            "{'id': '1249921602', 'senti': 0.0, 'label': 0, 'PERSON': 0, 'NORP': 0, 'GPE': 0, 'ORG': 1}\n",
            "1988 DATE\n",
            "ACS ORG\n",
            "Darwin Deason PERSON\n",
            "{'id': '2414274726', 'senti': 0.0, 'label': 0, 'PERSON': 1, 'NORP': 0, 'GPE': 1, 'ORG': 1}\n",
            "{'id': '1039118159', 'senti': 0.0, 'label': 0, 'PERSON': 0, 'NORP': 0, 'GPE': 0, 'ORG': 0}\n",
            "Quality Systems Inc ORG\n",
            "Named Ernst PERSON\n",
            "{'id': '2180665149', 'senti': 0.1, 'label': 0, 'PERSON': 1, 'NORP': 0, 'GPE': 0, 'ORG': 1}\n",
            "U S ORG\n",
            "2009 DATE\n",
            "Rainman INC ORG\n",
            "{'id': '3334106662', 'senti': -0.5, 'label': 0, 'PERSON': 0, 'NORP': 0, 'GPE': 1, 'ORG': 2}\n",
            "Tonight TIME\n",
            "An hour TIME\n",
            "Jeff Bezos PERSON\n",
            "{'id': '1254820144', 'senti': 0.0, 'label': 0, 'PERSON': 1, 'NORP': 0, 'GPE': 2, 'ORG': 0}\n",
            "David Schaer PERSON\n",
            "Michael Schaer PERSON\n",
            "{'id': '1542233307', 'senti': -0.015151515151515152, 'label': 0, 'PERSON': 2, 'NORP': 0, 'GPE': 0, 'ORG': 0}\n",
            "New York Interactive Intelligence Founder CEO ORG\n",
            "Don Brown PERSON\n",
            "Deliver Keynote ORG\n",
            "{'id': '3362348996', 'senti': 0.13636363636363635, 'label': 0, 'PERSON': 1, 'NORP': 0, 'GPE': 0, 'ORG': 2}\n",
            "Home Data Entry Details We 8217 ORG\n",
            "1988 DATE\n",
            "ACS ORG\n",
            "Darwin D PERSON\n",
            "{'id': '1675042898', 'senti': 0.0, 'label': 0, 'PERSON': 1, 'NORP': 0, 'GPE': 1, 'ORG': 2}\n",
            "Gary Keller Founder PERSON\n",
            "the Board of Keller Wil ORG\n",
            "{'id': '2435075585', 'senti': 0.0, 'label': 0, 'PERSON': 1, 'NORP': 0, 'GPE': 0, 'ORG': 1}\n",
            "Home Data Entry Details We 8217 ORG\n",
            "1988 DATE\n",
            "ACS ORG\n",
            "Darwin D PERSON\n",
            "{'id': '1675046920', 'senti': 0.0, 'label': 0, 'PERSON': 1, 'NORP': 0, 'GPE': 1, 'ORG': 2}\n",
            "the Board of Hovnanian Enterprises R ORG\n",
            "{'id': '4381785973', 'senti': 0.0, 'label': 0, 'PERSON': 0, 'NORP': 0, 'GPE': 0, 'ORG': 1}\n",
            "Don Brown PERSON\n",
            "Deliver Keynote ORG\n",
            "ITE ORG\n",
            "{'id': '3362587380', 'senti': 0.0, 'label': 0, 'PERSON': 1, 'NORP': 0, 'GPE': 0, 'ORG': 2}\n",
            "Quality Systems Inc ORG\n",
            "2009 CARDINAL\n",
            "American Business ORG\n",
            "{'id': '2389254067', 'senti': 0.15, 'label': 0, 'PERSON': 0, 'NORP': 0, 'GPE': 1, 'ORG': 2}\n",
            "{'id': '4373729564', 'senti': 0.0, 'label': 0, 'PERSON': 0, 'NORP': 0, 'GPE': 0, 'ORG': 0}\n",
            "Steve Dillon PERSON\n",
            "NORML ORG\n",
            "Hear PERSON\n",
            "Aug 15 LAW\n",
            "{'id': '2873758678', 'senti': 0.0, 'label': 0, 'PERSON': 2, 'NORP': 0, 'GPE': 1, 'ORG': 1}\n",
            "Quality Systems Inc ORG\n",
            "{'id': '2390295099', 'senti': 0.3, 'label': 0, 'PERSON': 0, 'NORP': 0, 'GPE': 0, 'ORG': 1}\n",
            "Linden Lab Founder PERSON\n",
            "Philip Rosedale PERSON\n",
            "{'id': '1132546426', 'senti': 0.0, 'label': 0, 'PERSON': 2, 'NORP': 0, 'GPE': 0, 'ORG': 0}\n",
            "Richard Shultz PERSON\n",
            "{'id': '2653681579', 'senti': 0.8, 'label': 0, 'PERSON': 1, 'NORP': 0, 'GPE': 0, 'ORG': 0}\n",
            "THE BOARD OF LIZ CLAIBORNE INC FOUNDER ORG\n",
            "{'id': '3249050473', 'senti': 0.0, 'label': 0, 'PERSON': 0, 'NORP': 0, 'GPE': 0, 'ORG': 1}\n",
            "Home Data Entry Details We 8217 ORG\n",
            "1988 DATE\n",
            "ACS ORG\n",
            "Darwin D PERSON\n",
            "{'id': '1675050862', 'senti': 0.0, 'label': 0, 'PERSON': 1, 'NORP': 0, 'GPE': 1, 'ORG': 2}\n",
            "Quality Systems Inc ORG\n",
            "{'id': '2392997106', 'senti': 0.3, 'label': 0, 'PERSON': 0, 'NORP': 0, 'GPE': 0, 'ORG': 1}\n",
            "SEC ORG\n",
            "Mozilo PERSON\n",
            "{'id': '2034038877', 'senti': -0.1, 'label': 0, 'PERSON': 1, 'NORP': 0, 'GPE': 0, 'ORG': 1}\n",
            "1988 DATE\n",
            "ACS ORG\n",
            "Darwin Deason PERSON\n",
            "{'id': '10546025313', 'senti': 0.0, 'label': 0, 'PERSON': 1, 'NORP': 0, 'GPE': 1, 'ORG': 1}\n",
            "{'id': '11982534616', 'senti': 0.2, 'label': 0, 'PERSON': 0, 'NORP': 0, 'GPE': 0, 'ORG': 0}\n",
            "1988 DATE\n",
            "ACS ORG\n",
            "Darwin Deason PERSON\n",
            "{'id': '14736969211', 'senti': 0.0, 'label': 0, 'PERSON': 1, 'NORP': 0, 'GPE': 1, 'ORG': 1}\n",
            "Congrats Randy Powell PERSON\n",
            "Rocky Mountaineer ORG\n",
            "Peter Armstrong PERSON\n",
            "{'id': '4839748404', 'senti': 0.0, 'label': 0, 'PERSON': 2, 'NORP': 0, 'GPE': 0, 'ORG': 1}\n",
            "Jack Nicklaus PERSON\n",
            "Jack Nicklaus II PERSON\n",
            "{'id': '9770736766', 'senti': 0.4619047619047619, 'label': 0, 'PERSON': 2, 'NORP': 0, 'GPE': 0, 'ORG': 0}\n",
            "SYNNEX Corporation Announces the Retirement of Founder ORG\n",
            "{'id': '16968682130', 'senti': 0.0, 'label': 0, 'PERSON': 0, 'NORP': 0, 'GPE': 0, 'ORG': 1}\n",
            "Schaumburg GPE\n",
            "IL GPE\n",
            "US GPE\n",
            "1988 DATE\n",
            "ACS ORG\n",
            "{'id': '17022103952', 'senti': 0.0, 'label': 0, 'PERSON': 0, 'NORP': 0, 'GPE': 4, 'ORG': 1}\n",
            "1988 DATE\n",
            "ACS ORG\n",
            "Darwin Deason PERSON\n",
            "{'id': '14736970323', 'senti': 0.0, 'label': 0, 'PERSON': 1, 'NORP': 0, 'GPE': 1, 'ORG': 1}\n",
            "DMA Board of Directors ORG\n",
            "today DATE\n",
            "G Steven Dapper ORG\n",
            "{'id': '13810821421', 'senti': 0.0, 'label': 0, 'PERSON': 0, 'NORP': 0, 'GPE': 1, 'ORG': 2}\n",
            "1988 DATE\n",
            "ACS ORG\n",
            "Darwin Deason PERSON\n",
            "{'id': '8522594661', 'senti': 0.0, 'label': 0, 'PERSON': 1, 'NORP': 0, 'GPE': 1, 'ORG': 1}\n",
            "RT Nicolas PERSON\n",
            "The Swatch Group ORG\n",
            "{'id': '17267969468', 'senti': 0.0, 'label': 0, 'PERSON': 1, 'NORP': 0, 'GPE': 0, 'ORG': 1}\n",
            "Frank Stronach Founder PERSON\n",
            "the Board of ORG\n",
            "{'id': '6015321240', 'senti': 0.0, 'label': 0, 'PERSON': 1, 'NORP': 0, 'GPE': 0, 'ORG': 1}\n",
            "1988 DATE\n",
            "ACS ORG\n",
            "Darwin Deason PERSON\n",
            "{'id': '9696108433', 'senti': 0.0, 'label': 0, 'PERSON': 1, 'NORP': 0, 'GPE': 1, 'ORG': 1}\n",
            "Gary Keller PERSON\n",
            "Keller Williams Realty Inc ORG\n",
            "{'id': '11698556504', 'senti': 0.5, 'label': 0, 'PERSON': 1, 'NORP': 0, 'GPE': 0, 'ORG': 1}\n",
            "1988 DATE\n",
            "ACS ORG\n",
            "Darwin Deason PERSON\n",
            "{'id': '9036263121', 'senti': 0.0, 'label': 0, 'PERSON': 1, 'NORP': 0, 'GPE': 1, 'ORG': 1}\n",
            "s ORG\n",
            "DMA Chairman ORG\n",
            "{'id': '13868387146', 'senti': 0.0, 'label': 0, 'PERSON': 0, 'NORP': 0, 'GPE': 0, 'ORG': 2}\n",
            "1988 DATE\n",
            "ACS ORG\n",
            "Darwin Deason PERSON\n",
            "{'id': '16187350538', 'senti': 0.0, 'label': 0, 'PERSON': 1, 'NORP': 0, 'GPE': 1, 'ORG': 1}\n",
            "SD Rock and Roll Hall of Fame PRODUCT\n",
            "Fritz PERSON\n",
            "{'id': '8627800469', 'senti': 0.13636363636363635, 'label': 0, 'PERSON': 1, 'NORP': 0, 'GPE': 1, 'ORG': 0}\n",
            "SYNNEX Corporation Announces the Retirement of Founder ORG\n",
            "the Board PR Inside ORG\n",
            "{'id': '16969688474', 'senti': 0.0, 'label': 0, 'PERSON': 0, 'NORP': 0, 'GPE': 0, 'ORG': 2}\n",
            "Schaumburg GPE\n",
            "IL GPE\n",
            "US GPE\n",
            "1988 DATE\n",
            "ACS ORG\n",
            "{'id': '15961546650', 'senti': 0.0, 'label': 0, 'PERSON': 0, 'NORP': 0, 'GPE': 4, 'ORG': 1}\n",
            "1988 DATE\n",
            "ACS ORG\n",
            "Darwin Deason PERSON\n",
            "{'id': '9696109062', 'senti': 0.0, 'label': 0, 'PERSON': 1, 'NORP': 0, 'GPE': 1, 'ORG': 1}\n",
            "Kevork S Hovnanian Founder ORG\n",
            "the Board of Hovnanian Enterprises ORG\n",
            "{'id': '4381961940', 'senti': 0.0, 'label': 0, 'PERSON': 0, 'NORP': 0, 'GPE': 0, 'ORG': 2}\n",
            "1988 DATE\n",
            "ACS ORG\n",
            "Darwin Deason PERSON\n",
            "{'id': '8522593805', 'senti': 0.0, 'label': 0, 'PERSON': 1, 'NORP': 0, 'GPE': 1, 'ORG': 1}\n",
            "morning TIME\n",
            "Gary Keller PERSON\n",
            "the Board of Keller Williams Realty ORG\n",
            "{'id': '9655926096', 'senti': 0.0, 'label': 0, 'PERSON': 1, 'NORP': 0, 'GPE': 1, 'ORG': 1}\n",
            "Smith Nature Symposium ORG\n",
            "Saturday DATE\n",
            "May 8 DATE\n",
            "5 30 pm to TIME\n",
            "the Board of ORG\n",
            "{'id': '10870835517', 'senti': 0.0, 'label': 0, 'PERSON': 0, 'NORP': 0, 'GPE': 3, 'ORG': 2}\n",
            "JA Solar PRODUCT\n",
            "JA Solar PRODUCT\n",
            "{'id': '4998575090', 'senti': 0.0, 'label': 0, 'PERSON': 0, 'NORP': 0, 'GPE': 2, 'ORG': 0}\n",
            "Columbia Helicopters Founder ORG\n",
            "Oregon GPE\n",
            "{'id': '7134184081', 'senti': 0.0, 'label': 0, 'PERSON': 0, 'NORP': 0, 'GPE': 1, 'ORG': 1}\n",
            "Today DATE\n",
            "75 year DATE\n",
            "{'id': '15782109896', 'senti': 0.1, 'label': 0, 'PERSON': 0, 'NORP': 0, 'GPE': 2, 'ORG': 0}\n",
            "1988 DATE\n",
            "ACS ORG\n",
            "Darwin Deason PERSON\n",
            "{'id': '7929568173', 'senti': 0.0, 'label': 0, 'PERSON': 1, 'NORP': 0, 'GPE': 1, 'ORG': 1}\n",
            "IL GPE\n",
            "US GPE\n",
            "1988 DATE\n",
            "ACS ORG\n",
            "{'id': '10472794421', 'senti': 0.0, 'label': 0, 'PERSON': 0, 'NORP': 0, 'GPE': 3, 'ORG': 1}\n",
            "SYNNEX Corporation Announces the Retirement of Founder ORG\n",
            "Robert T Huang Dwight A Steffe PERSON\n",
            "{'id': '16959478114', 'senti': 0.0, 'label': 0, 'PERSON': 1, 'NORP': 0, 'GPE': 0, 'ORG': 1}\n",
            "SYNNEX Corporation Announces the Retirement of Founder ORG\n",
            "Robert T Huang Dwight A Ste PERSON\n",
            "{'id': '17248681189', 'senti': 0.0, 'label': 0, 'PERSON': 1, 'NORP': 0, 'GPE': 0, 'ORG': 1}\n",
            "Today DATE\n",
            "1pm EDT TIME\n",
            "Chris Malta PERSON\n",
            "the Board of Worldwide Brands Inc ORG\n",
            "{'id': '12517569922', 'senti': 0.0, 'label': 0, 'PERSON': 1, 'NORP': 0, 'GPE': 2, 'ORG': 1}\n",
            "SYNNEX Corporation Announces the Retirement of Founder ORG\n",
            "Robert T Huang Dwight PERSON\n",
            "{'id': '16965738749', 'senti': 0.0, 'label': 0, 'PERSON': 1, 'NORP': 0, 'GPE': 0, 'ORG': 1}\n",
            "1988 DATE\n",
            "ACS ORG\n",
            "Darwin Deason PERSON\n",
            "{'id': '12295800082', 'senti': 0.0, 'label': 0, 'PERSON': 1, 'NORP': 0, 'GPE': 1, 'ORG': 1}\n",
            "039 CARDINAL\n",
            "1988 DATE\n",
            "ACS ORG\n",
            "Darwin Deason PERSON\n",
            "{'id': '14732663827', 'senti': 0.0, 'label': 0, 'PERSON': 1, 'NORP': 0, 'GPE': 2, 'ORG': 1}\n",
            "{'id': '4999923995', 'senti': 0.0, 'label': 0, 'PERSON': 0, 'NORP': 0, 'GPE': 0, 'ORG': 0}\n",
            "Dapper board ORG\n",
            "Steven Dapper PERSON\n",
            "Hawkeye ORG\n",
            "{'id': '13838392593', 'senti': 0.0, 'label': 0, 'PERSON': 1, 'NORP': 0, 'GPE': 0, 'ORG': 2}\n",
            "The JAKKS Pacific ORG\n",
            "Jack Friedman PERSON\n",
            "{'id': '13375478473', 'senti': 0.0, 'label': 0, 'PERSON': 1, 'NORP': 0, 'GPE': 0, 'ORG': 1}\n",
            "1988 DATE\n",
            "ACS ORG\n",
            "Darwin Deason PERSON\n",
            "{'id': '16191217666', 'senti': 0.0, 'label': 0, 'PERSON': 1, 'NORP': 0, 'GPE': 1, 'ORG': 1}\n",
            "Nicolas Hayek PERSON\n",
            "The Swatch Group ORG\n",
            "the age of 82 DATE\n",
            "{'id': '17266198122', 'senti': -0.3166666666666667, 'label': 0, 'PERSON': 1, 'NORP': 0, 'GPE': 1, 'ORG': 1}\n",
            "XM Satellite ORG\n",
            "Gary Parsons PERSON\n",
            "Sirius XM Radio ORG\n",
            "{'id': '5759712270', 'senti': 0.0, 'label': 0, 'PERSON': 1, 'NORP': 0, 'GPE': 0, 'ORG': 2}\n",
            "Nicolas Hayek PERSON\n",
            "The Swatch Group ORG\n",
            "{'id': '17266574499', 'senti': 0.5, 'label': 0, 'PERSON': 1, 'NORP': 0, 'GPE': 0, 'ORG': 1}\n",
            "SYNNEX CORP SYNNEX Corporation Announces the Retirement of Founder ORG\n",
            "Robert T Huang Dwi PERSON\n",
            "{'id': '16958342261', 'senti': 0.0, 'label': 0, 'PERSON': 1, 'NORP': 0, 'GPE': 0, 'ORG': 1}\n",
            "1988 DATE\n",
            "ACS ORG\n",
            "{'id': '6213322780', 'senti': 0.0, 'label': 0, 'PERSON': 0, 'NORP': 0, 'GPE': 1, 'ORG': 1}\n",
            "S D Rock and Roll Hall of Fame PRODUCT\n",
            "Fritz PERSON\n",
            "{'id': '8638881167', 'senti': 0.13636363636363635, 'label': 0, 'PERSON': 1, 'NORP': 0, 'GPE': 1, 'ORG': 0}\n",
            "Kevork S Hovnanian Founder ORG\n",
            "the Board of Hovnanian Enterprises ORG\n",
            "{'id': '4381966210', 'senti': 0.0, 'label': 0, 'PERSON': 0, 'NORP': 0, 'GPE': 0, 'ORG': 2}\n",
            "1988 DATE\n",
            "ACS ORG\n",
            "Darwin Deason PERSON\n",
            "{'id': '11392307956', 'senti': 0.0, 'label': 0, 'PERSON': 1, 'NORP': 0, 'GPE': 1, 'ORG': 1}\n",
            "SYNNEX Corporation Announces the Retirement of Founder ORG\n",
            "Robert T Huang Dwight A Steffe PERSON\n",
            "{'id': '16958843848', 'senti': 0.0, 'label': 0, 'PERSON': 1, 'NORP': 0, 'GPE': 0, 'ORG': 1}\n",
            "San Francisco SYNNEX Corporation Announces the Retirement of Founder ORG\n",
            "Robert T Huang Dwight PERSON\n",
            "{'id': '16960166618', 'senti': 0.0, 'label': 0, 'PERSON': 1, 'NORP': 0, 'GPE': 0, 'ORG': 1}\n",
            "SD Rock and Roll Hall of Fame PRODUCT\n",
            "Fritz PERSON\n",
            "{'id': '8632407335', 'senti': 0.13636363636363635, 'label': 0, 'PERSON': 1, 'NORP': 0, 'GPE': 1, 'ORG': 0}\n",
            "SYNNEX Corporation Announces the Retirement of Founder ORG\n",
            "Robert T Huang Dwight A Ste PERSON\n",
            "{'id': '17256273963', 'senti': 0.0, 'label': 0, 'PERSON': 1, 'NORP': 0, 'GPE': 0, 'ORG': 1}\n",
            "RE FAC\n",
            "Dave Liniger PERSON\n",
            "Margaret Kelly PERSON\n",
            "this morning TIME\n",
            "{'id': '5691574620', 'senti': 0.1, 'label': 0, 'PERSON': 2, 'NORP': 0, 'GPE': 2, 'ORG': 0}\n",
            "Today DATE\n",
            "Dr E S Moss PERSON\n",
            "Moss Hall GPE\n",
            "Moss GPE\n",
            "first ORDINAL\n",
            "{'id': '7905945945', 'senti': 0.525, 'label': 0, 'PERSON': 1, 'NORP': 0, 'GPE': 4, 'ORG': 0}\n",
            "1988 DATE\n",
            "ACS ORG\n",
            "Darwin Deason PERSON\n",
            "{'id': '7929567210', 'senti': 0.0, 'label': 0, 'PERSON': 1, 'NORP': 0, 'GPE': 1, 'ORG': 1}\n",
            "1988 DATE\n",
            "ACS ORG\n",
            "Darwin Deason PERSON\n",
            "{'id': '12295799056', 'senti': 0.0, 'label': 0, 'PERSON': 1, 'NORP': 0, 'GPE': 1, 'ORG': 1}\n",
            "Kevork S Hovnanian Founder ORG\n",
            "the Board of Hovnanian Enterprises ORG\n",
            "{'id': '4381951379', 'senti': 0.0, 'label': 0, 'PERSON': 0, 'NORP': 0, 'GPE': 0, 'ORG': 2}\n",
            "Gary Keller PERSON\n",
            "Keller Williams Realty Inc ORG\n",
            "{'id': '11698698493', 'senti': 0.5, 'label': 0, 'PERSON': 1, 'NORP': 0, 'GPE': 0, 'ORG': 1}\n",
            "Quality Systems Inc ORG\n",
            "2009 CARDINAL\n",
            "American NORP\n",
            "{'id': '5964210105', 'senti': 0.15, 'label': 0, 'PERSON': 0, 'NORP': 1, 'GPE': 1, 'ORG': 1}\n",
            "RT Nicolas PERSON\n",
            "The Swatch Group ORG\n",
            "{'id': '17267508698', 'senti': 0.0, 'label': 0, 'PERSON': 1, 'NORP': 0, 'GPE': 0, 'ORG': 1}\n",
            "1988 DATE\n",
            "ACS ORG\n",
            "Darwin Deason PERSON\n",
            "{'id': '9036264228', 'senti': 0.0, 'label': 0, 'PERSON': 1, 'NORP': 0, 'GPE': 1, 'ORG': 1}\n",
            "Owner PERSON\n",
            "Lead Developer PERSON\n",
            "{'id': '14392564169', 'senti': 0.0, 'label': 0, 'PERSON': 2, 'NORP': 0, 'GPE': 0, 'ORG': 0}\n",
            "Schaumburg GPE\n",
            "IL GPE\n",
            "US GPE\n",
            "1988 DATE\n",
            "ACS ORG\n",
            "{'id': '16232753528', 'senti': 0.0, 'label': 0, 'PERSON': 0, 'NORP': 0, 'GPE': 4, 'ORG': 1}\n",
            "www iStoreANIME COM Barrick Gold Corporation ORG\n",
            "Peter Munk PERSON\n",
            "FaceMania GPE\n",
            "{'id': '13019688416', 'senti': 0.0, 'label': 0, 'PERSON': 1, 'NORP': 0, 'GPE': 1, 'ORG': 1}\n",
            "The Swatch Group ORG\n",
            "the age of 82 DATE\n",
            "{'id': '17266311635', 'senti': -0.3166666666666667, 'label': 0, 'PERSON': 0, 'NORP': 0, 'GPE': 1, 'ORG': 1}\n",
            "JA Solar PRODUCT\n",
            "JA Solar PRODUCT\n",
            "{'id': '4999071985', 'senti': 0.0, 'label': 0, 'PERSON': 0, 'NORP': 0, 'GPE': 2, 'ORG': 0}\n",
            "1988 DATE\n",
            "ACS ORG\n",
            "Darwin Deason PERSON\n",
            "{'id': '11392307065', 'senti': 0.0, 'label': 0, 'PERSON': 1, 'NORP': 0, 'GPE': 1, 'ORG': 1}\n",
            "\n",
            "\n",
            "politifact333\n",
            "politifact2166\n",
            "\n",
            "\n",
            "\n",
            "\n",
            "Dean Baker PERSON\n",
            "the Center for Economic Policy and Research CEPR ORG\n",
            "NLIHC ORG\n",
            "2010 DATE\n",
            "{'id': '12470480522', 'senti': 0.05, 'label': 0, 'PERSON': 1, 'NORP': 0, 'GPE': 1, 'ORG': 2}\n",
            "Mark Weisbrot PERSON\n",
            "Haiti GPE\n",
            "Mark Weisbrot PERSON\n",
            "the Center for Economic Policy and Research ORG\n",
            "Washi GPE\n",
            "{'id': '16194000557965312', 'senti': 0.05, 'label': 0, 'PERSON': 2, 'NORP': 0, 'GPE': 2, 'ORG': 1}\n",
            "Mark Weisbrot Co Director PERSON\n",
            "Center for Economic Policy Research U S ORG\n",
            "JeffRandallLive CARDINAL\n",
            "{'id': '293437152686137344', 'senti': 0.12857142857142856, 'label': 0, 'PERSON': 1, 'NORP': 0, 'GPE': 1, 'ORG': 1}\n",
            "Medicare ORG\n",
            "Dean Baker PERSON\n",
            "Center for Economic amp Policy Research ORG\n",
            "{'id': '230281576355860481', 'senti': 0.044444444444444446, 'label': 0, 'PERSON': 1, 'NORP': 0, 'GPE': 0, 'ORG': 2}\n",
            "Wonkbook Obama PERSON\n",
            "Dean Baker PERSON\n",
            "the Center for Economic Policy Research ORG\n",
            "{'id': '128890806575693824', 'senti': 0.05909090909090909, 'label': 0, 'PERSON': 2, 'NORP': 0, 'GPE': 0, 'ORG': 1}\n",
            "Dean Baker PERSON\n",
            "Co Founder PERSON\n",
            "the Center for Economic Policy Research ORG\n",
            "today DATE\n",
            "{'id': '21025885057', 'senti': 0.05, 'label': 0, 'PERSON': 2, 'NORP': 0, 'GPE': 1, 'ORG': 1}\n",
            "SenatorSanders News ORG\n",
            "Dean Baker PERSON\n",
            "the Center for Economic Policy Research ORG\n",
            "Bernie s t PERSON\n",
            "{'id': '127388910203576321', 'senti': 0.05, 'label': 0, 'PERSON': 2, 'NORP': 0, 'GPE': 0, 'ORG': 2}\n",
            "Dean Baker PERSON\n",
            "the Center for Economic Policy Research ORG\n",
            "Bernie s PERSON\n",
            "Fed ORG\n",
            "{'id': '127386058114609152', 'senti': 0.05, 'label': 0, 'PERSON': 2, 'NORP': 0, 'GPE': 0, 'ORG': 2}\n",
            "Dean Baker PERSON\n",
            "Co Founder PERSON\n",
            "the Center for Economic Policy Research ORG\n",
            "Washington GPE\n",
            "{'id': '42710737654792192', 'senti': 0.05, 'label': 0, 'PERSON': 2, 'NORP': 0, 'GPE': 1, 'ORG': 1}\n",
            "Center for Economic amp Policy Research ORG\n",
            "{'id': '376394873307287552', 'senti': 0.10000000000000002, 'label': 0, 'PERSON': 0, 'NORP': 0, 'GPE': 0, 'ORG': 1}\n",
            "Dean Baker PERSON\n",
            "Director Center For Economic Policy Research ORG\n",
            "{'id': '15026996908', 'senti': 0.0, 'label': 0, 'PERSON': 1, 'NORP': 0, 'GPE': 0, 'ORG': 1}\n",
            "Dean Baker PERSON\n",
            "Co Founder PERSON\n",
            "the Center for Economic Policy Research ORG\n",
            "{'id': '27935202546', 'senti': 0.05, 'label': 0, 'PERSON': 2, 'NORP': 0, 'GPE': 0, 'ORG': 1}\n",
            "Mark Weisbrot Co PERSON\n",
            "Center for Economic Policy Research USA ORG\n",
            "{'id': '8410218442', 'senti': 0.19999999999999998, 'label': 0, 'PERSON': 1, 'NORP': 0, 'GPE': 0, 'ORG': 1}\n",
            "Baker Bakers PERSON\n",
            "9 8 TIME\n",
            "Center for Economic Policy Research ORG\n",
            "{'id': '11083994657460224', 'senti': 0.05, 'label': 0, 'PERSON': 1, 'NORP': 0, 'GPE': 1, 'ORG': 1}\n",
            "Dean Baker PERSON\n",
            "the Center for Economic Policy Research ORG\n",
            "{'id': '172825621859270656', 'senti': 0.05, 'label': 0, 'PERSON': 1, 'NORP': 0, 'GPE': 0, 'ORG': 1}\n",
            "Today DATE\n",
            "the Center for Economic amp Policy Research ORG\n",
            "Moe PERSON\n",
            "{'id': '392803409071714305', 'senti': 0.05, 'label': 0, 'PERSON': 1, 'NORP': 0, 'GPE': 1, 'ORG': 1}\n",
            "Republicans NORP\n",
            "The Party of Unemployment ORG\n",
            "Center for Economic Policy Research ORG\n",
            "{'id': '17898488240', 'senti': 0.05, 'label': 0, 'PERSON': 0, 'NORP': 1, 'GPE': 0, 'ORG': 2}\n",
            "SPAN ORG\n",
            "{'id': '2764600609079297', 'senti': 0.05, 'label': 0, 'PERSON': 0, 'NORP': 0, 'GPE': 0, 'ORG': 1}\n",
            "Dean Baker PERSON\n",
            "Center for Economic Policy Research Co Director ORG\n",
            "{'id': '2904707911647232', 'senti': 0.05, 'label': 0, 'PERSON': 1, 'NORP': 0, 'GPE': 0, 'ORG': 1}\n",
            "US Economist ORG\n",
            "the Center for Economic amp ORG\n",
            "26 June DATE\n",
            "{'id': '200532402483904512', 'senti': 0.05, 'label': 0, 'PERSON': 0, 'NORP': 0, 'GPE': 1, 'ORG': 2}\n",
            "Mark Weisbrot Co Director PERSON\n",
            "Center 4 Economic Policy Research Mark ORG\n",
            "Honduras GPE\n",
            "{'id': '3725782052', 'senti': 0.03333333333333333, 'label': 0, 'PERSON': 1, 'NORP': 0, 'GPE': 1, 'ORG': 1}\n",
            "{'id': '1032120852186320896', 'senti': 0.0, 'label': 0, 'PERSON': 0, 'NORP': 0, 'GPE': 0, 'ORG': 0}\n",
            "The Hill EVENT\n",
            "July 21 DATE\n",
            "Dean Baker Co Director PERSON\n",
            "the Center for Economic Policy Research ORG\n",
            "{'id': '2764816281', 'senti': 0.03333333333333333, 'label': 0, 'PERSON': 1, 'NORP': 0, 'GPE': 2, 'ORG': 1}\n",
            "Mark Weisbrot PERSON\n",
            "Center Economic Policy Research D C ORG\n",
            "Haiti GPE\n",
            "GoogleAlerts ORG\n",
            "{'id': '693438614856941568', 'senti': -0.022222222222222216, 'label': 0, 'PERSON': 1, 'NORP': 0, 'GPE': 1, 'ORG': 2}\n",
            "CCTV Mark Weisbrot ORG\n",
            "Center for Economic Policy ORG\n",
            "{'id': '575839016270041088', 'senti': 0.05, 'label': 0, 'PERSON': 0, 'NORP': 0, 'GPE': 0, 'ORG': 2}\n",
            "Center for Economic amp Policy Research ORG\n",
            "the last day DATE\n",
            "{'id': '439535659158482944', 'senti': 0.025, 'label': 0, 'PERSON': 0, 'NORP': 0, 'GPE': 1, 'ORG': 1}\n",
            "Thurs ORG\n",
            "Center for Economic amp Policy Research ORG\n",
            "Venezuela GPE\n",
            "{'id': '725716280972591104', 'senti': 0.03333333333333333, 'label': 0, 'PERSON': 0, 'NORP': 0, 'GPE': 1, 'ORG': 2}\n",
            "Eileen Appelbaum PERSON\n",
            "the Center for Economic amp Policy Research ORG\n",
            "{'id': '974323213038702596', 'senti': 0.05, 'label': 0, 'PERSON': 1, 'NORP': 0, 'GPE': 0, 'ORG': 1}\n",
            "Today DATE\n",
            "the Center for Economic amp Policy Research ORG\n",
            "Moe PERSON\n",
            "{'id': '392803408388050944', 'senti': 0.19999999999999998, 'label': 0, 'PERSON': 1, 'NORP': 0, 'GPE': 1, 'ORG': 1}\n",
            "7 CARDINAL\n",
            "BILLIONAIRES FEAST ORG\n",
            "1 CARDINAL\n",
            "5 CARDINAL\n",
            "Dean Baker PERSON\n",
            "{'id': '942892460220600320', 'senti': 0.0, 'label': 0, 'PERSON': 1, 'NORP': 0, 'GPE': 3, 'ORG': 1}\n",
            "the Center for Economic amp ORG\n",
            "Washington GPE\n",
            "{'id': '627578042399854592', 'senti': 0.03333333333333333, 'label': 0, 'PERSON': 0, 'NORP': 0, 'GPE': 1, 'ORG': 1}\n",
            "{'id': '1005025626879819777', 'senti': 0.0, 'label': 0, 'PERSON': 0, 'NORP': 0, 'GPE': 0, 'ORG': 0}\n",
            "Venezuela GPE\n",
            "Mark Weisbrot PERSON\n",
            "Center for Economic Policy amp Research ORG\n",
            "{'id': '435812717333471232', 'senti': 0.05, 'label': 0, 'PERSON': 1, 'NORP': 0, 'GPE': 1, 'ORG': 1}\n",
            "Fed ORG\n",
            "the Center for Economic and Policy Research ORG\n",
            "{'id': '961257065556692992', 'senti': 0.05, 'label': 0, 'PERSON': 0, 'NORP': 0, 'GPE': 0, 'ORG': 2}\n",
            "Dean Baker PERSON\n",
            "the Center for Economic and Policy Research ORG\n",
            "{'id': '900045237468487680', 'senti': 0.05, 'label': 0, 'PERSON': 1, 'NORP': 0, 'GPE': 0, 'ORG': 1}\n",
            "\n",
            "\n",
            "politifact1783\n",
            "politifact1823\n",
            "politifact1519\n",
            "\n",
            "\n",
            "Harry Reid PERSON\n",
            "GOP ORG\n",
            "{'id': '9562322407', 'senti': -0.1, 'label': 0, 'PERSON': 1, 'NORP': 0, 'GPE': 0, 'ORG': 1}\n",
            "Harry Reid PERSON\n",
            "GOP ORG\n",
            "34 CARDINAL\n",
            "34 CARDINAL\n",
            "{'id': '9541706028', 'senti': -0.2, 'label': 0, 'PERSON': 1, 'NORP': 0, 'GPE': 2, 'ORG': 1}\n",
            "GOP ORG\n",
            "Senate ORG\n",
            "Harry Reid PERSON\n",
            "{'id': '9566316931', 'senti': -0.2, 'label': 0, 'PERSON': 1, 'NORP': 0, 'GPE': 0, 'ORG': 2}\n",
            "Harry Reid PERSON\n",
            "GOP ORG\n",
            "Harry Reid PERSON\n",
            "{'id': '9545247592', 'senti': -0.2, 'label': 0, 'PERSON': 2, 'NORP': 0, 'GPE': 0, 'ORG': 1}\n",
            "Relationships Harry Reid PERSON\n",
            "GOP ORG\n",
            "{'id': '9559946315', 'senti': -0.2, 'label': 0, 'PERSON': 1, 'NORP': 0, 'GPE': 0, 'ORG': 1}\n",
            "Harry Reid PERSON\n",
            "GOP ORG\n",
            "{'id': '9551690423', 'senti': -0.2, 'label': 0, 'PERSON': 1, 'NORP': 0, 'GPE': 0, 'ORG': 1}\n",
            "RT Harry Reid PERSON\n",
            "{'id': '9541711907', 'senti': -0.2, 'label': 0, 'PERSON': 1, 'NORP': 0, 'GPE': 0, 'ORG': 0}\n",
            "Harry Reid PERSON\n",
            "GOP ORG\n",
            "Alzheime ORG\n",
            "{'id': '9564200415', 'senti': -0.05, 'label': 0, 'PERSON': 1, 'NORP': 0, 'GPE': 0, 'ORG': 2}\n",
            "Harry Reid PERSON\n",
            "GOP ORG\n",
            "congress ORG\n",
            "{'id': '9546831428', 'senti': -0.2, 'label': 0, 'PERSON': 1, 'NORP': 0, 'GPE': 0, 'ORG': 2}\n",
            "Harry Reid PERSON\n",
            "GOP ORG\n",
            "Stop Crying ORG\n",
            "{'id': '9558379784', 'senti': -0.2, 'label': 0, 'PERSON': 1, 'NORP': 0, 'GPE': 0, 'ORG': 2}\n",
            "Harry Reid PERSON\n",
            "GOP ORG\n",
            "CBS News ORG\n",
            "{'id': '9543164248', 'senti': -0.2, 'label': 0, 'PERSON': 1, 'NORP': 0, 'GPE': 0, 'ORG': 2}\n",
            "Harry Reid PERSON\n",
            "GOP ORG\n",
            "GOP ORG\n",
            "{'id': '9542702727', 'senti': -0.5, 'label': 0, 'PERSON': 1, 'NORP': 0, 'GPE': 0, 'ORG': 2}\n",
            "Harry Reid PERSON\n",
            "{'id': '9579773742', 'senti': -0.2, 'label': 0, 'PERSON': 1, 'NORP': 0, 'GPE': 0, 'ORG': 0}\n",
            "Harry Reid PERSON\n",
            "GOP ORG\n",
            "{'id': '9593206038', 'senti': -0.2, 'label': 0, 'PERSON': 1, 'NORP': 0, 'GPE': 0, 'ORG': 1}\n",
            "Harry Reid PERSON\n",
            "GOP ORG\n",
            "{'id': '9564200707', 'senti': -0.2, 'label': 0, 'PERSON': 1, 'NORP': 0, 'GPE': 0, 'ORG': 1}\n",
            "Reid PERSON\n",
            "Harry Reid PERSON\n",
            "GOP ORG\n",
            "{'id': '9635473330', 'senti': 0.0, 'label': 0, 'PERSON': 2, 'NORP': 0, 'GPE': 0, 'ORG': 1}\n",
            "Harry Reid PERSON\n",
            "GOP ORG\n",
            "{'id': '9581542874', 'senti': -0.2, 'label': 0, 'PERSON': 1, 'NORP': 0, 'GPE': 0, 'ORG': 1}\n",
            "RT Harry Reid PERSON\n",
            "{'id': '9545844083', 'senti': -0.2, 'label': 0, 'PERSON': 1, 'NORP': 0, 'GPE': 0, 'ORG': 0}\n",
            "Harry Reid PERSON\n",
            "GOP ORG\n",
            "GOP ORG\n",
            "{'id': '9541861030', 'senti': 0.042857142857142844, 'label': 0, 'PERSON': 1, 'NORP': 0, 'GPE': 0, 'ORG': 2}\n",
            "Harry Reid PERSON\n",
            "GOP ORG\n",
            "{'id': '9559725800', 'senti': -0.2, 'label': 0, 'PERSON': 1, 'NORP': 0, 'GPE': 0, 'ORG': 1}\n",
            "Harry Reid PERSON\n",
            "GOP ORG\n",
            "{'id': '9560870190', 'senti': -0.2, 'label': 0, 'PERSON': 1, 'NORP': 0, 'GPE': 0, 'ORG': 1}\n",
            "Harry Reid PERSON\n",
            "GOP ORG\n",
            "{'id': '9551334502', 'senti': -0.2, 'label': 0, 'PERSON': 1, 'NORP': 0, 'GPE': 0, 'ORG': 1}\n",
            "Harry Reid PERSON\n",
            "GOP ORG\n",
            "{'id': '9575345935', 'senti': -0.2, 'label': 0, 'PERSON': 1, 'NORP': 0, 'GPE': 0, 'ORG': 1}\n",
            "Harry Reid PERSON\n",
            "GOP ORG\n",
            "{'id': '9558713111', 'senti': -0.2, 'label': 0, 'PERSON': 1, 'NORP': 0, 'GPE': 0, 'ORG': 1}\n",
            "Harry Reid PERSON\n",
            "GOP ORG\n",
            "{'id': '9542486664', 'senti': -0.2, 'label': 0, 'PERSON': 1, 'NORP': 0, 'GPE': 0, 'ORG': 1}\n",
            "RT Harry Reid PERSON\n",
            "{'id': '9549029015', 'senti': -0.2, 'label': 0, 'PERSON': 1, 'NORP': 0, 'GPE': 0, 'ORG': 0}\n",
            "Harry Reid PERSON\n",
            "GOP ORG\n",
            "{'id': '9559139998', 'senti': -0.2, 'label': 0, 'PERSON': 1, 'NORP': 0, 'GPE': 0, 'ORG': 1}\n",
            "Harry Reid PERSON\n",
            "GOP ORG\n",
            "GOP ORG\n",
            "{'id': '9541861069', 'senti': 0.042857142857142844, 'label': 0, 'PERSON': 1, 'NORP': 0, 'GPE': 0, 'ORG': 2}\n",
            "Harry Reid PERSON\n",
            "GOP ORG\n",
            "{'id': '9545488880', 'senti': -0.2, 'label': 0, 'PERSON': 1, 'NORP': 0, 'GPE': 0, 'ORG': 1}\n",
            "Harry Reid PERSON\n",
            "GOP ORG\n",
            "Stop Crying ORG\n",
            "CBS News ORG\n",
            "{'id': '9590772808', 'senti': -0.2, 'label': 0, 'PERSON': 1, 'NORP': 0, 'GPE': 0, 'ORG': 3}\n",
            "Harry Reid PERSON\n",
            "GOP ORG\n",
            "{'id': '9683063663', 'senti': -0.1, 'label': 0, 'PERSON': 1, 'NORP': 0, 'GPE': 0, 'ORG': 1}\n",
            "Harry Reid PERSON\n",
            "GOP ORG\n",
            "{'id': '9560647265', 'senti': -0.1, 'label': 0, 'PERSON': 1, 'NORP': 0, 'GPE': 0, 'ORG': 1}\n",
            "Harry Reid PERSON\n",
            "GOP ORG\n",
            "{'id': '9598227430', 'senti': -0.2, 'label': 0, 'PERSON': 1, 'NORP': 0, 'GPE': 0, 'ORG': 1}\n",
            "Harry Reid PERSON\n",
            "GOP ORG\n",
            "Jon Kyl PERSON\n",
            "{'id': '9550972510', 'senti': -0.24583333333333335, 'label': 0, 'PERSON': 2, 'NORP': 0, 'GPE': 0, 'ORG': 1}\n",
            "RT Harry Reid PERSON\n",
            "{'id': '9571620443', 'senti': -0.2, 'label': 0, 'PERSON': 1, 'NORP': 0, 'GPE': 0, 'ORG': 0}\n",
            "Harry Reid PERSON\n",
            "GOP ORG\n",
            "{'id': '9559791804', 'senti': -0.2, 'label': 0, 'PERSON': 1, 'NORP': 0, 'GPE': 0, 'ORG': 1}\n",
            "Scumbag Harry Reid PERSON\n",
            "American NORP\n",
            "{'id': '9544071432', 'senti': -0.1, 'label': 0, 'PERSON': 1, 'NORP': 1, 'GPE': 0, 'ORG': 0}\n",
            "Harry Reid PERSON\n",
            "GOP ORG\n",
            "{'id': '9552676740', 'senti': -0.1, 'label': 0, 'PERSON': 1, 'NORP': 0, 'GPE': 0, 'ORG': 1}\n",
            "Harry Reid PERSON\n",
            "GOP ORG\n",
            "{'id': '9541526983', 'senti': -0.2, 'label': 0, 'PERSON': 1, 'NORP': 0, 'GPE': 0, 'ORG': 1}\n",
            "Harry Reid PERSON\n",
            "GOP ORG\n",
            "{'id': '9575353190', 'senti': -0.1, 'label': 0, 'PERSON': 1, 'NORP': 0, 'GPE': 0, 'ORG': 1}\n",
            "Harry Reid PERSON\n",
            "GOP ORG\n",
            "Stop Crying ORG\n",
            "{'id': '9569325720', 'senti': -0.2, 'label': 0, 'PERSON': 1, 'NORP': 0, 'GPE': 0, 'ORG': 2}\n",
            "Harry Reid PERSON\n",
            "GOP ORG\n",
            "Harry the ATTACHED SUCK PERSON\n",
            "{'id': '9544948680', 'senti': -0.2, 'label': 0, 'PERSON': 2, 'NORP': 0, 'GPE': 0, 'ORG': 1}\n",
            "Harry Reid PERSON\n",
            "GOP ORG\n",
            "{'id': '9557384806', 'senti': 0.0, 'label': 0, 'PERSON': 1, 'NORP': 0, 'GPE': 0, 'ORG': 1}\n",
            "Newsflash Harry Reid PERSON\n",
            "GOP ORG\n",
            "{'id': '9550287231', 'senti': -0.2, 'label': 0, 'PERSON': 1, 'NORP': 0, 'GPE': 0, 'ORG': 1}\n",
            "Harry Reid PERSON\n",
            "GOP ORG\n",
            "Reid PERSON\n",
            "{'id': '9555238816', 'senti': -0.2, 'label': 0, 'PERSON': 2, 'NORP': 0, 'GPE': 0, 'ORG': 1}\n",
            "Harry Reid PERSON\n",
            "GOP ORG\n",
            "{'id': '9560572602', 'senti': -0.2, 'label': 0, 'PERSON': 1, 'NORP': 0, 'GPE': 0, 'ORG': 1}\n",
            "Harry Reid PERSON\n",
            "GOP ORG\n",
            "{'id': '9555668008', 'senti': -0.1, 'label': 0, 'PERSON': 1, 'NORP': 0, 'GPE': 0, 'ORG': 1}\n",
            "Harry reid PERSON\n",
            "gop ORG\n",
            "cbs news ORG\n",
            "{'id': '9600367440', 'senti': -0.1, 'label': 0, 'PERSON': 1, 'NORP': 0, 'GPE': 0, 'ORG': 2}\n",
            "Harry Reid PERSON\n",
            "GOP ORG\n",
            "{'id': '9588281877', 'senti': -0.03181818181818183, 'label': 0, 'PERSON': 1, 'NORP': 0, 'GPE': 0, 'ORG': 1}\n",
            "Harry Reid PERSON\n",
            "GOP ORG\n",
            "{'id': '9579067360', 'senti': -0.2, 'label': 0, 'PERSON': 1, 'NORP': 0, 'GPE': 0, 'ORG': 1}\n",
            "Harry Reid PERSON\n",
            "GOP ORG\n",
            "{'id': '9560341323', 'senti': -0.2, 'label': 0, 'PERSON': 1, 'NORP': 0, 'GPE': 0, 'ORG': 1}\n",
            "Harry Reid PERSON\n",
            "GOP ORG\n",
            "{'id': '9542969456', 'senti': -0.2, 'label': 0, 'PERSON': 1, 'NORP': 0, 'GPE': 0, 'ORG': 1}\n",
            "Harry Reid PERSON\n",
            "GOP ORG\n",
            "{'id': '9560019684', 'senti': -0.2, 'label': 0, 'PERSON': 1, 'NORP': 0, 'GPE': 0, 'ORG': 1}\n",
            "Harry Reid PERSON\n",
            "GOP ORG\n",
            "p2 PRODUCT\n",
            "{'id': '9571827545', 'senti': -0.2, 'label': 0, 'PERSON': 1, 'NORP': 0, 'GPE': 1, 'ORG': 1}\n",
            "\n",
            "\n",
            "\n",
            "\n",
            "politifact14984\n",
            "\n",
            "\n",
            "\n",
            "\n",
            "Maryland GPE\n",
            "15 CARDINAL\n",
            "nearly 100 000 CARDINAL\n",
            "Mike PERSON\n",
            "{'id': '974110437213171712', 'senti': -0.075, 'label': 0, 'PERSON': 1, 'NORP': 0, 'GPE': 3, 'ORG': 0}\n",
            "the U S GPE\n",
            "{'id': '976498012242563072', 'senti': 0.1, 'label': 0, 'PERSON': 0, 'NORP': 0, 'GPE': 1, 'ORG': 0}\n",
            "{'id': '971215479015555072', 'senti': 0.4333333333333333, 'label': 0, 'PERSON': 0, 'NORP': 0, 'GPE': 0, 'ORG': 0}\n",
            "Jobs Arizona PERSON\n",
            "Sales Representative National Federation of Independent Business ORG\n",
            "{'id': '969752298225356800', 'senti': 0.0, 'label': 0, 'PERSON': 1, 'NORP': 0, 'GPE': 0, 'ORG': 1}\n",
            "US GPE\n",
            "February DATE\n",
            "{'id': '973536614898110464', 'senti': -0.25, 'label': 0, 'PERSON': 0, 'NORP': 0, 'GPE': 2, 'ORG': 0}\n",
            "National Federation of Independent Business NFIB ORG\n",
            "ITA ORG\n",
            "{'id': '978644105281581056', 'senti': 0.0, 'label': 0, 'PERSON': 0, 'NORP': 0, 'GPE': 0, 'ORG': 2}\n",
            "NFIB ORG\n",
            "FOX NEWS NFIB ORG\n",
            "{'id': '981966925809909760', 'senti': -0.5, 'label': 0, 'PERSON': 0, 'NORP': 0, 'GPE': 0, 'ORG': 2}\n",
            "Robert Hughes PERSON\n",
            "the National Federation of Independent Business ORG\n",
            "{'id': '984119550026412038', 'senti': -0.13888888888888887, 'label': 0, 'PERSON': 1, 'NORP': 0, 'GPE': 0, 'ORG': 1}\n",
            "the National Federation of Independent Business ORG\n",
            "{'id': '993291436077568000', 'senti': 0.0, 'label': 0, 'PERSON': 0, 'NORP': 0, 'GPE': 0, 'ORG': 1}\n",
            "Obamacare PERSON\n",
            "the Supreme Court ORG\n",
            "{'id': '981229682292133889', 'senti': 0.0, 'label': 0, 'PERSON': 1, 'NORP': 0, 'GPE': 0, 'ORG': 1}\n",
            "R Painting ORG\n",
            "NFIB National Federation of Independent Business ORG\n",
            "Arizona GPE\n",
            "{'id': '972681763175784448', 'senti': 0.4, 'label': 0, 'PERSON': 0, 'NORP': 0, 'GPE': 1, 'ORG': 2}\n",
            "HR704 Passed Commemorating ORG\n",
            "75th ORDINAL\n",
            "the National Federation of Independent Business ORG\n",
            "May 20 2 DATE\n",
            "{'id': '974104473168695296', 'senti': 0.0, 'label': 0, 'PERSON': 0, 'NORP': 0, 'GPE': 2, 'ORG': 2}\n",
            "Nearly two thirds CARDINAL\n",
            "the National Federation of Independent Business ORG\n",
            "{'id': '979367399546937344', 'senti': -0.049999999999999996, 'label': 0, 'PERSON': 0, 'NORP': 0, 'GPE': 1, 'ORG': 1}\n",
            "American NORP\n",
            "{'id': '982078841895227394', 'senti': 0.08333333333333333, 'label': 0, 'PERSON': 0, 'NORP': 1, 'GPE': 0, 'ORG': 0}\n",
            "the National Federation of Independent Business NFIB ORG\n",
            "{'id': '979422491893534720', 'senti': 0.0, 'label': 0, 'PERSON': 0, 'NORP': 0, 'GPE': 0, 'ORG': 1}\n",
            "CONGRESS ORG\n",
            "{'id': '972924479826485250', 'senti': -0.125, 'label': 0, 'PERSON': 0, 'NORP': 0, 'GPE': 0, 'ORG': 1}\n",
            "75th ORDINAL\n",
            "the National Federation of Independent Business ORG\n",
            "May 20 2018 DATE\n",
            "{'id': '968238354599940096', 'senti': 0.06818181818181818, 'label': 0, 'PERSON': 0, 'NORP': 0, 'GPE': 2, 'ORG': 1}\n",
            "the National Federation of Independent Business ORG\n",
            "{'id': '967132259869487105', 'senti': -0.03787878787878788, 'label': 0, 'PERSON': 0, 'NORP': 0, 'GPE': 0, 'ORG': 1}\n",
            "{'id': '981271590884331520', 'senti': 0.25, 'label': 0, 'PERSON': 0, 'NORP': 0, 'GPE': 0, 'ORG': 0}\n",
            "{'id': '994110127132303362', 'senti': 0.09444444444444444, 'label': 0, 'PERSON': 0, 'NORP': 0, 'GPE': 0, 'ORG': 0}\n",
            "the National Federation of Independent Business ORG\n",
            "{'id': '983665418635112448', 'senti': 0.0, 'label': 0, 'PERSON': 0, 'NORP': 0, 'GPE': 0, 'ORG': 1}\n",
            "89 percent PERCENT\n",
            "{'id': '985941222731722752', 'senti': 0.125, 'label': 0, 'PERSON': 0, 'NORP': 0, 'GPE': 1, 'ORG': 0}\n",
            "the Supreme Court ORG\n",
            "Roe v Wade LAW\n",
            "{'id': '967215618687512581', 'senti': 0.2857142857142857, 'label': 0, 'PERSON': 0, 'NORP': 0, 'GPE': 1, 'ORG': 1}\n",
            "the National Federation of Independent Business ORG\n",
            "{'id': '993596536863969280', 'senti': 0.0, 'label': 0, 'PERSON': 0, 'NORP': 0, 'GPE': 0, 'ORG': 1}\n",
            "Don Bacon PERSON\n",
            "National Federation of Independent Business Omaha World Herald ORG\n",
            "{'id': '982634884110995456', 'senti': 0.0, 'label': 0, 'PERSON': 1, 'NORP': 0, 'GPE': 0, 'ORG': 1}\n",
            "National Employment ORG\n",
            "National Federation of Independent ORG\n",
            "NFIB Nashville TN ORG\n",
            "{'id': '974408326414065667', 'senti': 0.0, 'label': 0, 'PERSON': 0, 'NORP': 0, 'GPE': 0, 'ORG': 3}\n",
            "Sales Representative National Federation of Independent Business NFIB Bakersfield CA ORG\n",
            "Jobs Bakersfield PERSON\n",
            "{'id': '974410428171280384', 'senti': 0.0, 'label': 0, 'PERSON': 1, 'NORP': 0, 'GPE': 0, 'ORG': 1}\n",
            "annual DATE\n",
            "approximately six CARDINAL\n",
            "the next three years DATE\n",
            "{'id': '971894375075762176', 'senti': -0.08750000000000001, 'label': 0, 'PERSON': 0, 'NORP': 0, 'GPE': 3, 'ORG': 0}\n",
            "{'id': '991689007166840834', 'senti': 0.0, 'label': 0, 'PERSON': 0, 'NORP': 0, 'GPE': 0, 'ORG': 0}\n",
            "Don Bacon PERSON\n",
            "National Federation of Independent Business Omaha World Herald ORG\n",
            "{'id': '982511837429354496', 'senti': 0.0, 'label': 0, 'PERSON': 1, 'NORP': 0, 'GPE': 0, 'ORG': 1}\n",
            "the National Federation of Independent Business ORG\n",
            "{'id': '969985181695213568', 'senti': 0.2375, 'label': 0, 'PERSON': 0, 'NORP': 0, 'GPE': 0, 'ORG': 1}\n",
            "The National Federation of Independent Business ORG\n",
            "Thursday DATE\n",
            "33 CARDINAL\n",
            "March DATE\n",
            "{'id': '982233981289574401', 'senti': -0.08333333333333333, 'label': 0, 'PERSON': 0, 'NORP': 0, 'GPE': 3, 'ORG': 1}\n",
            "Yesterday DATE\n",
            "the National Federation of Independent Business ORG\n",
            "{'id': '974309878926905345', 'senti': 0.06818181818181818, 'label': 0, 'PERSON': 0, 'NORP': 0, 'GPE': 1, 'ORG': 1}\n",
            "SCOTUS ORG\n",
            "2012 DATE\n",
            "{'id': '972870143184338945', 'senti': 0.0, 'label': 0, 'PERSON': 0, 'NORP': 0, 'GPE': 1, 'ORG': 1}\n",
            "the National Federation of Independent Business for Small Business Day ORG\n",
            "March 13th DATE\n",
            "{'id': '967164368768196609', 'senti': -0.125, 'label': 0, 'PERSON': 0, 'NORP': 0, 'GPE': 1, 'ORG': 1}\n",
            "the National Federation Of Independent Business twill ORG\n",
            "{'id': '991675253108674561', 'senti': 0.0, 'label': 0, 'PERSON': 0, 'NORP': 0, 'GPE': 0, 'ORG': 1}\n",
            "W W Cannon Inc ORG\n",
            "National Fe ORG\n",
            "{'id': '981528097391595521', 'senti': 0.25, 'label': 0, 'PERSON': 0, 'NORP': 0, 'GPE': 0, 'ORG': 2}\n",
            "The United States GPE\n",
            "the first quarter of 2017 DATE\n",
            "the National Federation of In ORG\n",
            "{'id': '981978858579607554', 'senti': 0.25, 'label': 0, 'PERSON': 0, 'NORP': 0, 'GPE': 2, 'ORG': 1}\n",
            "National Federation of Independent Business v Sebelius ORG\n",
            "{'id': '979004774707167234', 'senti': 0.0, 'label': 0, 'PERSON': 0, 'NORP': 0, 'GPE': 0, 'ORG': 1}\n",
            "February DATE\n",
            "Top Problem Fro WORK_OF_ART\n",
            "{'id': '973574600578695170', 'senti': 0.125, 'label': 0, 'PERSON': 0, 'NORP': 0, 'GPE': 2, 'ORG': 0}\n",
            "DailyDataPoint ORG\n",
            "{'id': '982038748979490816', 'senti': -0.25, 'label': 0, 'PERSON': 0, 'NORP': 0, 'GPE': 0, 'ORG': 1}\n",
            "{'id': '971815808916770816', 'senti': 0.22499999999999998, 'label': 0, 'PERSON': 0, 'NORP': 0, 'GPE': 0, 'ORG': 0}\n",
            "{'id': '991689624446791680', 'senti': 0.0, 'label': 0, 'PERSON': 0, 'NORP': 0, 'GPE': 0, 'ORG': 0}\n",
            "US GPE\n",
            "1983 DATE\n",
            "the National Federation of Indepe ORG\n",
            "{'id': '978305801944154112', 'senti': -0.25, 'label': 0, 'PERSON': 0, 'NORP': 0, 'GPE': 2, 'ORG': 1}\n",
            "{'id': '969607331330908161', 'senti': 0.22499999999999998, 'label': 0, 'PERSON': 0, 'NORP': 0, 'GPE': 0, 'ORG': 0}\n",
            "Nearly 2 3 CARDINAL\n",
            "{'id': '982367364992983041', 'senti': -0.25, 'label': 0, 'PERSON': 0, 'NORP': 0, 'GPE': 1, 'ORG': 0}\n",
            "Twenty six CARDINAL\n",
            "the National Federation of Independent Business ORG\n",
            "{'id': '985001084858064896', 'senti': 0.0, 'label': 0, 'PERSON': 0, 'NORP': 0, 'GPE': 1, 'ORG': 1}\n",
            "National Right to Life National Federation of Independent Business Pittsburgh Post Gazette ORG\n",
            "{'id': '973568735658364928', 'senti': 0.14285714285714285, 'label': 0, 'PERSON': 0, 'NORP': 0, 'GPE': 0, 'ORG': 1}\n",
            "the Tax Cuts and Jobs Act PRODUCT\n",
            "{'id': '989170236313227265', 'senti': 0.125, 'label': 0, 'PERSON': 0, 'NORP': 0, 'GPE': 1, 'ORG': 0}\n",
            "Reagan PERSON\n",
            "November DATE\n",
            "{'id': '988556238630850560', 'senti': -0.045, 'label': 0, 'PERSON': 1, 'NORP': 0, 'GPE': 1, 'ORG': 0}\n",
            "52 CARDINAL\n",
            "{'id': '972521700033286145', 'senti': -0.25, 'label': 0, 'PERSON': 0, 'NORP': 0, 'GPE': 1, 'ORG': 0}\n",
            "first ORDINAL\n",
            "2000 DATE\n",
            "the National Federation ORG\n",
            "{'id': '991064333391187975', 'senti': 0.0, 'label': 0, 'PERSON': 0, 'NORP': 0, 'GPE': 2, 'ORG': 1}\n",
            "Ken Calvert PERSON\n",
            "America s Leading Small Business Organization ORG\n",
            "the National Federation of ORG\n",
            "{'id': '987698268942499842', 'senti': -0.25, 'label': 0, 'PERSON': 1, 'NORP': 0, 'GPE': 0, 'ORG': 2}\n",
            "the National Federation of Independent Business ORG\n",
            "March DATE\n",
            "{'id': '984862602533597184', 'senti': -0.125, 'label': 0, 'PERSON': 0, 'NORP': 0, 'GPE': 1, 'ORG': 1}\n",
            "NFIB ORG\n",
            "The National Federation ORG\n",
            "{'id': '981967796815839232', 'senti': -0.25, 'label': 0, 'PERSON': 0, 'NORP': 0, 'GPE': 0, 'ORG': 2}\n",
            "{'id': '994087205869105155', 'senti': 0.09444444444444444, 'label': 0, 'PERSON': 0, 'NORP': 0, 'GPE': 0, 'ORG': 0}\n",
            "The District Court ORG\n",
            "annual DATE\n",
            "District Conference Guests ORG\n",
            "Margaret McKeown PERSON\n",
            "{'id': '971647044992385024', 'senti': 0.0, 'label': 0, 'PERSON': 1, 'NORP': 0, 'GPE': 1, 'ORG': 2}\n",
            "Republican NORP\n",
            "a National Federation of Independent Business ORG\n",
            "32 percent PERCENT\n",
            "{'id': '972472163088371713', 'senti': 0.1, 'label': 0, 'PERSON': 0, 'NORP': 1, 'GPE': 1, 'ORG': 1}\n",
            "The National Federation of Independent Business ORG\n",
            "{'id': '986305073285292033', 'senti': 0.25, 'label': 0, 'PERSON': 0, 'NORP': 0, 'GPE': 0, 'ORG': 1}\n",
            "March 29 DATE\n",
            "National Federation of Independent Business Day ORG\n",
            "Colorado GPE\n",
            "{'id': '978374010751803392', 'senti': 0.0, 'label': 0, 'PERSON': 0, 'NORP': 0, 'GPE': 2, 'ORG': 1}\n",
            "National Federation of Independent Business v Sebelius ORG\n",
            "2012 DATE\n",
            "SCOTUS ORG\n",
            "{'id': '971430739970592768', 'senti': 0.0, 'label': 0, 'PERSON': 0, 'NORP': 0, 'GPE': 1, 'ORG': 2}\n",
            "the National Federation of Independent Business ORG\n",
            "TaxReform ORG\n",
            "{'id': '969702389421826049', 'senti': 0.0, 'label': 0, 'PERSON': 0, 'NORP': 0, 'GPE': 0, 'ORG': 2}\n",
            "HR43 Passed Recognizes PERSON\n",
            "March 28 2018 DATE\n",
            "National Federation of Independent Business Louisiana Small Business ORG\n",
            "{'id': '980247411259002882', 'senti': -0.125, 'label': 0, 'PERSON': 1, 'NORP': 0, 'GPE': 1, 'ORG': 1}\n",
            "{'id': '993884409530077184', 'senti': 0.09444444444444444, 'label': 0, 'PERSON': 0, 'NORP': 0, 'GPE': 0, 'ORG': 0}\n",
            "hourly TIME\n",
            "up to 3 35 CARDINAL\n",
            "2 5 CARDINAL\n",
            "{'id': '978667092194013184', 'senti': -0.15, 'label': 0, 'PERSON': 0, 'NORP': 0, 'GPE': 3, 'ORG': 0}\n",
            "One fifth CARDINAL\n",
            "{'id': '984052456735805440', 'senti': -0.25, 'label': 0, 'PERSON': 0, 'NORP': 0, 'GPE': 1, 'ORG': 0}\n",
            "Nearly two thirds CARDINAL\n",
            "the National Federation of Independent Business ORG\n",
            "{'id': '979367042972356608', 'senti': -0.049999999999999996, 'label': 0, 'PERSON': 0, 'NORP': 0, 'GPE': 1, 'ORG': 1}\n",
            "Nearly a third CARDINAL\n",
            "the National Federation ORG\n",
            "{'id': '991308112794710016', 'senti': 0.28888888888888886, 'label': 0, 'PERSON': 0, 'NORP': 0, 'GPE': 1, 'ORG': 1}\n",
            "{'id': '972805595077251072', 'senti': 0.22499999999999998, 'label': 0, 'PERSON': 0, 'NORP': 0, 'GPE': 0, 'ORG': 0}\n",
            "the U S GPE\n",
            "{'id': '976498012246740992', 'senti': 0.1, 'label': 0, 'PERSON': 0, 'NORP': 0, 'GPE': 1, 'ORG': 0}\n",
            "National Federation of Independent Business ORG\n",
            "{'id': '987635022600421376', 'senti': 0.0, 'label': 0, 'PERSON': 0, 'NORP': 0, 'GPE': 0, 'ORG': 1}\n",
            "NFIB ORG\n",
            "Voice Of Small Business Is A Front Group ORG\n",
            "{'id': '981963408013602816', 'senti': -0.25, 'label': 0, 'PERSON': 0, 'NORP': 0, 'GPE': 0, 'ORG': 2}\n",
            "February DATE\n",
            "{'id': '973574645956870144', 'senti': 0.125, 'label': 0, 'PERSON': 0, 'NORP': 0, 'GPE': 1, 'ORG': 0}\n",
            "Anthony K Smith PERSON\n",
            "Oregon GPE\n",
            "the National Federation of Independent Business Rep Bill Post ORG\n",
            "{'id': '986995378443583490', 'senti': 0.0, 'label': 0, 'PERSON': 1, 'NORP': 0, 'GPE': 1, 'ORG': 1}\n",
            "Senate ORG\n",
            "Anthony Smith PERSON\n",
            "Oregon GPE\n",
            "{'id': '982394410380902400', 'senti': -0.25, 'label': 0, 'PERSON': 1, 'NORP': 0, 'GPE': 1, 'ORG': 1}\n",
            "Earlier this month DATE\n",
            "the NFIB National Federation of Independent Business ORG\n",
            "{'id': '976262632725516288', 'senti': 0.0, 'label': 0, 'PERSON': 0, 'NORP': 0, 'GPE': 1, 'ORG': 1}\n",
            "Nearly a third CARDINAL\n",
            "the National Federation ORG\n",
            "{'id': '967386148468416513', 'senti': 0.28888888888888886, 'label': 0, 'PERSON': 0, 'NORP': 0, 'GPE': 1, 'ORG': 1}\n",
            "the National Federation of Independent Business NFIB Fed PAC ORG\n",
            "{'id': '976562022262431744', 'senti': 0.0, 'label': 0, 'PERSON': 0, 'NORP': 0, 'GPE': 0, 'ORG': 1}\n",
            "Jobs Arizona PERSON\n",
            "Sales Representative National Federation of Independent Business ORG\n",
            "{'id': '969752332220190721', 'senti': 0.0, 'label': 0, 'PERSON': 1, 'NORP': 0, 'GPE': 0, 'ORG': 1}\n",
            "National Federation of Independent Business ORG\n",
            "21 CARDINAL\n",
            "{'id': '994076514709893120', 'senti': 0.08333333333333333, 'label': 0, 'PERSON': 0, 'NORP': 0, 'GPE': 1, 'ORG': 1}\n",
            "{'id': '991687816596934656', 'senti': 0.0, 'label': 0, 'PERSON': 0, 'NORP': 0, 'GPE': 0, 'ORG': 0}\n",
            "{'id': '969607746898153473', 'senti': 0.22499999999999998, 'label': 0, 'PERSON': 0, 'NORP': 0, 'GPE': 0, 'ORG': 0}\n",
            "Tuesday DATE\n",
            "the National Federation of Independent Business ORG\n",
            "{'id': '973930299045306368', 'senti': -0.125, 'label': 0, 'PERSON': 0, 'NORP': 0, 'GPE': 1, 'ORG': 1}\n",
            "amp Tax Plan LAW\n",
            "{'id': '982267063514185735', 'senti': -0.13333333333333333, 'label': 0, 'PERSON': 0, 'NORP': 0, 'GPE': 1, 'ORG': 0}\n",
            "hourly TIME\n",
            "up to 3 35 CARDINAL\n",
            "2 5 CARDINAL\n",
            "{'id': '978667458260357120', 'senti': -0.15, 'label': 0, 'PERSON': 0, 'NORP': 0, 'GPE': 3, 'ORG': 0}\n",
            "National Federation of Independent Business ORG\n",
            "{'id': '972521429379010561', 'senti': 0.17857142857142858, 'label': 0, 'PERSON': 0, 'NORP': 0, 'GPE': 0, 'ORG': 1}\n",
            "Sales Representative National Federation of Independent Business ORG\n",
            "{'id': '986696357112000512', 'senti': 0.0, 'label': 0, 'PERSON': 0, 'NORP': 0, 'GPE': 0, 'ORG': 1}\n",
            "The National Federation of Independent Business NFIB ORG\n",
            "Atkins PERSON\n",
            "{'id': '979818322651787264', 'senti': 0.0, 'label': 0, 'PERSON': 1, 'NORP': 0, 'GPE': 0, 'ORG': 1}\n",
            "America GPE\n",
            "{'id': '987028780257554433', 'senti': -0.05681818181818182, 'label': 0, 'PERSON': 0, 'NORP': 0, 'GPE': 1, 'ORG': 0}\n",
            "{'id': '971815809260707841', 'senti': 0.22499999999999998, 'label': 0, 'PERSON': 0, 'NORP': 0, 'GPE': 0, 'ORG': 0}\n",
            "400 CARDINAL\n",
            "The National Federation of Independent Busin ORG\n",
            "{'id': '971015530822893568', 'senti': 0.19999999999999998, 'label': 0, 'PERSON': 0, 'NORP': 0, 'GPE': 1, 'ORG': 1}\n",
            "Yesterday DATE\n",
            "the National Federation of Independent Business ORG\n",
            "{'id': '974309878863888389', 'senti': 0.06818181818181818, 'label': 0, 'PERSON': 0, 'NORP': 0, 'GPE': 1, 'ORG': 1}\n",
            "National Federation of ORG\n",
            "United States Supreme Court ORG\n",
            "{'id': '971626584120717313', 'senti': 0.0, 'label': 0, 'PERSON': 0, 'NORP': 0, 'GPE': 0, 'ORG': 2}\n",
            "March 29 DATE\n",
            "National Federation of Independent Business Day ORG\n",
            "Colorado GPE\n",
            "{'id': '978364325453643776', 'senti': -0.016666666666666663, 'label': 0, 'PERSON': 0, 'NORP': 0, 'GPE': 2, 'ORG': 1}\n",
            "June 28 2012 DATE\n",
            "National Federation of Independent Business v Sebelius VenusRetrograde ORG\n",
            "{'id': '973363426071216130', 'senti': 0.0, 'label': 0, 'PERSON': 0, 'NORP': 0, 'GPE': 1, 'ORG': 1}\n",
            "\n",
            "\n",
            "politifact14474\n",
            "\n",
            "\n",
            "\n",
            "\n",
            "FindLaw U S Constitution ORG\n",
            "First Amendment LAW\n",
            "the First Amendment LAW\n",
            "{'id': '27857034065', 'senti': 0.25, 'label': 0, 'PERSON': 0, 'NORP': 0, 'GPE': 2, 'ORG': 1}\n",
            "The Pledge of Allegiance WORK_OF_ART\n",
            "the First Amendment Establishment Clause LAW\n",
            "{'id': '1070305298823438337', 'senti': 0.25, 'label': 0, 'PERSON': 0, 'NORP': 0, 'GPE': 2, 'ORG': 0}\n",
            "Second ORDINAL\n",
            "{'id': '968734044665073665', 'senti': 0.0, 'label': 0, 'PERSON': 0, 'NORP': 0, 'GPE': 1, 'ORG': 0}\n",
            "2ndly CARDINAL\n",
            "the U S Constitution ORG\n",
            "July 9 1868 DATE\n",
            "{'id': '963739623531819008', 'senti': 0.0, 'label': 0, 'PERSON': 0, 'NORP': 0, 'GPE': 2, 'ORG': 1}\n",
            "The U S Constitution ORG\n",
            "{'id': '17507543393', 'senti': 0.125, 'label': 0, 'PERSON': 0, 'NORP': 0, 'GPE': 0, 'ORG': 1}\n",
            "{'id': '900756491757637634', 'senti': 0.0, 'label': 0, 'PERSON': 0, 'NORP': 0, 'GPE': 0, 'ORG': 0}\n",
            "Christian NORP\n",
            "the 8th Amendment DATE\n",
            "the U S Constitution ORG\n",
            "{'id': '939344990416900097', 'senti': 0.05000000000000001, 'label': 0, 'PERSON': 0, 'NORP': 1, 'GPE': 1, 'ORG': 1}\n",
            "U S Constitution PRODUCT\n",
            "5 99 a month DATE\n",
            "60 CARDINAL\n",
            "a full year DATE\n",
            "NetNeutrality ORG\n",
            "{'id': '941414371116191745', 'senti': 0.29545454545454547, 'label': 0, 'PERSON': 0, 'NORP': 0, 'GPE': 4, 'ORG': 1}\n",
            "14th ORDINAL\n",
            "the U S Constitution ORG\n",
            "5 CARDINAL\n",
            "{'id': '556413539770847232', 'senti': 0.0, 'label': 0, 'PERSON': 0, 'NORP': 0, 'GPE': 2, 'ORG': 1}\n",
            "Later this week DATE\n",
            "House ORG\n",
            "a Balanced Budget Amendment LAW\n",
            "the U S Constitution Read LAW\n",
            "{'id': '136513048323174402', 'senti': 0.0, 'label': 0, 'PERSON': 0, 'NORP': 0, 'GPE': 3, 'ORG': 1}\n",
            "14th ORDINAL\n",
            "The 14th Amendment EVENT\n",
            "1868 DATE\n",
            "{'id': '1059140891292692480', 'senti': 0.375, 'label': 0, 'PERSON': 0, 'NORP': 0, 'GPE': 3, 'ORG': 0}\n",
            "25th Amendment Section 4 LAW\n",
            "the U S Constitution PRODUCT\n",
            "{'id': '917285300828643328', 'senti': 0.10000000000000002, 'label': 0, 'PERSON': 0, 'NORP': 0, 'GPE': 2, 'ORG': 0}\n",
            "Saturday DATE\n",
            "25th ORDINAL\n",
            "the US Constitution LAW\n",
            "{'id': '838085493606604800', 'senti': 0.0, 'label': 0, 'PERSON': 0, 'NORP': 0, 'GPE': 3, 'ORG': 0}\n",
            "U S Constitution ORG\n",
            "{'id': '477197805853745152', 'senti': 0.0, 'label': 0, 'PERSON': 0, 'NORP': 0, 'GPE': 0, 'ORG': 1}\n",
            "The 6th Amendment LAW\n",
            "{'id': '1042400986206232577', 'senti': 0.04999999999999999, 'label': 0, 'PERSON': 0, 'NORP': 0, 'GPE': 1, 'ORG': 0}\n",
            "2nd ORDINAL\n",
            "{'id': '807281689764380672', 'senti': 0.0, 'label': 0, 'PERSON': 0, 'NORP': 0, 'GPE': 1, 'ORG': 0}\n",
            "July 9 DATE\n",
            "The Fourteenth Amendment LAW\n",
            "OTD ORG\n",
            "1868 DATE\n",
            "{'id': '1016369992072421376', 'senti': 0.0, 'label': 0, 'PERSON': 0, 'NORP': 0, 'GPE': 3, 'ORG': 1}\n",
            "Summary ORG\n",
            "the U S Constitution PRODUCT\n",
            "House ORG\n",
            "today DATE\n",
            "{'id': '137584145521049600', 'senti': 0.0, 'label': 0, 'PERSON': 0, 'NORP': 0, 'GPE': 2, 'ORG': 2}\n",
            "the U S Constitution Article ORG\n",
            "{'id': '966072207905452033', 'senti': 0.0, 'label': 0, 'PERSON': 0, 'NORP': 0, 'GPE': 0, 'ORG': 1}\n",
            "the Fifth Amendment U S Constitution LII Legal Information Institute LAW\n",
            "{'id': '337018609752743936', 'senti': 0.2, 'label': 0, 'PERSON': 0, 'NORP': 0, 'GPE': 1, 'ORG': 0}\n",
            "Rep Bob Goodlatte PERSON\n",
            "U ORG\n",
            "{'id': '1040676582019543040', 'senti': 0.0, 'label': 0, 'PERSON': 1, 'NORP': 0, 'GPE': 0, 'ORG': 1}\n",
            "Trump PRODUCT\n",
            "the Fifth Amendment STAND UP LAW\n",
            "{'id': '1011409329147260928', 'senti': 0.0, 'label': 0, 'PERSON': 0, 'NORP': 0, 'GPE': 2, 'ORG': 0}\n",
            "25th ORDINAL\n",
            "{'id': '876023554357174272', 'senti': 0.0, 'label': 0, 'PERSON': 0, 'NORP': 0, 'GPE': 1, 'ORG': 0}\n",
            "{'id': '283419282665246720', 'senti': 0.2222222222222222, 'label': 0, 'PERSON': 0, 'NORP': 0, 'GPE': 0, 'ORG': 0}\n",
            "the U S Constitution Article ORG\n",
            "{'id': '966072640375894016', 'senti': 0.0, 'label': 0, 'PERSON': 0, 'NORP': 0, 'GPE': 0, 'ORG': 1}\n",
            "FindLaw U S Constitution ORG\n",
            "First Amendment LAW\n",
            "the First Amendment LAW\n",
            "{'id': '27884999578', 'senti': 0.25, 'label': 0, 'PERSON': 0, 'NORP': 0, 'GPE': 2, 'ORG': 1}\n",
            "Fifth Amendment U S Constitution ORG\n",
            "Fifth Amendment Rights of Persons Amendment Text Annotations LAW\n",
            "{'id': '746002633563971584', 'senti': 0.0, 'label': 0, 'PERSON': 0, 'NORP': 0, 'GPE': 1, 'ORG': 1}\n",
            "the U S Constitution ORG\n",
            "the Environmental and Social Responsibility Amendment ORG\n",
            "{'id': '99994025402183680', 'senti': 0.03333333333333333, 'label': 0, 'PERSON': 0, 'NORP': 0, 'GPE': 0, 'ORG': 2}\n",
            "Second Amendment LAW\n",
            "Bearing Arms Amendment Text LAW\n",
            "{'id': '992730525013086209', 'senti': 0.0, 'label': 0, 'PERSON': 0, 'NORP': 0, 'GPE': 2, 'ORG': 0}\n",
            "the Fourth Amendment LAW\n",
            "the U S Constitution LAW\n",
            "today DATE\n",
            "{'id': '747886285637980161', 'senti': 0.175, 'label': 0, 'PERSON': 0, 'NORP': 0, 'GPE': 3, 'ORG': 0}\n",
            "U S Constitution Tenth Amendment ORG\n",
            "{'id': '11182364398', 'senti': 0.0, 'label': 0, 'PERSON': 0, 'NORP': 0, 'GPE': 0, 'ORG': 1}\n",
            "{'id': '450644884836208640', 'senti': 0.35, 'label': 0, 'PERSON': 0, 'NORP': 0, 'GPE': 0, 'ORG': 0}\n",
            "U S Constitution LAW\n",
            "OWS ORG\n",
            "{'id': '136565127754424322', 'senti': 0.0, 'label': 0, 'PERSON': 0, 'NORP': 0, 'GPE': 1, 'ORG': 1}\n",
            "FULL ORG\n",
            "the u s constitution PRODUCT\n",
            "the 13th LAW\n",
            "{'id': '287149236825501696', 'senti': -0.05, 'label': 0, 'PERSON': 0, 'NORP': 0, 'GPE': 2, 'ORG': 1}\n",
            "FindLaw U S Constitution ORG\n",
            "First Amendment LAW\n",
            "the First Amendment LAW\n",
            "{'id': '27865757220', 'senti': 0.25, 'label': 0, 'PERSON': 0, 'NORP': 0, 'GPE': 2, 'ORG': 1}\n",
            "tn Dem PERSON\n",
            "U S Constitution Text PRODUCT\n",
            "{'id': '330076591331893248', 'senti': 0.24285714285714285, 'label': 0, 'PERSON': 1, 'NORP': 0, 'GPE': 1, 'ORG': 0}\n",
            "the 6th Amendment LAW\n",
            "the U S Constitution ORG\n",
            "{'id': '658751745502253056', 'senti': 0.31746031746031744, 'label': 0, 'PERSON': 0, 'NORP': 0, 'GPE': 1, 'ORG': 1}\n",
            "6th ORDINAL\n",
            "{'id': '1073419550950068224', 'senti': 0.05714285714285714, 'label': 0, 'PERSON': 0, 'NORP': 0, 'GPE': 1, 'ORG': 0}\n",
            "the U S Constitution ORG\n",
            "the Environmental and Social Responsibility Amendment ORG\n",
            "{'id': '99641293101207552', 'senti': 0.03333333333333333, 'label': 0, 'PERSON': 0, 'NORP': 0, 'GPE': 0, 'ORG': 2}\n",
            "the US Constitution Text of 25th LAW\n",
            "{'id': '1037678663985242114', 'senti': 0.0, 'label': 0, 'PERSON': 0, 'NORP': 0, 'GPE': 1, 'ORG': 0}\n",
            "Second Amendment LAW\n",
            "Bearing Arms Amendment Text Annotations LAW\n",
            "{'id': '1067270850146111488', 'senti': 0.0, 'label': 0, 'PERSON': 0, 'NORP': 0, 'GPE': 2, 'ORG': 0}\n",
            "the U S Constitution PRODUCT\n",
            "the First Amendment LAW\n",
            "{'id': '957312813822824448', 'senti': -0.024999999999999994, 'label': 0, 'PERSON': 0, 'NORP': 0, 'GPE': 2, 'ORG': 0}\n",
            "the 25th Amendment LAW\n",
            "the US Constitution Just LAW\n",
            "{'id': '898280649018167296', 'senti': 0.25, 'label': 0, 'PERSON': 0, 'NORP': 0, 'GPE': 2, 'ORG': 0}\n",
            "American Democracy ORG\n",
            "Bernie Sanders PERSON\n",
            "the U S Constitution LAW\n",
            "{'id': '145369573523341313', 'senti': 0.0, 'label': 0, 'PERSON': 1, 'NORP': 0, 'GPE': 1, 'ORG': 1}\n",
            "May Day DATE\n",
            "the 4th Amendment LAW\n",
            "the U S Constitution LAW\n",
            "{'id': '462000345867386881', 'senti': 0.0, 'label': 0, 'PERSON': 0, 'NORP': 0, 'GPE': 3, 'ORG': 0}\n",
            "{'id': '623550542300614658', 'senti': 0.35, 'label': 0, 'PERSON': 0, 'NORP': 0, 'GPE': 0, 'ORG': 0}\n",
            "the Due Process Clause ORG\n",
            "the Fifth Amendment EVENT\n",
            "{'id': '1011090800082423808', 'senti': 0.1375, 'label': 0, 'PERSON': 0, 'NORP': 0, 'GPE': 1, 'ORG': 1}\n",
            "the 14th Amendment LAW\n",
            "{'id': '1057375309073408000', 'senti': 0.0, 'label': 0, 'PERSON': 0, 'NORP': 0, 'GPE': 1, 'ORG': 0}\n",
            "the U S Constitution PRODUCT\n",
            "the 18th the 27th DATE\n",
            "the last century DATE\n",
            "{'id': '969377819435380736', 'senti': 0.0, 'label': 0, 'PERSON': 0, 'NORP': 0, 'GPE': 3, 'ORG': 0}\n",
            "the First Amendment LAW\n",
            "first ORDINAL\n",
            "the Bill of Rights Note LAW\n",
            "{'id': '250556927132696577', 'senti': 0.2833333333333333, 'label': 0, 'PERSON': 0, 'NORP': 0, 'GPE': 3, 'ORG': 0}\n",
            "the U S Constitution Article ORG\n",
            "{'id': '966396746262720512', 'senti': 0.0, 'label': 0, 'PERSON': 0, 'NORP': 0, 'GPE': 0, 'ORG': 1}\n",
            "{'id': '672803161061507072', 'senti': 0.0, 'label': 0, 'PERSON': 0, 'NORP': 0, 'GPE': 0, 'ORG': 0}\n",
            "the U S Constitution ORG\n",
            "{'id': '313006543450808321', 'senti': 0.375, 'label': 0, 'PERSON': 0, 'NORP': 0, 'GPE': 0, 'ORG': 1}\n",
            "the Second Amendment of the U S Constitution LAW\n",
            "{'id': '638364704595841025', 'senti': 0.0, 'label': 0, 'PERSON': 0, 'NORP': 0, 'GPE': 1, 'ORG': 0}\n",
            "the 1st Amendment LAW\n",
            "{'id': '761739886445551617', 'senti': 0.0, 'label': 0, 'PERSON': 0, 'NORP': 0, 'GPE': 1, 'ORG': 0}\n",
            "Parental Rights Amendment LAW\n",
            "the U S Constitution LAW\n",
            "{'id': '1037378399919063040', 'senti': 0.0, 'label': 0, 'PERSON': 0, 'NORP': 0, 'GPE': 2, 'ORG': 0}\n",
            "{'id': '573903990993330176', 'senti': 0.0, 'label': 0, 'PERSON': 0, 'NORP': 0, 'GPE': 0, 'ORG': 0}\n",
            "FindLaw U S Constitution ORG\n",
            "First Amendment LAW\n",
            "the First Amendment LAW\n",
            "{'id': '27865815602', 'senti': 0.25, 'label': 0, 'PERSON': 0, 'NORP': 0, 'GPE': 2, 'ORG': 1}\n",
            "47 years DATE\n",
            "The 26th Amendment LAW\n",
            "the U S Constitution ORG\n",
            "18 CARDINAL\n",
            "{'id': '964592352428834816', 'senti': 0.0, 'label': 0, 'PERSON': 0, 'NORP': 0, 'GPE': 3, 'ORG': 1}\n",
            "FindLaw U S Constitution ORG\n",
            "First Amendment LAW\n",
            "the First Amendment LAW\n",
            "{'id': '27875332189', 'senti': 0.25, 'label': 0, 'PERSON': 0, 'NORP': 0, 'GPE': 2, 'ORG': 1}\n",
            "the U S Constitution ORG\n",
            "51 CARDINAL\n",
            "Constitution LAW\n",
            "{'id': '605190915062235136', 'senti': -0.4, 'label': 0, 'PERSON': 0, 'NORP': 0, 'GPE': 2, 'ORG': 1}\n",
            "tn Dem PERSON\n",
            "U S Constitution Text PRODUCT\n",
            "{'id': '330077063316918273', 'senti': 0.24285714285714285, 'label': 0, 'PERSON': 1, 'NORP': 0, 'GPE': 1, 'ORG': 0}\n",
            "Second Amendment LAW\n",
            "Bearing Arms Amendment Text Annotations LAW\n",
            "{'id': '968376581633839104', 'senti': 0.0, 'label': 0, 'PERSON': 0, 'NORP': 0, 'GPE': 2, 'ORG': 0}\n",
            "One CARDINAL\n",
            "U S Constitution PRODUCT\n",
            "the Amendment Process LAW\n",
            "{'id': '105362532994252800', 'senti': -0.125, 'label': 0, 'PERSON': 0, 'NORP': 0, 'GPE': 3, 'ORG': 0}\n",
            "the U S Constitution Article ORG\n",
            "{'id': '966072731237203968', 'senti': 0.0, 'label': 0, 'PERSON': 0, 'NORP': 0, 'GPE': 0, 'ORG': 1}\n",
            "American NORP\n",
            "4th ORDINAL\n",
            "Article of Amendment to The U S Constitution LAW\n",
            "{'id': '346646032895078401', 'senti': 0.0, 'label': 0, 'PERSON': 0, 'NORP': 1, 'GPE': 2, 'ORG': 0}\n",
            "the U S Constitution Article ORG\n",
            "{'id': '966071855818842112', 'senti': 0.0, 'label': 0, 'PERSON': 0, 'NORP': 0, 'GPE': 0, 'ORG': 1}\n",
            "M Scott Sergeant Please PERSON\n",
            "{'id': '1007647833237774337', 'senti': 0.0, 'label': 0, 'PERSON': 1, 'NORP': 0, 'GPE': 0, 'ORG': 0}\n",
            "47 years DATE\n",
            "The 26th Amendment LAW\n",
            "the U S Constitution ORG\n",
            "18 CARDINAL\n",
            "{'id': '963427895837261825', 'senti': 0.0, 'label': 0, 'PERSON': 0, 'NORP': 0, 'GPE': 3, 'ORG': 1}\n",
            "Congress ORG\n",
            "{'id': '981225076245835776', 'senti': 0.0, 'label': 0, 'PERSON': 0, 'NORP': 0, 'GPE': 0, 'ORG': 1}\n",
            "{'id': '746735220741779456', 'senti': 0.0, 'label': 0, 'PERSON': 0, 'NORP': 0, 'GPE': 0, 'ORG': 0}\n",
            "the U S Constitution ORG\n",
            "{'id': '1262604762', 'senti': 0.0, 'label': 0, 'PERSON': 0, 'NORP': 0, 'GPE': 0, 'ORG': 1}\n",
            "the U S Constitution Article ORG\n",
            "{'id': '966072820894638080', 'senti': 0.0, 'label': 0, 'PERSON': 0, 'NORP': 0, 'GPE': 0, 'ORG': 1}\n",
            "the Second Amendment LAW\n",
            "{'id': '286566275491180544', 'senti': 0.0, 'label': 0, 'PERSON': 0, 'NORP': 0, 'GPE': 1, 'ORG': 0}\n",
            "The 14th Amendment LAW\n",
            "the U S Constitution ORG\n",
            "150 years ago DATE\n",
            "today DATE\n",
            "{'id': '1016339203578351616', 'senti': 0.0, 'label': 0, 'PERSON': 0, 'NORP': 0, 'GPE': 3, 'ORG': 1}\n",
            "The 14th Amendment LAW\n",
            "{'id': '1057250429766156288', 'senti': 0.0, 'label': 0, 'PERSON': 0, 'NORP': 0, 'GPE': 1, 'ORG': 0}\n",
            "Eighth Amendment LAW\n",
            "the U S Constitution ORG\n",
            "{'id': '667258785472188416', 'senti': -0.4, 'label': 0, 'PERSON': 0, 'NORP': 0, 'GPE': 1, 'ORG': 1}\n",
            "the Second Amendment LAW\n",
            "the U S Constitution LAW\n",
            "Militia ORG\n",
            "{'id': '525427528782336000', 'senti': 0.11666666666666665, 'label': 0, 'PERSON': 0, 'NORP': 0, 'GPE': 2, 'ORG': 1}\n",
            "the Second Amendment LAW\n",
            "{'id': '972202118022082560', 'senti': 0.0, 'label': 0, 'PERSON': 0, 'NORP': 0, 'GPE': 1, 'ORG': 0}\n",
            "The 4th Amendment LAW\n",
            "{'id': '1022195292685328384', 'senti': 0.0, 'label': 0, 'PERSON': 0, 'NORP': 0, 'GPE': 1, 'ORG': 0}\n",
            "{'id': '283419778121621504', 'senti': 0.2222222222222222, 'label': 0, 'PERSON': 0, 'NORP': 0, 'GPE': 0, 'ORG': 0}\n",
            "Second Amendment LAW\n",
            "the Second Amendment LAW\n",
            "the U S Constitution LAW\n",
            "{'id': '25263697653', 'senti': 0.0, 'label': 0, 'PERSON': 0, 'NORP': 0, 'GPE': 3, 'ORG': 0}\n",
            "10th ORDINAL\n",
            "Constitution Tenth Amendment LAW\n",
            "{'id': '10969740933', 'senti': 0.0, 'label': 0, 'PERSON': 0, 'NORP': 0, 'GPE': 2, 'ORG': 0}\n",
            "4 CARDINAL\n",
            "the U S Constitution PRODUCT\n",
            "the 4th Amendment LAW\n",
            "{'id': '860843137048215554', 'senti': -0.8, 'label': 0, 'PERSON': 0, 'NORP': 0, 'GPE': 3, 'ORG': 0}\n",
            "4 379 CARDINAL\n",
            "BILL OF RIGHTS Amendments LAW\n",
            "{'id': '1010960167368736768', 'senti': 0.16666666666666666, 'label': 0, 'PERSON': 0, 'NORP': 0, 'GPE': 2, 'ORG': 0}\n",
            "{'id': '291923937611362304', 'senti': 0.0, 'label': 0, 'PERSON': 0, 'NORP': 0, 'GPE': 0, 'ORG': 0}\n",
            "14th ORDINAL\n",
            "the U S Constitution ORG\n",
            "5 CARDINAL\n",
            "{'id': '556414801363369984', 'senti': 0.0, 'label': 0, 'PERSON': 0, 'NORP': 0, 'GPE': 2, 'ORG': 1}\n",
            "the U S Constitution Amendment 1 PRODUCT\n",
            "k a Bill of Rights LAW\n",
            "Freedom of Religion LAW\n",
            "{'id': '21398975131', 'senti': 0.0, 'label': 0, 'PERSON': 0, 'NORP': 0, 'GPE': 3, 'ORG': 0}\n",
            "3rd Amendment PERSON\n",
            "Second Amendment U S Constitution Second Amendment LAW\n",
            "{'id': '677516287644274688', 'senti': 0.0, 'label': 0, 'PERSON': 1, 'NORP': 0, 'GPE': 1, 'ORG': 0}\n",
            "the First Amendment LAW\n",
            "{'id': '918181303333392386', 'senti': 0.25, 'label': 0, 'PERSON': 0, 'NORP': 0, 'GPE': 1, 'ORG': 0}\n",
            "\n",
            "\n",
            "politifact1436\n",
            "politifact14064\n",
            "\n",
            "\n",
            "\n",
            "\n",
            "Donald Trump PERSON\n",
            "China GPE\n",
            "North Korea GPE\n",
            "{'id': '691334666893266945', 'senti': 0.0, 'label': 0, 'PERSON': 1, 'NORP': 0, 'GPE': 2, 'ORG': 0}\n",
            "Donald Trump PERSON\n",
            "China GPE\n",
            "North Korea GPE\n",
            "{'id': '950389451842375680', 'senti': 0.0, 'label': 0, 'PERSON': 1, 'NORP': 0, 'GPE': 2, 'ORG': 0}\n",
            "Donald Trump PERSON\n",
            "China GPE\n",
            "North Korea GPE\n",
            "{'id': '690343545388015616', 'senti': 0.0, 'label': 0, 'PERSON': 1, 'NORP': 0, 'GPE': 2, 'ORG': 0}\n",
            "Donald Trump PERSON\n",
            "China GPE\n",
            "North Korea GPE\n",
            "{'id': '695625668508282880', 'senti': 0.0, 'label': 0, 'PERSON': 1, 'NORP': 0, 'GPE': 2, 'ORG': 0}\n",
            "Donald Trump PERSON\n",
            "China GPE\n",
            "North Korea GPE\n",
            "{'id': '780600149437317121', 'senti': 0.0, 'label': 0, 'PERSON': 1, 'NORP': 0, 'GPE': 2, 'ORG': 0}\n",
            "Donald Trump PERSON\n",
            "China GPE\n",
            "North Korea GOPDebate GPE\n",
            "{'id': '696147797486112769', 'senti': 0.0, 'label': 0, 'PERSON': 1, 'NORP': 0, 'GPE': 2, 'ORG': 0}\n",
            "Donald Trump PERSON\n",
            "China GPE\n",
            "North Korea GPE\n",
            "{'id': '691726420071071744', 'senti': 0.0, 'label': 0, 'PERSON': 1, 'NORP': 0, 'GPE': 2, 'ORG': 0}\n",
            "Donald Trump PERSON\n",
            "China GPE\n",
            "North Korea GPE\n",
            "{'id': '690254026663821312', 'senti': 0.0, 'label': 0, 'PERSON': 1, 'NORP': 0, 'GPE': 2, 'ORG': 0}\n",
            "Donald Trump PERSON\n",
            "China GPE\n",
            "North Korea GPE\n",
            "{'id': '690918860099305472', 'senti': 0.0, 'label': 0, 'PERSON': 1, 'NORP': 0, 'GPE': 2, 'ORG': 0}\n",
            "Donald Trump PERSON\n",
            "China GPE\n",
            "North Korea GPE\n",
            "{'id': '690613756225835008', 'senti': 0.0, 'label': 0, 'PERSON': 1, 'NORP': 0, 'GPE': 2, 'ORG': 0}\n",
            "Donald Trump PERSON\n",
            "China GPE\n",
            "North Korea GPE\n",
            "{'id': '690276950812721152', 'senti': 0.0, 'label': 0, 'PERSON': 1, 'NORP': 0, 'GPE': 2, 'ORG': 0}\n",
            "Donald Trump PERSON\n",
            "China GPE\n",
            "North Korea GPE\n",
            "{'id': '690387692086038529', 'senti': 0.0, 'label': 0, 'PERSON': 1, 'NORP': 0, 'GPE': 2, 'ORG': 0}\n",
            "Donald Trump PERSON\n",
            "China GPE\n",
            "North Korea GPE\n",
            "{'id': '690282277935452164', 'senti': 0.0, 'label': 0, 'PERSON': 1, 'NORP': 0, 'GPE': 2, 'ORG': 0}\n",
            "Donald Trump PERSON\n",
            "China GPE\n",
            "North Korea GPE\n",
            "{'id': '857270944787779584', 'senti': 0.0, 'label': 0, 'PERSON': 1, 'NORP': 0, 'GPE': 2, 'ORG': 0}\n",
            "Donald Trump PERSON\n",
            "China GPE\n",
            "North Korea GPE\n",
            "Louis Jacobson PERSON\n",
            "{'id': '690341420943671296', 'senti': 0.0, 'label': 0, 'PERSON': 2, 'NORP': 0, 'GPE': 2, 'ORG': 0}\n",
            "Donald Trump PERSON\n",
            "China GPE\n",
            "North Korea GPE\n",
            "{'id': '780596690193494016', 'senti': 0.0, 'label': 0, 'PERSON': 1, 'NORP': 0, 'GPE': 2, 'ORG': 0}\n",
            "China GPE\n",
            "Donald Trump PERSON\n",
            "China GPE\n",
            "North Korea GPE\n",
            "{'id': '690290573954056192', 'senti': 0.0, 'label': 0, 'PERSON': 1, 'NORP': 0, 'GPE': 3, 'ORG': 0}\n",
            "China GPE\n",
            "Donald Trump PERSON\n",
            "China GPE\n",
            "North Korea GPE\n",
            "{'id': '690290570099486720', 'senti': 0.0, 'label': 0, 'PERSON': 1, 'NORP': 0, 'GPE': 3, 'ORG': 0}\n",
            "Donald Trump PERSON\n",
            "China GPE\n",
            "North Korea GPE\n",
            "China GPE\n",
            "{'id': '690303164348628993', 'senti': 0.0, 'label': 0, 'PERSON': 1, 'NORP': 0, 'GPE': 3, 'ORG': 0}\n",
            "Donald Trump PERSON\n",
            "China GPE\n",
            "North Korea GPE\n",
            "China GPE\n",
            "{'id': '690301743796629504', 'senti': 0.0, 'label': 0, 'PERSON': 1, 'NORP': 0, 'GPE': 3, 'ORG': 0}\n",
            "Donald Trump PERSON\n",
            "China GPE\n",
            "North Korea GPE\n",
            "NeverTrump ORG\n",
            "{'id': '703901532929060864', 'senti': 0.0, 'label': 0, 'PERSON': 1, 'NORP': 0, 'GPE': 2, 'ORG': 1}\n",
            "Donald Trump PERSON\n",
            "China GPE\n",
            "North Korea GPE\n",
            "{'id': '725370950166806528', 'senti': 0.0, 'label': 0, 'PERSON': 1, 'NORP': 0, 'GPE': 2, 'ORG': 0}\n",
            "Donald Trump PERSON\n",
            "China GPE\n",
            "North Korea GPE\n",
            "{'id': '690248006399049728', 'senti': 0.0, 'label': 0, 'PERSON': 1, 'NORP': 0, 'GPE': 2, 'ORG': 0}\n",
            "Donald Trump PERSON\n",
            "China GPE\n",
            "North Korea GPE\n",
            "{'id': '690516103953518593', 'senti': 0.0, 'label': 0, 'PERSON': 1, 'NORP': 0, 'GPE': 2, 'ORG': 0}\n",
            "Fact Check Donald Trump PERSON\n",
            "China GPE\n",
            "North Korea GPE\n",
            "{'id': '699911978245099520', 'senti': 0.0, 'label': 0, 'PERSON': 1, 'NORP': 0, 'GPE': 2, 'ORG': 0}\n",
            "Donald Trump PERSON\n",
            "China GPE\n",
            "North Korea GPE\n",
            "China GPE\n",
            "{'id': '690299488351551489', 'senti': 0.0, 'label': 0, 'PERSON': 1, 'NORP': 0, 'GPE': 3, 'ORG': 0}\n",
            "Donald Trump PERSON\n",
            "China GPE\n",
            "North Korea PolitiFact GPE\n",
            "china GPE\n",
            "{'id': '690306200479469568', 'senti': 0.0, 'label': 0, 'PERSON': 1, 'NORP': 0, 'GPE': 3, 'ORG': 0}\n",
            "Donald Trump PERSON\n",
            "China GPE\n",
            "North Korea GPE\n",
            "{'id': '699419517072633856', 'senti': 0.25, 'label': 0, 'PERSON': 1, 'NORP': 0, 'GPE': 2, 'ORG': 0}\n",
            "Donald Trump PERSON\n",
            "China GPE\n",
            "North Korea GPE\n",
            "{'id': '690313168543846400', 'senti': 0.0, 'label': 0, 'PERSON': 1, 'NORP': 0, 'GPE': 2, 'ORG': 0}\n",
            "\n",
            "\n",
            "politifact14070\n",
            "\n",
            "\n",
            "Michael Flynn PERSON\n",
            "Chaffetz PERSON\n",
            "Cummings ORG\n",
            "today DATE\n",
            "{'id': '866869126601609216', 'senti': 0.0, 'label': 0, 'PERSON': 2, 'NORP': 0, 'GPE': 1, 'ORG': 1}\n",
            "Flynn PERSON\n",
            "Rep Cummings PERSON\n",
            "{'id': '936673385429458944', 'senti': 0.0, 'label': 0, 'PERSON': 2, 'NORP': 0, 'GPE': 0, 'ORG': 0}\n",
            "FULL LETTER ORG\n",
            "House Oversight Committee ORG\n",
            "Jason Chaffetz PERSON\n",
            "Office of Government Ethics ORG\n",
            "{'id': '829822407099678722', 'senti': 0.35, 'label': 0, 'PERSON': 1, 'NORP': 0, 'GPE': 0, 'ORG': 3}\n",
            "1 CARDINAL\n",
            "Cummings ORG\n",
            "{'id': '857730906609643520', 'senti': 0.0, 'label': 0, 'PERSON': 0, 'NORP': 0, 'GPE': 1, 'ORG': 1}\n",
            "the Department of Defense ORG\n",
            "Chaffetz ORG\n",
            "Cummings ORG\n",
            "{'id': '859020612764827648', 'senti': 0.05000000000000002, 'label': 0, 'PERSON': 0, 'NORP': 0, 'GPE': 0, 'ORG': 3}\n",
            "FBI ORG\n",
            "Chaffetz ORG\n",
            "Cummings ORG\n",
            "Clinton PERSON\n",
            "{'id': '765622112765763586', 'senti': 0.0, 'label': 0, 'PERSON': 1, 'NORP': 0, 'GPE': 0, 'ORG': 3}\n",
            "Chaffetz ORG\n",
            "Cummings ORG\n",
            "the White House ORG\n",
            "OGE Conway s ORG\n",
            "{'id': '829819031821615105', 'senti': 0.0, 'label': 0, 'PERSON': 0, 'NORP': 0, 'GPE': 0, 'ORG': 4}\n",
            "Jason Chaffetz PERSON\n",
            "Utah GPE\n",
            "Md PERSON\n",
            "{'id': '830095271891701760', 'senti': 0.0, 'label': 0, 'PERSON': 2, 'NORP': 0, 'GPE': 1, 'ORG': 0}\n",
            "Rep Chaffetz and Rep Cummings ORG\n",
            "Shaub PERSON\n",
            "Conway FAC\n",
            "Trump PRODUCT\n",
            "{'id': '829842876519632896', 'senti': 0.0, 'label': 0, 'PERSON': 1, 'NORP': 0, 'GPE': 2, 'ORG': 1}\n",
            "Cummings ORG\n",
            "the White House ORG\n",
            "Office of Gov Ethics ORG\n",
            "Conway ORG\n",
            "{'id': '830157110184927232', 'senti': 0.0, 'label': 0, 'PERSON': 0, 'NORP': 0, 'GPE': 0, 'ORG': 4}\n",
            "Cummings ORG\n",
            "{'id': '829828533442772994', 'senti': -0.5, 'label': 0, 'PERSON': 0, 'NORP': 0, 'GPE': 0, 'ORG': 1}\n",
            "Cummings ORG\n",
            "Conway s PRODUCT\n",
            "{'id': '829820708792520704', 'senti': 0.0, 'label': 0, 'PERSON': 0, 'NORP': 0, 'GPE': 1, 'ORG': 1}\n",
            "Cummings ORG\n",
            "Office of Government Ethics ORG\n",
            "Conway s Ivanka ORG\n",
            "{'id': '829824684581601280', 'senti': 0.0, 'label': 0, 'PERSON': 0, 'NORP': 0, 'GPE': 0, 'ORG': 3}\n",
            "Cummings ORG\n",
            "{'id': '856021392042541057', 'senti': 0.0, 'label': 0, 'PERSON': 0, 'NORP': 0, 'GPE': 0, 'ORG': 1}\n",
            "FBI ORG\n",
            "Chaffetz ORG\n",
            "Cummings ORG\n",
            "Clinton PERSON\n",
            "{'id': '765624150480281600', 'senti': 0.0, 'label': 0, 'PERSON': 1, 'NORP': 0, 'GPE': 0, 'ORG': 3}\n",
            "Cummings ORG\n",
            "Conway s PRODUCT\n",
            "{'id': '829819039937654785', 'senti': 0.0, 'label': 0, 'PERSON': 0, 'NORP': 0, 'GPE': 1, 'ORG': 1}\n",
            "Rep Elijah Cummings ORG\n",
            "{'id': '829796111263096832', 'senti': 0.0, 'label': 0, 'PERSON': 0, 'NORP': 0, 'GPE': 0, 'ORG': 1}\n",
            "Cummings ORG\n",
            "{'id': '829875031744270336', 'senti': 0.0, 'label': 0, 'PERSON': 0, 'NORP': 0, 'GPE': 0, 'ORG': 1}\n",
            "{'id': '859783467470663680', 'senti': 0.0, 'label': 0, 'PERSON': 0, 'NORP': 0, 'GPE': 0, 'ORG': 0}\n",
            "Rep Elijah Cummings ORG\n",
            "Flynn PERSON\n",
            "Pence PERSON\n",
            "Jason Chaffetz PERSON\n",
            "Nov 2016 DATE\n",
            "{'id': '876032716961140737', 'senti': 0.0, 'label': 0, 'PERSON': 3, 'NORP': 0, 'GPE': 1, 'ORG': 1}\n",
            "Cummings ORG\n",
            "Chaffetz ORG\n",
            "Conway s PRODUCT\n",
            "{'id': '829828752825806848', 'senti': 0.0, 'label': 0, 'PERSON': 0, 'NORP': 0, 'GPE': 1, 'ORG': 2}\n",
            "Cummings ORG\n",
            "Conway s PRODUCT\n",
            "{'id': '829819793813405699', 'senti': 0.0, 'label': 0, 'PERSON': 0, 'NORP': 0, 'GPE': 1, 'ORG': 1}\n",
            "CNN ORG\n",
            "Chaffetz ORG\n",
            "Cummings ORG\n",
            "Kellyanne PERSON\n",
            "Fox ORG\n",
            "{'id': '831585315664044034', 'senti': 0.0, 'label': 0, 'PERSON': 1, 'NORP': 0, 'GPE': 0, 'ORG': 4}\n",
            "Cummings ORG\n",
            "Shaub PERSON\n",
            "{'id': '819973920694603776', 'senti': -0.25, 'label': 0, 'PERSON': 1, 'NORP': 0, 'GPE': 0, 'ORG': 1}\n",
            "Cummings ORG\n",
            "Sec Jeh Johnson PERSON\n",
            "{'id': '547128382111375360', 'senti': -0.1, 'label': 0, 'PERSON': 1, 'NORP': 0, 'GPE': 0, 'ORG': 1}\n",
            "Letter GPE\n",
            "Cummings ORG\n",
            "Conway s PRODUCT\n",
            "{'id': '829822048209891335', 'senti': 0.0, 'label': 0, 'PERSON': 0, 'NORP': 0, 'GPE': 2, 'ORG': 1}\n",
            "Cummings ORG\n",
            "the White House ORG\n",
            "Office of Government Ethics ORG\n",
            "Conway ORG\n",
            "{'id': '829774500942209024', 'senti': 0.0, 'label': 0, 'PERSON': 0, 'NORP': 0, 'GPE': 0, 'ORG': 4}\n",
            "Rep Elijah Cummings ORG\n",
            "Flynn PERSON\n",
            "RT ORG\n",
            "Chaffetz PERSON\n",
            "Cummings ORG\n",
            "{'id': '857764198180323328', 'senti': 0.0, 'label': 0, 'PERSON': 2, 'NORP': 0, 'GPE': 0, 'ORG': 3}\n",
            "Cummings ORG\n",
            "MYL ORG\n",
            "Heather Bresch PERSON\n",
            "{'id': '770329423878946816', 'senti': 0.0, 'label': 0, 'PERSON': 1, 'NORP': 0, 'GPE': 0, 'ORG': 2}\n",
            "Jason Chaffetz PERSON\n",
            "Utah GPE\n",
            "Elijah Cummings D Md ORG\n",
            "the House Oversight Committee ORG\n",
            "{'id': '839966931109228544', 'senti': 0.0, 'label': 0, 'PERSON': 1, 'NORP': 0, 'GPE': 1, 'ORG': 2}\n",
            "Hillary PERSON\n",
            "FBI ORG\n",
            "{'id': '1014353211459694595', 'senti': 0.0, 'label': 0, 'PERSON': 1, 'NORP': 0, 'GPE': 0, 'ORG': 1}\n",
            "Cummings ORG\n",
            "Conway s PRODUCT\n",
            "{'id': '829835578128502784', 'senti': 0.0, 'label': 0, 'PERSON': 0, 'NORP': 0, 'GPE': 1, 'ORG': 1}\n",
            "RT BraddJaffy PERSON\n",
            "Chaffetz GPE\n",
            "Cummings ORG\n",
            "the White House ORG\n",
            "OGE Conway ORG\n",
            "{'id': '829821852814045184', 'senti': 0.0, 'label': 0, 'PERSON': 1, 'NORP': 0, 'GPE': 1, 'ORG': 3}\n",
            "READ Elijah Cummings ORG\n",
            "Jason Chaffetz PERSON\n",
            "Michael Flynn PERSON\n",
            "{'id': '1034377692647448576', 'senti': 0.13636363636363635, 'label': 0, 'PERSON': 2, 'NORP': 0, 'GPE': 0, 'ORG': 1}\n",
            "Jason Chaffetz and Elijah Cummings ORG\n",
            "Kellyanne Conway PERSON\n",
            "{'id': '829823946711244800', 'senti': 0.0, 'label': 0, 'PERSON': 1, 'NORP': 0, 'GPE': 0, 'ORG': 1}\n",
            "Cummings ORG\n",
            "Flynn PERSON\n",
            "2015 DATE\n",
            "Moscow GPE\n",
            "{'id': '832266616461197313', 'senti': 0.0, 'label': 0, 'PERSON': 1, 'NORP': 0, 'GPE': 2, 'ORG': 1}\n",
            "House ORG\n",
            "Jason Chaffetz PERSON\n",
            "{'id': '830409362967498753', 'senti': 0.0, 'label': 0, 'PERSON': 1, 'NORP': 0, 'GPE': 0, 'ORG': 1}\n",
            "VP ORG\n",
            "Cummings ORG\n",
            "Pence cc ed Cha PERSON\n",
            "{'id': '857667362513981441', 'senti': 0.0, 'label': 0, 'PERSON': 1, 'NORP': 0, 'GPE': 0, 'ORG': 2}\n",
            "Chaffetz PERSON\n",
            "Cummings ORG\n",
            "{'id': '829826077015023619', 'senti': 0.0, 'label': 0, 'PERSON': 1, 'NORP': 0, 'GPE': 0, 'ORG': 1}\n",
            "Chaffetz GPE\n",
            "Cummings ORG\n",
            "Shaub PERSON\n",
            "{'id': '829831633297670145', 'senti': 1.0, 'label': 0, 'PERSON': 1, 'NORP': 0, 'GPE': 1, 'ORG': 1}\n",
            "READ Elijah Cummings ORG\n",
            "Jason Chaffetz PERSON\n",
            "Michael Flynn PERSON\n",
            "1 2 CARDINAL\n",
            "{'id': '866791137289281536', 'senti': -0.5, 'label': 0, 'PERSON': 2, 'NORP': 0, 'GPE': 1, 'ORG': 1}\n",
            "Rep Elijah Cummings ORG\n",
            "the Office of Ethics ORG\n",
            "Kellyanne Conway s PERSON\n",
            "{'id': '829862924164460548', 'senti': 0.0, 'label': 0, 'PERSON': 1, 'NORP': 0, 'GPE': 0, 'ORG': 2}\n",
            "Letter GPE\n",
            "Cummings ORG\n",
            "Conway s PRODUCT\n",
            "{'id': '829819573184638976', 'senti': 0.0, 'label': 0, 'PERSON': 0, 'NORP': 0, 'GPE': 2, 'ORG': 1}\n",
            "Bullcrap Elijah Cummings ORG\n",
            "Pence PERSON\n",
            "Chaffetz PERSON\n",
            "November DATE\n",
            "Flynn PERSON\n",
            "Turkey GPE\n",
            "Russia GPE\n",
            "{'id': '865563339417636865', 'senti': 0.0, 'label': 0, 'PERSON': 3, 'NORP': 0, 'GPE': 3, 'ORG': 1}\n",
            "Chaffetz ORG\n",
            "Cummings ORG\n",
            "TPM ORG\n",
            "{'id': '829791762487074817', 'senti': 0.0, 'label': 0, 'PERSON': 0, 'NORP': 0, 'GPE': 0, 'ORG': 3}\n",
            "Cummings ORG\n",
            "Cc PERSON\n",
            "Chaffetz PERSON\n",
            "Nov 2016 DATE\n",
            "{'id': '868632100483846144', 'senti': 0.0, 'label': 0, 'PERSON': 2, 'NORP': 0, 'GPE': 1, 'ORG': 1}\n",
            "Chaffetz PERSON\n",
            "Cummings ORG\n",
            "KAC ORG\n",
            "{'id': '829782259205038082', 'senti': -0.25, 'label': 0, 'PERSON': 1, 'NORP': 0, 'GPE': 0, 'ORG': 2}\n",
            "Chaffetz ORG\n",
            "Cummings ORG\n",
            "Conway s PRODUCT\n",
            "{'id': '829828569148829700', 'senti': 0.0, 'label': 0, 'PERSON': 0, 'NORP': 0, 'GPE': 1, 'ORG': 2}\n",
            "House ORG\n",
            "WH Chaffetz ORG\n",
            "McCord GPE\n",
            "{'id': '856185801801072640', 'senti': 0.0, 'label': 0, 'PERSON': 0, 'NORP': 0, 'GPE': 1, 'ORG': 2}\n",
            "Chaffetz Cummings ORG\n",
            "{'id': '848534667770941441', 'senti': 0.0, 'label': 0, 'PERSON': 0, 'NORP': 0, 'GPE': 0, 'ORG': 1}\n",
            "Cummings Shaub PERSON\n",
            "the White House ORG\n",
            "{'id': '840244541877813248', 'senti': 0.0, 'label': 0, 'PERSON': 1, 'NORP': 0, 'GPE': 0, 'ORG': 1}\n",
            "Cummings ORG\n",
            "Driv PERSON\n",
            "{'id': '576385013509431296', 'senti': 0.04999999999999999, 'label': 0, 'PERSON': 1, 'NORP': 0, 'GPE': 0, 'ORG': 1}\n",
            "2016 DATE\n",
            "Peter Kadzik PERSON\n",
            "Cummings RE Office of Legal Counsel ORG\n",
            "{'id': '1062360515106799616', 'senti': 0.125, 'label': 0, 'PERSON': 1, 'NORP': 0, 'GPE': 1, 'ORG': 1}\n",
            "Cummings ORG\n",
            "Chaffetz ORG\n",
            "Conway s PRODUCT\n",
            "{'id': '829831241864196096', 'senti': 0.0, 'label': 0, 'PERSON': 0, 'NORP': 0, 'GPE': 1, 'ORG': 2}\n",
            "Cummings ORG\n",
            "the Office of Ethics ORG\n",
            "Congress ORG\n",
            "{'id': '830076212164829184', 'senti': 0.1, 'label': 0, 'PERSON': 0, 'NORP': 0, 'GPE': 0, 'ORG': 3}\n",
            "Retweeted Kyle Griffin PERSON\n",
            "Letter GPE\n",
            "Chaffetz GPE\n",
            "Cummings ORG\n",
            "{'id': '829829189234782208', 'senti': 0.0, 'label': 0, 'PERSON': 1, 'NORP': 0, 'GPE': 2, 'ORG': 1}\n",
            "\n",
            "\n",
            "\n",
            "\n",
            "politifact13420\n",
            "\n",
            "\n",
            "\n",
            "\n",
            "Katy Perry PERSON\n",
            "U S ORG\n",
            "Barack Obama PERSON\n",
            "Doolittle Park FAC\n",
            "Las Vegas GPE\n",
            "{'id': '261516191447805952', 'senti': 0.0, 'label': 0, 'PERSON': 2, 'NORP': 0, 'GPE': 2, 'ORG': 1}\n",
            "Katy Perry PERSON\n",
            "Las Vegas GPE\n",
            "Wednesday DATE\n",
            "{'id': '260549101928710145', 'senti': 0.0, 'label': 0, 'PERSON': 1, 'NORP': 0, 'GPE': 2, 'ORG': 0}\n",
            "KATY NORP\n",
            "Barak Obama s Campaign Rally ORG\n",
            "Las Vegas GPE\n",
            "{'id': '261720490220064768', 'senti': -0.17857142857142858, 'label': 0, 'PERSON': 0, 'NORP': 1, 'GPE': 1, 'ORG': 1}\n",
            "Katy Perry PERSON\n",
            "Las Vegas Campaign GPE\n",
            "{'id': '261475480513966080', 'senti': 0.0, 'label': 0, 'PERSON': 1, 'NORP': 0, 'GPE': 1, 'ORG': 0}\n",
            "Precise News Obama ORG\n",
            "Vegas GPE\n",
            "evening TIME\n",
            "LAS VEGAS AP GPE\n",
            "Barack Obama PERSON\n",
            "{'id': '261334549945020416', 'senti': 0.4, 'label': 0, 'PERSON': 1, 'NORP': 0, 'GPE': 3, 'ORG': 1}\n",
            "Obama Biden ORG\n",
            "Las Vegas GPE\n",
            "Eva Longoria ORG\n",
            "{'id': '260828515027533824', 'senti': 0.0, 'label': 0, 'PERSON': 0, 'NORP': 0, 'GPE': 1, 'ORG': 2}\n",
            "9 CARDINAL\n",
            "LAS VEGAS GPE\n",
            "{'id': '261442522310643712', 'senti': 0.0, 'label': 0, 'PERSON': 0, 'NORP': 0, 'GPE': 2, 'ORG': 0}\n",
            "Katy Perry PERSON\n",
            "Las Vegas GPE\n",
            "Wednesday DATE\n",
            "sec ORG\n",
            "{'id': '260541503737298945', 'senti': -0.1, 'label': 0, 'PERSON': 1, 'NORP': 0, 'GPE': 2, 'ORG': 1}\n",
            "Katy Perry PERSON\n",
            "Las Vegas Campaign GPE\n",
            "{'id': '261468194655592448', 'senti': 0.0, 'label': 0, 'PERSON': 1, 'NORP': 0, 'GPE': 1, 'ORG': 0}\n",
            "4 CARDINAL\n",
            "LAS VEGAS GPE\n",
            "{'id': '261442036606042113', 'senti': 0.0, 'label': 0, 'PERSON': 0, 'NORP': 0, 'GPE': 2, 'ORG': 0}\n",
            "Katy Perry PERSON\n",
            "Las Vegas GPE\n",
            "Wednesday DATE\n",
            "mtv ORG\n",
            "{'id': '260535409686224896', 'senti': 0.0, 'label': 0, 'PERSON': 1, 'NORP': 0, 'GPE': 2, 'ORG': 1}\n",
            "BenghaziCoverUp RT Pres Obama PERSON\n",
            "Leno GPE\n",
            "Las Vegas GPE\n",
            "3rd ORDINAL\n",
            "the day DATE\n",
            "{'id': '261266564442124288', 'senti': 0.0, 'label': 0, 'PERSON': 1, 'NORP': 0, 'GPE': 4, 'ORG': 0}\n",
            "NotOptimal BS RT ORG\n",
            "Pres Obama PERSON\n",
            "Leno PERSON\n",
            "Las Vegas GPE\n",
            "3rd ORDINAL\n",
            "the day DATE\n",
            "{'id': '261269722224541697', 'senti': 0.25, 'label': 0, 'PERSON': 2, 'NORP': 0, 'GPE': 3, 'ORG': 1}\n",
            "Katy Perry PERSON\n",
            "Obama Katy Perry PERSON\n",
            "Las Vegas GPE\n",
            "{'id': '261485030088511488', 'senti': 0.05000000000000001, 'label': 0, 'PERSON': 2, 'NORP': 0, 'GPE': 1, 'ORG': 0}\n",
            "Republican NORP\n",
            "U S ORG\n",
            "Barack Obama PERSON\n",
            "Las Vegas GPE\n",
            "{'id': '261348491769548800', 'senti': 0.0, 'label': 0, 'PERSON': 1, 'NORP': 1, 'GPE': 1, 'ORG': 1}\n",
            "Katy Perry PERSON\n",
            "Las Vegas GPE\n",
            "Wednesday DATE\n",
            "Barack PERSON\n",
            "{'id': '260800474083643392', 'senti': 0.0, 'label': 0, 'PERSON': 2, 'NORP': 0, 'GPE': 2, 'ORG': 0}\n",
            "Katy Perry PERSON\n",
            "Las Vegas Campaign GPE\n",
            "{'id': '261468771829551104', 'senti': 0.0, 'label': 0, 'PERSON': 1, 'NORP': 0, 'GPE': 1, 'ORG': 0}\n",
            "Republican NORP\n",
            "U S ORG\n",
            "Barack Obama PERSON\n",
            "Las Vegas Nevada ORG\n",
            "{'id': '261348490850996224', 'senti': 0.0, 'label': 0, 'PERSON': 1, 'NORP': 1, 'GPE': 0, 'ORG': 2}\n",
            "Katy Perry PERSON\n",
            "Las Vegas Campaign GPE\n",
            "{'id': '261467429882982400', 'senti': 0.0, 'label': 0, 'PERSON': 1, 'NORP': 0, 'GPE': 1, 'ORG': 0}\n",
            "RT Katy Perry PERSON\n",
            "LasVegas Obama Campaign ORG\n",
            "{'id': '261865297550667776', 'senti': 0.0, 'label': 0, 'PERSON': 1, 'NORP': 0, 'GPE': 0, 'ORG': 1}\n",
            "Katy Perry PERSON\n",
            "Obama LOC\n",
            "Las Vegas GPE\n",
            "10 CARDINAL\n",
            "{'id': '261488587349041155', 'senti': 0.0, 'label': 0, 'PERSON': 1, 'NORP': 0, 'GPE': 3, 'ORG': 0}\n",
            "MTV ORG\n",
            "Katy Perry PERSON\n",
            "Las Vegas GPE\n",
            "Wednesday DATE\n",
            "{'id': '260541399982821376', 'senti': 0.0, 'label': 0, 'PERSON': 1, 'NORP': 0, 'GPE': 2, 'ORG': 1}\n",
            "Obama ORG\n",
            "Vegas GPE\n",
            "evening TIME\n",
            "LAS VEGAS GPE\n",
            "Barack Obama PERSON\n",
            "{'id': '261329501894635522', 'senti': 0.0, 'label': 0, 'PERSON': 1, 'NORP': 0, 'GPE': 3, 'ORG': 1}\n",
            "{'id': '261442381243637761', 'senti': 0.0, 'label': 0, 'PERSON': 0, 'NORP': 0, 'GPE': 0, 'ORG': 0}\n",
            "Katy Perry PERSON\n",
            "Barack Obama ORG\n",
            "Las Vegas GPE\n",
            "{'id': '261432379065905152', 'senti': 0.0, 'label': 0, 'PERSON': 1, 'NORP': 0, 'GPE': 1, 'ORG': 1}\n",
            "Katy Perry PERSON\n",
            "Barack Obama WORK_OF_ART\n",
            "Doolittle Park FAC\n",
            "Las Vegas GPE\n",
            "{'id': '261435307285704704', 'senti': 0.0, 'label': 0, 'PERSON': 1, 'NORP': 0, 'GPE': 3, 'ORG': 0}\n",
            "Katy Perry PERSON\n",
            "Las Vegas GPE\n",
            "Obama GPE\n",
            "{'id': '261001910402818048', 'senti': 0.0, 'label': 0, 'PERSON': 1, 'NORP': 0, 'GPE': 2, 'ORG': 0}\n",
            "Republican NORP\n",
            "U S ORG\n",
            "Barack Obama PERSON\n",
            "Las Vegas GPE\n",
            "{'id': '261348492981719040', 'senti': 0.0, 'label': 0, 'PERSON': 1, 'NORP': 1, 'GPE': 1, 'ORG': 1}\n",
            "Katy Perry PERSON\n",
            "Las Vegas GPE\n",
            "Wednesday DATE\n",
            "sec ORG\n",
            "{'id': '260542245760032768', 'senti': -0.1, 'label': 0, 'PERSON': 1, 'NORP': 0, 'GPE': 2, 'ORG': 1}\n",
            "Las Vegas GPE\n",
            "October 25 2012 DATE\n",
            "2012 DATE\n",
            "{'id': '261653162602143744', 'senti': 0.0, 'label': 0, 'PERSON': 0, 'NORP': 0, 'GPE': 3, 'ORG': 0}\n",
            "Katy Perry PERSON\n",
            "Las Vegas GPE\n",
            "Wednesday DATE\n",
            "sec ORG\n",
            "{'id': '260539111549591553', 'senti': -0.1, 'label': 0, 'PERSON': 1, 'NORP': 0, 'GPE': 2, 'ORG': 1}\n",
            "Katy Perry PERSON\n",
            "Las Vegas GPE\n",
            "Wednesday DATE\n",
            "{'id': '260535416195780608', 'senti': 0.0, 'label': 0, 'PERSON': 1, 'NORP': 0, 'GPE': 2, 'ORG': 0}\n",
            "VIDEO Barack Obama Campaign Rally ORG\n",
            "Las Vegas GPE\n",
            "October 25 2012 DATE\n",
            "2012 DATE\n",
            "{'id': '261646795376062464', 'senti': 0.0, 'label': 0, 'PERSON': 0, 'NORP': 0, 'GPE': 3, 'ORG': 1}\n",
            "Katy Perry To Perform PERSON\n",
            "Las Vegas GPE\n",
            "Wednesday DATE\n",
            "{'id': '260540397598683136', 'senti': 0.0, 'label': 0, 'PERSON': 1, 'NORP': 0, 'GPE': 2, 'ORG': 0}\n",
            "Katy Perry PERSON\n",
            "Las Vegas Campaign GPE\n",
            "{'id': '261468097347731457', 'senti': 0.0, 'label': 0, 'PERSON': 1, 'NORP': 0, 'GPE': 1, 'ORG': 0}\n",
            "2 CARDINAL\n",
            "LAS VEGAS GPE\n",
            "{'id': '261441726789599232', 'senti': 0.0, 'label': 0, 'PERSON': 0, 'NORP': 0, 'GPE': 2, 'ORG': 0}\n",
            "Pres Obama PERSON\n",
            "Leno GPE\n",
            "Las Vegas GPE\n",
            "3rd ORDINAL\n",
            "the day DATE\n",
            "{'id': '261275645718454272', 'senti': 0.0, 'label': 0, 'PERSON': 1, 'NORP': 0, 'GPE': 4, 'ORG': 0}\n",
            "3 CARDINAL\n",
            "LAS VEGAS GPE\n",
            "{'id': '261441921279467520', 'senti': 0.0, 'label': 0, 'PERSON': 0, 'NORP': 0, 'GPE': 2, 'ORG': 0}\n",
            "LAS VEGAS GPE\n",
            "Barack Obama PERSON\n",
            "Nevada GPE\n",
            "{'id': '261396336660852736', 'senti': 0.4, 'label': 0, 'PERSON': 1, 'NORP': 0, 'GPE': 2, 'ORG': 0}\n",
            "demnewswire Katy Perry PERSON\n",
            "Obama LOC\n",
            "Las Vegas GPE\n",
            "10 CARDINAL\n",
            "{'id': '261493988136198144', 'senti': 0.0, 'label': 0, 'PERSON': 1, 'NORP': 0, 'GPE': 3, 'ORG': 0}\n",
            "LAS VEGAS GPE\n",
            "Obama PERSON\n",
            "16 000 CARDINAL\n",
            "Denver GPE\n",
            "this afternoon TIME\n",
            "{'id': '261303422383427584', 'senti': 0.0, 'label': 0, 'PERSON': 1, 'NORP': 0, 'GPE': 4, 'ORG': 0}\n",
            "LAS VEGAS GPE\n",
            "Obama PERSON\n",
            "16 000 CARDINAL\n",
            "Denver GPE\n",
            "this afternoon TIME\n",
            "{'id': '261413204771606528', 'senti': 0.0, 'label': 0, 'PERSON': 1, 'NORP': 0, 'GPE': 4, 'ORG': 0}\n",
            "Katy Perry PERSON\n",
            "Las Vegas GPE\n",
            "Wednesday DATE\n",
            "sec ORG\n",
            "{'id': '260541503905071105', 'senti': -0.1, 'label': 0, 'PERSON': 1, 'NORP': 0, 'GPE': 2, 'ORG': 1}\n",
            "RT Katy Perry PERSON\n",
            "LasVegas Obama Campaign ORG\n",
            "2 CARDINAL\n",
            "{'id': '261865846111092737', 'senti': 0.0, 'label': 0, 'PERSON': 1, 'NORP': 0, 'GPE': 1, 'ORG': 1}\n",
            "KATY NORP\n",
            "Barak Obama s Campaign Rally ORG\n",
            "Las Vegas GPE\n",
            "{'id': '261839520671080448', 'senti': -0.17857142857142858, 'label': 0, 'PERSON': 0, 'NORP': 1, 'GPE': 1, 'ORG': 1}\n",
            "RT Katy Perry PERSON\n",
            "LasVegas Obama Campaign ORG\n",
            "2 CARDINAL\n",
            "{'id': '261865465285070848', 'senti': 0.0, 'label': 0, 'PERSON': 1, 'NORP': 0, 'GPE': 1, 'ORG': 1}\n",
            "Katy Perry PERSON\n",
            "Las Vegas GPE\n",
            "{'id': '260767110463102976', 'senti': 0.0, 'label': 0, 'PERSON': 1, 'NORP': 0, 'GPE': 1, 'ORG': 0}\n",
            "KATY NORP\n",
            "Barak Obama s Campaign Rally ORG\n",
            "Las Vegas GPE\n",
            "{'id': '261719232692224000', 'senti': -0.17857142857142858, 'label': 0, 'PERSON': 0, 'NORP': 1, 'GPE': 1, 'ORG': 1}\n",
            "Vegas GPE\n",
            "Katy Perry PERSON\n",
            "Obama Katy Perry PERSON\n",
            "Las Vegas GPE\n",
            "Wednesday DATE\n",
            "{'id': '261481248063635457', 'senti': 0.0, 'label': 0, 'PERSON': 2, 'NORP': 0, 'GPE': 3, 'ORG': 0}\n",
            "Katy Perry PERSON\n",
            "Las Vegas GPE\n",
            "Wednesday DATE\n",
            "sec ORG\n",
            "{'id': '260540743536496640', 'senti': -0.1, 'label': 0, 'PERSON': 1, 'NORP': 0, 'GPE': 2, 'ORG': 1}\n",
            "Katy Perry PERSON\n",
            "Las Vegas GPE\n",
            "Wednesday DATE\n",
            "{'id': '260535443903373312', 'senti': 0.0, 'label': 0, 'PERSON': 1, 'NORP': 0, 'GPE': 2, 'ORG': 0}\n",
            "Katy Perry PERSON\n",
            "LasVegas Obama Campaign ORG\n",
            "{'id': '261864581570371585', 'senti': 0.0, 'label': 0, 'PERSON': 1, 'NORP': 0, 'GPE': 0, 'ORG': 1}\n",
            "8 CARDINAL\n",
            "RALLY FOR U S ORG\n",
            "BARACK PERSON\n",
            "{'id': '261442457852604417', 'senti': 0.0, 'label': 0, 'PERSON': 1, 'NORP': 0, 'GPE': 1, 'ORG': 1}\n",
            "Katy Perry PERSON\n",
            "Las Vegas GPE\n",
            "Barack Obama PERSON\n",
            "{'id': '261757377240522752', 'senti': 0.0, 'label': 0, 'PERSON': 2, 'NORP': 0, 'GPE': 1, 'ORG': 0}\n",
            "Katy Perry PERSON\n",
            "Barack Obama PERSON\n",
            "Doolittle Park FAC\n",
            "Las Vegas GPE\n",
            "yesterday DATE\n",
            "{'id': '261531227998257152', 'senti': 0.0, 'label': 0, 'PERSON': 2, 'NORP': 0, 'GPE': 3, 'ORG': 0}\n",
            "Katy Perry PERSON\n",
            "Obama GPE\n",
            "Katy Perry PERSON\n",
            "Obama GPE\n",
            "Las Vegas GPE\n",
            "{'id': '261610598360559616', 'senti': 0.0, 'label': 0, 'PERSON': 2, 'NORP': 0, 'GPE': 3, 'ORG': 0}\n",
            "48 hour TIME\n",
            "Campaign Extravaganza LOL PRODUCT\n",
            "last night TIME\n",
            "Las Vegas GPE\n",
            "{'id': '261521412089597953', 'senti': 0.26666666666666666, 'label': 0, 'PERSON': 0, 'NORP': 0, 'GPE': 4, 'ORG': 0}\n",
            "5 CARDINAL\n",
            "LAS VEGAS GPE\n",
            "{'id': '261442150108102656', 'senti': 0.0, 'label': 0, 'PERSON': 0, 'NORP': 0, 'GPE': 2, 'ORG': 0}\n",
            "10 CARDINAL\n",
            "LAS VEGAS GPE\n",
            "{'id': '261442756130525184', 'senti': 0.0, 'label': 0, 'PERSON': 0, 'NORP': 0, 'GPE': 2, 'ORG': 0}\n",
            "KATY NORP\n",
            "Barak Obama s Campaign Rally ORG\n",
            "Las Vegas GPE\n",
            "{'id': '261720465788256256', 'senti': -0.17857142857142858, 'label': 0, 'PERSON': 0, 'NORP': 1, 'GPE': 1, 'ORG': 1}\n",
            "Vegas GPE\n",
            "Katy Perry PERSON\n",
            "Obama Katy Perry PERSON\n",
            "Las Vegas GPE\n",
            "Wednesday DATE\n",
            "{'id': '261488683025309697', 'senti': 0.0, 'label': 0, 'PERSON': 2, 'NORP': 0, 'GPE': 3, 'ORG': 0}\n",
            "Pres Obama PERSON\n",
            "Leno GPE\n",
            "Las Vegas GPE\n",
            "3rd ORDINAL\n",
            "the day DATE\n",
            "{'id': '261265621063458817', 'senti': 0.0, 'label': 0, 'PERSON': 1, 'NORP': 0, 'GPE': 4, 'ORG': 0}\n",
            "Katy Perry PERSON\n",
            "Barack Obama ORG\n",
            "Doolittle Park FAC\n",
            "LasVegas GPE\n",
            "October DATE\n",
            "{'id': '261611972431331328', 'senti': 0.0, 'label': 0, 'PERSON': 1, 'NORP': 0, 'GPE': 3, 'ORG': 1}\n",
            "9 CARDINAL\n",
            "LAS VEGAS GPE\n",
            "{'id': '261442629840035841', 'senti': 0.0, 'label': 0, 'PERSON': 0, 'NORP': 0, 'GPE': 2, 'ORG': 0}\n",
            "Barack Obama PERSON\n",
            "Las Vegas GPE\n",
            "{'id': '261400077069848577', 'senti': 0.0, 'label': 0, 'PERSON': 1, 'NORP': 0, 'GPE': 1, 'ORG': 0}\n",
            "Katy Perry PERSON\n",
            "Barack Obama PERSON\n",
            "Doolittle Park FAC\n",
            "Las Vegas GPE\n",
            "yesterday DATE\n",
            "{'id': '261529758989434880', 'senti': 0.0, 'label': 0, 'PERSON': 2, 'NORP': 0, 'GPE': 3, 'ORG': 0}\n",
            "RT Katy Perry PERSON\n",
            "Wednesday DATE\n",
            "Obama GPE\n",
            "Las Vegas GPE\n",
            "{'id': '260765997731049472', 'senti': 0.0, 'label': 0, 'PERSON': 1, 'NORP': 0, 'GPE': 3, 'ORG': 0}\n",
            "Las Vegas GPE\n",
            "tonight TIME\n",
            "Obama GPE\n",
            "9 30 DATE\n",
            "WorldSeries Fox5 ORG\n",
            "{'id': '261295517034749953', 'senti': 0.0, 'label': 0, 'PERSON': 0, 'NORP': 0, 'GPE': 4, 'ORG': 1}\n",
            "Friday afternoon TIME\n",
            "Las Vegas GPE\n",
            "{'id': '261267049815351298', 'senti': 0.0, 'label': 0, 'PERSON': 0, 'NORP': 0, 'GPE': 2, 'ORG': 0}\n",
            "Katy Perry PERSON\n",
            "Las Vegas GPE\n",
            "Wednesday DATE\n",
            "{'id': '260539137327783936', 'senti': 0.0, 'label': 0, 'PERSON': 1, 'NORP': 0, 'GPE': 2, 'ORG': 0}\n",
            "Katy Perry PERSON\n",
            "Las Vegas GPE\n",
            "last night TIME\n",
            "ObamaBiden PERSON\n",
            "{'id': '261541686155563008', 'senti': 0.0, 'label': 0, 'PERSON': 2, 'NORP': 0, 'GPE': 2, 'ORG': 0}\n",
            "Katy Perry PERSON\n",
            "Las Vegas Campaign GPE\n",
            "{'id': '261468098262081537', 'senti': 0.0, 'label': 0, 'PERSON': 1, 'NORP': 0, 'GPE': 1, 'ORG': 0}\n",
            "Pres Obama PERSON\n",
            "Leno GPE\n",
            "Las Vegas GPE\n",
            "3rd ORDINAL\n",
            "{'id': '261266085427429376', 'senti': 0.0, 'label': 0, 'PERSON': 1, 'NORP': 0, 'GPE': 3, 'ORG': 0}\n",
            "nextyearsgirl ORG\n",
            "Katy Perry PERSON\n",
            "Obama LOC\n",
            "Las Vegas GPE\n",
            "{'id': '261526126172708864', 'senti': 0.0, 'label': 0, 'PERSON': 1, 'NORP': 0, 'GPE': 2, 'ORG': 1}\n",
            "Obama ORG\n",
            "Vegas GPE\n",
            "evening TIME\n",
            "LAS VEGAS GPE\n",
            "Barack Obama PERSON\n",
            "{'id': '261353052118863872', 'senti': 0.0, 'label': 0, 'PERSON': 1, 'NORP': 0, 'GPE': 3, 'ORG': 1}\n",
            "10 24 DATE\n",
            "{'id': '261441654878248961', 'senti': 0.0, 'label': 0, 'PERSON': 0, 'NORP': 0, 'GPE': 1, 'ORG': 0}\n",
            "Katy Perry PERSON\n",
            "Las Vegas GPE\n",
            "Wednesday DATE\n",
            "MTV News ORG\n",
            "{'id': '260535403864539136', 'senti': 0.0, 'label': 0, 'PERSON': 1, 'NORP': 0, 'GPE': 2, 'ORG': 1}\n",
            "RT Pres Obama PERSON\n",
            "Leno GPE\n",
            "Las Vegas GPE\n",
            "3rd ORDINAL\n",
            "day DATE\n",
            "{'id': '261307770198966272', 'senti': 0.0, 'label': 0, 'PERSON': 1, 'NORP': 0, 'GPE': 4, 'ORG': 0}\n",
            "{'id': '261442248510689280', 'senti': 0.0, 'label': 0, 'PERSON': 0, 'NORP': 0, 'GPE': 0, 'ORG': 0}\n",
            "Katy Perry PERSON\n",
            "LasVegas Obama Campaign ORG\n",
            "3 CARDINAL\n",
            "{'id': '261865607375515649', 'senti': 0.0, 'label': 0, 'PERSON': 1, 'NORP': 0, 'GPE': 1, 'ORG': 1}\n",
            "Vegas GPE\n",
            "Katy Perry PERSON\n",
            "Obama Katy Perry PERSON\n",
            "Las Vegas GPE\n",
            "Wednesday DATE\n",
            "night TIME\n",
            "{'id': '261479225868029952', 'senti': 0.0, 'label': 0, 'PERSON': 2, 'NORP': 0, 'GPE': 4, 'ORG': 0}\n",
            "Katy Perry PERSON\n",
            "Las Vegas GPE\n",
            "Wednesday DATE\n",
            "{'id': '260540776159772672', 'senti': 0.0, 'label': 0, 'PERSON': 1, 'NORP': 0, 'GPE': 2, 'ORG': 0}\n",
            "Katy Perry PERSON\n",
            "Obama PERSON\n",
            "Las Vegas GPE\n",
            "{'id': '261513436742172673', 'senti': 0.0, 'label': 0, 'PERSON': 2, 'NORP': 0, 'GPE': 1, 'ORG': 0}\n",
            "Katy Perry PERSON\n",
            "LasVegas Obama Campaign ORG\n",
            "2 CARDINAL\n",
            "{'id': '261865065706311680', 'senti': 0.0, 'label': 0, 'PERSON': 1, 'NORP': 0, 'GPE': 1, 'ORG': 1}\n",
            "11 CARDINAL\n",
            "RALLY FOR U S ORG\n",
            "BARACK PERSON\n",
            "{'id': '261442878591606785', 'senti': 0.0, 'label': 0, 'PERSON': 1, 'NORP': 0, 'GPE': 1, 'ORG': 1}\n",
            "Republican NORP\n",
            "U S ORG\n",
            "Barack Obama PERSON\n",
            "Las Vegas GPE\n",
            "{'id': '261348486920949760', 'senti': 0.0, 'label': 0, 'PERSON': 1, 'NORP': 1, 'GPE': 1, 'ORG': 1}\n",
            "HQ ORG\n",
            "Katy PERSON\n",
            "Obama PERSON\n",
            "Las Vegas GPE\n",
            "{'id': '261446561068892161', 'senti': 0.0, 'label': 0, 'PERSON': 2, 'NORP': 0, 'GPE': 1, 'ORG': 1}\n",
            "Katy Perry PERSON\n",
            "Wednesday DATE\n",
            "night TIME\n",
            "Obama LOC\n",
            "Las Vegas GPE\n",
            "{'id': '261551555419979776', 'senti': 0.0, 'label': 0, 'PERSON': 1, 'NORP': 0, 'GPE': 4, 'ORG': 0}\n",
            "Las Vegas GPE\n",
            "{'id': '261229380699836416', 'senti': 0.0, 'label': 0, 'PERSON': 0, 'NORP': 0, 'GPE': 1, 'ORG': 0}\n",
            "Katy Perry PERSON\n",
            "Las Vegas GPE\n",
            "Wednesday DATE\n",
            "sec ORG\n",
            "{'id': '260542340127682560', 'senti': -0.1, 'label': 0, 'PERSON': 1, 'NORP': 0, 'GPE': 2, 'ORG': 1}\n",
            "KATY NORP\n",
            "Barak Obama s Campaign Rally ORG\n",
            "Las Vegas GPE\n",
            "{'id': '261720565876916224', 'senti': -0.17857142857142858, 'label': 0, 'PERSON': 0, 'NORP': 1, 'GPE': 1, 'ORG': 1}\n",
            "CBS ORG\n",
            "Fox ORG\n",
            "ABC ORG\n",
            "Obama PERSON\n",
            "Las Vegas GPE\n",
            "{'id': '261330895011733505', 'senti': 0.06818181818181818, 'label': 0, 'PERSON': 1, 'NORP': 0, 'GPE': 1, 'ORG': 3}\n",
            "Katy Perry PERSON\n",
            "Las Vegas Campaign GPE\n",
            "{'id': '261466630415069185', 'senti': 0.0, 'label': 0, 'PERSON': 1, 'NORP': 0, 'GPE': 1, 'ORG': 0}\n",
            "Katy Perry PERSON\n",
            "Barack Obama WORK_OF_ART\n",
            "Las Vegas GPE\n",
            "{'id': '261468226968502274', 'senti': 0.5, 'label': 0, 'PERSON': 1, 'NORP': 0, 'GPE': 2, 'ORG': 0}\n",
            "demnewswire Katy Perry PERSON\n",
            "Obama LOC\n",
            "Las Vegas GPE\n",
            "10 CARDINAL\n",
            "{'id': '261510003129716737', 'senti': 0.0, 'label': 0, 'PERSON': 1, 'NORP': 0, 'GPE': 3, 'ORG': 0}\n",
            "VIDEO Barack Obama Campaign Rally ORG\n",
            "Las Vegas GPE\n",
            "October 25 2012 DATE\n",
            "2012 DATE\n",
            "{'id': '261653156868546560', 'senti': 0.0, 'label': 0, 'PERSON': 0, 'NORP': 0, 'GPE': 3, 'ORG': 1}\n",
            "Katy Perry PERSON\n",
            "LasVegas Obama Campaign ORG\n",
            "{'id': '261866099329601536', 'senti': 0.0, 'label': 0, 'PERSON': 1, 'NORP': 0, 'GPE': 0, 'ORG': 1}\n",
            "Katy Perry PERSON\n",
            "LasVegas Obama Campaign ORG\n",
            "4 CARDINAL\n",
            "{'id': '261866073484316672', 'senti': 0.0, 'label': 0, 'PERSON': 1, 'NORP': 0, 'GPE': 1, 'ORG': 1}\n",
            "RT Katy Perry PERSON\n",
            "LasVegas Obama Campaign ORG\n",
            "3 CARDINAL\n",
            "{'id': '261865950763159554', 'senti': 0.0, 'label': 0, 'PERSON': 1, 'NORP': 0, 'GPE': 1, 'ORG': 1}\n",
            "RT Katy Perry PERSON\n",
            "LasVegas Obama Campaign ORG\n",
            "{'id': '261866162017693696', 'senti': 0.0, 'label': 0, 'PERSON': 1, 'NORP': 0, 'GPE': 0, 'ORG': 1}\n",
            "\n",
            "\n",
            "politifact14036\n",
            "\n",
            "\n",
            "Donald Trump PERSON\n",
            "Breitbart News Network ORG\n",
            "Oval Office Breitbart ORG\n",
            "{'id': '836495663588229120', 'senti': 0.35, 'label': 0, 'PERSON': 1, 'NORP': 0, 'GPE': 0, 'ORG': 2}\n",
            "Donald Trump PERSON\n",
            "Breitbart News Network ORG\n",
            "Oval Office Breitbart ORG\n",
            "{'id': '836494684822233088', 'senti': 0.35, 'label': 0, 'PERSON': 1, 'NORP': 0, 'GPE': 0, 'ORG': 2}\n",
            "Donald Trump PERSON\n",
            "Breitbart News Network ORG\n",
            "Oval Office Breitbart ORG\n",
            "{'id': '836491411897925632', 'senti': 0.35, 'label': 0, 'PERSON': 1, 'NORP': 0, 'GPE': 0, 'ORG': 2}\n",
            "Donald Trump PERSON\n",
            "Breitbart News Network ORG\n",
            "{'id': '836589891626676224', 'senti': 0.35, 'label': 0, 'PERSON': 1, 'NORP': 0, 'GPE': 0, 'ORG': 1}\n",
            "Donald Trump PERSON\n",
            "{'id': '848806036102361088', 'senti': 0.1, 'label': 0, 'PERSON': 1, 'NORP': 0, 'GPE': 0, 'ORG': 0}\n",
            "Donald Trump PERSON\n",
            "Breitbart News Network ORG\n",
            "{'id': '836583261614768128', 'senti': 0.35, 'label': 0, 'PERSON': 1, 'NORP': 0, 'GPE': 0, 'ORG': 1}\n",
            "Oval Office ORG\n",
            "Friday DATE\n",
            "Donald Trump PERSON\n",
            "AP ORG\n",
            "White House ORG\n",
            "Julie Pace PERSON\n",
            "{'id': '856206367513882626', 'senti': 0.0, 'label': 0, 'PERSON': 2, 'NORP': 0, 'GPE': 1, 'ORG': 3}\n",
            "BOOM Transcript ORG\n",
            "Donald Trump PERSON\n",
            "Breitbart News Network ORG\n",
            "Oval GoogleAlerts PERSON\n",
            "{'id': '836703843467542529', 'senti': 0.0, 'label': 0, 'PERSON': 2, 'NORP': 0, 'GPE': 0, 'ORG': 2}\n",
            "Donald Trump PERSON\n",
            "Breitbart News Network ORG\n",
            "Oval Office Breitbart ORG\n",
            "{'id': '836559582692536320', 'senti': 0.35, 'label': 0, 'PERSON': 1, 'NORP': 0, 'GPE': 0, 'ORG': 2}\n",
            "Donald Trump PERSON\n",
            "Breitbart News Network ORG\n",
            "{'id': '836496020087402496', 'senti': 0.35, 'label': 0, 'PERSON': 1, 'NORP': 0, 'GPE': 0, 'ORG': 1}\n",
            "Donald Trump PERSON\n",
            "Breitbart News Network ORG\n",
            "Oval Breitbart News FAC\n",
            "{'id': '836536881437360129', 'senti': 0.35, 'label': 0, 'PERSON': 1, 'NORP': 0, 'GPE': 1, 'ORG': 1}\n",
            "Donald Trump PERSON\n",
            "Breitbart News Network ORG\n",
            "Oval Office Breitbart ORG\n",
            "{'id': '836578103577231361', 'senti': 0.35, 'label': 0, 'PERSON': 1, 'NORP': 0, 'GPE': 0, 'ORG': 2}\n",
            "Donald Trump PERSON\n",
            "Breitbart News Network ORG\n",
            "Oval Office Breitbart ORG\n",
            "{'id': '836554039781384192', 'senti': 0.35, 'label': 0, 'PERSON': 1, 'NORP': 0, 'GPE': 0, 'ORG': 2}\n",
            "1 CARDINAL\n",
            "Trump s PRODUCT\n",
            "{'id': '849956340902580225', 'senti': 0.8, 'label': 0, 'PERSON': 0, 'NORP': 0, 'GPE': 2, 'ORG': 0}\n",
            "Donald Trump PERSON\n",
            "Exclusive Interview w Breitbart News Network ORG\n",
            "{'id': '836537294802862081', 'senti': 0.35, 'label': 0, 'PERSON': 1, 'NORP': 0, 'GPE': 0, 'ORG': 1}\n",
            "Donald Trump PERSON\n",
            "the Financial Times ORG\n",
            "US GPE\n",
            "{'id': '848842434356400128', 'senti': 0.3, 'label': 0, 'PERSON': 1, 'NORP': 0, 'GPE': 1, 'ORG': 1}\n",
            "Donald Trump PERSON\n",
            "the Financial Times ORG\n",
            "US GPE\n",
            "{'id': '848671896417783810', 'senti': 0.3, 'label': 0, 'PERSON': 1, 'NORP': 0, 'GPE': 1, 'ORG': 1}\n",
            "AP ORG\n",
            "Donald Trump PERSON\n",
            "{'id': '856302958752841728', 'senti': 0.0, 'label': 0, 'PERSON': 1, 'NORP': 0, 'GPE': 0, 'ORG': 1}\n",
            "Donald Trump PERSON\n",
            "Breitbart News Network ORG\n",
            "{'id': '836562225905168384', 'senti': 0.35, 'label': 0, 'PERSON': 1, 'NORP': 0, 'GPE': 0, 'ORG': 1}\n",
            "Donald Trump PERSON\n",
            "Breitbart News Network ORG\n",
            "{'id': '837054879797506054', 'senti': 0.35, 'label': 0, 'PERSON': 1, 'NORP': 0, 'GPE': 0, 'ORG': 1}\n",
            "Donald Trump PERSON\n",
            "the Financial Times ORG\n",
            "US GPE\n",
            "{'id': '848600372914552832', 'senti': 0.3, 'label': 0, 'PERSON': 1, 'NORP': 0, 'GPE': 1, 'ORG': 1}\n",
            "Donald Trump PERSON\n",
            "the Financial Times ORG\n",
            "US GPE\n",
            "{'id': '848842584898326528', 'senti': 0.3, 'label': 0, 'PERSON': 1, 'NORP': 0, 'GPE': 1, 'ORG': 1}\n",
            "Donald Trump PERSON\n",
            "Breitbart News Network ORG\n",
            "Oval Office Breitbart ORG\n",
            "{'id': '836687312448712704', 'senti': 0.35, 'label': 0, 'PERSON': 1, 'NORP': 0, 'GPE': 0, 'ORG': 2}\n",
            "Donald Trump PERSON\n",
            "Breitbart News Network ORG\n",
            "{'id': '836519783608774656', 'senti': 0.35, 'label': 0, 'PERSON': 1, 'NORP': 0, 'GPE': 0, 'ORG': 1}\n",
            "Donald Trump PERSON\n",
            "Breitbart News Network ORG\n",
            "{'id': '836540459874988032', 'senti': 0.35, 'label': 0, 'PERSON': 1, 'NORP': 0, 'GPE': 0, 'ORG': 1}\n",
            "Donald Trump PERSON\n",
            "Breitbart News Network ORG\n",
            "{'id': '836580254399373312', 'senti': 0.35, 'label': 0, 'PERSON': 1, 'NORP': 0, 'GPE': 0, 'ORG': 1}\n",
            "Donald Trump PERSON\n",
            "{'id': '849233212098347010', 'senti': 0.1, 'label': 0, 'PERSON': 1, 'NORP': 0, 'GPE': 0, 'ORG': 0}\n",
            "Donald Trump PERSON\n",
            "Breitbart News Network ORG\n",
            "{'id': '836574949955493892', 'senti': 0.35, 'label': 0, 'PERSON': 1, 'NORP': 0, 'GPE': 0, 'ORG': 1}\n",
            "Donald Trump PERSON\n",
            "Breitbart News Network ORG\n",
            "{'id': '836562123828375552', 'senti': 0.35, 'label': 0, 'PERSON': 1, 'NORP': 0, 'GPE': 0, 'ORG': 1}\n",
            "Donald Trump PERSON\n",
            "Breitbart News Network ORG\n",
            "Oval Breitbart News FAC\n",
            "{'id': '836581976375181312', 'senti': 0.35, 'label': 0, 'PERSON': 1, 'NORP': 0, 'GPE': 1, 'ORG': 1}\n",
            "Donald Trump PERSON\n",
            "Breitbart News Network ORG\n",
            "{'id': '836687606209376257', 'senti': 0.35, 'label': 0, 'PERSON': 1, 'NORP': 0, 'GPE': 0, 'ORG': 1}\n",
            "Donald Trump PERSON\n",
            "Breitbart News Network ORG\n",
            "{'id': '836692737248256002', 'senti': 0.35, 'label': 0, 'PERSON': 1, 'NORP': 0, 'GPE': 0, 'ORG': 1}\n",
            "Donald Trump PERSON\n",
            "Breitbart News Network ORG\n",
            "Oval Office Breitbart ORG\n",
            "{'id': '836495938206248960', 'senti': 0.35, 'label': 0, 'PERSON': 1, 'NORP': 0, 'GPE': 0, 'ORG': 2}\n",
            "AP ORG\n",
            "Trump PRODUCT\n",
            "Friday DATE\n",
            "Donald Trump PERSON\n",
            "{'id': '856301173459922944', 'senti': 0.0, 'label': 0, 'PERSON': 1, 'NORP': 0, 'GPE': 2, 'ORG': 1}\n",
            "Donald Trump PERSON\n",
            "Breitbart News Network ORG\n",
            "{'id': '836583336017551360', 'senti': 0.35, 'label': 0, 'PERSON': 1, 'NORP': 0, 'GPE': 0, 'ORG': 1}\n",
            "AP ORG\n",
            "Donald Trump PERSON\n",
            "{'id': '856302965153452032', 'senti': 0.0, 'label': 0, 'PERSON': 1, 'NORP': 0, 'GPE': 0, 'ORG': 1}\n",
            "2 2 CARDINAL\n",
            "the United States GPE\n",
            "Donald Trump PERSON\n",
            "{'id': '844941334133727233', 'senti': -0.033333333333333326, 'label': 0, 'PERSON': 1, 'NORP': 0, 'GPE': 2, 'ORG': 0}\n",
            "AP ORG\n",
            "Donald Trump PERSON\n",
            "{'id': '856302963224006657', 'senti': 0.0, 'label': 0, 'PERSON': 1, 'NORP': 0, 'GPE': 0, 'ORG': 1}\n",
            "Donald Trump PERSON\n",
            "Breitbart News Network ORG\n",
            "Oval Office Breitbart ORG\n",
            "{'id': '836687481852444673', 'senti': 0.35, 'label': 0, 'PERSON': 1, 'NORP': 0, 'GPE': 0, 'ORG': 2}\n",
            "Time ORG\n",
            "{'id': '848624320050073602', 'senti': -0.2916666666666667, 'label': 0, 'PERSON': 0, 'NORP': 0, 'GPE': 0, 'ORG': 1}\n",
            "Donald Trump PERSON\n",
            "Breitbart News Network ORG\n",
            "{'id': '836613915207430145', 'senti': 0.35, 'label': 0, 'PERSON': 1, 'NORP': 0, 'GPE': 0, 'ORG': 1}\n",
            "Donald Trump PERSON\n",
            "the Financial Times ORG\n",
            "US GPE\n",
            "{'id': '848664097130414081', 'senti': 0.3, 'label': 0, 'PERSON': 1, 'NORP': 0, 'GPE': 1, 'ORG': 1}\n",
            "Donald Trump PERSON\n",
            "{'id': '836685446411214849', 'senti': 0.35, 'label': 0, 'PERSON': 1, 'NORP': 0, 'GPE': 0, 'ORG': 0}\n",
            "{'id': '850094214612439040', 'senti': 0.15000000000000002, 'label': 0, 'PERSON': 0, 'NORP': 0, 'GPE': 0, 'ORG': 0}\n",
            "Donald Trump PERSON\n",
            "Breitbart News Network ORG\n",
            "Oval LOC\n",
            "{'id': '836664189179449344', 'senti': 0.35, 'label': 0, 'PERSON': 1, 'NORP': 0, 'GPE': 1, 'ORG': 1}\n",
            "Donald Trump PERSON\n",
            "Breitbart News Network ORG\n",
            "Oval Office Breitbart ORG\n",
            "{'id': '836619284654665728', 'senti': 0.35, 'label': 0, 'PERSON': 1, 'NORP': 0, 'GPE': 0, 'ORG': 2}\n",
            "Donald Trump PERSON\n",
            "Breitbart News Network ORG\n",
            "{'id': '836582330689024002', 'senti': 0.35, 'label': 0, 'PERSON': 1, 'NORP': 0, 'GPE': 0, 'ORG': 1}\n",
            "Donald Trump PERSON\n",
            "Breitbart News Network ORG\n",
            "Oval GoogleAlerts PERSON\n",
            "{'id': '836703743777390592', 'senti': 0.35, 'label': 0, 'PERSON': 2, 'NORP': 0, 'GPE': 0, 'ORG': 1}\n",
            "Friday DATE\n",
            "Donald Trump PERSON\n",
            "AP ORG\n",
            "{'id': '856299250707247104', 'senti': 0.0, 'label': 0, 'PERSON': 1, 'NORP': 0, 'GPE': 1, 'ORG': 1}\n",
            "Donald Trump PERSON\n",
            "Breitbart News Network ORG\n",
            "Oval Office Breitbart ORG\n",
            "{'id': '836739889249013764', 'senti': 0.35, 'label': 0, 'PERSON': 1, 'NORP': 0, 'GPE': 0, 'ORG': 2}\n",
            "Donald Trump PERSON\n",
            "Breitbart News Network ORG\n",
            "{'id': '836728868904001536', 'senti': 0.35, 'label': 0, 'PERSON': 1, 'NORP': 0, 'GPE': 0, 'ORG': 1}\n",
            "Donald Trump PERSON\n",
            "Breitbart News Network ORG\n",
            "{'id': '836562174134857729', 'senti': 0.35, 'label': 0, 'PERSON': 1, 'NORP': 0, 'GPE': 0, 'ORG': 1}\n",
            "Donald Trump PERSON\n",
            "Breitbart News Network ORG\n",
            "{'id': '836534903911010305', 'senti': 0.35, 'label': 0, 'PERSON': 1, 'NORP': 0, 'GPE': 0, 'ORG': 1}\n",
            "Donald Trump PERSON\n",
            "Breitbart News Network ORG\n",
            "Oval Office Breitbart ORG\n",
            "{'id': '836531745277284353', 'senti': 0.35, 'label': 0, 'PERSON': 1, 'NORP': 0, 'GPE': 0, 'ORG': 2}\n",
            "Donald Trump PERSON\n",
            "{'id': '849232612761718784', 'senti': 0.1, 'label': 0, 'PERSON': 1, 'NORP': 0, 'GPE': 0, 'ORG': 0}\n",
            "Donald Trump PERSON\n",
            "Breitbart News Network ORG\n",
            "Oval Office Breitbart ORG\n",
            "{'id': '836836512557850624', 'senti': 0.35, 'label': 0, 'PERSON': 1, 'NORP': 0, 'GPE': 0, 'ORG': 2}\n",
            "Donald Trump PERSON\n",
            "Breitbart News Network ORG\n",
            "{'id': '836635105284263938', 'senti': 0.35, 'label': 0, 'PERSON': 1, 'NORP': 0, 'GPE': 0, 'ORG': 1}\n",
            "Donald Trump PERSON\n",
            "Financial Times ORG\n",
            "US GPE\n",
            "{'id': '848927055156850688', 'senti': 0.3, 'label': 0, 'PERSON': 1, 'NORP': 0, 'GPE': 1, 'ORG': 1}\n",
            "Donald Trump PERSON\n",
            "the Financial Times ORG\n",
            "US GPE\n",
            "{'id': '848818377082667008', 'senti': 0.3, 'label': 0, 'PERSON': 1, 'NORP': 0, 'GPE': 1, 'ORG': 1}\n",
            "Donald Trump PERSON\n",
            "Breitbart News Network ORG\n",
            "Oval Office Breitbart ORG\n",
            "{'id': '836615029030006784', 'senti': 0.35, 'label': 0, 'PERSON': 1, 'NORP': 0, 'GPE': 0, 'ORG': 2}\n",
            "Donald Trump PERSON\n",
            "Breitbart News Network ORG\n",
            "Oval Office Breitbart ORG\n",
            "{'id': '836879458967638018', 'senti': 0.35, 'label': 0, 'PERSON': 1, 'NORP': 0, 'GPE': 0, 'ORG': 2}\n",
            "Oval Office ORG\n",
            "Friday DATE\n",
            "Donald Trump PERSON\n",
            "AP ORG\n",
            "White House ORG\n",
            "Juli PERSON\n",
            "{'id': '856217982787362818', 'senti': 0.0, 'label': 0, 'PERSON': 2, 'NORP': 0, 'GPE': 1, 'ORG': 3}\n",
            "Donald Trump PERSON\n",
            "Breitbart News Network ORG\n",
            "Oval Office Breitbart ORG\n",
            "{'id': '836603469159149570', 'senti': 0.35, 'label': 0, 'PERSON': 1, 'NORP': 0, 'GPE': 0, 'ORG': 2}\n",
            "Donald Trump PERSON\n",
            "Breitbart News Network ORG\n",
            "Oval Office Breitbart ORG\n",
            "{'id': '836541468659564546', 'senti': 0.35, 'label': 0, 'PERSON': 1, 'NORP': 0, 'GPE': 0, 'ORG': 2}\n",
            "Oval Office ORG\n",
            "Friday DATE\n",
            "Donald Trump PERSON\n",
            "AP ORG\n",
            "White House ORG\n",
            "Julie Pace PERSON\n",
            "{'id': '856231759477977088', 'senti': 0.0, 'label': 0, 'PERSON': 2, 'NORP': 0, 'GPE': 1, 'ORG': 3}\n",
            "Donald Trump PERSON\n",
            "Breitbart News Network ORG\n",
            "{'id': '836581673139638276', 'senti': 0.35, 'label': 0, 'PERSON': 1, 'NORP': 0, 'GPE': 0, 'ORG': 1}\n",
            "Donald Trump PERSON\n",
            "Breitbart News Network ORG\n",
            "{'id': '836553779222831104', 'senti': 0.35, 'label': 0, 'PERSON': 1, 'NORP': 0, 'GPE': 0, 'ORG': 1}\n",
            "Donald Trump PERSON\n",
            "Breitbart News Network ORG\n",
            "{'id': '836552354568810496', 'senti': 0.35, 'label': 0, 'PERSON': 1, 'NORP': 0, 'GPE': 0, 'ORG': 1}\n",
            "Donald Trump PERSON\n",
            "the Financial Times ORG\n",
            "US GPE\n",
            "{'id': '848774233392066560', 'senti': 0.3, 'label': 0, 'PERSON': 1, 'NORP': 0, 'GPE': 1, 'ORG': 1}\n",
            "Donald Trump PERSON\n",
            "Breitbart News Network ORG\n",
            "{'id': '836518599149961217', 'senti': 0.35, 'label': 0, 'PERSON': 1, 'NORP': 0, 'GPE': 0, 'ORG': 1}\n",
            "Donald Trump PERSON\n",
            "Breitbart News Network ORG\n",
            "Oval Office Breitbart ORG\n",
            "{'id': '836509035188928512', 'senti': 0.35, 'label': 0, 'PERSON': 1, 'NORP': 0, 'GPE': 0, 'ORG': 2}\n",
            "Donald Trump PERSON\n",
            "Breitbart News Network ORG\n",
            "Oval Office Breitbart ORG\n",
            "{'id': '836519353776496640', 'senti': 0.35, 'label': 0, 'PERSON': 1, 'NORP': 0, 'GPE': 0, 'ORG': 2}\n",
            "Donald Trump PERSON\n",
            "Breitbart News Network ORG\n",
            "Oval Office Breitbart ORG\n",
            "{'id': '836551137427881984', 'senti': 0.35, 'label': 0, 'PERSON': 1, 'NORP': 0, 'GPE': 0, 'ORG': 2}\n",
            "Donald Trump PERSON\n",
            "Breitbart News Network ORG\n",
            "{'id': '836573384108552192', 'senti': 0.35, 'label': 0, 'PERSON': 1, 'NORP': 0, 'GPE': 0, 'ORG': 1}\n",
            "Donald Trump PERSON\n",
            "Breitbart News Network ORG\n",
            "Oval Office Breitbart ORG\n",
            "{'id': '836756080755638273', 'senti': 0.35, 'label': 0, 'PERSON': 1, 'NORP': 0, 'GPE': 0, 'ORG': 2}\n",
            "Donald Trump PERSON\n",
            "Breitbart News Network ORG\n",
            "Oval Office Breitbart ORG\n",
            "{'id': '836812231891374080', 'senti': 0.35, 'label': 0, 'PERSON': 1, 'NORP': 0, 'GPE': 0, 'ORG': 2}\n",
            "Donald Trump PERSON\n",
            "Breitbart News Network ORG\n",
            "Oval Office Breitbart ORG\n",
            "{'id': '836704641396039680', 'senti': 0.35, 'label': 0, 'PERSON': 1, 'NORP': 0, 'GPE': 0, 'ORG': 2}\n",
            "Donald Trump PERSON\n",
            "Breitbart News Network ORG\n",
            "Oval Office Breitbart ORG\n",
            "{'id': '836739855577137152', 'senti': 0.35, 'label': 0, 'PERSON': 1, 'NORP': 0, 'GPE': 0, 'ORG': 2}\n",
            "Donald Trump PERSON\n",
            "Breitbart News Network ORG\n",
            "Oval Office Breitbart ORG\n",
            "{'id': '836687351426396161', 'senti': 0.35, 'label': 0, 'PERSON': 1, 'NORP': 0, 'GPE': 0, 'ORG': 2}\n",
            "AP ORG\n",
            "Trump PRODUCT\n",
            "Oval Office ORG\n",
            "Friday DATE\n",
            "Donald Trump PERSON\n",
            "{'id': '856306149079035904', 'senti': 0.0, 'label': 0, 'PERSON': 1, 'NORP': 0, 'GPE': 2, 'ORG': 2}\n",
            "Donald Trump PERSON\n",
            "Breitbart News Network ORG\n",
            "Oval Office Breitbart ORG\n",
            "{'id': '836630352500310016', 'senti': 0.35, 'label': 0, 'PERSON': 1, 'NORP': 0, 'GPE': 0, 'ORG': 2}\n",
            "Donald Trump PERSON\n",
            "{'id': '844917721204600836', 'senti': -1.0, 'label': 0, 'PERSON': 1, 'NORP': 0, 'GPE': 0, 'ORG': 0}\n",
            "Donald Trump PERSON\n",
            "{'id': '836931350477295620', 'senti': 0.35, 'label': 0, 'PERSON': 1, 'NORP': 0, 'GPE': 0, 'ORG': 0}\n",
            "Donald Trump PERSON\n",
            "Breitbart News ORG\n",
            "{'id': '836600236202143745', 'senti': 0.35, 'label': 0, 'PERSON': 1, 'NORP': 0, 'GPE': 0, 'ORG': 1}\n",
            "Donald Trump PERSON\n",
            "Breitbart News Network ORG\n",
            "Oval Office Breitbart ORG\n",
            "{'id': '836532323675844610', 'senti': 0.35, 'label': 0, 'PERSON': 1, 'NORP': 0, 'GPE': 0, 'ORG': 2}\n",
            "Donald Trump PERSON\n",
            "Breitbart News Network ORG\n",
            "Oval Office Breitbart ORG\n",
            "{'id': '836698272735571968', 'senti': 0.35, 'label': 0, 'PERSON': 1, 'NORP': 0, 'GPE': 0, 'ORG': 2}\n",
            "Donald Trump PERSON\n",
            "{'id': '848806044579090432', 'senti': 0.1, 'label': 0, 'PERSON': 1, 'NORP': 0, 'GPE': 0, 'ORG': 0}\n",
            "Donald Trump PERSON\n",
            "Breitbart News Network ORG\n",
            "{'id': '836585167670108162', 'senti': 0.35, 'label': 0, 'PERSON': 1, 'NORP': 0, 'GPE': 0, 'ORG': 1}\n",
            "Donald Trump PERSON\n",
            "Breitbart News Network ORG\n",
            "{'id': '836501250007056385', 'senti': 0.35, 'label': 0, 'PERSON': 1, 'NORP': 0, 'GPE': 0, 'ORG': 1}\n",
            "AP ORG\n",
            "Trump PRODUCT\n",
            "Oval Office ORG\n",
            "Friday DATE\n",
            "Donald Trump PERSON\n",
            "{'id': '856201593565270016', 'senti': 0.0, 'label': 0, 'PERSON': 1, 'NORP': 0, 'GPE': 2, 'ORG': 2}\n",
            "Donald Trump PERSON\n",
            "Breitbart News Network ORG\n",
            "{'id': '836517999347642368', 'senti': 0.35, 'label': 0, 'PERSON': 1, 'NORP': 0, 'GPE': 0, 'ORG': 1}\n",
            "Oval Office ORG\n",
            "Friday DATE\n",
            "Donald Trump PERSON\n",
            "AP ORG\n",
            "White House ORG\n",
            "Julie Pace PERSON\n",
            "{'id': '856214232429449217', 'senti': 0.0, 'label': 0, 'PERSON': 2, 'NORP': 0, 'GPE': 1, 'ORG': 3}\n",
            "Donald Trump PERSON\n",
            "Breitbart News Network ORG\n",
            "{'id': '836499217300467713', 'senti': 0.35, 'label': 0, 'PERSON': 1, 'NORP': 0, 'GPE': 0, 'ORG': 1}\n",
            "Americans NORP\n",
            "{'id': '852287927753244677', 'senti': 0.7, 'label': 0, 'PERSON': 0, 'NORP': 1, 'GPE': 0, 'ORG': 0}\n",
            "Donald Trump PERSON\n",
            "Breitbart News Network ORG\n",
            "{'id': '836631504822407170', 'senti': 0.35, 'label': 0, 'PERSON': 1, 'NORP': 0, 'GPE': 0, 'ORG': 1}\n",
            "Donald Trump PERSON\n",
            "BNN ORG\n",
            "Oval Office Breitbart ORG\n",
            "{'id': '836530544825499648', 'senti': 0.35, 'label': 0, 'PERSON': 1, 'NORP': 0, 'GPE': 0, 'ORG': 2}\n",
            "Donald Trump PERSON\n",
            "Breitbart News Network ORG\n",
            "Oval Office Breitbart ORG\n",
            "{'id': '836684258232188932', 'senti': 0.35, 'label': 0, 'PERSON': 1, 'NORP': 0, 'GPE': 0, 'ORG': 2}\n",
            "\n",
            "\n",
            "\n",
            "\n",
            "politifact13303\n",
            "\n",
            "\n",
            "{'id': '817780905469218820', 'senti': 0.0, 'label': 0, 'PERSON': 0, 'NORP': 0, 'GPE': 0, 'ORG': 0}\n",
            "FBI ODNI ORG\n",
            "DHS ORG\n",
            "today DATE\n",
            "House ORG\n",
            "{'id': '998926461888221185', 'senti': 0.0, 'label': 0, 'PERSON': 0, 'NORP': 0, 'GPE': 1, 'ORG': 3}\n",
            "{'id': '815727568947027968', 'senti': 0.0, 'label': 0, 'PERSON': 0, 'NORP': 0, 'GPE': 0, 'ORG': 0}\n",
            "10 7 2016 DATE\n",
            "{'id': '810801585970446336', 'senti': -0.5, 'label': 0, 'PERSON': 0, 'NORP': 0, 'GPE': 1, 'ORG': 0}\n",
            "{'id': '784719286682222592', 'senti': 0.0, 'label': 0, 'PERSON': 0, 'NORP': 0, 'GPE': 0, 'ORG': 0}\n",
            "Russia GPE\n",
            "{'id': '784539743228981249', 'senti': 0.0, 'label': 0, 'PERSON': 0, 'NORP': 0, 'GPE': 1, 'ORG': 0}\n",
            "{'id': '817464211408359426', 'senti': 0.0, 'label': 0, 'PERSON': 0, 'NORP': 0, 'GPE': 0, 'ORG': 0}\n",
            "{'id': '784502198155608064', 'senti': 0.0, 'label': 0, 'PERSON': 0, 'NORP': 0, 'GPE': 0, 'ORG': 0}\n",
            "Russia GPE\n",
            "{'id': '784499577822941184', 'senti': 0.0, 'label': 0, 'PERSON': 0, 'NORP': 0, 'GPE': 1, 'ORG': 0}\n",
            "StopRussia2014 CARDINAL\n",
            "{'id': '784841728981364736', 'senti': 0.0, 'label': 0, 'PERSON': 0, 'NORP': 0, 'GPE': 1, 'ORG': 0}\n",
            "FBI ORG\n",
            "ODNI ORG\n",
            "{'id': '998920458375483392', 'senti': 0.0, 'label': 0, 'PERSON': 0, 'NORP': 0, 'GPE': 0, 'ORG': 2}\n",
            "{'id': '790016755557072896', 'senti': 0.0, 'label': 0, 'PERSON': 0, 'NORP': 0, 'GPE': 0, 'ORG': 0}\n",
            "{'id': '785289243769856001', 'senti': 0.0, 'label': 0, 'PERSON': 0, 'NORP': 0, 'GPE': 0, 'ORG': 0}\n",
            "{'id': '784615167506149376', 'senti': -0.08333333333333333, 'label': 0, 'PERSON': 0, 'NORP': 0, 'GPE': 0, 'ORG': 0}\n",
            "2016 DATE\n",
            "{'id': '880960255747911684', 'senti': 0.0, 'label': 0, 'PERSON': 0, 'NORP': 0, 'GPE': 1, 'ORG': 0}\n",
            "Joint DHS and ORG\n",
            "{'id': '883886692444360709', 'senti': 0.1, 'label': 0, 'PERSON': 0, 'NORP': 0, 'GPE': 0, 'ORG': 1}\n",
            "{'id': '784478639891120128', 'senti': 0.0, 'label': 0, 'PERSON': 0, 'NORP': 0, 'GPE': 0, 'ORG': 0}\n",
            "Oct Joint DHS ORG\n",
            "Russian NORP\n",
            "{'id': '808330547600695296', 'senti': 0.0, 'label': 0, 'PERSON': 0, 'NORP': 1, 'GPE': 0, 'ORG': 1}\n",
            "RUSSIA WORKING FOR TRUMP Joint Statement ORG\n",
            "{'id': '793879734069362688', 'senti': 0.0, 'label': 0, 'PERSON': 0, 'NORP': 0, 'GPE': 0, 'ORG': 1}\n",
            "{'id': '792522204613267456', 'senti': 0.0, 'label': 0, 'PERSON': 0, 'NORP': 0, 'GPE': 0, 'ORG': 0}\n",
            "{'id': '784486383780069376', 'senti': 0.0, 'label': 0, 'PERSON': 0, 'NORP': 0, 'GPE': 0, 'ORG': 0}\n",
            "{'id': '807322693360095232', 'senti': 0.0, 'label': 0, 'PERSON': 0, 'NORP': 0, 'GPE': 0, 'ORG': 0}\n",
            "FBI ORG\n",
            "GRIZZLY STEPPE PERSON\n",
            "Cyber Activity PERSON\n",
            "{'id': '1048296092566257664', 'senti': 0.0, 'label': 0, 'PERSON': 2, 'NORP': 0, 'GPE': 0, 'ORG': 1}\n",
            "ODNI Joint Statement ORG\n",
            "DHS GPE\n",
            "Kirstjen M Nielsen PERSON\n",
            "FBI ORG\n",
            "Christopher Wray PERSON\n",
            "Natio ORG\n",
            "{'id': '999135906031255552', 'senti': 0.0, 'label': 0, 'PERSON': 2, 'NORP': 0, 'GPE': 1, 'ORG': 3}\n",
            "7 2016 DATE\n",
            "{'id': '847257470229651456', 'senti': 0.0, 'label': 0, 'PERSON': 0, 'NORP': 0, 'GPE': 1, 'ORG': 0}\n",
            "{'id': '784536576474943547', 'senti': 0.0, 'label': 0, 'PERSON': 0, 'NORP': 0, 'GPE': 0, 'ORG': 0}\n",
            "October 7 DATE\n",
            "{'id': '808041725088399360', 'senti': 0.0, 'label': 0, 'PERSON': 0, 'NORP': 0, 'GPE': 1, 'ORG': 0}\n",
            "{'id': '784481775489875968', 'senti': 0.0, 'label': 0, 'PERSON': 0, 'NORP': 0, 'GPE': 0, 'ORG': 0}\n",
            "Russian NORP\n",
            "{'id': '795732028746514437', 'senti': 0.0, 'label': 0, 'PERSON': 0, 'NORP': 1, 'GPE': 0, 'ORG': 0}\n",
            "{'id': '784633863234617344', 'senti': 0.0, 'label': 0, 'PERSON': 0, 'NORP': 0, 'GPE': 0, 'ORG': 0}\n",
            "{'id': '838420243026489345', 'senti': 0.0, 'label': 0, 'PERSON': 0, 'NORP': 0, 'GPE': 0, 'ORG': 0}\n",
            "The U S Intelligence Community ORG\n",
            "the Russian Government ORG\n",
            "{'id': '929316788952813573', 'senti': 0.16666666666666666, 'label': 0, 'PERSON': 0, 'NORP': 0, 'GPE': 0, 'ORG': 2}\n",
            "{'id': '784563382548570113', 'senti': 0.0, 'label': 0, 'PERSON': 0, 'NORP': 0, 'GPE': 0, 'ORG': 0}\n",
            "October 7 2016 DATE\n",
            "{'id': '875531788944322560', 'senti': 0.65, 'label': 0, 'PERSON': 0, 'NORP': 0, 'GPE': 1, 'ORG': 0}\n",
            "{'id': '784559229969526788', 'senti': 0.0, 'label': 0, 'PERSON': 0, 'NORP': 0, 'GPE': 0, 'ORG': 0}\n",
            "The U S Intelligence Community ORG\n",
            "{'id': '784487676170817536', 'senti': 0.5, 'label': 0, 'PERSON': 0, 'NORP': 0, 'GPE': 0, 'ORG': 1}\n",
            "{'id': '784514067654467588', 'senti': 0.0, 'label': 0, 'PERSON': 0, 'NORP': 0, 'GPE': 0, 'ORG': 0}\n",
            "ODNI DOJ FBI ORG\n",
            "Russ PERSON\n",
            "{'id': '1053349052799221760', 'senti': 0.0, 'label': 0, 'PERSON': 1, 'NORP': 0, 'GPE': 0, 'ORG': 1}\n",
            "{'id': '786217373065818113', 'senti': 0.0, 'label': 0, 'PERSON': 0, 'NORP': 0, 'GPE': 0, 'ORG': 0}\n",
            "{'id': '784502197316825088', 'senti': 0.0, 'label': 0, 'PERSON': 0, 'NORP': 0, 'GPE': 0, 'ORG': 0}\n",
            "MemeoRandum Joint DHS ORG\n",
            "Jaclyn Tran PERSON\n",
            "{'id': '784519170893504512', 'senti': 0.0, 'label': 0, 'PERSON': 1, 'NORP': 0, 'GPE': 0, 'ORG': 1}\n",
            "{'id': '808318364955320320', 'senti': 0.0, 'label': 0, 'PERSON': 0, 'NORP': 0, 'GPE': 0, 'ORG': 0}\n",
            "{'id': '784766761577033728', 'senti': 0.0, 'label': 0, 'PERSON': 0, 'NORP': 0, 'GPE': 0, 'ORG': 0}\n",
            "The Joint DHS and ORG\n",
            "Oct 7th DATE\n",
            "Russia GPE\n",
            "TYTlive ORG\n",
            "{'id': '788877544741277696', 'senti': 0.0, 'label': 0, 'PERSON': 0, 'NORP': 0, 'GPE': 2, 'ORG': 2}\n",
            "{'id': '784488595092492288', 'senti': 0.0, 'label': 0, 'PERSON': 0, 'NORP': 0, 'GPE': 0, 'ORG': 0}\n",
            "Joint Statement PERSON\n",
            "ODNI ORG\n",
            "{'id': '889845414052204550', 'senti': 0.0, 'label': 0, 'PERSON': 1, 'NORP': 0, 'GPE': 0, 'ORG': 1}\n",
            "{'id': '784478705125122049', 'senti': 0.0, 'label': 0, 'PERSON': 0, 'NORP': 0, 'GPE': 0, 'ORG': 0}\n",
            "Russian NORP\n",
            "10 CARDINAL\n",
            "{'id': '808320182955413509', 'senti': 0.0, 'label': 0, 'PERSON': 0, 'NORP': 1, 'GPE': 1, 'ORG': 0}\n",
            "{'id': '822474356349661185', 'senti': 0.0, 'label': 0, 'PERSON': 0, 'NORP': 0, 'GPE': 0, 'ORG': 0}\n",
            "{'id': '880971017367179264', 'senti': 0.0, 'label': 0, 'PERSON': 0, 'NORP': 0, 'GPE': 0, 'ORG': 0}\n",
            "10 CARDINAL\n",
            "{'id': '822474246563708929', 'senti': 0.0, 'label': 0, 'PERSON': 0, 'NORP': 0, 'GPE': 1, 'ORG': 0}\n",
            "Russia GPE\n",
            "{'id': '785012903124492288', 'senti': 0.0, 'label': 0, 'PERSON': 0, 'NORP': 0, 'GPE': 1, 'ORG': 0}\n",
            "Russia GPE\n",
            "{'id': '784539743782666246', 'senti': 0.0, 'label': 0, 'PERSON': 0, 'NORP': 0, 'GPE': 1, 'ORG': 0}\n",
            "Russians NORP\n",
            "{'id': '784514206804697088', 'senti': 0.0, 'label': 0, 'PERSON': 0, 'NORP': 1, 'GPE': 0, 'ORG': 0}\n",
            "{'id': '784767256634888192', 'senti': 0.0, 'label': 0, 'PERSON': 0, 'NORP': 0, 'GPE': 0, 'ORG': 0}\n",
            "{'id': '808340292155871232', 'senti': 0.0, 'label': 0, 'PERSON': 0, 'NORP': 0, 'GPE': 0, 'ORG': 0}\n",
            "{'id': '784507896851750912', 'senti': 0.0, 'label': 0, 'PERSON': 0, 'NORP': 0, 'GPE': 0, 'ORG': 0}\n",
            "DNC ORG\n",
            "Russia GPE\n",
            "{'id': '784502872155230208', 'senti': 0.0, 'label': 0, 'PERSON': 0, 'NORP': 0, 'GPE': 1, 'ORG': 1}\n",
            "{'id': '784521287116914688', 'senti': 0.0, 'label': 0, 'PERSON': 0, 'NORP': 0, 'GPE': 0, 'ORG': 0}\n",
            "{'id': '794925051686502400', 'senti': 0.0, 'label': 0, 'PERSON': 0, 'NORP': 0, 'GPE': 0, 'ORG': 0}\n",
            "{'id': '785530090570387456', 'senti': 0.0, 'label': 0, 'PERSON': 0, 'NORP': 0, 'GPE': 0, 'ORG': 0}\n",
            "{'id': '784482078545043456', 'senti': 0.0, 'label': 0, 'PERSON': 0, 'NORP': 0, 'GPE': 0, 'ORG': 0}\n",
            "{'id': '802947701394419712', 'senti': 0.0, 'label': 0, 'PERSON': 0, 'NORP': 0, 'GPE': 0, 'ORG': 0}\n",
            "21 CARDINAL\n",
            "24 CARDINAL\n",
            "Coward Joint DHS ORG\n",
            "{'id': '810149895554244608', 'senti': 0.0, 'label': 0, 'PERSON': 0, 'NORP': 0, 'GPE': 2, 'ORG': 1}\n",
            "{'id': '785926853806657536', 'senti': -0.4, 'label': 0, 'PERSON': 0, 'NORP': 0, 'GPE': 0, 'ORG': 0}\n",
            "{'id': '784563386986233857', 'senti': 0.0, 'label': 0, 'PERSON': 0, 'NORP': 0, 'GPE': 0, 'ORG': 0}\n",
            "The U S Intelligence Community ORG\n",
            "{'id': '784487677563318272', 'senti': 0.0, 'label': 0, 'PERSON': 0, 'NORP': 0, 'GPE': 0, 'ORG': 1}\n",
            "{'id': '784700588969828353', 'senti': 0.0, 'label': 0, 'PERSON': 0, 'NORP': 0, 'GPE': 0, 'ORG': 0}\n",
            "{'id': '784508762233016320', 'senti': 0.0, 'label': 0, 'PERSON': 0, 'NORP': 0, 'GPE': 0, 'ORG': 0}\n",
            "{'id': '784517313710075904', 'senti': 0.0, 'label': 0, 'PERSON': 0, 'NORP': 0, 'GPE': 0, 'ORG': 0}\n",
            "{'id': '784481631578955776', 'senti': 0.0, 'label': 0, 'PERSON': 0, 'NORP': 0, 'GPE': 0, 'ORG': 0}\n",
            "ODNI ORG\n",
            "US GPE\n",
            "Russian NORP\n",
            "{'id': '784508082369990657', 'senti': 0.0, 'label': 0, 'PERSON': 0, 'NORP': 1, 'GPE': 1, 'ORG': 1}\n",
            "{'id': '822474283217776640', 'senti': 0.0, 'label': 0, 'PERSON': 0, 'NORP': 0, 'GPE': 0, 'ORG': 0}\n",
            "DNI Joint DHS ORG\n",
            "{'id': '784506646764584960', 'senti': 0.0, 'label': 0, 'PERSON': 0, 'NORP': 0, 'GPE': 0, 'ORG': 1}\n",
            "{'id': '814895898178134016', 'senti': 0.0, 'label': 0, 'PERSON': 0, 'NORP': 0, 'GPE': 0, 'ORG': 0}\n",
            "{'id': '808299803255767041', 'senti': 0.0, 'label': 0, 'PERSON': 0, 'NORP': 0, 'GPE': 0, 'ORG': 0}\n",
            "{'id': '784924477792608258', 'senti': 0.0, 'label': 0, 'PERSON': 0, 'NORP': 0, 'GPE': 0, 'ORG': 0}\n",
            "{'id': '784478264408567812', 'senti': 0.0, 'label': 0, 'PERSON': 0, 'NORP': 0, 'GPE': 0, 'ORG': 0}\n",
            "Russia GPE\n",
            "{'id': '784541765353209857', 'senti': 0.5, 'label': 0, 'PERSON': 0, 'NORP': 0, 'GPE': 1, 'ORG': 0}\n",
            "{'id': '786164726585753601', 'senti': 0.0, 'label': 0, 'PERSON': 0, 'NORP': 0, 'GPE': 0, 'ORG': 0}\n",
            "{'id': '784502194489876480', 'senti': 0.0, 'label': 0, 'PERSON': 0, 'NORP': 0, 'GPE': 0, 'ORG': 0}\n",
            "{'id': '791710635285286912', 'senti': 0.0, 'label': 0, 'PERSON': 0, 'NORP': 0, 'GPE': 0, 'ORG': 0}\n",
            "{'id': '784699080308031488', 'senti': 0.0, 'label': 0, 'PERSON': 0, 'NORP': 0, 'GPE': 0, 'ORG': 0}\n",
            "{'id': '785325233783894016', 'senti': 0.0, 'label': 0, 'PERSON': 0, 'NORP': 0, 'GPE': 0, 'ORG': 0}\n",
            "Security News Joint DHS ORG\n",
            "{'id': '784544923064365059', 'senti': 0.0, 'label': 0, 'PERSON': 0, 'NORP': 0, 'GPE': 0, 'ORG': 1}\n",
            "{'id': '784595828996538368', 'senti': 0.0, 'label': 0, 'PERSON': 0, 'NORP': 0, 'GPE': 0, 'ORG': 0}\n",
            "{'id': '784510200304791552', 'senti': 0.7, 'label': 0, 'PERSON': 0, 'NORP': 0, 'GPE': 0, 'ORG': 0}\n",
            "The U S Intelligence Community ORG\n",
            "{'id': '784563335060676609', 'senti': 0.5, 'label': 0, 'PERSON': 0, 'NORP': 0, 'GPE': 0, 'ORG': 1}\n",
            "\n",
            "\n",
            "\n",
            "\n",
            "politifact13260\n",
            "politifact13132\n",
            "\n",
            "\n",
            "\n",
            "\n",
            "Hillary Clinton PERSON\n",
            "next nine CARDINAL\n",
            "{'id': '780584883303297024', 'senti': -0.022222222222222216, 'label': 0, 'PERSON': 1, 'NORP': 0, 'GPE': 1, 'ORG': 0}\n",
            "Hillary Clinton PERSON\n",
            "nine CARDINAL\n",
            "{'id': '780908206876942336', 'senti': -0.022222222222222216, 'label': 0, 'PERSON': 1, 'NORP': 0, 'GPE': 1, 'ORG': 0}\n",
            "Hillary Clinton PERSON\n",
            "next nine CARDINAL\n",
            "{'id': '780586514698866688', 'senti': -0.022222222222222216, 'label': 0, 'PERSON': 1, 'NORP': 0, 'GPE': 1, 'ORG': 0}\n",
            "Hillary Clinton PERSON\n",
            "next nine CARDINAL\n",
            "{'id': '710505001622220800', 'senti': -0.022222222222222216, 'label': 0, 'PERSON': 1, 'NORP': 0, 'GPE': 1, 'ORG': 0}\n",
            "Hillary Clinton PERSON\n",
            "next nine CARDINAL\n",
            "{'id': '780586198913789956', 'senti': -0.022222222222222216, 'label': 0, 'PERSON': 1, 'NORP': 0, 'GPE': 1, 'ORG': 0}\n",
            "Hillary Clinton PERSON\n",
            "next nine CARDINAL\n",
            "{'id': '710841868423176193', 'senti': -0.022222222222222216, 'label': 0, 'PERSON': 1, 'NORP': 0, 'GPE': 1, 'ORG': 0}\n",
            "Hillary Clinton PERSON\n",
            "next nine CARDINAL\n",
            "4 CARDINAL\n",
            "{'id': '710796078791200773', 'senti': -0.022222222222222216, 'label': 0, 'PERSON': 1, 'NORP': 0, 'GPE': 2, 'ORG': 0}\n",
            "Hillary Clinton PERSON\n",
            "next nine CARDINAL\n",
            "{'id': '710075534705868800', 'senti': -0.022222222222222216, 'label': 0, 'PERSON': 1, 'NORP': 0, 'GPE': 1, 'ORG': 0}\n",
            "Hillary Clinton PERSON\n",
            "next nine CARDINAL\n",
            "{'id': '729158479923945472', 'senti': -0.022222222222222216, 'label': 0, 'PERSON': 1, 'NORP': 0, 'GPE': 1, 'ORG': 0}\n",
            "Hillary Clinton PERSON\n",
            "next nine CARDINAL\n",
            "{'id': '780586180458844161', 'senti': -0.022222222222222216, 'label': 0, 'PERSON': 1, 'NORP': 0, 'GPE': 1, 'ORG': 0}\n",
            "Hillary Clinton PERSON\n",
            "next nine CARDINAL\n",
            "{'id': '722933149198495744', 'senti': 0.07083333333333333, 'label': 0, 'PERSON': 1, 'NORP': 0, 'GPE': 1, 'ORG': 0}\n",
            "Hillary Clinton PERSON\n",
            "next nine CARDINAL\n",
            "{'id': '780595620994125824', 'senti': -0.022222222222222216, 'label': 0, 'PERSON': 1, 'NORP': 0, 'GPE': 1, 'ORG': 0}\n",
            "Hillary Clinton PERSON\n",
            "next nine CARDINAL\n",
            "{'id': '780584733902123008', 'senti': -0.022222222222222216, 'label': 0, 'PERSON': 1, 'NORP': 0, 'GPE': 1, 'ORG': 0}\n",
            "Hillary Clinton PERSON\n",
            "next nine CARDINAL\n",
            "{'id': '715012487775584256', 'senti': -0.022222222222222216, 'label': 0, 'PERSON': 1, 'NORP': 0, 'GPE': 1, 'ORG': 0}\n",
            "Hillary Clinton PERSON\n",
            "next nine CARDINAL\n",
            "{'id': '710323762042949633', 'senti': -0.022222222222222216, 'label': 0, 'PERSON': 1, 'NORP': 0, 'GPE': 1, 'ORG': 0}\n",
            "Hillary Clinton PERSON\n",
            "next nine CARDINAL\n",
            "{'id': '709855468429189122', 'senti': -0.022222222222222216, 'label': 0, 'PERSON': 1, 'NORP': 0, 'GPE': 1, 'ORG': 0}\n",
            "Hillary Clinton PERSON\n",
            "next nine CARDINAL\n",
            "{'id': '722928950624722944', 'senti': -0.022222222222222216, 'label': 0, 'PERSON': 1, 'NORP': 0, 'GPE': 1, 'ORG': 0}\n",
            "Hillary Clinton PERSON\n",
            "next nine CARDINAL\n",
            "{'id': '710167845292908544', 'senti': -0.022222222222222216, 'label': 0, 'PERSON': 1, 'NORP': 0, 'GPE': 1, 'ORG': 0}\n",
            "Hillary Clinton PERSON\n",
            "next nine CARDINAL\n",
            "{'id': '780584960503808000', 'senti': -0.022222222222222216, 'label': 0, 'PERSON': 1, 'NORP': 0, 'GPE': 1, 'ORG': 0}\n",
            "Hillary Clinton PERSON\n",
            "next nine CARDINAL\n",
            "{'id': '711163603676692484', 'senti': -0.022222222222222216, 'label': 0, 'PERSON': 1, 'NORP': 0, 'GPE': 1, 'ORG': 0}\n",
            "Hillary Clinton PERSON\n",
            "next nine CARDINAL\n",
            "{'id': '709863316697391104', 'senti': -0.022222222222222216, 'label': 0, 'PERSON': 1, 'NORP': 0, 'GPE': 1, 'ORG': 0}\n",
            "Hillary Clinton PERSON\n",
            "next nine CARDINAL\n",
            "{'id': '710235719416094721', 'senti': -0.022222222222222216, 'label': 0, 'PERSON': 1, 'NORP': 0, 'GPE': 1, 'ORG': 0}\n",
            "Hillary Clinton PERSON\n",
            "next nine CARDINAL\n",
            "{'id': '709925869368639488', 'senti': -0.022222222222222216, 'label': 0, 'PERSON': 1, 'NORP': 0, 'GPE': 1, 'ORG': 0}\n",
            "Hillary Clinton PERSON\n",
            "next nine CARDINAL\n",
            "{'id': '710157406995681281', 'senti': -0.022222222222222216, 'label': 0, 'PERSON': 1, 'NORP': 0, 'GPE': 1, 'ORG': 0}\n",
            "Hillary Clinton PERSON\n",
            "next nine CARDINAL\n",
            "{'id': '710795622627065856', 'senti': -0.022222222222222216, 'label': 0, 'PERSON': 1, 'NORP': 0, 'GPE': 1, 'ORG': 0}\n",
            "Hillary Clinton PERSON\n",
            "next nine CARDINAL\n",
            "{'id': '718140785745666052', 'senti': -0.022222222222222216, 'label': 0, 'PERSON': 1, 'NORP': 0, 'GPE': 1, 'ORG': 0}\n",
            "Hillary Clinton PERSON\n",
            "next nine CARDINAL\n",
            "{'id': '714898378744725504', 'senti': -0.022222222222222216, 'label': 0, 'PERSON': 1, 'NORP': 0, 'GPE': 1, 'ORG': 0}\n",
            "Hillary Clinton PERSON\n",
            "next nine CARDINAL\n",
            "{'id': '710125625558695936', 'senti': -0.022222222222222216, 'label': 0, 'PERSON': 1, 'NORP': 0, 'GPE': 1, 'ORG': 0}\n",
            "Hillary Clinton PERSON\n",
            "next nine CARDINAL\n",
            "{'id': '709882822559965184', 'senti': -0.022222222222222216, 'label': 0, 'PERSON': 1, 'NORP': 0, 'GPE': 1, 'ORG': 0}\n",
            "\n",
            "\n",
            "politifact1313\n",
            "\n",
            "\n",
            "Press Briefing ORG\n",
            "Press ORG\n",
            "Robert Gibbs PERSON\n",
            "FEMA ORG\n",
            "Craig Fugate PERSON\n",
            "{'id': '13831502328', 'senti': 0.0, 'label': 0, 'PERSON': 2, 'NORP': 0, 'GPE': 0, 'ORG': 3}\n",
            "6 CARDINAL\n",
            "Press ORG\n",
            "Robert Gibbs PERSON\n",
            "{'id': '13540019338', 'senti': 0.0, 'label': 0, 'PERSON': 1, 'NORP': 0, 'GPE': 1, 'ORG': 1}\n",
            "Release Press Briefing ORG\n",
            "Press ORG\n",
            "Robert Gibbs PERSON\n",
            "{'id': '13751096135', 'senti': 0.05000000000000002, 'label': 0, 'PERSON': 1, 'NORP': 0, 'GPE': 0, 'ORG': 2}\n",
            "Press Briefing ORG\n",
            "Press ORG\n",
            "Robert Gibbs PERSON\n",
            "FEMA ORG\n",
            "Craig Fugate PERSON\n",
            "{'id': '13816774448', 'senti': 0.0, 'label': 0, 'PERSON': 2, 'NORP': 0, 'GPE': 0, 'ORG': 3}\n",
            "Press Briefing ORG\n",
            "Press ORG\n",
            "Robert Gibbs PERSON\n",
            "Treasury ORG\n",
            "Neal Wolin PERSON\n",
            "{'id': '13519738787', 'senti': 0.0, 'label': 0, 'PERSON': 2, 'NORP': 0, 'GPE': 0, 'ORG': 3}\n",
            "Press Briefing ORG\n",
            "Press ORG\n",
            "Robert Gibbs PERSON\n",
            "FEMA ORG\n",
            "Craig Fugate PERSON\n",
            "GIBBS PERSON\n",
            "{'id': '13813724061', 'senti': 0.0, 'label': 0, 'PERSON': 3, 'NORP': 0, 'GPE': 0, 'ORG': 3}\n",
            "Usa News Press Briefing ORG\n",
            "Press ORG\n",
            "Robert Gibbs PERSON\n",
            "Eikenberry usa PERSON\n",
            "{'id': '13764469240', 'senti': 0.05000000000000002, 'label': 0, 'PERSON': 2, 'NORP': 0, 'GPE': 0, 'ORG': 2}\n",
            "Press Briefing ORG\n",
            "Press ORG\n",
            "Robert Gibbs PERSON\n",
            "FEMA ORG\n",
            "Craig Fugate PERSON\n",
            "2 31 CARDINAL\n",
            "GIBBS PERSON\n",
            "{'id': '13813149436', 'senti': 0.0, 'label': 0, 'PERSON': 3, 'NORP': 0, 'GPE': 1, 'ORG': 3}\n",
            "Press Briefing ORG\n",
            "Press ORG\n",
            "Robert Gibbs PERSON\n",
            "Treasury ORG\n",
            "Neal Wol PERSON\n",
            "{'id': '13516693456', 'senti': 0.0, 'label': 0, 'PERSON': 2, 'NORP': 0, 'GPE': 0, 'ORG': 3}\n",
            "White House Press Briefing ORG\n",
            "Press ORG\n",
            "Robert Gibbs PERSON\n",
            "Treasury ORG\n",
            "Neal Wolin PERSON\n",
            "{'id': '13572002004', 'senti': 0.0, 'label': 0, 'PERSON': 2, 'NORP': 0, 'GPE': 0, 'ORG': 3}\n",
            "israel GPE\n",
            "Press Briefing ORG\n",
            "Press ORG\n",
            "Robert Gibbs PERSON\n",
            "Treasury ORG\n",
            "Neal Wolin PERSON\n",
            "{'id': '13561446355', 'senti': 0.0, 'label': 0, 'PERSON': 2, 'NORP': 0, 'GPE': 1, 'ORG': 3}\n",
            "WH Press Briefing ORG\n",
            "Press ORG\n",
            "Robert Gibbs PERSON\n",
            "Treasury ORG\n",
            "Neal Wolin PERSON\n",
            "{'id': '13512918230', 'senti': 0.0, 'label': 0, 'PERSON': 2, 'NORP': 0, 'GPE': 0, 'ORG': 3}\n",
            "Press Briefing ORG\n",
            "Press ORG\n",
            "Robert Gibbs PERSON\n",
            "FEMA ORG\n",
            "Craig Fugate PERSON\n",
            "{'id': '13813895870', 'senti': 0.0, 'label': 0, 'PERSON': 2, 'NORP': 0, 'GPE': 0, 'ORG': 3}\n",
            "press office Press Briefing ORG\n",
            "Press ORG\n",
            "Robert Gibbs PERSON\n",
            "1 31 TIME\n",
            "{'id': '13750992923', 'senti': 0.05000000000000002, 'label': 0, 'PERSON': 1, 'NORP': 0, 'GPE': 1, 'ORG': 2}\n",
            "Press Briefing ORG\n",
            "Press ORG\n",
            "Robert Gibbs PERSON\n",
            "FEMA ORG\n",
            "Craig Fugate PERSON\n",
            "{'id': '13812846934', 'senti': 0.0, 'label': 0, 'PERSON': 2, 'NORP': 0, 'GPE': 0, 'ORG': 3}\n",
            "Press Briefing ORG\n",
            "Press ORG\n",
            "Robert Gibbs PERSON\n",
            "FEMA ORG\n",
            "Craig Fugate PERSON\n",
            "{'id': '13840338052', 'senti': 0.0, 'label': 0, 'PERSON': 2, 'NORP': 0, 'GPE': 0, 'ORG': 3}\n",
            "White House Press Briefing ORG\n",
            "Press ORG\n",
            "Robert Gibbs PERSON\n",
            "Treasury ORG\n",
            "Neal Wolin PERSON\n",
            "{'id': '13572001507', 'senti': 0.0, 'label': 0, 'PERSON': 2, 'NORP': 0, 'GPE': 0, 'ORG': 3}\n",
            "White House Press Briefing ORG\n",
            "Press ORG\n",
            "Robert Gibbs PERSON\n",
            "Treasury ORG\n",
            "Neal Wolin PERSON\n",
            "{'id': '13572000651', 'senti': 0.0, 'label': 0, 'PERSON': 2, 'NORP': 0, 'GPE': 0, 'ORG': 3}\n",
            "Usa News Press Briefing ORG\n",
            "Press ORG\n",
            "Robert Gibbs PERSON\n",
            "Eikenberry usa PERSON\n",
            "{'id': '13764467109', 'senti': 0.05000000000000002, 'label': 0, 'PERSON': 2, 'NORP': 0, 'GPE': 0, 'ORG': 2}\n",
            "White House Press Briefing ORG\n",
            "Press ORG\n",
            "Robert Gibbs PERSON\n",
            "Treasury ORG\n",
            "Neal Wolin PERSON\n",
            "{'id': '13572000998', 'senti': 0.0, 'label': 0, 'PERSON': 2, 'NORP': 0, 'GPE': 0, 'ORG': 3}\n",
            "Press Briefing ORG\n",
            "Press ORG\n",
            "Robert Gibbs PERSON\n",
            "FEMA ORG\n",
            "Craig Fugate PERSON\n",
            "{'id': '13832076927', 'senti': 0.0, 'label': 0, 'PERSON': 2, 'NORP': 0, 'GPE': 0, 'ORG': 3}\n",
            "Press Briefing ORG\n",
            "Press ORG\n",
            "Robert Gibbs PERSON\n",
            "{'id': '13711834932', 'senti': 0.0, 'label': 0, 'PERSON': 1, 'NORP': 0, 'GPE': 0, 'ORG': 2}\n",
            "White House Press Briefing ORG\n",
            "Press ORG\n",
            "Robert Gibbs PERSON\n",
            "Treasury ORG\n",
            "Neal Wolin PERSON\n",
            "{'id': '13572001328', 'senti': 0.0, 'label': 0, 'PERSON': 2, 'NORP': 0, 'GPE': 0, 'ORG': 3}\n",
            "Press Briefing ORG\n",
            "Press ORG\n",
            "Robert Gibbs PERSON\n",
            "{'id': '13750990274', 'senti': 0.05000000000000002, 'label': 0, 'PERSON': 1, 'NORP': 0, 'GPE': 0, 'ORG': 2}\n",
            "Press Briefing ORG\n",
            "Press ORG\n",
            "Robert Gibbs PERSON\n",
            "{'id': '13760904871', 'senti': 0.05000000000000002, 'label': 0, 'PERSON': 1, 'NORP': 0, 'GPE': 0, 'ORG': 2}\n",
            "White House Press Briefing ORG\n",
            "Press ORG\n",
            "Robert Gibbs PERSON\n",
            "FEMA ORG\n",
            "Craig Fugate PERSON\n",
            "{'id': '13813231765', 'senti': 0.0, 'label': 0, 'PERSON': 2, 'NORP': 0, 'GPE': 0, 'ORG': 3}\n",
            "Press Briefing ORG\n",
            "Press ORG\n",
            "Robert Gibbs PERSON\n",
            "{'id': '13749057192', 'senti': 0.05000000000000002, 'label': 0, 'PERSON': 1, 'NORP': 0, 'GPE': 0, 'ORG': 2}\n",
            "Press Briefing ORG\n",
            "Press ORG\n",
            "Robert Gibbs PERSON\n",
            "Treasury ORG\n",
            "Neal Wolin PERSON\n",
            "{'id': '13514247431', 'senti': 0.0, 'label': 0, 'PERSON': 2, 'NORP': 0, 'GPE': 0, 'ORG': 3}\n",
            "White House Press Briefing ORG\n",
            "Press ORG\n",
            "Robert Gibbs PERSON\n",
            "Treasury ORG\n",
            "Neal Wolin PERSON\n",
            "{'id': '13572001550', 'senti': 0.0, 'label': 0, 'PERSON': 2, 'NORP': 0, 'GPE': 0, 'ORG': 3}\n",
            "White House Press Briefing ORG\n",
            "Press ORG\n",
            "Robert Gibbs PERSON\n",
            "Treasury ORG\n",
            "Neal Wolin PERSON\n",
            "{'id': '13749065997', 'senti': 0.0, 'label': 0, 'PERSON': 2, 'NORP': 0, 'GPE': 0, 'ORG': 3}\n",
            "whitehouse rss press office Press Briefing ORG\n",
            "Press ORG\n",
            "Robert Gibbs PERSON\n",
            "{'id': '13536278547', 'senti': 0.0, 'label': 0, 'PERSON': 1, 'NORP': 0, 'GPE': 0, 'ORG': 2}\n",
            "Press Briefing ORG\n",
            "Press ORG\n",
            "Robert Gibbs PERSON\n",
            "FEMA ORG\n",
            "Craig Fugate PERSON\n",
            "GIBBS PERSON\n",
            "{'id': '13813722269', 'senti': 0.0, 'label': 0, 'PERSON': 3, 'NORP': 0, 'GPE': 0, 'ORG': 3}\n",
            "Press ORG\n",
            "Robert Gibbs PERSON\n",
            "Treasury ORG\n",
            "Neal Wolin PERSON\n",
            "{'id': '13594406371', 'senti': 0.13636363636363635, 'label': 0, 'PERSON': 2, 'NORP': 0, 'GPE': 0, 'ORG': 2}\n",
            "White House Info Press Briefing ORG\n",
            "Press ORG\n",
            "Robert Gibbs PERSON\n",
            "FEMA ORG\n",
            "Craig Fugate PERSON\n",
            "P M ED WORK_OF_ART\n",
            "{'id': '13812845690', 'senti': 0.0, 'label': 0, 'PERSON': 2, 'NORP': 0, 'GPE': 1, 'ORG': 3}\n",
            "Press Briefing ORG\n",
            "Press ORG\n",
            "Robert Gibbs PERSON\n",
            "FEMA ORG\n",
            "Craig Fugate PERSON\n",
            "{'id': '13816773883', 'senti': 0.0, 'label': 0, 'PERSON': 2, 'NORP': 0, 'GPE': 0, 'ORG': 3}\n",
            "Press Briefing ORG\n",
            "Press ORG\n",
            "Robert Gibbs PERSON\n",
            "FEMA ORG\n",
            "Craig Fugate PERSON\n",
            "GIBBS PERSON\n",
            "{'id': '13813550481', 'senti': 0.0, 'label': 0, 'PERSON': 3, 'NORP': 0, 'GPE': 0, 'ORG': 3}\n",
            "Press Briefing ORG\n",
            "Press ORG\n",
            "Robert Gibbs PERSON\n",
            "FEMA ORG\n",
            "Craig Fugate PERSON\n",
            "{'id': '13815733341', 'senti': 0.0, 'label': 0, 'PERSON': 2, 'NORP': 0, 'GPE': 0, 'ORG': 3}\n",
            "White House Press Briefing ORG\n",
            "Press ORG\n",
            "Robert Gibbs PERSON\n",
            "Treasury ORG\n",
            "Neal Wolin PERSON\n",
            "{'id': '13572000733', 'senti': 0.0, 'label': 0, 'PERSON': 2, 'NORP': 0, 'GPE': 0, 'ORG': 3}\n",
            "press office Press Briefing ORG\n",
            "Press ORG\n",
            "Robert Gibbs PERSON\n",
            "FEMA ORG\n",
            "Craig Fugate PERSON\n",
            "{'id': '13812842988', 'senti': 0.0, 'label': 0, 'PERSON': 2, 'NORP': 0, 'GPE': 0, 'ORG': 3}\n",
            "Press Briefing ORG\n",
            "Press ORG\n",
            "Robert Gibbs PERSON\n",
            "FEMA ORG\n",
            "Craig Fugate PERSON\n",
            "GIBBS PERSON\n",
            "{'id': '13816422315', 'senti': 0.0, 'label': 0, 'PERSON': 3, 'NORP': 0, 'GPE': 0, 'ORG': 3}\n",
            "White House ORG\n",
            "Press ORG\n",
            "Robert Gibbs PERSON\n",
            "{'id': '13775328258', 'senti': 0.02500000000000001, 'label': 0, 'PERSON': 1, 'NORP': 0, 'GPE': 0, 'ORG': 2}\n",
            "Press Briefing ORG\n",
            "Press ORG\n",
            "Robert Gibbs PERSON\n",
            "FEMA ORG\n",
            "Craig Fugate PERSON\n",
            "{'id': '13819408116', 'senti': 0.0, 'label': 0, 'PERSON': 2, 'NORP': 0, 'GPE': 0, 'ORG': 3}\n",
            "RT Press Briefing ORG\n",
            "Press ORG\n",
            "Robert Gibbs PERSON\n",
            "FEMA ORG\n",
            "Craig Fugate PERSON\n",
            "{'id': '13845284773', 'senti': 0.0, 'label': 0, 'PERSON': 2, 'NORP': 0, 'GPE': 0, 'ORG': 3}\n",
            "Press Briefing ORG\n",
            "Press ORG\n",
            "Robert Gibbs PERSON\n",
            "Treasury ORG\n",
            "Neal Wolin PERSON\n",
            "{'id': '13517032409', 'senti': 0.0, 'label': 0, 'PERSON': 2, 'NORP': 0, 'GPE': 0, 'ORG': 3}\n",
            "Press Briefing ORG\n",
            "Press ORG\n",
            "Robert Gibbs PERSON\n",
            "Article Ant ORG\n",
            "{'id': '13753380366', 'senti': 0.05000000000000002, 'label': 0, 'PERSON': 1, 'NORP': 0, 'GPE': 0, 'ORG': 3}\n",
            "Politics Press Briefing ORG\n",
            "Press ORG\n",
            "Robert Gibbs PERSON\n",
            "{'id': '13749747252', 'senti': 0.05000000000000002, 'label': 0, 'PERSON': 1, 'NORP': 0, 'GPE': 0, 'ORG': 2}\n",
            "White House Press Briefing ORG\n",
            "Press ORG\n",
            "Robert Gibbs PERSON\n",
            "1 31 TIME\n",
            "{'id': '13749069202', 'senti': 0.02500000000000001, 'label': 0, 'PERSON': 1, 'NORP': 0, 'GPE': 1, 'ORG': 2}\n",
            "ISAF White House ORG\n",
            "Press ORG\n",
            "Robert Gibbs PERSON\n",
            "Gen McChrystal ORG\n",
            "Amb Eikenberry Joint PERSON\n",
            "{'id': '13771195818', 'senti': 0.0, 'label': 0, 'PERSON': 2, 'NORP': 0, 'GPE': 0, 'ORG': 3}\n",
            "Press Briefing ORG\n",
            "Press ORG\n",
            "Robert Gibbs PERSON\n",
            "{'id': '13749238070', 'senti': 0.05000000000000002, 'label': 0, 'PERSON': 1, 'NORP': 0, 'GPE': 0, 'ORG': 2}\n",
            "Press Briefs Press Briefing ORG\n",
            "Press ORG\n",
            "Robert Gibbs PERSON\n",
            "{'id': '13750991152', 'senti': 0.05000000000000002, 'label': 0, 'PERSON': 1, 'NORP': 0, 'GPE': 0, 'ORG': 2}\n",
            "White House Press Briefing ORG\n",
            "Press ORG\n",
            "Robert Gibbs PERSON\n",
            "FEMA ORG\n",
            "Craig Fugate PERSON\n",
            "{'id': '13879756935', 'senti': 0.0, 'label': 0, 'PERSON': 2, 'NORP': 0, 'GPE': 0, 'ORG': 3}\n",
            "ClintonNews Press Briefing ORG\n",
            "Press ORG\n",
            "Robert Gibbs PERSON\n",
            "Treasury ORG\n",
            "Neal Wol PERSON\n",
            "{'id': '13515419800', 'senti': 0.0, 'label': 0, 'PERSON': 2, 'NORP': 0, 'GPE': 0, 'ORG': 3}\n",
            "Press Briefing ORG\n",
            "Press ORG\n",
            "Robert Gibbs PERSON\n",
            "Treasury ORG\n",
            "Neal Wolin PERSON\n",
            "{'id': '13511762265', 'senti': 0.0, 'label': 0, 'PERSON': 2, 'NORP': 0, 'GPE': 0, 'ORG': 3}\n",
            "whitehouse rss press office Press Briefing ORG\n",
            "Press ORG\n",
            "Robert Gibbs PERSON\n",
            "{'id': '13751780273', 'senti': 0.05000000000000002, 'label': 0, 'PERSON': 1, 'NORP': 0, 'GPE': 0, 'ORG': 2}\n",
            "ClintonNews Press Briefing ORG\n",
            "Press ORG\n",
            "Robert Gibbs PERSON\n",
            "{'id': '13755188589', 'senti': 0.05000000000000002, 'label': 0, 'PERSON': 1, 'NORP': 0, 'GPE': 0, 'ORG': 2}\n",
            "Release Press Briefing ORG\n",
            "Press ORG\n",
            "Robert Gibbs PERSON\n",
            "FEMA ORG\n",
            "Craig Fugate PERSON\n",
            "{'id': '13815441546', 'senti': 0.0, 'label': 0, 'PERSON': 2, 'NORP': 0, 'GPE': 0, 'ORG': 3}\n",
            "Press Briefing ORG\n",
            "Press ORG\n",
            "Robert Gibbs PERSON\n",
            "FEMA ORG\n",
            "Craig Fugate PERSON\n",
            "GIBBS PERSON\n",
            "{'id': '13817786862', 'senti': 0.0, 'label': 0, 'PERSON': 3, 'NORP': 0, 'GPE': 0, 'ORG': 3}\n",
            "Press Briefing ORG\n",
            "Press ORG\n",
            "Robert Gibbs PERSON\n",
            "FEMA ORG\n",
            "Craig Fugate PERSON\n",
            "{'id': '13816774248', 'senti': 0.0, 'label': 0, 'PERSON': 2, 'NORP': 0, 'GPE': 0, 'ORG': 3}\n",
            "ClintonNews Press Briefing ORG\n",
            "Press ORG\n",
            "Robert Gibbs PERSON\n",
            "FEMA ORG\n",
            "Craig Fugate PERSON\n",
            "{'id': '13834341394', 'senti': 0.0, 'label': 0, 'PERSON': 2, 'NORP': 0, 'GPE': 0, 'ORG': 3}\n",
            "Press Briefing ORG\n",
            "Press ORG\n",
            "Robert Gibbs PERSON\n",
            "Treasury ORG\n",
            "Neal Wolin PERSON\n",
            "{'id': '13917016531', 'senti': 0.0, 'label': 0, 'PERSON': 2, 'NORP': 0, 'GPE': 0, 'ORG': 3}\n",
            "White House Press Briefing ORG\n",
            "Press ORG\n",
            "Robert Gibbs PERSON\n",
            "Treasury ORG\n",
            "Neal Wolin PERSON\n",
            "{'id': '13572000918', 'senti': 0.0, 'label': 0, 'PERSON': 2, 'NORP': 0, 'GPE': 0, 'ORG': 3}\n",
            "Press Briefing ORG\n",
            "Press ORG\n",
            "Robert Gibbs PERSON\n",
            "FEMA ORG\n",
            "Craig Fugate PERSON\n",
            "GIBBS PERSON\n",
            "{'id': '13813721107', 'senti': 0.0, 'label': 0, 'PERSON': 3, 'NORP': 0, 'GPE': 0, 'ORG': 3}\n",
            "Press Briefing ORG\n",
            "Press ORG\n",
            "Robert Gibbs PERSON\n",
            "5 3 2010 DATE\n",
            "{'id': '13720868252', 'senti': 0.0, 'label': 0, 'PERSON': 1, 'NORP': 0, 'GPE': 1, 'ORG': 2}\n",
            "Politics Press Briefing ORG\n",
            "Press ORG\n",
            "Robert Gibbs PERSON\n",
            "FEMA ORG\n",
            "Craig Fugate PERSON\n",
            "{'id': '13815053115', 'senti': 0.0, 'label': 0, 'PERSON': 2, 'NORP': 0, 'GPE': 0, 'ORG': 3}\n",
            "Press Briefing ORG\n",
            "Press ORG\n",
            "Robert Gibbs PERSON\n",
            "FEMA ORG\n",
            "Craig Fugate PERSON\n",
            "{'id': '13838546883', 'senti': 0.0, 'label': 0, 'PERSON': 2, 'NORP': 0, 'GPE': 0, 'ORG': 3}\n",
            "Press Briefing ORG\n",
            "Press ORG\n",
            "Robert Gibbs PERSON\n",
            "FEMA ORG\n",
            "Craig Fugate PERSON\n",
            "{'id': '13812847774', 'senti': 0.0, 'label': 0, 'PERSON': 2, 'NORP': 0, 'GPE': 0, 'ORG': 3}\n",
            "Press Briefing ORG\n",
            "Press ORG\n",
            "Robert Gibbs PERSON\n",
            "Treasury ORG\n",
            "Neal Wolin PERSON\n",
            "{'id': '13541132252', 'senti': 0.0, 'label': 0, 'PERSON': 2, 'NORP': 0, 'GPE': 0, 'ORG': 3}\n",
            "Release Press Briefing ORG\n",
            "Press ORG\n",
            "Robert Gibbs PERSON\n",
            "Treasury ORG\n",
            "Neal PERSON\n",
            "{'id': '13513835900', 'senti': 0.0, 'label': 0, 'PERSON': 2, 'NORP': 0, 'GPE': 0, 'ORG': 3}\n",
            "Press Briefing ORG\n",
            "Press ORG\n",
            "Robert Gibbs PERSON\n",
            "FEMA ORG\n",
            "Craig Fugate PERSON\n",
            "GIBBS PERSON\n",
            "{'id': '13812844608', 'senti': 0.0, 'label': 0, 'PERSON': 3, 'NORP': 0, 'GPE': 0, 'ORG': 3}\n",
            "Press Briefing ORG\n",
            "Press ORG\n",
            "Robert Gibbs PERSON\n",
            "{'id': '13752722769', 'senti': 0.05000000000000002, 'label': 0, 'PERSON': 1, 'NORP': 0, 'GPE': 0, 'ORG': 2}\n",
            "WH Press Briefing ORG\n",
            "Press ORG\n",
            "Robert Gibbs PERSON\n",
            "FEMA ORG\n",
            "Craig Fugate PERSON\n",
            "2 31 CARDINAL\n",
            "{'id': '13813719728', 'senti': 0.0, 'label': 0, 'PERSON': 2, 'NORP': 0, 'GPE': 1, 'ORG': 3}\n",
            "Press Briefs Press Briefing ORG\n",
            "Press ORG\n",
            "Robert Gibbs PERSON\n",
            "FEMA ORG\n",
            "Craig Fugate PERSON\n",
            "{'id': '13812842137', 'senti': 0.0, 'label': 0, 'PERSON': 2, 'NORP': 0, 'GPE': 0, 'ORG': 3}\n",
            "White House Press Briefing ORG\n",
            "Press ORG\n",
            "Robert Gibbs PERSON\n",
            "Treasury ORG\n",
            "Neal Wolin PERSON\n",
            "{'id': '13572000619', 'senti': 0.0, 'label': 0, 'PERSON': 2, 'NORP': 0, 'GPE': 0, 'ORG': 3}\n",
            "Press Briefing ORG\n",
            "Press ORG\n",
            "Robert Gibbs PERSON\n",
            "Treasury ORG\n",
            "Neal Wolin PERSON\n",
            "{'id': '13674085084', 'senti': 0.0, 'label': 0, 'PERSON': 2, 'NORP': 0, 'GPE': 0, 'ORG': 3}\n",
            "SSP ORG\n",
            "W H BRIEFING Briefing FAC\n",
            "Press ORG\n",
            "Robert Gibbs PERSON\n",
            "{'id': '14175283039', 'senti': 0.06818181818181818, 'label': 0, 'PERSON': 1, 'NORP': 0, 'GPE': 1, 'ORG': 2}\n",
            "Press Briefing ORG\n",
            "Press ORG\n",
            "Robert Gibbs PERSON\n",
            "James S ORG\n",
            "{'id': '14184327176', 'senti': 0.0, 'label': 0, 'PERSON': 1, 'NORP': 0, 'GPE': 0, 'ORG': 3}\n",
            "Press Briefs Press Briefing ORG\n",
            "Press ORG\n",
            "Robert Gibbs PERSON\n",
            "5 17 2010 DATE\n",
            "{'id': '14185657596', 'senti': 0.0, 'label': 0, 'PERSON': 1, 'NORP': 0, 'GPE': 1, 'ORG': 2}\n",
            "Politics Press Briefing ORG\n",
            "Press ORG\n",
            "Robert Gibbs PERSON\n",
            "5 17 2010 DATE\n",
            "{'id': '14184464969', 'senti': 0.0, 'label': 0, 'PERSON': 1, 'NORP': 0, 'GPE': 1, 'ORG': 2}\n",
            "Press Briefing ORG\n",
            "Press ORG\n",
            "Robert Gibbs PERSON\n",
            "James S ORG\n",
            "{'id': '14185665990', 'senti': 0.0, 'label': 0, 'PERSON': 1, 'NORP': 0, 'GPE': 0, 'ORG': 3}\n",
            "Press Briefing ORG\n",
            "Press ORG\n",
            "Robert Gibbs PERSON\n",
            "5 17 2010 DATE\n",
            "{'id': '14189956175', 'senti': 0.19999999999999998, 'label': 0, 'PERSON': 1, 'NORP': 0, 'GPE': 1, 'ORG': 2}\n",
            "Press Briefing ORG\n",
            "Press ORG\n",
            "Robert Gibbs PERSON\n",
            "James S ORG\n",
            "{'id': '14187164764', 'senti': 0.0, 'label': 0, 'PERSON': 1, 'NORP': 0, 'GPE': 0, 'ORG': 3}\n",
            "White House Info Press Briefing ORG\n",
            "Press ORG\n",
            "Robert Gibbs PERSON\n",
            "James S ORG\n",
            "{'id': '14185666783', 'senti': 0.0, 'label': 0, 'PERSON': 1, 'NORP': 0, 'GPE': 0, 'ORG': 3}\n",
            "Press Briefing ORG\n",
            "Press ORG\n",
            "Robert Gibbs PERSON\n",
            "James S ORG\n",
            "{'id': '14187165733', 'senti': 0.0, 'label': 0, 'PERSON': 1, 'NORP': 0, 'GPE': 0, 'ORG': 3}\n",
            "Press Briefing ORG\n",
            "Press ORG\n",
            "Robert Gibbs PERSON\n",
            "James S ORG\n",
            "{'id': '14183991301', 'senti': 0.0, 'label': 0, 'PERSON': 1, 'NORP': 0, 'GPE': 0, 'ORG': 3}\n",
            "Press ORG\n",
            "Robert Gibbs PERSON\n",
            "5 17 2010 DATE\n",
            "{'id': '14188572846', 'senti': 0.0, 'label': 0, 'PERSON': 1, 'NORP': 0, 'GPE': 1, 'ORG': 1}\n",
            "Press Briefing ORG\n",
            "Press ORG\n",
            "Robert Gibbs PERSON\n",
            "5 17 2010 DATE\n",
            "{'id': '14196011409', 'senti': 0.0, 'label': 0, 'PERSON': 1, 'NORP': 0, 'GPE': 1, 'ORG': 2}\n",
            "Press Briefing ORG\n",
            "Press ORG\n",
            "Robert Gibbs PERSON\n",
            "5 17 2010 DATE\n",
            "{'id': '14184180772', 'senti': 0.0, 'label': 0, 'PERSON': 1, 'NORP': 0, 'GPE': 1, 'ORG': 2}\n",
            "White House Press Briefing ORG\n",
            "Press ORG\n",
            "Robert Gibbs PERSON\n",
            "James S ORG\n",
            "{'id': '14183469966', 'senti': 0.0, 'label': 0, 'PERSON': 1, 'NORP': 0, 'GPE': 0, 'ORG': 3}\n",
            "WH Press Briefing ORG\n",
            "Press ORG\n",
            "Robert Gibbs PERSON\n",
            "James S ORG\n",
            "{'id': '14187164170', 'senti': 0.0, 'label': 0, 'PERSON': 1, 'NORP': 0, 'GPE': 0, 'ORG': 3}\n",
            "Release Press Briefing ORG\n",
            "Press ORG\n",
            "Robert Gibbs PERSON\n",
            "5 17 2010 DATE\n",
            "{'id': '14188110630', 'senti': 0.0, 'label': 0, 'PERSON': 1, 'NORP': 0, 'GPE': 1, 'ORG': 2}\n",
            "New post Press Briefing ORG\n",
            "Press ORG\n",
            "Robert Gibbs PERSON\n",
            "{'id': '14215290851', 'senti': 0.13636363636363635, 'label': 0, 'PERSON': 1, 'NORP': 0, 'GPE': 0, 'ORG': 2}\n",
            "Press Briefing ORG\n",
            "Press ORG\n",
            "Robert Gibbs PERSON\n",
            "James S ORG\n",
            "{'id': '14185659915', 'senti': 0.0, 'label': 0, 'PERSON': 1, 'NORP': 0, 'GPE': 0, 'ORG': 3}\n",
            "White House ORG\n",
            "Robert Gibbs PERSON\n",
            "PERAB ORG\n",
            "Austan Goolsbee PERSON\n",
            "{'id': '14146723117', 'senti': 0.0, 'label': 0, 'PERSON': 2, 'NORP': 0, 'GPE': 0, 'ORG': 2}\n",
            "Press Briefing ORG\n",
            "Press ORG\n",
            "Robert Gibbs PERSON\n",
            "5 17 2010 DATE\n",
            "{'id': '14183354155', 'senti': 0.0, 'label': 0, 'PERSON': 1, 'NORP': 0, 'GPE': 1, 'ORG': 2}\n",
            "Press ORG\n",
            "Robert Gibbs PERSON\n",
            "5 17 2010 DATE\n",
            "{'id': '14188368279', 'senti': 0.0, 'label': 0, 'PERSON': 1, 'NORP': 0, 'GPE': 1, 'ORG': 1}\n",
            "Press Briefing ORG\n",
            "Press ORG\n",
            "Robert Gibbs PERSON\n",
            "James S ORG\n",
            "{'id': '14187165337', 'senti': 0.0, 'label': 0, 'PERSON': 1, 'NORP': 0, 'GPE': 0, 'ORG': 3}\n",
            "Press Briefing ORG\n",
            "Press ORG\n",
            "Robert Gibbs PERSON\n",
            "eight CARDINAL\n",
            "{'id': '14182213617', 'senti': 0.0, 'label': 0, 'PERSON': 1, 'NORP': 0, 'GPE': 1, 'ORG': 2}\n",
            "Press Briefing ORG\n",
            "Press ORG\n",
            "Robert Gibbs PERSON\n",
            "Treasury ORG\n",
            "{'id': '13939522719', 'senti': 0.0, 'label': 0, 'PERSON': 1, 'NORP': 0, 'GPE': 0, 'ORG': 3}\n",
            "Press Briefing ORG\n",
            "Press ORG\n",
            "Robert Gibbs PERSON\n",
            "5 17 2010 DATE\n",
            "{'id': '14192473616', 'senti': 0.0, 'label': 0, 'PERSON': 1, 'NORP': 0, 'GPE': 1, 'ORG': 2}\n",
            "Press Briefing ORG\n",
            "Press ORG\n",
            "Robert Gibbs PERSON\n",
            "James S ORG\n",
            "{'id': '14185666001', 'senti': 0.0, 'label': 0, 'PERSON': 1, 'NORP': 0, 'GPE': 0, 'ORG': 3}\n",
            "press office Press Briefing ORG\n",
            "Press ORG\n",
            "Robert Gibbs PERSON\n",
            "James S ORG\n",
            "{'id': '14185662452', 'senti': 0.0, 'label': 0, 'PERSON': 1, 'NORP': 0, 'GPE': 0, 'ORG': 3}\n",
            "\n",
            "\n",
            "\n",
            "\n",
            "politifact13068\n",
            "\n",
            "\n",
            "first ORDINAL\n",
            "the day DATE\n",
            "EverydayPeople ORG\n",
            "{'id': '1029083260175966208', 'senti': 0.175, 'label': 0, 'PERSON': 0, 'NORP': 0, 'GPE': 2, 'ORG': 1}\n",
            "only some of season 3 DATE\n",
            "Japan GPE\n",
            "27 CARDINAL\n",
            "{'id': '1032947475848544256', 'senti': 0.05, 'label': 0, 'PERSON': 0, 'NORP': 0, 'GPE': 3, 'ORG': 0}\n",
            "Unay Anggut PERSON\n",
            "Antonio M Albornoz PERSON\n",
            "first ORDINAL\n",
            "Aug PERSON\n",
            "27 1930 DATE\n",
            "{'id': '504501071973081088', 'senti': 0.175, 'label': 0, 'PERSON': 3, 'NORP': 0, 'GPE': 2, 'ORG': 0}\n",
            "first ORDINAL\n",
            "{'id': '240098503995576321', 'senti': 0.175, 'label': 0, 'PERSON': 0, 'NORP': 0, 'GPE': 1, 'ORG': 0}\n",
            "History Emmy LOC\n",
            "NASA ORG\n",
            "Moon Landing PERSON\n",
            "first ORDINAL\n",
            "Aug PERSON\n",
            "27 2008 DATE\n",
            "{'id': '240071235386634240', 'senti': 0.175, 'label': 0, 'PERSON': 2, 'NORP': 0, 'GPE': 3, 'ORG': 1}\n",
            "First ORDINAL\n",
            "Aug 1 2003 DATE\n",
            "May 27 2005 DATE\n",
            "2003 2004 2005 DATE\n",
            "{'id': '572688161735761920', 'senti': 0.15892857142857142, 'label': 0, 'PERSON': 0, 'NORP': 0, 'GPE': 4, 'ORG': 0}\n",
            "HBO ORG\n",
            "first ORDINAL\n",
            "8 CARDINAL\n",
            "{'id': '1034051203133579266', 'senti': -0.01666666666666668, 'label': 0, 'PERSON': 0, 'NORP': 0, 'GPE': 2, 'ORG': 1}\n",
            "27 1992 DATE\n",
            "first ORDINAL\n",
            "{'id': '240095405164097536', 'senti': 0.175, 'label': 0, 'PERSON': 0, 'NORP': 0, 'GPE': 2, 'ORG': 0}\n",
            "first ORDINAL\n",
            "Tulsa GPE\n",
            "27 2011 DATE\n",
            "{'id': '96972843962740736', 'senti': 0.175, 'label': 0, 'PERSON': 0, 'NORP': 0, 'GPE': 3, 'ORG': 0}\n",
            "Meat Loaf PERSON\n",
            "First ORDINAL\n",
            "Gunshy PERSON\n",
            "Tue Aug PRODUCT\n",
            "{'id': '3316920364', 'senti': 0.175, 'label': 0, 'PERSON': 2, 'NORP': 0, 'GPE': 2, 'ORG': 0}\n",
            "first ORDINAL\n",
            "27 CARDINAL\n",
            "{'id': '538380818180505600', 'senti': 0.11666666666666665, 'label': 0, 'PERSON': 0, 'NORP': 0, 'GPE': 2, 'ORG': 0}\n",
            "NASA ORG\n",
            "Moon Landing PERSON\n",
            "first ORDINAL\n",
            "Aug PERSON\n",
            "27 2008 DATE\n",
            "{'id': '636886948074889216', 'senti': 0.175, 'label': 0, 'PERSON': 2, 'NORP': 0, 'GPE': 2, 'ORG': 1}\n",
            "Filipino NORP\n",
            "27 CARDINAL\n",
            "CBN TV Patrol ORG\n",
            "first ORDINAL\n",
            "weekends DATE\n",
            "{'id': '107435614412083200', 'senti': 0.175, 'label': 0, 'PERSON': 0, 'NORP': 1, 'GPE': 3, 'ORG': 1}\n",
            "\n",
            "\n",
            "\n",
            "\n",
            "politifact13087\n",
            "\n",
            "\n",
            "Hispanic NORP\n",
            "2025 DATE\n",
            "{'id': '489530896375357441', 'senti': 0.25, 'label': 0, 'PERSON': 0, 'NORP': 1, 'GPE': 1, 'ORG': 0}\n",
            "Hispanic NORP\n",
            "2025 DATE\n",
            "Hispanic NORP\n",
            "{'id': '489175248453914625', 'senti': 0.0, 'label': 0, 'PERSON': 0, 'NORP': 2, 'GPE': 1, 'ORG': 0}\n",
            "Hispanic NORP\n",
            "2025 DATE\n",
            "{'id': '489530238968537088', 'senti': 0.25, 'label': 0, 'PERSON': 0, 'NORP': 1, 'GPE': 1, 'ORG': 0}\n",
            "Hispanic NORP\n",
            "Population s Share PRODUCT\n",
            "2025 DATE\n",
            "{'id': '629774405137252352', 'senti': 0.0, 'label': 0, 'PERSON': 0, 'NORP': 1, 'GPE': 2, 'ORG': 0}\n",
            "Hispanic NORP\n",
            "Population s Share PRODUCT\n",
            "2025 DATE\n",
            "{'id': '497506531202457600', 'senti': 0.0, 'label': 0, 'PERSON': 0, 'NORP': 1, 'GPE': 2, 'ORG': 0}\n",
            "Hispanic NORP\n",
            "2025 DATE\n",
            "{'id': '485151333188919296', 'senti': 0.06666666666666667, 'label': 0, 'PERSON': 0, 'NORP': 1, 'GPE': 1, 'ORG': 0}\n",
            "Hispanic NORP\n",
            "Population s Share PRODUCT\n",
            "2025 DATE\n",
            "{'id': '484448245767086080', 'senti': 0.0, 'label': 0, 'PERSON': 0, 'NORP': 1, 'GPE': 2, 'ORG': 0}\n",
            "Hispanic NORP\n",
            "Population s Share PRODUCT\n",
            "2025 DATE\n",
            "{'id': '484447768987959296', 'senti': 0.0, 'label': 0, 'PERSON': 0, 'NORP': 1, 'GPE': 2, 'ORG': 0}\n",
            "Hispanic NORP\n",
            "2025 DATE\n",
            "{'id': '486268771313930240', 'senti': 0.25, 'label': 0, 'PERSON': 0, 'NORP': 1, 'GPE': 1, 'ORG': 0}\n",
            "Hispanic NORP\n",
            "Population s Share PRODUCT\n",
            "2025 DATE\n",
            "{'id': '484198523617824768', 'senti': 0.0, 'label': 0, 'PERSON': 0, 'NORP': 1, 'GPE': 2, 'ORG': 0}\n",
            "2025 DATE\n",
            "{'id': '486439578757529600', 'senti': 0.0, 'label': 0, 'PERSON': 0, 'NORP': 0, 'GPE': 1, 'ORG': 0}\n",
            "Hispanic NORP\n",
            "2025 DATE\n",
            "{'id': '510525894474350592', 'senti': 0.06666666666666667, 'label': 0, 'PERSON': 0, 'NORP': 1, 'GPE': 1, 'ORG': 0}\n",
            "Hispanic NORP\n",
            "2025 DATE\n",
            "{'id': '501439685345157120', 'senti': 0.25, 'label': 0, 'PERSON': 0, 'NORP': 1, 'GPE': 1, 'ORG': 0}\n",
            "Hispanic NORP\n",
            "Population s Share PRODUCT\n",
            "2025 DATE\n",
            "{'id': '498243648346423296', 'senti': 0.0, 'label': 0, 'PERSON': 0, 'NORP': 1, 'GPE': 2, 'ORG': 0}\n",
            "Hispanic NORP\n",
            "2025 DATE\n",
            "{'id': '484424308895531008', 'senti': 0.0, 'label': 0, 'PERSON': 0, 'NORP': 1, 'GPE': 1, 'ORG': 0}\n",
            "Hispanic NORP\n",
            "2025 DATE\n",
            "{'id': '501926793092530176', 'senti': 0.06666666666666667, 'label': 0, 'PERSON': 0, 'NORP': 1, 'GPE': 1, 'ORG': 0}\n",
            "Hispanic NORP\n",
            "Population s Share PRODUCT\n",
            "2025 DATE\n",
            "10 years DATE\n",
            "{'id': '483656900329099265', 'senti': 0.0, 'label': 0, 'PERSON': 0, 'NORP': 1, 'GPE': 3, 'ORG': 0}\n",
            "Hispanic NORP\n",
            "2025 DATE\n",
            "{'id': '488081660395548672', 'senti': 0.06666666666666667, 'label': 0, 'PERSON': 0, 'NORP': 1, 'GPE': 1, 'ORG': 0}\n",
            "Hispanic NORP\n",
            "Population s Share PRODUCT\n",
            "2025 DATE\n",
            "Pls ReTweet PERSON\n",
            "{'id': '483972165780254721', 'senti': 0.0, 'label': 0, 'PERSON': 1, 'NORP': 1, 'GPE': 2, 'ORG': 0}\n",
            "Hispanic NORP\n",
            "2025 DATE\n",
            "{'id': '487744461729185792', 'senti': 0.06666666666666667, 'label': 0, 'PERSON': 0, 'NORP': 1, 'GPE': 1, 'ORG': 0}\n",
            "Hispanic NORP\n",
            "2025 DATE\n",
            "{'id': '491992183361507329', 'senti': 0.0, 'label': 0, 'PERSON': 0, 'NORP': 1, 'GPE': 1, 'ORG': 0}\n",
            "Hispanic NORP\n",
            "2025 DATE\n",
            "{'id': '484419291488743424', 'senti': 0.25, 'label': 0, 'PERSON': 0, 'NORP': 1, 'GPE': 1, 'ORG': 0}\n",
            "Hispanic NORP\n",
            "Population s Share PRODUCT\n",
            "2025 DATE\n",
            "{'id': '485020747879186432', 'senti': 0.0, 'label': 0, 'PERSON': 0, 'NORP': 1, 'GPE': 2, 'ORG': 0}\n",
            "2025 DATE\n",
            "{'id': '486223279980818432', 'senti': 0.0, 'label': 0, 'PERSON': 0, 'NORP': 0, 'GPE': 1, 'ORG': 0}\n",
            "Hispanic NORP\n",
            "2025 DATE\n",
            "{'id': '493755394784002048', 'senti': 0.25, 'label': 0, 'PERSON': 0, 'NORP': 1, 'GPE': 1, 'ORG': 0}\n",
            "Hispanic NORP\n",
            "2025 DATE\n",
            "{'id': '505520459426037760', 'senti': 0.06666666666666667, 'label': 0, 'PERSON': 0, 'NORP': 1, 'GPE': 1, 'ORG': 0}\n",
            "Hispanic NORP\n",
            "Population s Share PRODUCT\n",
            "2025 DATE\n",
            "{'id': '484420973077069826', 'senti': 0.0, 'label': 0, 'PERSON': 0, 'NORP': 1, 'GPE': 2, 'ORG': 0}\n",
            "Hispanic NORP\n",
            "Population s Share PRODUCT\n",
            "2025 DATE\n",
            "{'id': '484184675036844033', 'senti': 0.0, 'label': 0, 'PERSON': 0, 'NORP': 1, 'GPE': 2, 'ORG': 0}\n",
            "Hispanic NORP\n",
            "St Louis Fed PERSON\n",
            "{'id': '485505987353538560', 'senti': 0.0, 'label': 0, 'PERSON': 1, 'NORP': 1, 'GPE': 0, 'ORG': 0}\n",
            "Hispanic NORP\n",
            "2025 DATE\n",
            "{'id': '491986216569798656', 'senti': 0.25, 'label': 0, 'PERSON': 0, 'NORP': 1, 'GPE': 1, 'ORG': 0}\n",
            "\n",
            "\n",
            "\n",
            "\n",
            "politifact12945\n",
            "\n",
            "\n",
            "\n",
            "\n",
            "HRC ORG\n",
            "Medium GPE\n",
            "Hillary Clinton PERSON\n",
            "{'id': '765710698345271296', 'senti': 0.35, 'label': 0, 'PERSON': 1, 'NORP': 0, 'GPE': 1, 'ORG': 1}\n",
            "Hillary Clinton PERSON\n",
            "{'id': '767636950492651520', 'senti': 0.1, 'label': 0, 'PERSON': 1, 'NORP': 0, 'GPE': 0, 'ORG': 0}\n",
            "{'id': '765245380833386496', 'senti': 0.1, 'label': 0, 'PERSON': 0, 'NORP': 0, 'GPE': 0, 'ORG': 0}\n",
            "{'id': '765317025489190912', 'senti': 0.1, 'label': 0, 'PERSON': 0, 'NORP': 0, 'GPE': 0, 'ORG': 0}\n",
            "Hillary Clinton PERSON\n",
            "{'id': '765494963006218241', 'senti': 0.1, 'label': 0, 'PERSON': 1, 'NORP': 0, 'GPE': 0, 'ORG': 0}\n",
            "Hillary Clinton PERSON\n",
            "{'id': '765215653011652608', 'senti': 0.1, 'label': 0, 'PERSON': 1, 'NORP': 0, 'GPE': 0, 'ORG': 0}\n",
            "Hillary Clinton StrongerTogether PERSON\n",
            "{'id': '765686306991058945', 'senti': 0.1, 'label': 0, 'PERSON': 1, 'NORP': 0, 'GPE': 0, 'ORG': 0}\n",
            "Hillary Clinton PERSON\n",
            "{'id': '765312455052439552', 'senti': 0.1, 'label': 0, 'PERSON': 1, 'NORP': 0, 'GPE': 0, 'ORG': 0}\n",
            "Hillary Clinton PERSON\n",
            "{'id': '765355671344799744', 'senti': 0.1, 'label': 0, 'PERSON': 1, 'NORP': 0, 'GPE': 0, 'ORG': 0}\n",
            "{'id': '771022336048832514', 'senti': 0.1, 'label': 0, 'PERSON': 0, 'NORP': 0, 'GPE': 0, 'ORG': 0}\n",
            "Hillary Clinton PERSON\n",
            "{'id': '766031347206893568', 'senti': 0.1, 'label': 0, 'PERSON': 1, 'NORP': 0, 'GPE': 0, 'ORG': 0}\n",
            "Hillary Clinton PERSON\n",
            "{'id': '765645265093160960', 'senti': 0.1, 'label': 0, 'PERSON': 1, 'NORP': 0, 'GPE': 0, 'ORG': 0}\n",
            "Hillary Clinton PERSON\n",
            "{'id': '765480693614927872', 'senti': 0.1, 'label': 0, 'PERSON': 1, 'NORP': 0, 'GPE': 0, 'ORG': 0}\n",
            "{'id': '765320888778711040', 'senti': 0.1, 'label': 0, 'PERSON': 0, 'NORP': 0, 'GPE': 0, 'ORG': 0}\n",
            "Hillary Clinton PERSON\n",
            "{'id': '765811511113625601', 'senti': 0.1, 'label': 0, 'PERSON': 1, 'NORP': 0, 'GPE': 0, 'ORG': 0}\n",
            "Hillary Clinton PERSON\n",
            "{'id': '765498974262484996', 'senti': 0.1, 'label': 0, 'PERSON': 1, 'NORP': 0, 'GPE': 0, 'ORG': 0}\n",
            "Hillary Clinton PERSON\n",
            "{'id': '767758695057031168', 'senti': 0.1, 'label': 0, 'PERSON': 1, 'NORP': 0, 'GPE': 0, 'ORG': 0}\n",
            "Hillary Clinton PERSON\n",
            "{'id': '782272435139833856', 'senti': 0.1, 'label': 0, 'PERSON': 1, 'NORP': 0, 'GPE': 0, 'ORG': 0}\n",
            "Hillary Clinton PERSON\n",
            "{'id': '765201537316585472', 'senti': 0.1, 'label': 0, 'PERSON': 1, 'NORP': 0, 'GPE': 0, 'ORG': 0}\n",
            "{'id': '765201291555459073', 'senti': 0.1, 'label': 0, 'PERSON': 0, 'NORP': 0, 'GPE': 0, 'ORG': 0}\n",
            "Hillary Clinton PERSON\n",
            "{'id': '765575571619377152', 'senti': 0.1, 'label': 0, 'PERSON': 1, 'NORP': 0, 'GPE': 0, 'ORG': 0}\n",
            "{'id': '765766500477206528', 'senti': 0.1, 'label': 0, 'PERSON': 0, 'NORP': 0, 'GPE': 0, 'ORG': 0}\n",
            "Hillary Clinton PERSON\n",
            "{'id': '765308263860736000', 'senti': 0.1, 'label': 0, 'PERSON': 1, 'NORP': 0, 'GPE': 0, 'ORG': 0}\n",
            "Hillary Clinton PERSON\n",
            "{'id': '765668992929366016', 'senti': 0.1, 'label': 0, 'PERSON': 1, 'NORP': 0, 'GPE': 0, 'ORG': 0}\n",
            "Hillary Clinton PERSON\n",
            "{'id': '765572794570506242', 'senti': 0.1, 'label': 0, 'PERSON': 1, 'NORP': 0, 'GPE': 0, 'ORG': 0}\n",
            "Hillary Clinton KidsOnTheBallot PERSON\n",
            "{'id': '766997970965454848', 'senti': 0.1, 'label': 0, 'PERSON': 1, 'NORP': 0, 'GPE': 0, 'ORG': 0}\n",
            "Hillary Clinton PERSON\n",
            "{'id': '765203920054476804', 'senti': 0.1, 'label': 0, 'PERSON': 1, 'NORP': 0, 'GPE': 0, 'ORG': 0}\n",
            "Hillary Clinton PERSON\n",
            "{'id': '765477264033218560', 'senti': 0.1, 'label': 0, 'PERSON': 1, 'NORP': 0, 'GPE': 0, 'ORG': 0}\n",
            "Hillary Clinton PERSON\n",
            "{'id': '765652914433953792', 'senti': 0.1, 'label': 0, 'PERSON': 1, 'NORP': 0, 'GPE': 0, 'ORG': 0}\n",
            "Hillary Clinton StrongerTogether PERSON\n",
            "{'id': '765730046896119808', 'senti': 0.1, 'label': 0, 'PERSON': 1, 'NORP': 0, 'GPE': 0, 'ORG': 0}\n",
            "Hillary Clinton PERSON\n",
            "{'id': '765706623868219392', 'senti': 0.1, 'label': 0, 'PERSON': 1, 'NORP': 0, 'GPE': 0, 'ORG': 0}\n",
            "{'id': '765343728286502912', 'senti': 0.1, 'label': 0, 'PERSON': 0, 'NORP': 0, 'GPE': 0, 'ORG': 0}\n",
            "Hillary Clinton PERSON\n",
            "{'id': '765238666130108416', 'senti': 0.1, 'label': 0, 'PERSON': 1, 'NORP': 0, 'GPE': 0, 'ORG': 0}\n",
            "{'id': '770452882080620544', 'senti': 0.05, 'label': 0, 'PERSON': 0, 'NORP': 0, 'GPE': 0, 'ORG': 0}\n",
            "Hillary Clinton PERSON\n",
            "{'id': '765754930988781568', 'senti': 0.1, 'label': 0, 'PERSON': 1, 'NORP': 0, 'GPE': 0, 'ORG': 0}\n",
            "Hillary Clinton PERSON\n",
            "{'id': '765553230487162881', 'senti': 0.1, 'label': 0, 'PERSON': 1, 'NORP': 0, 'GPE': 0, 'ORG': 0}\n",
            "Hillary Clinton PERSON\n",
            "{'id': '765344701977329664', 'senti': 0.1, 'label': 0, 'PERSON': 1, 'NORP': 0, 'GPE': 0, 'ORG': 0}\n",
            "{'id': '765219155092074497', 'senti': 0.1, 'label': 0, 'PERSON': 0, 'NORP': 0, 'GPE': 0, 'ORG': 0}\n",
            "Hillary PERSON\n",
            "2016 DATE\n",
            "Hillary Clinton PERSON\n",
            "{'id': '904525585761923072', 'senti': 0.1, 'label': 0, 'PERSON': 2, 'NORP': 0, 'GPE': 1, 'ORG': 0}\n",
            "{'id': '765237399160958976', 'senti': 0.1, 'label': 0, 'PERSON': 0, 'NORP': 0, 'GPE': 0, 'ORG': 0}\n",
            "Hillary Clinton PERSON\n",
            "{'id': '765218404756316160', 'senti': 0.1, 'label': 0, 'PERSON': 1, 'NORP': 0, 'GPE': 0, 'ORG': 0}\n",
            "Hillary Clinton PERSON\n",
            "{'id': '772081686154579969', 'senti': 0.1, 'label': 0, 'PERSON': 1, 'NORP': 0, 'GPE': 0, 'ORG': 0}\n",
            "Hillary Clinton PERSON\n",
            "{'id': '765315390549348353', 'senti': 0.1, 'label': 0, 'PERSON': 1, 'NORP': 0, 'GPE': 0, 'ORG': 0}\n",
            "Hillary Clinton PERSON\n",
            "{'id': '765681533201977345', 'senti': 0.1, 'label': 0, 'PERSON': 1, 'NORP': 0, 'GPE': 0, 'ORG': 0}\n",
            "HillaryClinton ORG\n",
            "{'id': '765313967036198912', 'senti': 0.1, 'label': 0, 'PERSON': 0, 'NORP': 0, 'GPE': 0, 'ORG': 1}\n",
            "{'id': '765213725292834816', 'senti': 0.1, 'label': 0, 'PERSON': 0, 'NORP': 0, 'GPE': 0, 'ORG': 0}\n",
            "Hillary Clinton PERSON\n",
            "{'id': '773180969788420096', 'senti': 0.1, 'label': 0, 'PERSON': 1, 'NORP': 0, 'GPE': 0, 'ORG': 0}\n",
            "Hillary Clinton PERSON\n",
            "{'id': '765234565916995584', 'senti': 0.1, 'label': 0, 'PERSON': 1, 'NORP': 0, 'GPE': 0, 'ORG': 0}\n",
            "{'id': '765623194350911489', 'senti': 0.1, 'label': 0, 'PERSON': 0, 'NORP': 0, 'GPE': 0, 'ORG': 0}\n",
            "Hillary Clinton PERSON\n",
            "{'id': '765216370904666112', 'senti': 0.1, 'label': 0, 'PERSON': 1, 'NORP': 0, 'GPE': 0, 'ORG': 0}\n",
            "Hillary Clinton PERSON\n",
            "{'id': '766726273716613120', 'senti': 0.1, 'label': 0, 'PERSON': 1, 'NORP': 0, 'GPE': 0, 'ORG': 0}\n",
            "Hillary Clinton PERSON\n",
            "{'id': '765217584778207234', 'senti': 0.1, 'label': 0, 'PERSON': 1, 'NORP': 0, 'GPE': 0, 'ORG': 0}\n",
            "{'id': '765224116471214081', 'senti': 0.1, 'label': 0, 'PERSON': 0, 'NORP': 0, 'GPE': 0, 'ORG': 0}\n",
            "{'id': '765775985547603968', 'senti': 0.1, 'label': 0, 'PERSON': 0, 'NORP': 0, 'GPE': 0, 'ORG': 0}\n",
            "Hillary Clinton PERSON\n",
            "{'id': '769723233759178752', 'senti': 0.1, 'label': 0, 'PERSON': 1, 'NORP': 0, 'GPE': 0, 'ORG': 0}\n",
            "Hillary Clinton PERSON\n",
            "{'id': '765278423350517761', 'senti': 0.1, 'label': 0, 'PERSON': 1, 'NORP': 0, 'GPE': 0, 'ORG': 0}\n",
            "\n",
            "\n",
            "politifact12944\n",
            "\n",
            "\n",
            "{'id': '16253717352', 'senti': 0.0, 'label': 0, 'PERSON': 0, 'NORP': 0, 'GPE': 0, 'ORG': 0}\n",
            "Instagram NORP\n",
            "Fayetteville NC ORG\n",
            "{'id': '550078280322543616', 'senti': 0.675, 'label': 0, 'PERSON': 0, 'NORP': 1, 'GPE': 0, 'ORG': 1}\n",
            "Fayetteville NC ORG\n",
            "Southern White LOC\n",
            "{'id': '956313411511554049', 'senti': -0.1625, 'label': 0, 'PERSON': 0, 'NORP': 0, 'GPE': 1, 'ORG': 1}\n",
            "Jordan Ray Correll PERSON\n",
            "Donald Trump PERSON\n",
            "Fayetteville GPE\n",
            "{'id': '709120156266397697', 'senti': 0.0, 'label': 0, 'PERSON': 2, 'NORP': 0, 'GPE': 1, 'ORG': 0}\n",
            "The Uniting Power of the Cross ORG\n",
            "Fayetteville NC ORG\n",
            "Comments PERSON\n",
            "{'id': '428207972250968064', 'senti': 0.0, 'label': 0, 'PERSON': 1, 'NORP': 0, 'GPE': 0, 'ORG': 2}\n",
            "{'id': '1009814965111414784', 'senti': 0.0, 'label': 0, 'PERSON': 0, 'NORP': 0, 'GPE': 0, 'ORG': 0}\n",
            "Fayetteville N C View List ORG\n",
            "{'id': '327576133837139969', 'senti': 0.5, 'label': 0, 'PERSON': 0, 'NORP': 0, 'GPE': 0, 'ORG': 1}\n",
            "Ken Shamrock PERSON\n",
            "Des Woodruff GPE\n",
            "Fayettev GPE\n",
            "{'id': '1065281573686259712', 'senti': 0.45, 'label': 0, 'PERSON': 1, 'NORP': 0, 'GPE': 2, 'ORG': 0}\n",
            "A287482 GPE\n",
            "{'id': '979341616975634432', 'senti': 0.3916666666666666, 'label': 0, 'PERSON': 0, 'NORP': 0, 'GPE': 1, 'ORG': 0}\n",
            "MULTIPLE WAL ORG\n",
            "N C ORG\n",
            "{'id': '20408136207', 'senti': 0.0, 'label': 0, 'PERSON': 0, 'NORP': 0, 'GPE': 0, 'ORG': 2}\n",
            "the Randy Moss Academy ORG\n",
            "Saturday DATE\n",
            "Fayetteville GPE\n",
            "Georgia GPE\n",
            "July 18 DATE\n",
            "{'id': '620373874434183168', 'senti': 0.5, 'label': 0, 'PERSON': 0, 'NORP': 0, 'GPE': 4, 'ORG': 1}\n",
            "Fashion Express Fayetteville NC ORG\n",
            "{'id': '91736060433928192', 'senti': 0.175, 'label': 0, 'PERSON': 0, 'NORP': 0, 'GPE': 0, 'ORG': 1}\n",
            "{'id': '18459384142', 'senti': 0.1, 'label': 0, 'PERSON': 0, 'NORP': 0, 'GPE': 0, 'ORG': 0}\n",
            "Thursday DATE\n",
            "the Airbourne G FAC\n",
            "{'id': '1017498833637576704', 'senti': 0.25757575757575757, 'label': 0, 'PERSON': 0, 'NORP': 0, 'GPE': 2, 'ORG': 0}\n",
            "27 CARDINAL\n",
            "Fayetteville NC Get ORG\n",
            "{'id': '1069018829693476864', 'senti': 0.0, 'label': 0, 'PERSON': 0, 'NORP': 0, 'GPE': 1, 'ORG': 1}\n",
            "Olivia ORG\n",
            "Fayetteville GPE\n",
            "{'id': '303188036668243968', 'senti': 0.25, 'label': 0, 'PERSON': 0, 'NORP': 0, 'GPE': 1, 'ORG': 1}\n",
            "Fayetteville GPE\n",
            "Packers ORG\n",
            "{'id': '663552087381274628', 'senti': 0.0, 'label': 0, 'PERSON': 0, 'NORP': 0, 'GPE': 1, 'ORG': 1}\n",
            "{'id': '801163013839581185', 'senti': -0.125, 'label': 0, 'PERSON': 0, 'NORP': 0, 'GPE': 0, 'ORG': 0}\n",
            "PBS ORG\n",
            "Fayetteville s WORK_OF_ART\n",
            "Odin PERSON\n",
            "NC GPE\n",
            "{'id': '710213578842836992', 'senti': 0.0, 'label': 0, 'PERSON': 1, 'NORP': 0, 'GPE': 2, 'ORG': 1}\n",
            "Banfield Vet Services ORG\n",
            "Fayetteville GPE\n",
            "{'id': '16685132501', 'senti': -0.2, 'label': 0, 'PERSON': 0, 'NORP': 0, 'GPE': 1, 'ORG': 1}\n",
            "DOT ORG\n",
            "95 CARDINAL\n",
            "NC GPE\n",
            "{'id': '167013050203914240', 'senti': 0.0, 'label': 0, 'PERSON': 0, 'NORP': 0, 'GPE': 2, 'ORG': 1}\n",
            "{'id': '22245152650', 'senti': 0.35, 'label': 0, 'PERSON': 0, 'NORP': 0, 'GPE': 0, 'ORG': 0}\n",
            "{'id': '868503315155496960', 'senti': 0.0, 'label': 0, 'PERSON': 0, 'NORP': 0, 'GPE': 0, 'ORG': 0}\n",
            "Banfield Vet Services ORG\n",
            "Fayetteville GPE\n",
            "Kristin Kristin PERSON\n",
            "{'id': '76287470559444992', 'senti': 0.0, 'label': 0, 'PERSON': 1, 'NORP': 0, 'GPE': 1, 'ORG': 1}\n",
            "Fayetteville HopeMills NC ORG\n",
            "a year DATE\n",
            "{'id': '970682643535802368', 'senti': 0.0, 'label': 0, 'PERSON': 0, 'NORP': 0, 'GPE': 1, 'ORG': 1}\n",
            "ACP ORG\n",
            "NC COME OUT ORG\n",
            "{'id': '887032957843771392', 'senti': 0.0, 'label': 0, 'PERSON': 0, 'NORP': 0, 'GPE': 0, 'ORG': 2}\n",
            "Social Media Specialist 1764 ORG\n",
            "Fayetteville NC ORG\n",
            "{'id': '202463039910461440', 'senti': 0.03333333333333333, 'label': 0, 'PERSON': 0, 'NORP': 0, 'GPE': 0, 'ORG': 2}\n",
            "Subway ORG\n",
            "{'id': '1019271700817563649', 'senti': 0.11818181818181818, 'label': 0, 'PERSON': 0, 'NORP': 0, 'GPE': 0, 'ORG': 1}\n",
            "Fayetteville GPE\n",
            "tomorrow night TIME\n",
            "one CARDINAL\n",
            "one CARDINAL\n",
            "{'id': '992501849071775745', 'senti': 0.0, 'label': 0, 'PERSON': 0, 'NORP': 0, 'GPE': 4, 'ORG': 0}\n",
            "{'id': '608435381407739905', 'senti': 0.1, 'label': 0, 'PERSON': 0, 'NORP': 0, 'GPE': 0, 'ORG': 0}\n",
            "Fayetteville GPE\n",
            "{'id': '8980098198', 'senti': 0.0, 'label': 0, 'PERSON': 0, 'NORP': 0, 'GPE': 1, 'ORG': 0}\n",
            "99 CARDINAL\n",
            "Fayetteville GPE\n",
            "{'id': '231102720684220416', 'senti': -0.2916666666666667, 'label': 0, 'PERSON': 0, 'NORP': 0, 'GPE': 2, 'ORG': 0}\n",
            "Fayetteville ORG\n",
            "Fayetteville ORG\n",
            "Monda PERSON\n",
            "{'id': '605495719630225408', 'senti': 0.0, 'label': 0, 'PERSON': 1, 'NORP': 0, 'GPE': 0, 'ORG': 2}\n",
            "NC State ORG\n",
            "NC GPE\n",
            "Fayetteville ACCMediaDay PERSON\n",
            "{'id': '791657074568622080', 'senti': 0.0, 'label': 0, 'PERSON': 1, 'NORP': 0, 'GPE': 1, 'ORG': 1}\n",
            "Lights Displa Upload PERSON\n",
            "{'id': '811984896029822976', 'senti': 0.0, 'label': 0, 'PERSON': 1, 'NORP': 0, 'GPE': 0, 'ORG': 0}\n",
            "5 billion CARDINAL\n",
            "5 billion CARDINAL\n",
            "{'id': '575321511390679040', 'senti': 0.1, 'label': 0, 'PERSON': 0, 'NORP': 0, 'GPE': 2, 'ORG': 0}\n",
            "JOB OPENINGS PERSON\n",
            "FayToday Fayetteville NC Community News Week ORG\n",
            "{'id': '552000999834271745', 'senti': 0.1, 'label': 0, 'PERSON': 1, 'NORP': 0, 'GPE': 0, 'ORG': 1}\n",
            "Fayetteville GPE\n",
            "{'id': '791738101638897664', 'senti': 0.3, 'label': 0, 'PERSON': 0, 'NORP': 0, 'GPE': 1, 'ORG': 0}\n",
            "NC GPE\n",
            "Comments on Topix WORK_OF_ART\n",
            "RALEIGH ORG\n",
            "{'id': '942953459', 'senti': -0.6, 'label': 0, 'PERSON': 0, 'NORP': 0, 'GPE': 2, 'ORG': 1}\n",
            "Fayetteville NC GPE\n",
            "{'id': '865327039947173891', 'senti': 0.1, 'label': 0, 'PERSON': 0, 'NORP': 0, 'GPE': 1, 'ORG': 0}\n",
            "24 076 CARDINAL\n",
            "{'id': '1045731999925915649', 'senti': 0.5, 'label': 0, 'PERSON': 0, 'NORP': 0, 'GPE': 1, 'ORG': 0}\n",
            "{'id': '1047885310200348674', 'senti': 0.7, 'label': 0, 'PERSON': 0, 'NORP': 0, 'GPE': 0, 'ORG': 0}\n",
            "Poem ORG\n",
            "DOMESTIC VIOLENCE ORG\n",
            "{'id': '1055685980533989376', 'senti': -0.15, 'label': 0, 'PERSON': 0, 'NORP': 0, 'GPE': 0, 'ORG': 2}\n",
            "Meloni I m PERSON\n",
            "Fayetteville GPE\n",
            "{'id': '1042451606065885184', 'senti': 0.0, 'label': 0, 'PERSON': 1, 'NORP': 0, 'GPE': 1, 'ORG': 0}\n",
            "Goodyear ORG\n",
            "Fayetteville NC Upload ORG\n",
            "{'id': '1034574401067515909', 'senti': 0.0, 'label': 0, 'PERSON': 0, 'NORP': 0, 'GPE': 0, 'ORG': 2}\n",
            "Today s SUNSET WORK_OF_ART\n",
            "Homecoming Upload GPE\n",
            "{'id': '1050935364481941506', 'senti': 0.0, 'label': 0, 'PERSON': 0, 'NORP': 0, 'GPE': 2, 'ORG': 0}\n",
            "NCDOT ORG\n",
            "Nov 2 ORG\n",
            "Scott P PERSON\n",
            "{'id': '1051547030668156928', 'senti': 0.5, 'label': 0, 'PERSON': 1, 'NORP': 0, 'GPE': 0, 'ORG': 2}\n",
            "SEND ORG\n",
            "{'id': '1041102754201124864', 'senti': 1.0, 'label': 0, 'PERSON': 0, 'NORP': 0, 'GPE': 0, 'ORG': 1}\n",
            "NorfCac PERSON\n",
            "YOUR CITY GPE\n",
            "Huuh PERSON\n",
            "{'id': '1064862539220230144', 'senti': 0.0, 'label': 0, 'PERSON': 2, 'NORP': 0, 'GPE': 1, 'ORG': 0}\n",
            "\n",
            "\n",
            "\n",
            "\n",
            "politifact118\n",
            "\n",
            "\n",
            "US GPE\n",
            "this year DATE\n",
            "the American Society of Civil Engineers ORG\n",
            "{'id': '898619271231811585', 'senti': -0.2, 'label': 0, 'PERSON': 0, 'NORP': 0, 'GPE': 2, 'ORG': 1}\n",
            "American Society of Civil Engineers Shows Poor School Infrastructure Nationwide ORG\n",
            "{'id': '887437711988056065', 'senti': -0.2, 'label': 0, 'PERSON': 0, 'NORP': 0, 'GPE': 0, 'ORG': 1}\n",
            "Integrated Engineering Blockchain Consortium Honored ORG\n",
            "{'id': '889955960231313408', 'senti': 0.0, 'label': 0, 'PERSON': 0, 'NORP': 0, 'GPE': 0, 'ORG': 1}\n",
            "97 CARDINAL\n",
            "Project of the Year WORK_OF_ART\n",
            "Miami Chapt American ORG\n",
            "{'id': '902250170984919040', 'senti': 0.0, 'label': 0, 'PERSON': 0, 'NORP': 0, 'GPE': 2, 'ORG': 1}\n",
            "U S GPE\n",
            "D NORP\n",
            "the American Society of Civil Engineers Annual Infrastructure Report Card ORG\n",
            "{'id': '898923811789254656', 'senti': 0.0, 'label': 0, 'PERSON': 0, 'NORP': 1, 'GPE': 1, 'ORG': 1}\n",
            "American Society of Civil Engineers ORG\n",
            "36 CARDINAL\n",
            "{'id': '886224944098443265', 'senti': 0.0, 'label': 0, 'PERSON': 0, 'NORP': 0, 'GPE': 1, 'ORG': 1}\n",
            "The American Society of Civil Engineers ORG\n",
            "2013 DATE\n",
            "{'id': '888955321338736640', 'senti': 0.0, 'label': 0, 'PERSON': 0, 'NORP': 0, 'GPE': 1, 'ORG': 1}\n",
            "the American Society of Civil Engineers ORG\n",
            "{'id': '885688841713012736', 'senti': -0.0625, 'label': 0, 'PERSON': 0, 'NORP': 0, 'GPE': 0, 'ORG': 1}\n",
            "Society of Civil Engineers Grand Challenge ORG\n",
            "{'id': '883211257809129473', 'senti': 0.25, 'label': 0, 'PERSON': 0, 'NORP': 0, 'GPE': 0, 'ORG': 1}\n",
            "The American Society of Civil Engineers ORG\n",
            "annual DATE\n",
            "{'id': '885907805965885440', 'senti': 0.07500000000000001, 'label': 0, 'PERSON': 0, 'NORP': 0, 'GPE': 1, 'ORG': 1}\n",
            "the Society of American Military Engineers ORG\n",
            "the American Society of Civil Engineers ORG\n",
            "tonight TIME\n",
            "{'id': '897977356954071040', 'senti': 0.1, 'label': 0, 'PERSON': 0, 'NORP': 0, 'GPE': 1, 'ORG': 2}\n",
            "US Dam Infrastructure ORG\n",
            "Earns a D in PERSON\n",
            "American NORP\n",
            "Society of Civil Engineers Report ORG\n",
            "{'id': '883295399355797505', 'senti': 0.0, 'label': 0, 'PERSON': 1, 'NORP': 1, 'GPE': 0, 'ORG': 2}\n",
            "American Society of Civil Engineers Shows Poor School Infrastructure Nationwide ORG\n",
            "{'id': '887439967906955264', 'senti': -0.2, 'label': 0, 'PERSON': 0, 'NORP': 0, 'GPE': 0, 'ORG': 1}\n",
            "US Dam Infrastructure ORG\n",
            "American NORP\n",
            "Society of Civil Engineers Report ORG\n",
            "{'id': '883366330157727746', 'senti': 0.0, 'label': 0, 'PERSON': 0, 'NORP': 1, 'GPE': 0, 'ORG': 2}\n",
            "US Dam Infrastructure ORG\n",
            "American NORP\n",
            "Society of Civil Engineers Report ORG\n",
            "{'id': '883381889049821184', 'senti': 0.0, 'label': 0, 'PERSON': 0, 'NORP': 1, 'GPE': 0, 'ORG': 2}\n",
            "University of Delaware ORG\n",
            "American Society of Civil Engineers Fellow ORG\n",
            "{'id': '898954110304747520', 'senti': 0.0, 'label': 0, 'PERSON': 0, 'NORP': 0, 'GPE': 0, 'ORG': 2}\n",
            "US Dam Infrastructure ORG\n",
            "American NORP\n",
            "Society of Civil Engineers Report ORG\n",
            "{'id': '883465685237735424', 'senti': 0.0, 'label': 0, 'PERSON': 0, 'NORP': 1, 'GPE': 0, 'ORG': 2}\n",
            "American Society of Civil Engineers Honors Engineering Blockchain Consortium ORG\n",
            "{'id': '884646585623130112', 'senti': 0.0, 'label': 0, 'PERSON': 0, 'NORP': 0, 'GPE': 0, 'ORG': 1}\n",
            "The Golden Gate Bridge FAC\n",
            "American Society of Civil Engineers ORG\n",
            "{'id': '887689418869534722', 'senti': 0.16666666666666666, 'label': 0, 'PERSON': 0, 'NORP': 0, 'GPE': 1, 'ORG': 1}\n",
            "U S LOC\n",
            "American Society of Civil Engineers ORG\n",
            "{'id': '892782078919675905', 'senti': 0.0, 'label': 0, 'PERSON': 0, 'NORP': 0, 'GPE': 1, 'ORG': 1}\n",
            "US Dam Infrastructure ORG\n",
            "American NORP\n",
            "Society of Civil Engineers Report ORG\n",
            "{'id': '883494958950301696', 'senti': 0.0, 'label': 0, 'PERSON': 0, 'NORP': 1, 'GPE': 0, 'ORG': 2}\n",
            "the American Society of Civil Engineers ORG\n",
            "{'id': '884572327622483968', 'senti': 0.0, 'label': 0, 'PERSON': 0, 'NORP': 0, 'GPE': 0, 'ORG': 1}\n",
            "the American Society of Civil Engineers ORG\n",
            "almost 1 CARDINAL\n",
            "10 CARDINAL\n",
            "{'id': '900422870190485504', 'senti': 0.0, 'label': 0, 'PERSON': 0, 'NORP': 0, 'GPE': 2, 'ORG': 1}\n",
            "American Society of Civil Engineers ASCE Logo ORG\n",
            "{'id': '887216208889643010', 'senti': 0.0, 'label': 0, 'PERSON': 0, 'NORP': 0, 'GPE': 0, 'ORG': 1}\n",
            "ASCE American Society of Civil Engineers Engineer ORG\n",
            "{'id': '886436673319575552', 'senti': 0.0, 'label': 0, 'PERSON': 0, 'NORP': 0, 'GPE': 0, 'ORG': 1}\n",
            "American Society of Civil Engineers ORG\n",
            "{'id': '884892863263162368', 'senti': 0.0, 'label': 0, 'PERSON': 0, 'NORP': 0, 'GPE': 0, 'ORG': 1}\n",
            "American Society of Civil Engineers ASCE Production ORG\n",
            "{'id': '885554876054478848', 'senti': 0.0, 'label': 0, 'PERSON': 0, 'NORP': 0, 'GPE': 0, 'ORG': 1}\n",
            "The American Society of Civil Engineers ORG\n",
            "Gaea ORG\n",
            "Tonja Koob Marking PERSON\n",
            "{'id': '889900525411500034', 'senti': 0.0, 'label': 0, 'PERSON': 1, 'NORP': 0, 'GPE': 0, 'ORG': 2}\n",
            "Estos fueron los 5 PERSON\n",
            "2010 DATE\n",
            "The American Society of Civil Engineers ORG\n",
            "{'id': '895768706160242688', 'senti': 0.0, 'label': 0, 'PERSON': 1, 'NORP': 0, 'GPE': 1, 'ORG': 1}\n",
            "Society of Civil Engineers ASCETweets Washin ORG\n",
            "{'id': '901231769948762112', 'senti': 0.0, 'label': 0, 'PERSON': 0, 'NORP': 0, 'GPE': 0, 'ORG': 1}\n",
            "American Society of Civil Engineers Environmental and Water Resources Institute ORG\n",
            "{'id': '896418260081496064', 'senti': 0.0, 'label': 0, 'PERSON': 0, 'NORP': 0, 'GPE': 0, 'ORG': 1}\n",
            "the American Society of Civil Engineers ORG\n",
            "{'id': '898290034406821889', 'senti': 0.24545454545454545, 'label': 0, 'PERSON': 0, 'NORP': 0, 'GPE': 0, 'ORG': 1}\n",
            "the American Society of Civil Engineers ORG\n",
            "today DATE\n",
            "{'id': '893129923182899200', 'senti': 0.0, 'label': 0, 'PERSON': 0, 'NORP': 0, 'GPE': 1, 'ORG': 1}\n",
            "American Society of Civil Engineers ORG\n",
            "{'id': '900017671147802625', 'senti': 0.06818181818181818, 'label': 0, 'PERSON': 0, 'NORP': 0, 'GPE': 0, 'ORG': 1}\n",
            "2017 DATE\n",
            "U S GPE\n",
            "the American Society of Civil Engineers Annual ORG\n",
            "{'id': '898922730724184064', 'senti': 0.0, 'label': 0, 'PERSON': 0, 'NORP': 0, 'GPE': 2, 'ORG': 1}\n",
            "Society of Civil Engineers ORG\n",
            "{'id': '901231623873724421', 'senti': 0.0, 'label': 0, 'PERSON': 0, 'NORP': 0, 'GPE': 0, 'ORG': 1}\n",
            "U S GPE\n",
            "D NORP\n",
            "the American Society of Civil Engineers Annual Infrastructure Report Card ORG\n",
            "{'id': '898920026551590912', 'senti': 0.0, 'label': 0, 'PERSON': 0, 'NORP': 1, 'GPE': 1, 'ORG': 1}\n",
            "American Society of Civil Engineers ORG\n",
            "Louisiana GPE\n",
            "D NORP\n",
            "7PM CARDINAL\n",
            "{'id': '888530276678119424', 'senti': 0.0, 'label': 0, 'PERSON': 0, 'NORP': 1, 'GPE': 2, 'ORG': 1}\n",
            "the American Society of Civil Engineers Publications ORG\n",
            "RedLink ORG\n",
            "{'id': '895299843618418689', 'senti': 0.5333333333333333, 'label': 0, 'PERSON': 0, 'NORP': 0, 'GPE': 0, 'ORG': 2}\n",
            "University of Delaware ORG\n",
            "American Society of Civil Engineers Fellow ORG\n",
            "{'id': '898107273406500865', 'senti': 0.0, 'label': 0, 'PERSON': 0, 'NORP': 0, 'GPE': 0, 'ORG': 2}\n",
            "US Dam Infrastructure ORG\n",
            "American NORP\n",
            "Society of Civil Engineers Report ORG\n",
            "{'id': '883302468708442112', 'senti': 0.0, 'label': 0, 'PERSON': 0, 'NORP': 1, 'GPE': 0, 'ORG': 2}\n",
            "the American Society of Civil Engineers ORG\n",
            "{'id': '892794879495081984', 'senti': 0.0, 'label': 0, 'PERSON': 0, 'NORP': 0, 'GPE': 0, 'ORG': 1}\n",
            "American Society of Civil Engineers ORG\n",
            "Zero CARDINAL\n",
            "{'id': '896201488816590849', 'senti': 0.6, 'label': 0, 'PERSON': 0, 'NORP': 0, 'GPE': 1, 'ORG': 1}\n",
            "University of Delaware ORG\n",
            "American Society of Civil Engineers Fellow ORG\n",
            "{'id': '897640617467150337', 'senti': 0.0, 'label': 0, 'PERSON': 0, 'NORP': 0, 'GPE': 0, 'ORG': 2}\n",
            "American Society of Civil Engineers ORG\n",
            "US GPE\n",
            "{'id': '899213199915929604', 'senti': 0.05, 'label': 0, 'PERSON': 0, 'NORP': 0, 'GPE': 1, 'ORG': 1}\n",
            "the YMG Young Members Group ORG\n",
            "the Kansas City Chapter of ORG\n",
            "the American Society of Civil Engineers KC ORG\n",
            "{'id': '885591262971219969', 'senti': 0.05, 'label': 0, 'PERSON': 0, 'NORP': 0, 'GPE': 0, 'ORG': 3}\n",
            "US Dam Infrastructure ORG\n",
            "American NORP\n",
            "Society of Civil Engineers Report ORG\n",
            "{'id': '883749810725113857', 'senti': 0.0, 'label': 0, 'PERSON': 0, 'NORP': 1, 'GPE': 0, 'ORG': 2}\n",
            "Consortium Honored by ORG\n",
            "American NORP\n",
            "Society of Civil Engineers Grand Challenge ORG\n",
            "{'id': '883210970004422659', 'senti': 0.25, 'label': 0, 'PERSON': 0, 'NORP': 1, 'GPE': 0, 'ORG': 2}\n",
            "American Society of Civil Engineers ORG\n",
            "55 CARDINAL\n",
            "{'id': '889808827536867331', 'senti': 0.0, 'label': 0, 'PERSON': 0, 'NORP': 0, 'GPE': 1, 'ORG': 1}\n",
            "Fontana High School ORG\n",
            "bimonthly DATE\n",
            "the American Society of Civil Engineers ORG\n",
            "1993 DATE\n",
            "{'id': '890411543350976513', 'senti': 0.08, 'label': 0, 'PERSON': 0, 'NORP': 0, 'GPE': 2, 'ORG': 2}\n",
            "The American Society of Civil Engineers ORG\n",
            "4 6 trillion MONEY\n",
            "{'id': '889165222312898561', 'senti': 0.0, 'label': 0, 'PERSON': 0, 'NORP': 0, 'GPE': 1, 'ORG': 1}\n",
            "The American Society of Civil Engineers Pipelines Conference ORG\n",
            "today DATE\n",
            "{'id': '894637900742176773', 'senti': 0.0, 'label': 0, 'PERSON': 0, 'NORP': 0, 'GPE': 1, 'ORG': 1}\n",
            "Prof Menassa PERSON\n",
            "{'id': '884423257922863104', 'senti': 0.3, 'label': 0, 'PERSON': 1, 'NORP': 0, 'GPE': 0, 'ORG': 0}\n",
            "The American Society of Civil Engineers ORG\n",
            "4 6 trillion MONEY\n",
            "{'id': '889164993970806784', 'senti': 0.0, 'label': 0, 'PERSON': 0, 'NORP': 0, 'GPE': 1, 'ORG': 1}\n",
            "Harris County GPE\n",
            "American Society of Civil Engineers ORG\n",
            "{'id': '902687213862895616', 'senti': -0.23333333333333328, 'label': 0, 'PERSON': 0, 'NORP': 0, 'GPE': 1, 'ORG': 1}\n",
            "KINETIC ORG\n",
            "the American Society of Civi ORG\n",
            "{'id': '884936069061455878', 'senti': 0.0, 'label': 0, 'PERSON': 0, 'NORP': 0, 'GPE': 0, 'ORG': 2}\n",
            "{'id': '899167811762888704', 'senti': 0.0, 'label': 0, 'PERSON': 0, 'NORP': 0, 'GPE': 0, 'ORG': 0}\n",
            "Next week DATE\n",
            "SCA ORG\n",
            "the The American Society of Civil Engineers ORG\n",
            "{'id': '900743611427557377', 'senti': 0.0, 'label': 0, 'PERSON': 0, 'NORP': 0, 'GPE': 1, 'ORG': 2}\n",
            "The American Society of Civil Engineers ORG\n",
            "Norma Jean Mattei PERSON\n",
            "{'id': '900390338568704002', 'senti': 0.0, 'label': 0, 'PERSON': 1, 'NORP': 0, 'GPE': 0, 'ORG': 1}\n",
            "USMA Civil amp Mechanical Engineering ORG\n",
            "American Society of Civil Engineers ORG\n",
            "{'id': '894610341275078665', 'senti': 0.0, 'label': 0, 'PERSON': 0, 'NORP': 0, 'GPE': 0, 'ORG': 2}\n",
            "Wright American PERSON\n",
            "Society of Civil Engineers ORG\n",
            "{'id': '899338432731897856', 'senti': -0.16666666666666666, 'label': 0, 'PERSON': 1, 'NORP': 0, 'GPE': 0, 'ORG': 1}\n",
            "{'id': '888038553602609153', 'senti': 0.0, 'label': 0, 'PERSON': 0, 'NORP': 0, 'GPE': 0, 'ORG': 0}\n",
            "American Society of Civil Engineers ORG\n",
            "{'id': '902765001991184385', 'senti': 0.0, 'label': 0, 'PERSON': 0, 'NORP': 0, 'GPE': 0, 'ORG': 1}\n",
            "Seven CARDINAL\n",
            "the American Society of Civil Engineers ORG\n",
            "1994 DATE\n",
            "{'id': '901541526819532801', 'senti': 0.1, 'label': 0, 'PERSON': 0, 'NORP': 0, 'GPE': 2, 'ORG': 1}\n",
            "Today DATE\n",
            "the American Society of Civil Engineers ORG\n",
            "Norma Jean Mattei PERSON\n",
            "{'id': '884884115752988673', 'senti': 0.0, 'label': 0, 'PERSON': 1, 'NORP': 0, 'GPE': 1, 'ORG': 1}\n",
            "The Society House of ORG\n",
            "the American Society of Civil Engineers ORG\n",
            "18 CARDINAL\n",
            "{'id': '894564708635860993', 'senti': 0.0, 'label': 0, 'PERSON': 0, 'NORP': 0, 'GPE': 1, 'ORG': 2}\n",
            "The Golden Gate Bridge FAC\n",
            "American Society of Civil Engineers ORG\n",
            "{'id': '887688234536402945', 'senti': 0.16666666666666666, 'label': 0, 'PERSON': 0, 'NORP': 0, 'GPE': 1, 'ORG': 1}\n",
            "2017 DATE\n",
            "the American Society of Civil Engineers ORG\n",
            "{'id': '889878221814202371', 'senti': 0.0, 'label': 0, 'PERSON': 0, 'NORP': 0, 'GPE': 1, 'ORG': 1}\n",
            "the American Society of Civil Engineers ORG\n",
            "{'id': '898330576645533696', 'senti': -0.5, 'label': 0, 'PERSON': 0, 'NORP': 0, 'GPE': 0, 'ORG': 1}\n",
            "David Steward PERSON\n",
            "the American Society of Civil Engineers ORG\n",
            "{'id': '898540497920073728', 'senti': 0.0, 'label': 0, 'PERSON': 1, 'NORP': 0, 'GPE': 0, 'ORG': 1}\n",
            "American Society of Civil Engineers ASCE Social Media ORG\n",
            "{'id': '890582672552099844', 'senti': 0.016666666666666666, 'label': 0, 'PERSON': 0, 'NORP': 0, 'GPE': 0, 'ORG': 1}\n",
            "University of Delaware ORG\n",
            "American Society of Civil Engineers Fellow ORG\n",
            "{'id': '897572547553890308', 'senti': 0.0, 'label': 0, 'PERSON': 0, 'NORP': 0, 'GPE': 0, 'ORG': 2}\n",
            "the Structural Engineering Institute ORG\n",
            "the American Society of Civil Engineers ORG\n",
            "{'id': '892570028188385284', 'senti': 0.0, 'label': 0, 'PERSON': 0, 'NORP': 0, 'GPE': 0, 'ORG': 2}\n",
            "American Society of Civil Engineers ASCE Social Media ORG\n",
            "{'id': '892400123124363265', 'senti': 0.016666666666666666, 'label': 0, 'PERSON': 0, 'NORP': 0, 'GPE': 0, 'ORG': 1}\n",
            "Hiba Baroud ORG\n",
            "two CARDINAL\n",
            "the American Society of Civil Engineers ORG\n",
            "{'id': '896835054520979457', 'senti': 0.0, 'label': 0, 'PERSON': 0, 'NORP': 0, 'GPE': 1, 'ORG': 2}\n",
            "American Society of Civil Engineers Nat l Taxpayers Union ORG\n",
            "{'id': '897520493980528641', 'senti': -0.15, 'label': 0, 'PERSON': 0, 'NORP': 0, 'GPE': 0, 'ORG': 1}\n",
            "The American Society of Civil Engineers ORG\n",
            "332 CARDINAL\n",
            "{'id': '897132538426273792', 'senti': 0.0, 'label': 0, 'PERSON': 0, 'NORP': 0, 'GPE': 1, 'ORG': 1}\n",
            "American Society of Civil Engineers Louisiana s ORG\n",
            "{'id': '892396437954330624', 'senti': 0.0, 'label': 0, 'PERSON': 0, 'NORP': 0, 'GPE': 0, 'ORG': 1}\n",
            "The American Society of Civil Engineers ORG\n",
            "U S ORG\n",
            "{'id': '891988407169232896', 'senti': 0.0, 'label': 0, 'PERSON': 0, 'NORP': 0, 'GPE': 0, 'ORG': 2}\n",
            "U S ORG\n",
            "American Society of Civil Engineers ORG\n",
            "this year DATE\n",
            "{'id': '897429872020262913', 'senti': 0.0, 'label': 0, 'PERSON': 0, 'NORP': 0, 'GPE': 1, 'ORG': 2}\n",
            "University of Delaware ORG\n",
            "American Society of Civil Engineers Fellow ORG\n",
            "{'id': '897565324920410113', 'senti': 0.0, 'label': 0, 'PERSON': 0, 'NORP': 0, 'GPE': 0, 'ORG': 2}\n",
            "American Society of Civil Engineers ASCE Social Media ORG\n",
            "{'id': '892400100680630273', 'senti': 0.016666666666666666, 'label': 0, 'PERSON': 0, 'NORP': 0, 'GPE': 0, 'ORG': 1}\n",
            "two CARDINAL\n",
            "the American Society of Civil Engineers ORG\n",
            "{'id': '891340500917043202', 'senti': 0.0, 'label': 0, 'PERSON': 0, 'NORP': 0, 'GPE': 1, 'ORG': 1}\n",
            "american NORP\n",
            "160B FAC\n",
            "{'id': '897113038737870848', 'senti': -0.1, 'label': 0, 'PERSON': 0, 'NORP': 1, 'GPE': 1, 'ORG': 0}\n",
            "American Society of Civil Engineers ASCE Social Media ORG\n",
            "{'id': '892400145786130432', 'senti': 0.016666666666666666, 'label': 0, 'PERSON': 0, 'NORP': 0, 'GPE': 0, 'ORG': 1}\n",
            "American Society of Civil Engineers ORG\n",
            "first ORDINAL\n",
            "{'id': '890624476643082240', 'senti': 0.08333333333333333, 'label': 0, 'PERSON': 0, 'NORP': 0, 'GPE': 1, 'ORG': 1}\n",
            "The American Society of Civil Engineers ORG\n",
            "{'id': '897552399132479488', 'senti': 0.0, 'label': 0, 'PERSON': 0, 'NORP': 0, 'GPE': 0, 'ORG': 1}\n",
            "American Society of Civil Engineers ORG\n",
            "first ORDINAL\n",
            "{'id': '890624035544997888', 'senti': 0.08333333333333333, 'label': 0, 'PERSON': 0, 'NORP': 0, 'GPE': 1, 'ORG': 1}\n",
            "American Society of Civil Engineers Miami Dade Names Innovation Bridge Project ORG\n",
            "{'id': '891042539230420993', 'senti': 0.0, 'label': 0, 'PERSON': 0, 'NORP': 0, 'GPE': 0, 'ORG': 1}\n",
            "\n",
            "\n",
            "\n",
            "\n",
            "politifact12148\n",
            "\n",
            "\n",
            "\n",
            "\n",
            "Stanford University ORG\n",
            "IndianaPrimary CaliforniaPrimary ORG\n",
            "{'id': '726526853427650561', 'senti': 0.0, 'label': 0, 'PERSON': 0, 'NORP': 0, 'GPE': 0, 'ORG': 2}\n",
            "Stanford University ORG\n",
            "{'id': '715569083048206336', 'senti': 0.0, 'label': 0, 'PERSON': 0, 'NORP': 0, 'GPE': 0, 'ORG': 1}\n",
            "Stanford University ORG\n",
            "{'id': '778281490526253056', 'senti': 0.0, 'label': 0, 'PERSON': 0, 'NORP': 0, 'GPE': 0, 'ORG': 1}\n",
            "Stanford University ORG\n",
            "{'id': '713442389956792320', 'senti': 0.0, 'label': 0, 'PERSON': 0, 'NORP': 0, 'GPE': 0, 'ORG': 1}\n",
            "\n",
            "\n",
            "politifact1084\n",
            "\n",
            "\n",
            "\n",
            "\n",
            "the Supreme Court ORG\n",
            "Dems NORP\n",
            "{'id': '1015985875962953728', 'senti': 0.20000000000000004, 'label': 0, 'PERSON': 0, 'NORP': 1, 'GPE': 0, 'ORG': 1}\n",
            "EX U S SENATOR PERSON\n",
            "JOE BIDEN PERSON\n",
            "THE U S SUPREME COURT ORG\n",
            "{'id': '648531892455755776', 'senti': 0.0, 'label': 0, 'PERSON': 2, 'NORP': 0, 'GPE': 0, 'ORG': 1}\n",
            "John Kastellec PERSON\n",
            "Princeton University ORG\n",
            "Genteel Pluralism to Hyper ORG\n",
            "{'id': '969223175321063424', 'senti': 0.0, 'label': 0, 'PERSON': 1, 'NORP': 0, 'GPE': 0, 'ORG': 2}\n",
            "Supreme Court ORG\n",
            "{'id': '1012899041007595520', 'senti': 0.0, 'label': 0, 'PERSON': 0, 'NORP': 0, 'GPE': 0, 'ORG': 1}\n",
            "U S Senate Supreme Court ORG\n",
            "1789 DATE\n",
            "{'id': '714122390859554816', 'senti': 0.0, 'label': 0, 'PERSON': 0, 'NORP': 0, 'GPE': 1, 'ORG': 1}\n",
            "Balochistan ECP ORG\n",
            "Supreme Court ECP ORG\n",
            "23 CARDINAL\n",
            "{'id': '321991117925146629', 'senti': 0.0, 'label': 0, 'PERSON': 0, 'NORP': 0, 'GPE': 1, 'ORG': 2}\n",
            "the Supreme Court During Presidential ORG\n",
            "3p CARDINAL\n",
            "{'id': '707359058848718848', 'senti': 0.0, 'label': 0, 'PERSON': 0, 'NORP': 0, 'GPE': 1, 'ORG': 1}\n",
            "Barack Obama PERSON\n",
            "the Supreme Court Barack Obama ORG\n",
            "Supreme Court ORG\n",
            "{'id': '14445968379', 'senti': -0.25, 'label': 0, 'PERSON': 1, 'NORP': 0, 'GPE': 0, 'ORG': 2}\n",
            "Canada GPE\n",
            "19th ORDINAL\n",
            "the SCC Advisory Board ORG\n",
            "Minis NORP\n",
            "{'id': '937833826306482176', 'senti': 0.2, 'label': 0, 'PERSON': 0, 'NORP': 1, 'GPE': 2, 'ORG': 1}\n",
            "U S Senate Supreme Court ORG\n",
            "1789 DATE\n",
            "{'id': '698928526985027584', 'senti': 0.0, 'label': 0, 'PERSON': 0, 'NORP': 0, 'GPE': 1, 'ORG': 1}\n",
            "GOP ORG\n",
            "The White House ORG\n",
            "Congress ORG\n",
            "the Supreme Court Nomination ORG\n",
            "{'id': '705819061989474305', 'senti': -0.06833333333333333, 'label': 0, 'PERSON': 0, 'NORP': 0, 'GPE': 0, 'ORG': 4}\n",
            "U S Senate Supreme Court ORG\n",
            "1789 DATE\n",
            "{'id': '827949196409987073', 'senti': 0.0, 'label': 0, 'PERSON': 0, 'NORP': 0, 'GPE': 1, 'ORG': 1}\n",
            "{'id': '1017118309630795776', 'senti': 0.19999999999999998, 'label': 0, 'PERSON': 0, 'NORP': 0, 'GPE': 0, 'ORG': 0}\n",
            "Supreme Court Nominations ORG\n",
            "1789 1789 DATE\n",
            "{'id': '698653401199017984', 'senti': 0.0, 'label': 0, 'PERSON': 0, 'NORP': 0, 'GPE': 1, 'ORG': 1}\n",
            "U S Senate Supreme Court ORG\n",
            "1789 DATE\n",
            "{'id': '698739937772961792', 'senti': 0.0, 'label': 0, 'PERSON': 0, 'NORP': 0, 'GPE': 1, 'ORG': 1}\n",
            "Jennifer Aniston PERSON\n",
            "Brad Pitt PERSON\n",
            "{'id': '7887282655', 'senti': 0.0, 'label': 0, 'PERSON': 2, 'NORP': 0, 'GPE': 0, 'ORG': 0}\n",
            "{'id': '710939444757581825', 'senti': 0.0, 'label': 0, 'PERSON': 0, 'NORP': 0, 'GPE': 0, 'ORG': 0}\n",
            "Supreme Court ORG\n",
            "1789 DATE\n",
            "The Constitution LAW\n",
            "Senat ORG\n",
            "{'id': '1012063518554771458', 'senti': 0.0, 'label': 0, 'PERSON': 0, 'NORP': 0, 'GPE': 2, 'ORG': 2}\n",
            "U S Senate Supreme Court Nominations ORG\n",
            "1789 DATE\n",
            "{'id': '850019470965866498', 'senti': 0.0, 'label': 0, 'PERSON': 0, 'NORP': 0, 'GPE': 1, 'ORG': 1}\n",
            "Pres Obama PERSON\n",
            "Supreme Court ORG\n",
            "{'id': '699715897959669761', 'senti': 0.06818181818181818, 'label': 0, 'PERSON': 1, 'NORP': 0, 'GPE': 0, 'ORG': 1}\n",
            "Supreme Court ORG\n",
            "millions CARDINAL\n",
            "Healthcare ORG\n",
            "{'id': '1016754432694865920', 'senti': 0.03333333333333334, 'label': 0, 'PERSON': 0, 'NORP': 0, 'GPE': 1, 'ORG': 2}\n",
            "the Supreme Court During Presidential ORG\n",
            "3p CARDINAL\n",
            "{'id': '707359189304156160', 'senti': 0.0, 'label': 0, 'PERSON': 0, 'NORP': 0, 'GPE': 1, 'ORG': 1}\n",
            "Chuck Schumer PERSON\n",
            "democrats NORP\n",
            "{'id': '1014555486170083330', 'senti': -0.125, 'label': 0, 'PERSON': 1, 'NORP': 1, 'GPE': 0, 'ORG': 0}\n",
            "U S Senate Supreme Court Nominations ORG\n",
            "1789 DATE\n",
            "{'id': '850033392334897154', 'senti': 0.0, 'label': 0, 'PERSON': 0, 'NORP': 0, 'GPE': 1, 'ORG': 1}\n",
            "{'id': '849998469771276288', 'senti': 0.41111111111111115, 'label': 0, 'PERSON': 0, 'NORP': 0, 'GPE': 0, 'ORG': 0}\n",
            "Amul Thapar PERSON\n",
            "{'id': '1012459416283738115', 'senti': -0.3333333333333333, 'label': 0, 'PERSON': 1, 'NORP': 0, 'GPE': 0, 'ORG': 0}\n",
            "Allen Dershowitz PERSON\n",
            "Supreme Court ORG\n",
            "{'id': '1001641989232771073', 'senti': 0.0, 'label': 0, 'PERSON': 1, 'NORP': 0, 'GPE': 0, 'ORG': 1}\n",
            "the Supreme Court During Presidential ORG\n",
            "3p CARDINAL\n",
            "{'id': '707359271382441984', 'senti': 0.0, 'label': 0, 'PERSON': 0, 'NORP': 0, 'GPE': 1, 'ORG': 1}\n",
            "Supreme Court ORG\n",
            "1789 DATE\n",
            "the Present Actions WORK_OF_ART\n",
            "the Senate the Judiciary Committee ORG\n",
            "{'id': '282136030851768323', 'senti': 0.0, 'label': 0, 'PERSON': 0, 'NORP': 0, 'GPE': 2, 'ORG': 2}\n",
            "the Supreme Court During Presidential ORG\n",
            "3p CARDINAL\n",
            "{'id': '707358953982693376', 'senti': 0.0, 'label': 0, 'PERSON': 0, 'NORP': 0, 'GPE': 1, 'ORG': 1}\n",
            "BD Present Nomination LAW\n",
            "the Supreme Court ORG\n",
            "{'id': '811961986401464320', 'senti': -0.1, 'label': 0, 'PERSON': 0, 'NORP': 0, 'GPE': 1, 'ORG': 1}\n",
            "Supreme Court ORG\n",
            "1789 1789 DATE\n",
            "{'id': '854007232756830208', 'senti': 0.0, 'label': 0, 'PERSON': 0, 'NORP': 0, 'GPE': 1, 'ORG': 1}\n",
            "the Supreme Court ORG\n",
            "{'id': '1008565045448585217', 'senti': 0.0, 'label': 0, 'PERSON': 0, 'NORP': 0, 'GPE': 0, 'ORG': 1}\n",
            "Merrick Garland PERSON\n",
            "the Supreme Court ORG\n",
            "{'id': '710110283650502656', 'senti': 0.3666666666666667, 'label': 0, 'PERSON': 1, 'NORP': 0, 'GPE': 0, 'ORG': 1}\n",
            "Army ORG\n",
            "{'id': '949103827000745991', 'senti': -0.08333333333333333, 'label': 0, 'PERSON': 0, 'NORP': 0, 'GPE': 0, 'ORG': 1}\n",
            "Supreme Court Nominations ORG\n",
            "1789 CARDINAL\n",
            "{'id': '698668969083797504', 'senti': 0.0, 'label': 0, 'PERSON': 0, 'NORP': 0, 'GPE': 1, 'ORG': 1}\n",
            "U S Senate ORG\n",
            "{'id': '1019666613061251077', 'senti': 0.0, 'label': 0, 'PERSON': 0, 'NORP': 0, 'GPE': 0, 'ORG': 1}\n",
            "the Constitution and Bill of Rights LAW\n",
            "{'id': '1016831608060510209', 'senti': 0.375, 'label': 0, 'PERSON': 0, 'NORP': 0, 'GPE': 1, 'ORG': 0}\n",
            "Supreme Court ORG\n",
            "{'id': '699715774299185153', 'senti': 0.0, 'label': 0, 'PERSON': 0, 'NORP': 0, 'GPE': 0, 'ORG': 1}\n",
            "Americans NORP\n",
            "today DATE\n",
            "Supreme Court ORG\n",
            "America GPE\n",
            "{'id': '1016481019401310208', 'senti': 0.8, 'label': 0, 'PERSON': 0, 'NORP': 1, 'GPE': 2, 'ORG': 1}\n",
            "the Supreme Court During Presidential ORG\n",
            "{'id': '711503651747995648', 'senti': 0.0, 'label': 0, 'PERSON': 0, 'NORP': 0, 'GPE': 0, 'ORG': 1}\n",
            "Supreme Court During Presidential ORG\n",
            "{'id': '710826834938585088', 'senti': 0.0, 'label': 0, 'PERSON': 0, 'NORP': 0, 'GPE': 0, 'ORG': 1}\n",
            "{'id': '710885475343425536', 'senti': 0.0, 'label': 0, 'PERSON': 0, 'NORP': 0, 'GPE': 0, 'ORG': 0}\n",
            "Supreme Court During Presidential ORG\n",
            "{'id': '711932276221808641', 'senti': 0.0, 'label': 0, 'PERSON': 0, 'NORP': 0, 'GPE': 0, 'ORG': 1}\n",
            "U S Senate Supreme Court ORG\n",
            "1789 DATE\n",
            "{'id': '698951101593288705', 'senti': 0.0, 'label': 0, 'PERSON': 0, 'NORP': 0, 'GPE': 1, 'ORG': 1}\n",
            "American NORP\n",
            "Supreme Court ORG\n",
            "{'id': '1016691191512027137', 'senti': 0.0, 'label': 0, 'PERSON': 0, 'NORP': 1, 'GPE': 0, 'ORG': 1}\n",
            "U S Senate Supreme Court ORG\n",
            "1789 DATE\n",
            "{'id': '698754797265121280', 'senti': 0.0, 'label': 0, 'PERSON': 0, 'NORP': 0, 'GPE': 1, 'ORG': 1}\n",
            "Nominations to Supreme Court ORG\n",
            "1946 DATE\n",
            "{'id': '711644484157571072', 'senti': 0.0, 'label': 0, 'PERSON': 0, 'NORP': 0, 'GPE': 1, 'ORG': 1}\n",
            "Trump PERSON\n",
            "the Supreme Court ORG\n",
            "{'id': '826493898050641924', 'senti': 0.0, 'label': 0, 'PERSON': 1, 'NORP': 0, 'GPE': 0, 'ORG': 1}\n",
            "1900 4 DATE\n",
            "{'id': '1018582437146882048', 'senti': 0.26666666666666666, 'label': 0, 'PERSON': 0, 'NORP': 0, 'GPE': 1, 'ORG': 0}\n",
            "Supreme Court ORG\n",
            "1789 DATE\n",
            "{'id': '698636316318298113', 'senti': 0.0, 'label': 0, 'PERSON': 0, 'NORP': 0, 'GPE': 1, 'ORG': 1}\n",
            "the Supreme Court During Presidential ORG\n",
            "3p CARDINAL\n",
            "{'id': '707358909657264128', 'senti': 0.0, 'label': 0, 'PERSON': 0, 'NORP': 0, 'GPE': 1, 'ORG': 1}\n",
            "61 CARDINAL\n",
            "Supreme Court ORG\n",
            "McCain ORG\n",
            "{'id': '1013435253698908162', 'senti': 0.0, 'label': 0, 'PERSON': 0, 'NORP': 0, 'GPE': 1, 'ORG': 2}\n",
            "US GPE\n",
            "Supreme Court ORG\n",
            "mid ORDINAL\n",
            "{'id': '1013868316387991559', 'senti': 0.0, 'label': 0, 'PERSON': 0, 'NORP': 0, 'GPE': 2, 'ORG': 1}\n",
            "Obama LOC\n",
            "{'id': '966861616183697408', 'senti': -0.16666666666666666, 'label': 0, 'PERSON': 0, 'NORP': 0, 'GPE': 1, 'ORG': 0}\n",
            "U S Supreme Court ORG\n",
            "1789 DATE\n",
            "Features PRODUCT\n",
            "{'id': '1810127907', 'senti': 0.0, 'label': 0, 'PERSON': 0, 'NORP': 0, 'GPE': 2, 'ORG': 1}\n",
            "Freeabortion Swear ORG\n",
            "republicans NORP\n",
            "about 50 50 CARDINAL\n",
            "{'id': '1017118086191861760', 'senti': 0.7, 'label': 0, 'PERSON': 0, 'NORP': 1, 'GPE': 1, 'ORG': 1}\n",
            "Supreme Court ORG\n",
            "{'id': '1016508136805490688', 'senti': -0.2, 'label': 0, 'PERSON': 0, 'NORP': 0, 'GPE': 0, 'ORG': 1}\n",
            "Trump PRODUCT\n",
            "Brett Kavanaugh PERSON\n",
            "SCOTUS ORG\n",
            "{'id': '1016524757624377344', 'senti': 0.16666666666666666, 'label': 0, 'PERSON': 1, 'NORP': 0, 'GPE': 1, 'ORG': 1}\n",
            "Supreme Court ORG\n",
            "{'id': '1016570072930963456', 'senti': -0.06666666666666667, 'label': 0, 'PERSON': 0, 'NORP': 0, 'GPE': 0, 'ORG': 1}\n",
            "Today March 2 12 30 1 50 DATE\n",
            "Social Sciences ORG\n",
            "223 CARDINAL\n",
            "the TCNJ Politics Forum ORG\n",
            "John Kastellec PERSON\n",
            "{'id': '969574128838676481', 'senti': 0.03333333333333333, 'label': 0, 'PERSON': 1, 'NORP': 0, 'GPE': 2, 'ORG': 2}\n",
            "Supreme Court ORG\n",
            "{'id': '825533606516883456', 'senti': 0.07142857142857142, 'label': 0, 'PERSON': 0, 'NORP': 0, 'GPE': 0, 'ORG': 1}\n",
            "U S ORG\n",
            "1789 DATE\n",
            "{'id': '715619822390943744', 'senti': 0.0, 'label': 0, 'PERSON': 0, 'NORP': 0, 'GPE': 1, 'ORG': 1}\n",
            "the Supreme Court ORG\n",
            "Christmas DATE\n",
            "{'id': '1672463074', 'senti': 0.018750000000000003, 'label': 0, 'PERSON': 0, 'NORP': 0, 'GPE': 1, 'ORG': 1}\n",
            "the Supreme Court During Presidential ORG\n",
            "3p CARDINAL\n",
            "{'id': '707357753317011457', 'senti': 0.0, 'label': 0, 'PERSON': 0, 'NORP': 0, 'GPE': 1, 'ORG': 1}\n",
            "Supreme Court ORG\n",
            "1789 CARDINAL\n",
            "{'id': '698693221724135424', 'senti': 0.0, 'label': 0, 'PERSON': 0, 'NORP': 0, 'GPE': 1, 'ORG': 1}\n",
            "Supreme Court Nominations ORG\n",
            "1789 CARDINAL\n",
            "2 1 2 months DATE\n",
            "Senate ORG\n",
            "{'id': '698671321727696896', 'senti': 0.06666666666666667, 'label': 0, 'PERSON': 0, 'NORP': 0, 'GPE': 2, 'ORG': 2}\n",
            "US Supreme Court ORG\n",
            "{'id': '702628778942410752', 'senti': 0.0, 'label': 0, 'PERSON': 0, 'NORP': 0, 'GPE': 0, 'ORG': 1}\n",
            "Supreme Court ORG\n",
            "1789 DATE\n",
            "160 CARDINAL\n",
            "124 CARDINAL\n",
            "7 CARDINAL\n",
            "{'id': '698682775281471489', 'senti': 0.2, 'label': 0, 'PERSON': 0, 'NORP': 0, 'GPE': 4, 'ORG': 1}\n",
            "U S Senate Supreme Court ORG\n",
            "1789 DATE\n",
            "{'id': '699734771904180225', 'senti': 0.0, 'label': 0, 'PERSON': 0, 'NORP': 0, 'GPE': 1, 'ORG': 1}\n",
            "Bullshit PERSON\n",
            "Supreme Court ORG\n",
            "{'id': '840934429858156546', 'senti': -0.10833333333333334, 'label': 0, 'PERSON': 1, 'NORP': 0, 'GPE': 0, 'ORG': 1}\n",
            "Pres Obama PERSON\n",
            "Supreme Court ORG\n",
            "{'id': '699719055767375873', 'senti': 0.06818181818181818, 'label': 0, 'PERSON': 1, 'NORP': 0, 'GPE': 0, 'ORG': 1}\n",
            "the Supreme Court During Presidential ORG\n",
            "{'id': '707249697421860864', 'senti': 0.0, 'label': 0, 'PERSON': 0, 'NORP': 0, 'GPE': 0, 'ORG': 1}\n",
            "U S Senate Supreme Court Nominations ORG\n",
            "1789 DATE\n",
            "{'id': '850047492628430848', 'senti': 0.0, 'label': 0, 'PERSON': 0, 'NORP': 0, 'GPE': 1, 'ORG': 1}\n",
            "U S Senate Supreme Court ORG\n",
            "1789 DATE\n",
            "{'id': '698960680947466241', 'senti': 0.0, 'label': 0, 'PERSON': 0, 'NORP': 0, 'GPE': 1, 'ORG': 1}\n",
            "the Supreme Court During Presidential ORG\n",
            "3p CARDINAL\n",
            "{'id': '707358343082352640', 'senti': 0.0, 'label': 0, 'PERSON': 0, 'NORP': 0, 'GPE': 1, 'ORG': 1}\n",
            "Supreme Court ORG\n",
            "{'id': '699344983799808001', 'senti': 0.0, 'label': 0, 'PERSON': 0, 'NORP': 0, 'GPE': 0, 'ORG': 1}\n",
            "Supreme Court Nominations ORG\n",
            "{'id': '850377498068123649', 'senti': 0.0, 'label': 0, 'PERSON': 0, 'NORP': 0, 'GPE': 0, 'ORG': 1}\n",
            "Russia GPE\n",
            "Supreme Court ORG\n",
            "{'id': '862794674247000064', 'senti': -0.16666666666666666, 'label': 0, 'PERSON': 0, 'NORP': 0, 'GPE': 1, 'ORG': 1}\n",
            "the Supreme Court ORG\n",
            "{'id': '1018889674532769792', 'senti': 0.0, 'label': 0, 'PERSON': 0, 'NORP': 0, 'GPE': 0, 'ORG': 1}\n",
            "Supreme Court ORG\n",
            "{'id': '826065242580983808', 'senti': 0.06818181818181818, 'label': 0, 'PERSON': 0, 'NORP': 0, 'GPE': 0, 'ORG': 1}\n",
            "Supreme Court ORG\n",
            "1789 DATE\n",
            "{'id': '826580408598937600', 'senti': 0.15, 'label': 0, 'PERSON': 0, 'NORP': 0, 'GPE': 1, 'ORG': 1}\n",
            "no Supreme Court ORG\n",
            "{'id': '1016995451588038656', 'senti': 0.0, 'label': 0, 'PERSON': 0, 'NORP': 0, 'GPE': 0, 'ORG': 1}\n",
            "Supreme Court ORG\n",
            "51 CARDINAL\n",
            "{'id': '1013764927708893185', 'senti': 0.0, 'label': 0, 'PERSON': 0, 'NORP': 0, 'GPE': 1, 'ORG': 1}\n",
            "wtf ORG\n",
            "Supreme Court ORG\n",
            "{'id': '826598360832438272', 'senti': 0.125, 'label': 0, 'PERSON': 0, 'NORP': 0, 'GPE': 0, 'ORG': 2}\n",
            "the Supreme Court ORG\n",
            "{'id': '1005015077085331456', 'senti': 0.0, 'label': 0, 'PERSON': 0, 'NORP': 0, 'GPE': 0, 'ORG': 1}\n",
            "John Zmirak PERSON\n",
            "Brett Kavanaugh PERSON\n",
            "{'id': '1016712652863700993', 'senti': 0.0, 'label': 0, 'PERSON': 2, 'NORP': 0, 'GPE': 0, 'ORG': 0}\n",
            "19 CARDINAL\n",
            "Supreme Court ORG\n",
            "{'id': '1036998245850001408', 'senti': 0.3, 'label': 0, 'PERSON': 0, 'NORP': 0, 'GPE': 1, 'ORG': 1}\n",
            "Turn Down PERSON\n",
            "s Offer PERSON\n",
            "Joint Supreme Court ORG\n",
            "{'id': '1031881265031639041', 'senti': -0.07777777777777779, 'label': 0, 'PERSON': 2, 'NORP': 0, 'GPE': 0, 'ORG': 1}\n",
            "{'id': '1024847758317023232', 'senti': 0.0, 'label': 0, 'PERSON': 0, 'NORP': 0, 'GPE': 0, 'ORG': 0}\n",
            "Schaeffer Jesus PERSON\n",
            "40 Days DATE\n",
            "the Wilderness Satan Worship LOC\n",
            "{'id': '1036281863386542087', 'senti': 0.0, 'label': 0, 'PERSON': 1, 'NORP': 0, 'GPE': 2, 'ORG': 0}\n",
            "Brett Kavanaugh PERSON\n",
            "the US Supreme Court ORG\n",
            "Democrats NORP\n",
            "{'id': '1024985740596465664', 'senti': 0.0, 'label': 0, 'PERSON': 1, 'NORP': 1, 'GPE': 0, 'ORG': 1}\n",
            "Democratic NORP\n",
            "{'id': '1032633027652771840', 'senti': -0.2, 'label': 0, 'PERSON': 0, 'NORP': 1, 'GPE': 0, 'ORG': 0}\n",
            "Supreme Court ORG\n",
            "1789 DATE\n",
            "{'id': '1020026928961445888', 'senti': 0.0, 'label': 0, 'PERSON': 0, 'NORP': 0, 'GPE': 1, 'ORG': 1}\n",
            "\n",
            "\n",
            "politifact11747\n",
            "\n",
            "\n",
            "Today DATE\n",
            "monthly DATE\n",
            "the Bureau of L ORG\n",
            "{'id': '11490454072', 'senti': 0.0, 'label': 0, 'PERSON': 0, 'NORP': 0, 'GPE': 2, 'ORG': 1}\n",
            "Data ORG\n",
            "Scotland GPE\n",
            "March DATE\n",
            "monthly DATE\n",
            "{'id': '189136700147113985', 'senti': 0.21666666666666665, 'label': 0, 'PERSON': 0, 'NORP': 0, 'GPE': 3, 'ORG': 1}\n",
            "Scotland GPE\n",
            "last month DATE\n",
            "monthly DATE\n",
            "five years DATE\n",
            "{'id': '189236400007286784', 'senti': 0.14444444444444443, 'label': 0, 'PERSON': 0, 'NORP': 0, 'GPE': 4, 'ORG': 0}\n",
            "Scotland GPE\n",
            "last month DATE\n",
            "monthly DATE\n",
            "five years DATE\n",
            "{'id': '189243783769096192', 'senti': 0.1424242424242424, 'label': 0, 'PERSON': 0, 'NORP': 0, 'GPE': 4, 'ORG': 0}\n",
            "Data ORG\n",
            "Scotland GPE\n",
            "March DATE\n",
            "monthly DATE\n",
            "2007 DATE\n",
            "{'id': '189319034792185858', 'senti': 0.21666666666666665, 'label': 0, 'PERSON': 0, 'NORP': 0, 'GPE': 4, 'ORG': 1}\n",
            "WASHINGTON GPE\n",
            "last monthly DATE\n",
            "{'id': '263999828277747712', 'senti': 0.04545454545454545, 'label': 0, 'PERSON': 0, 'NORP': 0, 'GPE': 2, 'ORG': 0}\n",
            "Today DATE\n",
            "268 000 CARDINAL\n",
            "April DATE\n",
            "monthly DATE\n",
            "five years DATE\n",
            "{'id': '66620730720256000', 'senti': 0.0, 'label': 0, 'PERSON': 0, 'NORP': 0, 'GPE': 5, 'ORG': 0}\n",
            "Today DATE\n",
            "monthly DATE\n",
            "the Bureau of L ORG\n",
            "{'id': '11490453769', 'senti': 0.0, 'label': 0, 'PERSON': 0, 'NORP': 0, 'GPE': 2, 'ORG': 1}\n",
            "Scotland GPE\n",
            "last month DATE\n",
            "monthly DATE\n",
            "2007 DATE\n",
            "{'id': '190356833632915456', 'senti': 0.14444444444444443, 'label': 0, 'PERSON': 0, 'NORP': 0, 'GPE': 4, 'ORG': 0}\n",
            "Today DATE\n",
            "monthly DATE\n",
            "{'id': '11488857134', 'senti': 0.0, 'label': 0, 'PERSON': 0, 'NORP': 0, 'GPE': 2, 'ORG': 0}\n",
            "Today DATE\n",
            "monthly DATE\n",
            "{'id': '11815114411', 'senti': 0.0, 'label': 0, 'PERSON': 0, 'NORP': 0, 'GPE': 2, 'ORG': 0}\n",
            "CNN ORG\n",
            "Obama GPE\n",
            "Obama PERSON\n",
            "monthly DATE\n",
            "{'id': '17574940953', 'senti': 0.06818181818181818, 'label': 0, 'PERSON': 1, 'NORP': 0, 'GPE': 2, 'ORG': 1}\n",
            "Today DATE\n",
            "monthly DATE\n",
            "{'id': '11488850977', 'senti': 0.0, 'label': 0, 'PERSON': 0, 'NORP': 0, 'GPE': 2, 'ORG': 0}\n",
            "Today DATE\n",
            "monthly DATE\n",
            "{'id': '11488847936', 'senti': 0.0, 'label': 0, 'PERSON': 0, 'NORP': 0, 'GPE': 2, 'ORG': 0}\n",
            "Today DATE\n",
            "monthly DATE\n",
            "{'id': '11488851355', 'senti': 0.0, 'label': 0, 'PERSON': 0, 'NORP': 0, 'GPE': 2, 'ORG': 0}\n",
            "Data ORG\n",
            "Scotland GPE\n",
            "March DATE\n",
            "monthly DATE\n",
            "{'id': '189141801339338753', 'senti': 0.21666666666666665, 'label': 0, 'PERSON': 0, 'NORP': 0, 'GPE': 3, 'ORG': 1}\n",
            "Today DATE\n",
            "monthly DATE\n",
            "{'id': '11488847340', 'senti': 0.0, 'label': 0, 'PERSON': 0, 'NORP': 0, 'GPE': 2, 'ORG': 0}\n",
            "Poland GPE\n",
            "monthly DATE\n",
            "Poland GPE\n",
            "{'id': '37948751247056896', 'senti': 0.07083333333333333, 'label': 0, 'PERSON': 0, 'NORP': 0, 'GPE': 3, 'ORG': 0}\n",
            "268 000 CARDINAL\n",
            "April DATE\n",
            "monthly DATE\n",
            "5 years DATE\n",
            "{'id': '66515840614408192', 'senti': 0.0, 'label': 0, 'PERSON': 0, 'NORP': 0, 'GPE': 4, 'ORG': 0}\n",
            "Today DATE\n",
            "monthly DATE\n",
            "{'id': '11488862303', 'senti': 0.0, 'label': 0, 'PERSON': 0, 'NORP': 0, 'GPE': 2, 'ORG': 0}\n",
            "Poland GPE\n",
            "monthly DATE\n",
            "Poland GPE\n",
            "{'id': '37913678858829825', 'senti': 0.07083333333333333, 'label': 0, 'PERSON': 0, 'NORP': 0, 'GPE': 3, 'ORG': 0}\n",
            "monthly DATE\n",
            "{'id': '618119692180434945', 'senti': 0.0, 'label': 0, 'PERSON': 0, 'NORP': 0, 'GPE': 1, 'ORG': 0}\n",
            "BC GPE\n",
            "11 200 CARDINAL\n",
            "June 2018 to July 2018 DATE\n",
            "monthly DATE\n",
            "{'id': '1027936420457984002', 'senti': 0.0, 'label': 0, 'PERSON': 0, 'NORP': 0, 'GPE': 4, 'ORG': 0}\n",
            "ADP ORG\n",
            "ADP ORG\n",
            "monthly DATE\n",
            "{'id': '453600350793379841', 'senti': 0.0, 'label': 0, 'PERSON': 0, 'NORP': 0, 'GPE': 1, 'ORG': 2}\n",
            "OCTOBER LATEST DATE\n",
            "ADP ORG\n",
            "monthly DATE\n",
            "{'id': '395527999316967424', 'senti': 0.25, 'label': 0, 'PERSON': 0, 'NORP': 0, 'GPE': 2, 'ORG': 1}\n",
            "OCTOBER LATEST DATE\n",
            "ADP ORG\n",
            "monthly DATE\n",
            "{'id': '395527966609768448', 'senti': 0.25, 'label': 0, 'PERSON': 0, 'NORP': 0, 'GPE': 2, 'ORG': 1}\n",
            "OCTOBER LATEST DATE\n",
            "ADP ORG\n",
            "monthly DATE\n",
            "{'id': '395528019978113025', 'senti': 0.25, 'label': 0, 'PERSON': 0, 'NORP': 0, 'GPE': 2, 'ORG': 1}\n",
            "ADP ORG\n",
            "Shows Hiring Slowdown PERSON\n",
            "May DATE\n",
            "May DATE\n",
            "ADP ORG\n",
            "monthly DATE\n",
            "{'id': '474347177620557824', 'senti': 0.0, 'label': 0, 'PERSON': 1, 'NORP': 0, 'GPE': 3, 'ORG': 2}\n",
            "{'id': '1066703924680306689', 'senti': 0.7, 'label': 0, 'PERSON': 0, 'NORP': 0, 'GPE': 0, 'ORG': 0}\n",
            "US GPE\n",
            "EU ORG\n",
            "Japan GPE\n",
            "2 2 CARDINAL\n",
            "monthly DATE\n",
            "{'id': '1001829870203219968', 'senti': 0.17500000000000002, 'label': 0, 'PERSON': 0, 'NORP': 0, 'GPE': 4, 'ORG': 1}\n",
            "ADP ORG\n",
            "Shows Hiring Slowdown PERSON\n",
            "May DATE\n",
            "May DATE\n",
            "ADP ORG\n",
            "monthly DATE\n",
            "{'id': '474351384851382273', 'senti': 0.0, 'label': 0, 'PERSON': 1, 'NORP': 0, 'GPE': 3, 'ORG': 2}\n",
            "OCTOBER DATE\n",
            "ADP ORG\n",
            "monthly DATE\n",
            "{'id': '395539252005437440', 'senti': 0.0, 'label': 0, 'PERSON': 0, 'NORP': 0, 'GPE': 2, 'ORG': 1}\n",
            "OCTOBER LATEST DATE\n",
            "ADP ORG\n",
            "monthly DATE\n",
            "{'id': '395528033039159297', 'senti': 0.25, 'label': 0, 'PERSON': 0, 'NORP': 0, 'GPE': 2, 'ORG': 1}\n",
            "OCTOBER LATEST DATE\n",
            "ADP ORG\n",
            "monthly DATE\n",
            "{'id': '395527933030187008', 'senti': 0.25, 'label': 0, 'PERSON': 0, 'NORP': 0, 'GPE': 2, 'ORG': 1}\n",
            "OCTOBER LATEST DATE\n",
            "ADP ORG\n",
            "monthly DATE\n",
            "{'id': '395527980463570944', 'senti': 0.25, 'label': 0, 'PERSON': 0, 'NORP': 0, 'GPE': 2, 'ORG': 1}\n",
            "OCTOBER LATEST DATE\n",
            "ADP ORG\n",
            "monthly DATE\n",
            "{'id': '395528717599916032', 'senti': 0.25, 'label': 0, 'PERSON': 0, 'NORP': 0, 'GPE': 2, 'ORG': 1}\n",
            "OCTOBER LATEST DATE\n",
            "ADP ORG\n",
            "monthly DATE\n",
            "{'id': '395528013309149184', 'senti': 0.25, 'label': 0, 'PERSON': 0, 'NORP': 0, 'GPE': 2, 'ORG': 1}\n",
            "ADP ORG\n",
            "Shows Hiring Slowdown PERSON\n",
            "May DATE\n",
            "May DATE\n",
            "ADP ORG\n",
            "monthly DATE\n",
            "{'id': '474350947129655296', 'senti': 0.0, 'label': 0, 'PERSON': 1, 'NORP': 0, 'GPE': 3, 'ORG': 2}\n",
            "OCTOBER LATEST DATE\n",
            "ADP ORG\n",
            "monthly DATE\n",
            "{'id': '396789270985191424', 'senti': 0.25, 'label': 0, 'PERSON': 0, 'NORP': 0, 'GPE': 2, 'ORG': 1}\n",
            "ADP Regional Employment Report Mountain Region ORG\n",
            "August DATE\n",
            "{'id': '377864726459727873', 'senti': 0.0, 'label': 0, 'PERSON': 0, 'NORP': 0, 'GPE': 1, 'ORG': 1}\n",
            "BLATANT LIE ORG\n",
            "Trump PRODUCT\n",
            "Monthly DATE\n",
            "{'id': '1037700925215858688', 'senti': -0.25, 'label': 0, 'PERSON': 0, 'NORP': 0, 'GPE': 2, 'ORG': 1}\n",
            "ADP ORG\n",
            "Shows Hiring Slowdown PERSON\n",
            "May DATE\n",
            "May DATE\n",
            "ADP ORG\n",
            "monthly DATE\n",
            "{'id': '474352395078877184', 'senti': 0.0, 'label': 0, 'PERSON': 1, 'NORP': 0, 'GPE': 3, 'ORG': 2}\n",
            "OCTOBER LATEST DATE\n",
            "ADP ORG\n",
            "monthly DATE\n",
            "{'id': '395527957369716737', 'senti': 0.25, 'label': 0, 'PERSON': 0, 'NORP': 0, 'GPE': 2, 'ORG': 1}\n",
            "OCTOBER LATEST DATE\n",
            "ADP ORG\n",
            "monthly DATE\n",
            "{'id': '395555569328603136', 'senti': 0.25, 'label': 0, 'PERSON': 0, 'NORP': 0, 'GPE': 2, 'ORG': 1}\n",
            "Monthly DATE\n",
            "SUBSET ORG\n",
            "IGNORING ORG\n",
            "{'id': '563727091854999552', 'senti': 0.0, 'label': 0, 'PERSON': 0, 'NORP': 0, 'GPE': 1, 'ORG': 2}\n",
            "OCTOBER DATE\n",
            "ADP ORG\n",
            "ADP ORG\n",
            "monthly DATE\n",
            "{'id': '395528599690051584', 'senti': 0.25, 'label': 0, 'PERSON': 0, 'NORP': 0, 'GPE': 2, 'ORG': 2}\n",
            "WASHINGTON GPE\n",
            "last monthly DATE\n",
            "{'id': '263999855737831424', 'senti': 0.04545454545454545, 'label': 0, 'PERSON': 0, 'NORP': 0, 'GPE': 2, 'ORG': 0}\n",
            "BC GPE\n",
            "11 200 CARDINAL\n",
            "June 2018 to July 2018 DATE\n",
            "monthly DATE\n",
            "{'id': '1027944706221600769', 'senti': 0.0, 'label': 0, 'PERSON': 0, 'NORP': 0, 'GPE': 4, 'ORG': 0}\n",
            "Saudi Arabia GPE\n",
            "October DATE\n",
            "{'id': '1059398871271591937', 'senti': -0.017045454545454548, 'label': 0, 'PERSON': 0, 'NORP': 0, 'GPE': 2, 'ORG': 0}\n",
            "Between 2003 2013 57 DATE\n",
            "WI ORG\n",
            "76 CARDINAL\n",
            "WI ORG\n",
            "monthly DATE\n",
            "Dane County GPE\n",
            "{'id': '596064507790766080', 'senti': 0.0, 'label': 0, 'PERSON': 0, 'NORP': 0, 'GPE': 4, 'ORG': 2}\n",
            "OCTOBER LATEST DATE\n",
            "ADP ORG\n",
            "monthly DATE\n",
            "{'id': '395527987719716864', 'senti': 0.25, 'label': 0, 'PERSON': 0, 'NORP': 0, 'GPE': 2, 'ORG': 1}\n",
            "WASHINGTON GPE\n",
            "last monthly DATE\n",
            "{'id': '264000107475767296', 'senti': 0.04545454545454545, 'label': 0, 'PERSON': 0, 'NORP': 0, 'GPE': 2, 'ORG': 0}\n",
            "OCTOBER LATEST DATE\n",
            "ADP ORG\n",
            "monthly DATE\n",
            "{'id': '395534687973539840', 'senti': 0.25, 'label': 0, 'PERSON': 0, 'NORP': 0, 'GPE': 2, 'ORG': 1}\n",
            "OCTOBER LATEST DATE\n",
            "ADP ORG\n",
            "monthly DATE\n",
            "{'id': '395531020843634688', 'senti': 0.25, 'label': 0, 'PERSON': 0, 'NORP': 0, 'GPE': 2, 'ORG': 1}\n",
            "monthly DATE\n",
            "Rochester GPE\n",
            "ROC GPE\n",
            "{'id': '601494488834519043', 'senti': 0.3333333333333333, 'label': 0, 'PERSON': 0, 'NORP': 0, 'GPE': 3, 'ORG': 0}\n",
            "{'id': '1051747273930153984', 'senti': 0.0888888888888889, 'label': 0, 'PERSON': 0, 'NORP': 0, 'GPE': 0, 'ORG': 0}\n",
            "July DATE\n",
            "monthly DATE\n",
            "ADP Employment Report ORG\n",
            "179k CARDINAL\n",
            "{'id': '362540631748386817', 'senti': 0.0, 'label': 0, 'PERSON': 0, 'NORP': 0, 'GPE': 3, 'ORG': 1}\n",
            "3 5 CARDINAL\n",
            "more than 3x CARDINAL\n",
            "1 CARDINAL\n",
            "{'id': '1051722178247516160', 'senti': 0.1875, 'label': 0, 'PERSON': 0, 'NORP': 0, 'GPE': 3, 'ORG': 0}\n",
            "\n",
            "\n",
            "\n",
            "\n"
          ],
          "name": "stdout"
        }
      ]
    },
    {
      "cell_type": "markdown",
      "metadata": {
        "id": "amn_rSlxkvHk"
      },
      "source": [
        "Puttin gFake news into a dictionary"
      ]
    },
    {
      "cell_type": "code",
      "metadata": {
        "id": "tVKRDDv5H7cZ"
      },
      "source": [
        "import os\n",
        "import json\n",
        "cn=0\n",
        "cy=0\n",
        "for folder in os.listdir('/content/drive/MyDrive/BTECH_PRO_COE1,29,48/FakeNewDet-FYP/code/fakenewsnet_dataset/politifact/fake'):\n",
        "  print(folder)\n",
        "  if folder in list(fake['name']):\n",
        "    for subf in os.listdir('/content/drive/MyDrive/BTECH_PRO_COE1,29,48/FakeNewDet-FYP/code/fakenewsnet_dataset/politifact/fake'+\"/\"+str(folder)):\n",
        "      if str(subf)==\"tweets\":\n",
        "        c=0\n",
        "        articles={}\n",
        "        \n",
        "        for files in os.listdir('/content/drive/MyDrive/BTECH_PRO_COE1,29,48/FakeNewDet-FYP/code/fakenewsnet_dataset/politifact/fake'+\"/\"+str(folder)+\"/\"+subf):\n",
        "          f=open('/content/drive/MyDrive/BTECH_PRO_COE1,29,48/FakeNewDet-FYP/code/fakenewsnet_dataset/politifact/fake'+\"/\"+str(folder)+\"/\"+subf+\"/\"+files)\n",
        "          d={}\n",
        "          c+=1\n",
        "          data=json.load(f)\n",
        "          if data['text']!=\"\":\n",
        "            cleaned=test.cleantext(data['text'])\n",
        "            files=files.rstrip('.json')\n",
        "            #print(files)\n",
        "            if cleaned!=\"\":\n",
        "              \"\"\"\n",
        "              vb=0\n",
        "              nn=0\n",
        "              jj=0\n",
        "              token = word_tokenize(cleaned.lower())\n",
        "              s=nltk.pos_tag(token)\n",
        "              for pos in s:\n",
        "                if len(str(pos[0]))>1:\n",
        "                  if 'VB' in str(pos[1]):\n",
        "                    vb+=1\n",
        "                  if 'NN' in str(pos[1]):     \n",
        "                    nn+=1\n",
        "                  if 'JJ' in str(pos[1]):\n",
        "                    jj+=1\n",
        "              #print(s)\n",
        "              d['id']=files\n",
        "              d['Verb count']=vb\n",
        "              d['Noun count']=nn\n",
        "              d['Adjective count']=jj\n",
        "              \"\"\"\n",
        "              PERSON=0\n",
        "              NORP=0\n",
        "              ORG=0\n",
        "              GPE=0\n",
        "              doc = nlp(cleaned)\n",
        "              for ent in doc.ents:\n",
        "                print(ent.text,ent.label_)\n",
        "                if ent.label_==\"PERSON\":\n",
        "                  PERSON+=1\n",
        "                elif ent.label_==\"NORP\":\n",
        "                  NORP+=1\n",
        "                elif ent.label_==\"ORG\":\n",
        "                  ORG+=1\n",
        "                else:\n",
        "                  GPE+=1\n",
        "                \n",
        "              \n",
        "             \n",
        "              d['PERSON']=PERSON\n",
        "              d['NORP']=NORP\n",
        "              d['GPE']=GPE\n",
        "              d['ORG']=ORG\n",
        "              d['id']=files\n",
        "              d['senti']=test.txtblobsenti(cleaned)[0]\n",
        "              d['label']=1\n",
        "              print(d)\n",
        "              m.append(d)\n",
        "             \n",
        "        \n",
        "        \"\"\"\n",
        "        if c>0:\n",
        "          \n",
        "          articles['name']=folder\n",
        "          articles['sentiment']=overallsenti/c\n",
        "          articles['label']=0      \n",
        "          arti_sentiment.append(articles)\n",
        "        #print(\"SENTI\",overallsenti/c)\n",
        "        \"\"\"\n",
        "      print(\"\\n\")\n",
        "  "
      ],
      "execution_count": null,
      "outputs": []
    },
    {
      "cell_type": "markdown",
      "metadata": {
        "id": "SLZukmowkzZv"
      },
      "source": [
        "Converting dictionary to dataframe"
      ]
    },
    {
      "cell_type": "code",
      "metadata": {
        "id": "gE92Uzsqt1VF"
      },
      "source": [
        "NER_data=pd.DataFrame.from_dict(m)"
      ],
      "execution_count": null,
      "outputs": []
    },
    {
      "cell_type": "code",
      "metadata": {
        "colab": {
          "base_uri": "https://localhost:8080/",
          "height": 202
        },
        "id": "q4LYgJ5zxvml",
        "outputId": "ddf335ed-2c31-4658-fe7e-db539e4b6736"
      },
      "source": [
        "NER_data.head()"
      ],
      "execution_count": null,
      "outputs": [
        {
          "output_type": "execute_result",
          "data": {
            "text/html": [
              "<div>\n",
              "<style scoped>\n",
              "    .dataframe tbody tr th:only-of-type {\n",
              "        vertical-align: middle;\n",
              "    }\n",
              "\n",
              "    .dataframe tbody tr th {\n",
              "        vertical-align: top;\n",
              "    }\n",
              "\n",
              "    .dataframe thead th {\n",
              "        text-align: right;\n",
              "    }\n",
              "</style>\n",
              "<table border=\"1\" class=\"dataframe\">\n",
              "  <thead>\n",
              "    <tr style=\"text-align: right;\">\n",
              "      <th></th>\n",
              "      <th>id</th>\n",
              "      <th>senti</th>\n",
              "      <th>label</th>\n",
              "      <th>PERSON</th>\n",
              "      <th>NORP</th>\n",
              "      <th>GPE</th>\n",
              "      <th>ORG</th>\n",
              "    </tr>\n",
              "  </thead>\n",
              "  <tbody>\n",
              "    <tr>\n",
              "      <th>0</th>\n",
              "      <td>494475371278909441</td>\n",
              "      <td>-0.500000</td>\n",
              "      <td>0</td>\n",
              "      <td>0</td>\n",
              "      <td>0</td>\n",
              "      <td>0</td>\n",
              "      <td>0</td>\n",
              "    </tr>\n",
              "    <tr>\n",
              "      <th>1</th>\n",
              "      <td>494480095512248320</td>\n",
              "      <td>-0.533333</td>\n",
              "      <td>0</td>\n",
              "      <td>0</td>\n",
              "      <td>0</td>\n",
              "      <td>0</td>\n",
              "      <td>0</td>\n",
              "    </tr>\n",
              "    <tr>\n",
              "      <th>2</th>\n",
              "      <td>494476039628673024</td>\n",
              "      <td>-0.533333</td>\n",
              "      <td>0</td>\n",
              "      <td>0</td>\n",
              "      <td>0</td>\n",
              "      <td>0</td>\n",
              "      <td>0</td>\n",
              "    </tr>\n",
              "    <tr>\n",
              "      <th>3</th>\n",
              "      <td>494514485957525504</td>\n",
              "      <td>-0.500000</td>\n",
              "      <td>0</td>\n",
              "      <td>0</td>\n",
              "      <td>0</td>\n",
              "      <td>0</td>\n",
              "      <td>1</td>\n",
              "    </tr>\n",
              "    <tr>\n",
              "      <th>4</th>\n",
              "      <td>494479344186585089</td>\n",
              "      <td>-0.500000</td>\n",
              "      <td>0</td>\n",
              "      <td>0</td>\n",
              "      <td>0</td>\n",
              "      <td>0</td>\n",
              "      <td>0</td>\n",
              "    </tr>\n",
              "  </tbody>\n",
              "</table>\n",
              "</div>"
            ],
            "text/plain": [
              "                   id     senti  label  PERSON  NORP  GPE  ORG\n",
              "0  494475371278909441 -0.500000      0       0     0    0    0\n",
              "1  494480095512248320 -0.533333      0       0     0    0    0\n",
              "2  494476039628673024 -0.533333      0       0     0    0    0\n",
              "3  494514485957525504 -0.500000      0       0     0    0    1\n",
              "4  494479344186585089 -0.500000      0       0     0    0    0"
            ]
          },
          "metadata": {
            "tags": []
          },
          "execution_count": 14
        }
      ]
    },
    {
      "cell_type": "markdown",
      "metadata": {
        "id": "egYvVr6bk4sn"
      },
      "source": [
        "Saving into a csv file"
      ]
    },
    {
      "cell_type": "code",
      "metadata": {
        "id": "pXEFRhsyyOYV"
      },
      "source": [
        "NER_data.to_csv(\"/content/drive/MyDrive/BTECH_PRO_COE1,29,48/nerdata.csv\")"
      ],
      "execution_count": null,
      "outputs": []
    },
    {
      "cell_type": "code",
      "metadata": {
        "id": "YDWvcpyRd5Dj"
      },
      "source": [
        "import pandas as pd\n",
        "NER_DATA=pd.read_csv(\"/content/drive/MyDrive/BTECH_PRO_COE1,29,48/nerdata.csv\")"
      ],
      "execution_count": null,
      "outputs": []
    },
    {
      "cell_type": "code",
      "metadata": {
        "id": "n1QqSpsGILj5"
      },
      "source": [
        "\n",
        "data=pd.read_csv(\"/content/drive/MyDrive/BTECH_PRO_COE1,29,48/verbsnounsadjective.csv\")"
      ],
      "execution_count": null,
      "outputs": []
    },
    {
      "cell_type": "code",
      "metadata": {
        "id": "CN2ANY4zeNJT"
      },
      "source": [
        "int_df = pd.merge(NER_DATA,data,how='inner', on=['id'])"
      ],
      "execution_count": null,
      "outputs": []
    },
    {
      "cell_type": "code",
      "metadata": {
        "colab": {
          "base_uri": "https://localhost:8080/",
          "height": 239
        },
        "id": "yefyFc1IeSEj",
        "outputId": "00e1f7a3-514f-46cc-ef9d-fdfca7f6696a"
      },
      "source": [
        "int_df.head()"
      ],
      "execution_count": null,
      "outputs": [
        {
          "output_type": "execute_result",
          "data": {
            "text/html": [
              "<div>\n",
              "<style scoped>\n",
              "    .dataframe tbody tr th:only-of-type {\n",
              "        vertical-align: middle;\n",
              "    }\n",
              "\n",
              "    .dataframe tbody tr th {\n",
              "        vertical-align: top;\n",
              "    }\n",
              "\n",
              "    .dataframe thead th {\n",
              "        text-align: right;\n",
              "    }\n",
              "</style>\n",
              "<table border=\"1\" class=\"dataframe\">\n",
              "  <thead>\n",
              "    <tr style=\"text-align: right;\">\n",
              "      <th></th>\n",
              "      <th>Unnamed: 0_x</th>\n",
              "      <th>id</th>\n",
              "      <th>senti</th>\n",
              "      <th>label_x</th>\n",
              "      <th>PERSON</th>\n",
              "      <th>NORP</th>\n",
              "      <th>GPE</th>\n",
              "      <th>ORG</th>\n",
              "      <th>Unnamed: 0_y</th>\n",
              "      <th>Verb count</th>\n",
              "      <th>Noun count</th>\n",
              "      <th>Adjective count</th>\n",
              "      <th>label_y</th>\n",
              "    </tr>\n",
              "  </thead>\n",
              "  <tbody>\n",
              "    <tr>\n",
              "      <th>0</th>\n",
              "      <td>0</td>\n",
              "      <td>494475371278909441</td>\n",
              "      <td>-0.500000</td>\n",
              "      <td>0</td>\n",
              "      <td>0</td>\n",
              "      <td>0</td>\n",
              "      <td>0</td>\n",
              "      <td>0</td>\n",
              "      <td>0</td>\n",
              "      <td>1</td>\n",
              "      <td>2</td>\n",
              "      <td>2</td>\n",
              "      <td>0</td>\n",
              "    </tr>\n",
              "    <tr>\n",
              "      <th>1</th>\n",
              "      <td>1</td>\n",
              "      <td>494480095512248320</td>\n",
              "      <td>-0.533333</td>\n",
              "      <td>0</td>\n",
              "      <td>0</td>\n",
              "      <td>0</td>\n",
              "      <td>0</td>\n",
              "      <td>0</td>\n",
              "      <td>1</td>\n",
              "      <td>2</td>\n",
              "      <td>3</td>\n",
              "      <td>4</td>\n",
              "      <td>0</td>\n",
              "    </tr>\n",
              "    <tr>\n",
              "      <th>2</th>\n",
              "      <td>2</td>\n",
              "      <td>494476039628673024</td>\n",
              "      <td>-0.533333</td>\n",
              "      <td>0</td>\n",
              "      <td>0</td>\n",
              "      <td>0</td>\n",
              "      <td>0</td>\n",
              "      <td>0</td>\n",
              "      <td>2</td>\n",
              "      <td>2</td>\n",
              "      <td>5</td>\n",
              "      <td>3</td>\n",
              "      <td>0</td>\n",
              "    </tr>\n",
              "    <tr>\n",
              "      <th>3</th>\n",
              "      <td>3</td>\n",
              "      <td>494514485957525504</td>\n",
              "      <td>-0.500000</td>\n",
              "      <td>0</td>\n",
              "      <td>0</td>\n",
              "      <td>0</td>\n",
              "      <td>0</td>\n",
              "      <td>1</td>\n",
              "      <td>3</td>\n",
              "      <td>1</td>\n",
              "      <td>4</td>\n",
              "      <td>2</td>\n",
              "      <td>0</td>\n",
              "    </tr>\n",
              "    <tr>\n",
              "      <th>4</th>\n",
              "      <td>4</td>\n",
              "      <td>494479344186585089</td>\n",
              "      <td>-0.500000</td>\n",
              "      <td>0</td>\n",
              "      <td>0</td>\n",
              "      <td>0</td>\n",
              "      <td>0</td>\n",
              "      <td>0</td>\n",
              "      <td>4</td>\n",
              "      <td>1</td>\n",
              "      <td>4</td>\n",
              "      <td>1</td>\n",
              "      <td>0</td>\n",
              "    </tr>\n",
              "  </tbody>\n",
              "</table>\n",
              "</div>"
            ],
            "text/plain": [
              "   Unnamed: 0_x                  id  ...  Adjective count  label_y\n",
              "0             0  494475371278909441  ...                2        0\n",
              "1             1  494480095512248320  ...                4        0\n",
              "2             2  494476039628673024  ...                3        0\n",
              "3             3  494514485957525504  ...                2        0\n",
              "4             4  494479344186585089  ...                1        0\n",
              "\n",
              "[5 rows x 13 columns]"
            ]
          },
          "metadata": {
            "tags": []
          },
          "execution_count": 4
        }
      ]
    },
    {
      "cell_type": "code",
      "metadata": {
        "id": "t2RmXqpTelgS"
      },
      "source": [
        "int_df=int_df.drop(columns=['label_x','Unnamed: 0_x','Unnamed: 0_y'])"
      ],
      "execution_count": null,
      "outputs": []
    },
    {
      "cell_type": "code",
      "metadata": {
        "colab": {
          "base_uri": "https://localhost:8080/",
          "height": 202
        },
        "id": "2iJbOmKvfona",
        "outputId": "2f709c58-1f52-4308-dc75-93f7ac978fdd"
      },
      "source": [
        "int_df.head()"
      ],
      "execution_count": null,
      "outputs": [
        {
          "output_type": "execute_result",
          "data": {
            "text/html": [
              "<div>\n",
              "<style scoped>\n",
              "    .dataframe tbody tr th:only-of-type {\n",
              "        vertical-align: middle;\n",
              "    }\n",
              "\n",
              "    .dataframe tbody tr th {\n",
              "        vertical-align: top;\n",
              "    }\n",
              "\n",
              "    .dataframe thead th {\n",
              "        text-align: right;\n",
              "    }\n",
              "</style>\n",
              "<table border=\"1\" class=\"dataframe\">\n",
              "  <thead>\n",
              "    <tr style=\"text-align: right;\">\n",
              "      <th></th>\n",
              "      <th>id</th>\n",
              "      <th>senti</th>\n",
              "      <th>PERSON</th>\n",
              "      <th>NORP</th>\n",
              "      <th>GPE</th>\n",
              "      <th>ORG</th>\n",
              "      <th>Verb count</th>\n",
              "      <th>Noun count</th>\n",
              "      <th>Adjective count</th>\n",
              "      <th>label_y</th>\n",
              "    </tr>\n",
              "  </thead>\n",
              "  <tbody>\n",
              "    <tr>\n",
              "      <th>0</th>\n",
              "      <td>494475371278909441</td>\n",
              "      <td>-0.500000</td>\n",
              "      <td>0</td>\n",
              "      <td>0</td>\n",
              "      <td>0</td>\n",
              "      <td>0</td>\n",
              "      <td>1</td>\n",
              "      <td>2</td>\n",
              "      <td>2</td>\n",
              "      <td>0</td>\n",
              "    </tr>\n",
              "    <tr>\n",
              "      <th>1</th>\n",
              "      <td>494480095512248320</td>\n",
              "      <td>-0.533333</td>\n",
              "      <td>0</td>\n",
              "      <td>0</td>\n",
              "      <td>0</td>\n",
              "      <td>0</td>\n",
              "      <td>2</td>\n",
              "      <td>3</td>\n",
              "      <td>4</td>\n",
              "      <td>0</td>\n",
              "    </tr>\n",
              "    <tr>\n",
              "      <th>2</th>\n",
              "      <td>494476039628673024</td>\n",
              "      <td>-0.533333</td>\n",
              "      <td>0</td>\n",
              "      <td>0</td>\n",
              "      <td>0</td>\n",
              "      <td>0</td>\n",
              "      <td>2</td>\n",
              "      <td>5</td>\n",
              "      <td>3</td>\n",
              "      <td>0</td>\n",
              "    </tr>\n",
              "    <tr>\n",
              "      <th>3</th>\n",
              "      <td>494514485957525504</td>\n",
              "      <td>-0.500000</td>\n",
              "      <td>0</td>\n",
              "      <td>0</td>\n",
              "      <td>0</td>\n",
              "      <td>1</td>\n",
              "      <td>1</td>\n",
              "      <td>4</td>\n",
              "      <td>2</td>\n",
              "      <td>0</td>\n",
              "    </tr>\n",
              "    <tr>\n",
              "      <th>4</th>\n",
              "      <td>494479344186585089</td>\n",
              "      <td>-0.500000</td>\n",
              "      <td>0</td>\n",
              "      <td>0</td>\n",
              "      <td>0</td>\n",
              "      <td>0</td>\n",
              "      <td>1</td>\n",
              "      <td>4</td>\n",
              "      <td>1</td>\n",
              "      <td>0</td>\n",
              "    </tr>\n",
              "  </tbody>\n",
              "</table>\n",
              "</div>"
            ],
            "text/plain": [
              "                   id     senti  PERSON  ...  Noun count  Adjective count  label_y\n",
              "0  494475371278909441 -0.500000       0  ...           2                2        0\n",
              "1  494480095512248320 -0.533333       0  ...           3                4        0\n",
              "2  494476039628673024 -0.533333       0  ...           5                3        0\n",
              "3  494514485957525504 -0.500000       0  ...           4                2        0\n",
              "4  494479344186585089 -0.500000       0  ...           4                1        0\n",
              "\n",
              "[5 rows x 10 columns]"
            ]
          },
          "metadata": {
            "tags": []
          },
          "execution_count": 9
        }
      ]
    },
    {
      "cell_type": "code",
      "metadata": {
        "id": "8yJE3bWqGUq8"
      },
      "source": [
        "#send to csv file\n",
        "int_df.to_csv(\"/content/drive/MyDrive/BTECH_PRO_COE1,29,48/textdata.csv\")"
      ],
      "execution_count": null,
      "outputs": []
    },
    {
      "cell_type": "markdown",
      "metadata": {
        "id": "3bRpNLiL1E8z"
      },
      "source": [
        "#EDA\n"
      ]
    },
    {
      "cell_type": "code",
      "metadata": {
        "id": "OyjMOHjNIujz"
      },
      "source": [
        "import pandas as pd\n",
        "textdata=pd.read_csv(\"/content/drive/MyDrive/BTECH_PRO_COE1,29,48/textdata.csv\")"
      ],
      "execution_count": null,
      "outputs": []
    },
    {
      "cell_type": "code",
      "metadata": {
        "id": "1iYiyFi_IzoQ"
      },
      "source": [
        "textdata=textdata.drop(columns=['Unnamed: 0'])"
      ],
      "execution_count": null,
      "outputs": []
    },
    {
      "cell_type": "code",
      "metadata": {
        "colab": {
          "base_uri": "https://localhost:8080/",
          "height": 202
        },
        "id": "f4js9zfNJHJ5",
        "outputId": "2edbed11-f08e-42ef-8c28-e9bc40ef3e1e"
      },
      "source": [
        "textdata.head()"
      ],
      "execution_count": null,
      "outputs": [
        {
          "output_type": "execute_result",
          "data": {
            "text/html": [
              "<div>\n",
              "<style scoped>\n",
              "    .dataframe tbody tr th:only-of-type {\n",
              "        vertical-align: middle;\n",
              "    }\n",
              "\n",
              "    .dataframe tbody tr th {\n",
              "        vertical-align: top;\n",
              "    }\n",
              "\n",
              "    .dataframe thead th {\n",
              "        text-align: right;\n",
              "    }\n",
              "</style>\n",
              "<table border=\"1\" class=\"dataframe\">\n",
              "  <thead>\n",
              "    <tr style=\"text-align: right;\">\n",
              "      <th></th>\n",
              "      <th>id</th>\n",
              "      <th>senti</th>\n",
              "      <th>PERSON</th>\n",
              "      <th>NORP</th>\n",
              "      <th>GPE</th>\n",
              "      <th>ORG</th>\n",
              "      <th>Verb count</th>\n",
              "      <th>Noun count</th>\n",
              "      <th>Adjective count</th>\n",
              "      <th>label_y</th>\n",
              "    </tr>\n",
              "  </thead>\n",
              "  <tbody>\n",
              "    <tr>\n",
              "      <th>0</th>\n",
              "      <td>494475371278909441</td>\n",
              "      <td>-0.500000</td>\n",
              "      <td>0</td>\n",
              "      <td>0</td>\n",
              "      <td>0</td>\n",
              "      <td>0</td>\n",
              "      <td>1</td>\n",
              "      <td>2</td>\n",
              "      <td>2</td>\n",
              "      <td>0</td>\n",
              "    </tr>\n",
              "    <tr>\n",
              "      <th>1</th>\n",
              "      <td>494480095512248320</td>\n",
              "      <td>-0.533333</td>\n",
              "      <td>0</td>\n",
              "      <td>0</td>\n",
              "      <td>0</td>\n",
              "      <td>0</td>\n",
              "      <td>2</td>\n",
              "      <td>3</td>\n",
              "      <td>4</td>\n",
              "      <td>0</td>\n",
              "    </tr>\n",
              "    <tr>\n",
              "      <th>2</th>\n",
              "      <td>494476039628673024</td>\n",
              "      <td>-0.533333</td>\n",
              "      <td>0</td>\n",
              "      <td>0</td>\n",
              "      <td>0</td>\n",
              "      <td>0</td>\n",
              "      <td>2</td>\n",
              "      <td>5</td>\n",
              "      <td>3</td>\n",
              "      <td>0</td>\n",
              "    </tr>\n",
              "    <tr>\n",
              "      <th>3</th>\n",
              "      <td>494514485957525504</td>\n",
              "      <td>-0.500000</td>\n",
              "      <td>0</td>\n",
              "      <td>0</td>\n",
              "      <td>0</td>\n",
              "      <td>1</td>\n",
              "      <td>1</td>\n",
              "      <td>4</td>\n",
              "      <td>2</td>\n",
              "      <td>0</td>\n",
              "    </tr>\n",
              "    <tr>\n",
              "      <th>4</th>\n",
              "      <td>494479344186585089</td>\n",
              "      <td>-0.500000</td>\n",
              "      <td>0</td>\n",
              "      <td>0</td>\n",
              "      <td>0</td>\n",
              "      <td>0</td>\n",
              "      <td>1</td>\n",
              "      <td>4</td>\n",
              "      <td>1</td>\n",
              "      <td>0</td>\n",
              "    </tr>\n",
              "  </tbody>\n",
              "</table>\n",
              "</div>"
            ],
            "text/plain": [
              "                   id     senti  PERSON  ...  Noun count  Adjective count  label_y\n",
              "0  494475371278909441 -0.500000       0  ...           2                2        0\n",
              "1  494480095512248320 -0.533333       0  ...           3                4        0\n",
              "2  494476039628673024 -0.533333       0  ...           5                3        0\n",
              "3  494514485957525504 -0.500000       0  ...           4                2        0\n",
              "4  494479344186585089 -0.500000       0  ...           4                1        0\n",
              "\n",
              "[5 rows x 10 columns]"
            ]
          },
          "metadata": {
            "tags": []
          },
          "execution_count": 3
        }
      ]
    },
    {
      "cell_type": "code",
      "metadata": {
        "colab": {
          "base_uri": "https://localhost:8080/",
          "height": 297
        },
        "id": "JAgtphZ11Dkd",
        "outputId": "c51e20c9-a9ac-4e7b-960c-d58edc1c282c"
      },
      "source": [
        "import seaborn as sns\n",
        "import matplotlib.pyplot as plt\n",
        "\n",
        "#fig, axes = plt.subplots(4, 2, figsize=(18, 10))\n",
        "\n",
        "\n",
        "#sns.scatterplot(ax=axes[0, 0], data=textdata, x='label_y', y='senti')\n",
        "sns.boxplot(data=textdata, x='label_y', y='Verb count')\n",
        "#sns.boxplot(data=textdata, x='label_y', y='Noun count')\n",
        "#sns.boxplot(data=textdata, x='label_y', y='Adjective count')\n",
        "#sns.scatterplot(ax=axes[2, 0], data=textdata, x='label_y', y='PERSON')\n",
        "#sns.scatterplot(ax=axes[2, 1], data=textdata, x='label_y', y='NORP')\n",
        "#sns.scatterplot(ax=axes[3, 0], data=textdata, x='label_y', y='GPE')\n",
        "#sns.scatterplot(ax=axes[3, 1], data=textdata, x='label_y', y='ORG')\n",
        "\n"
      ],
      "execution_count": null,
      "outputs": [
        {
          "output_type": "execute_result",
          "data": {
            "text/plain": [
              "<matplotlib.axes._subplots.AxesSubplot at 0x7f2317135550>"
            ]
          },
          "metadata": {
            "tags": []
          },
          "execution_count": 14
        },
        {
          "output_type": "display_data",
          "data": {
            "image/png": "[encoded data removed]",
            "text/plain": [
              "<Figure size 432x288 with 1 Axes>"
            ]
          },
          "metadata": {
            "tags": [],
            "needs_background": "light"
          }
        }
      ]
    },
    {
      "cell_type": "markdown",
      "metadata": {
        "id": "oGDJQq-S8UQm"
      },
      "source": [
        "#Combining Text with the rest of the features"
      ]
    },
    {
      "cell_type": "code",
      "metadata": {
        "id": "ybtObZAH8wlP"
      },
      "source": [
        "df=pd.read_csv(\"/content/drive/MyDrive/BTECH_PRO_COE1,29,48/time_fol_main.csv\")\n"
      ],
      "execution_count": null,
      "outputs": []
    },
    {
      "cell_type": "code",
      "metadata": {
        "colab": {
          "base_uri": "https://localhost:8080/",
          "height": 202
        },
        "id": "FGB4sTiD9LbS",
        "outputId": "e67167e8-d5ea-4ebd-82f5-6a11a64d2587"
      },
      "source": [
        "textdata.head()"
      ],
      "execution_count": null,
      "outputs": [
        {
          "output_type": "execute_result",
          "data": {
            "text/html": [
              "<div>\n",
              "<style scoped>\n",
              "    .dataframe tbody tr th:only-of-type {\n",
              "        vertical-align: middle;\n",
              "    }\n",
              "\n",
              "    .dataframe tbody tr th {\n",
              "        vertical-align: top;\n",
              "    }\n",
              "\n",
              "    .dataframe thead th {\n",
              "        text-align: right;\n",
              "    }\n",
              "</style>\n",
              "<table border=\"1\" class=\"dataframe\">\n",
              "  <thead>\n",
              "    <tr style=\"text-align: right;\">\n",
              "      <th></th>\n",
              "      <th>id</th>\n",
              "      <th>senti</th>\n",
              "      <th>PERSON</th>\n",
              "      <th>NORP</th>\n",
              "      <th>GPE</th>\n",
              "      <th>ORG</th>\n",
              "      <th>Verb count</th>\n",
              "      <th>Noun count</th>\n",
              "      <th>Adjective count</th>\n",
              "      <th>label_y</th>\n",
              "    </tr>\n",
              "  </thead>\n",
              "  <tbody>\n",
              "    <tr>\n",
              "      <th>0</th>\n",
              "      <td>494475371278909441</td>\n",
              "      <td>-0.500000</td>\n",
              "      <td>0</td>\n",
              "      <td>0</td>\n",
              "      <td>0</td>\n",
              "      <td>0</td>\n",
              "      <td>1</td>\n",
              "      <td>2</td>\n",
              "      <td>2</td>\n",
              "      <td>0</td>\n",
              "    </tr>\n",
              "    <tr>\n",
              "      <th>1</th>\n",
              "      <td>494480095512248320</td>\n",
              "      <td>-0.533333</td>\n",
              "      <td>0</td>\n",
              "      <td>0</td>\n",
              "      <td>0</td>\n",
              "      <td>0</td>\n",
              "      <td>2</td>\n",
              "      <td>3</td>\n",
              "      <td>4</td>\n",
              "      <td>0</td>\n",
              "    </tr>\n",
              "    <tr>\n",
              "      <th>2</th>\n",
              "      <td>494476039628673024</td>\n",
              "      <td>-0.533333</td>\n",
              "      <td>0</td>\n",
              "      <td>0</td>\n",
              "      <td>0</td>\n",
              "      <td>0</td>\n",
              "      <td>2</td>\n",
              "      <td>5</td>\n",
              "      <td>3</td>\n",
              "      <td>0</td>\n",
              "    </tr>\n",
              "    <tr>\n",
              "      <th>3</th>\n",
              "      <td>494514485957525504</td>\n",
              "      <td>-0.500000</td>\n",
              "      <td>0</td>\n",
              "      <td>0</td>\n",
              "      <td>0</td>\n",
              "      <td>1</td>\n",
              "      <td>1</td>\n",
              "      <td>4</td>\n",
              "      <td>2</td>\n",
              "      <td>0</td>\n",
              "    </tr>\n",
              "    <tr>\n",
              "      <th>4</th>\n",
              "      <td>494479344186585089</td>\n",
              "      <td>-0.500000</td>\n",
              "      <td>0</td>\n",
              "      <td>0</td>\n",
              "      <td>0</td>\n",
              "      <td>0</td>\n",
              "      <td>1</td>\n",
              "      <td>4</td>\n",
              "      <td>1</td>\n",
              "      <td>0</td>\n",
              "    </tr>\n",
              "  </tbody>\n",
              "</table>\n",
              "</div>"
            ],
            "text/plain": [
              "                   id     senti  PERSON  ...  Noun count  Adjective count  label_y\n",
              "0  494475371278909441 -0.500000       0  ...           2                2        0\n",
              "1  494480095512248320 -0.533333       0  ...           3                4        0\n",
              "2  494476039628673024 -0.533333       0  ...           5                3        0\n",
              "3  494514485957525504 -0.500000       0  ...           4                2        0\n",
              "4  494479344186585089 -0.500000       0  ...           4                1        0\n",
              "\n",
              "[5 rows x 10 columns]"
            ]
          },
          "metadata": {
            "tags": []
          },
          "execution_count": 61
        }
      ]
    },
    {
      "cell_type": "code",
      "metadata": {
        "colab": {
          "base_uri": "https://localhost:8080/",
          "height": 314
        },
        "id": "Oxo1lewP-Cc8",
        "outputId": "90bc4954-0065-446e-d6a7-66a57cd80501"
      },
      "source": [
        "df.describe()"
      ],
      "execution_count": null,
      "outputs": [
        {
          "output_type": "execute_result",
          "data": {
            "text/html": [
              "<div>\n",
              "<style scoped>\n",
              "    .dataframe tbody tr th:only-of-type {\n",
              "        vertical-align: middle;\n",
              "    }\n",
              "\n",
              "    .dataframe tbody tr th {\n",
              "        vertical-align: top;\n",
              "    }\n",
              "\n",
              "    .dataframe thead th {\n",
              "        text-align: right;\n",
              "    }\n",
              "</style>\n",
              "<table border=\"1\" class=\"dataframe\">\n",
              "  <thead>\n",
              "    <tr style=\"text-align: right;\">\n",
              "      <th></th>\n",
              "      <th>Unnamed: 0</th>\n",
              "      <th>Article_id</th>\n",
              "      <th>Tweet_id</th>\n",
              "      <th>User_id</th>\n",
              "      <th>acc_tweet_time</th>\n",
              "      <th>art_tweet_time</th>\n",
              "      <th>art_acc_time</th>\n",
              "      <th>Label</th>\n",
              "      <th>followers_count</th>\n",
              "      <th>friends_count</th>\n",
              "      <th>statuses_count</th>\n",
              "    </tr>\n",
              "  </thead>\n",
              "  <tbody>\n",
              "    <tr>\n",
              "      <th>count</th>\n",
              "      <td>1350.000000</td>\n",
              "      <td>1350.000000</td>\n",
              "      <td>1.350000e+03</td>\n",
              "      <td>1.350000e+03</td>\n",
              "      <td>1.350000e+03</td>\n",
              "      <td>1.350000e+03</td>\n",
              "      <td>1.350000e+03</td>\n",
              "      <td>1350.000000</td>\n",
              "      <td>1.129000e+03</td>\n",
              "      <td>1129.000000</td>\n",
              "      <td>1.129000e+03</td>\n",
              "    </tr>\n",
              "    <tr>\n",
              "      <th>mean</th>\n",
              "      <td>674.500000</td>\n",
              "      <td>13630.205185</td>\n",
              "      <td>8.562588e+17</td>\n",
              "      <td>1.229682e+17</td>\n",
              "      <td>1.545065e+08</td>\n",
              "      <td>2.868146e+07</td>\n",
              "      <td>-1.258251e+08</td>\n",
              "      <td>0.894074</td>\n",
              "      <td>4.991035e+04</td>\n",
              "      <td>2795.337467</td>\n",
              "      <td>7.065684e+04</td>\n",
              "    </tr>\n",
              "    <tr>\n",
              "      <th>std</th>\n",
              "      <td>389.855743</td>\n",
              "      <td>3515.432504</td>\n",
              "      <td>1.428239e+17</td>\n",
              "      <td>2.927053e+17</td>\n",
              "      <td>8.908458e+07</td>\n",
              "      <td>8.224306e+07</td>\n",
              "      <td>1.131240e+08</td>\n",
              "      <td>0.307857</td>\n",
              "      <td>1.355683e+06</td>\n",
              "      <td>6540.946607</td>\n",
              "      <td>1.844373e+05</td>\n",
              "    </tr>\n",
              "    <tr>\n",
              "      <th>min</th>\n",
              "      <td>0.000000</td>\n",
              "      <td>513.000000</td>\n",
              "      <td>3.317999e+17</td>\n",
              "      <td>8.070950e+05</td>\n",
              "      <td>1.243000e+03</td>\n",
              "      <td>-1.859993e+07</td>\n",
              "      <td>-3.304299e+08</td>\n",
              "      <td>0.000000</td>\n",
              "      <td>0.000000e+00</td>\n",
              "      <td>0.000000</td>\n",
              "      <td>2.000000e+00</td>\n",
              "    </tr>\n",
              "    <tr>\n",
              "      <th>25%</th>\n",
              "      <td>337.250000</td>\n",
              "      <td>13806.000000</td>\n",
              "      <td>7.754538e+17</td>\n",
              "      <td>7.759311e+07</td>\n",
              "      <td>7.272590e+07</td>\n",
              "      <td>-1.234860e+05</td>\n",
              "      <td>-2.138384e+08</td>\n",
              "      <td>1.000000</td>\n",
              "      <td>9.900000e+01</td>\n",
              "      <td>231.000000</td>\n",
              "      <td>8.007000e+03</td>\n",
              "    </tr>\n",
              "    <tr>\n",
              "      <th>50%</th>\n",
              "      <td>674.500000</td>\n",
              "      <td>14328.000000</td>\n",
              "      <td>8.805202e+17</td>\n",
              "      <td>4.594939e+08</td>\n",
              "      <td>1.625056e+08</td>\n",
              "      <td>7.843150e+04</td>\n",
              "      <td>-1.349708e+08</td>\n",
              "      <td>1.000000</td>\n",
              "      <td>5.850000e+02</td>\n",
              "      <td>966.000000</td>\n",
              "      <td>2.391600e+04</td>\n",
              "    </tr>\n",
              "    <tr>\n",
              "      <th>75%</th>\n",
              "      <td>1011.750000</td>\n",
              "      <td>15280.000000</td>\n",
              "      <td>9.729419e+17</td>\n",
              "      <td>2.656898e+09</td>\n",
              "      <td>2.283448e+08</td>\n",
              "      <td>5.891988e+05</td>\n",
              "      <td>-4.770215e+07</td>\n",
              "      <td>1.000000</td>\n",
              "      <td>2.936000e+03</td>\n",
              "      <td>2959.000000</td>\n",
              "      <td>7.602800e+04</td>\n",
              "    </tr>\n",
              "    <tr>\n",
              "      <th>max</th>\n",
              "      <td>1349.000000</td>\n",
              "      <td>15591.000000</td>\n",
              "      <td>1.068794e+18</td>\n",
              "      <td>1.014714e+18</td>\n",
              "      <td>3.589995e+08</td>\n",
              "      <td>3.193802e+08</td>\n",
              "      <td>3.013750e+08</td>\n",
              "      <td>1.000000</td>\n",
              "      <td>4.540923e+07</td>\n",
              "      <td>116605.000000</td>\n",
              "      <td>3.467094e+06</td>\n",
              "    </tr>\n",
              "  </tbody>\n",
              "</table>\n",
              "</div>"
            ],
            "text/plain": [
              "        Unnamed: 0    Article_id  ...  friends_count  statuses_count\n",
              "count  1350.000000   1350.000000  ...    1129.000000    1.129000e+03\n",
              "mean    674.500000  13630.205185  ...    2795.337467    7.065684e+04\n",
              "std     389.855743   3515.432504  ...    6540.946607    1.844373e+05\n",
              "min       0.000000    513.000000  ...       0.000000    2.000000e+00\n",
              "25%     337.250000  13806.000000  ...     231.000000    8.007000e+03\n",
              "50%     674.500000  14328.000000  ...     966.000000    2.391600e+04\n",
              "75%    1011.750000  15280.000000  ...    2959.000000    7.602800e+04\n",
              "max    1349.000000  15591.000000  ...  116605.000000    3.467094e+06\n",
              "\n",
              "[8 rows x 11 columns]"
            ]
          },
          "metadata": {
            "tags": []
          },
          "execution_count": 59
        }
      ]
    },
    {
      "cell_type": "code",
      "metadata": {
        "colab": {
          "base_uri": "https://localhost:8080/",
          "height": 202
        },
        "id": "vvKxXyy6A957",
        "outputId": "4df6e875-c76b-41c1-bb97-87a8a6425a97"
      },
      "source": [
        "data.head()\n"
      ],
      "execution_count": null,
      "outputs": [
        {
          "output_type": "execute_result",
          "data": {
            "text/html": [
              "<div>\n",
              "<style scoped>\n",
              "    .dataframe tbody tr th:only-of-type {\n",
              "        vertical-align: middle;\n",
              "    }\n",
              "\n",
              "    .dataframe tbody tr th {\n",
              "        vertical-align: top;\n",
              "    }\n",
              "\n",
              "    .dataframe thead th {\n",
              "        text-align: right;\n",
              "    }\n",
              "</style>\n",
              "<table border=\"1\" class=\"dataframe\">\n",
              "  <thead>\n",
              "    <tr style=\"text-align: right;\">\n",
              "      <th></th>\n",
              "      <th>Unnamed: 0</th>\n",
              "      <th>id</th>\n",
              "      <th>Verb count</th>\n",
              "      <th>Noun count</th>\n",
              "      <th>Adjective count</th>\n",
              "      <th>label</th>\n",
              "    </tr>\n",
              "  </thead>\n",
              "  <tbody>\n",
              "    <tr>\n",
              "      <th>0</th>\n",
              "      <td>0</td>\n",
              "      <td>494475371278909441</td>\n",
              "      <td>1</td>\n",
              "      <td>2</td>\n",
              "      <td>2</td>\n",
              "      <td>0</td>\n",
              "    </tr>\n",
              "    <tr>\n",
              "      <th>1</th>\n",
              "      <td>1</td>\n",
              "      <td>494480095512248320</td>\n",
              "      <td>2</td>\n",
              "      <td>3</td>\n",
              "      <td>4</td>\n",
              "      <td>0</td>\n",
              "    </tr>\n",
              "    <tr>\n",
              "      <th>2</th>\n",
              "      <td>2</td>\n",
              "      <td>494476039628673024</td>\n",
              "      <td>2</td>\n",
              "      <td>5</td>\n",
              "      <td>3</td>\n",
              "      <td>0</td>\n",
              "    </tr>\n",
              "    <tr>\n",
              "      <th>3</th>\n",
              "      <td>3</td>\n",
              "      <td>494514485957525504</td>\n",
              "      <td>1</td>\n",
              "      <td>4</td>\n",
              "      <td>2</td>\n",
              "      <td>0</td>\n",
              "    </tr>\n",
              "    <tr>\n",
              "      <th>4</th>\n",
              "      <td>4</td>\n",
              "      <td>494479344186585089</td>\n",
              "      <td>1</td>\n",
              "      <td>4</td>\n",
              "      <td>1</td>\n",
              "      <td>0</td>\n",
              "    </tr>\n",
              "  </tbody>\n",
              "</table>\n",
              "</div>"
            ],
            "text/plain": [
              "   Unnamed: 0                  id  ...  Adjective count  label\n",
              "0           0  494475371278909441  ...                2      0\n",
              "1           1  494480095512248320  ...                4      0\n",
              "2           2  494476039628673024  ...                3      0\n",
              "3           3  494514485957525504  ...                2      0\n",
              "4           4  494479344186585089  ...                1      0\n",
              "\n",
              "[5 rows x 6 columns]"
            ]
          },
          "metadata": {
            "tags": []
          },
          "execution_count": 2
        }
      ]
    },
    {
      "cell_type": "code",
      "metadata": {
        "id": "CNioZ-krNU0w"
      },
      "source": [
        "plt.title('Verb count')\n",
        "sns.boxplot(x=\"label\",y=\"sentiment\",data=data)"
      ],
      "execution_count": null,
      "outputs": []
    },
    {
      "cell_type": "code",
      "metadata": {
        "colab": {
          "base_uri": "https://localhost:8080/",
          "height": 313
        },
        "id": "L3dy3RuOoYeZ",
        "outputId": "e80c570f-7970-48cd-d9c3-5b975a3449e4"
      },
      "source": [
        "import seaborn as sns\n",
        "import matplotlib.pyplot as plt\n",
        "\n",
        "plt.title('Verb count for fake and real labelled tweets')\n",
        "sns.boxplot(x=\"label\",y=\"Verb count\",data=data)\n",
        "\n"
      ],
      "execution_count": null,
      "outputs": [
        {
          "output_type": "execute_result",
          "data": {
            "text/plain": [
              "<matplotlib.axes._subplots.AxesSubplot at 0x7fb04dcd9110>"
            ]
          },
          "metadata": {
            "tags": []
          },
          "execution_count": 5
        },
        {
          "output_type": "display_data",
          "data": {
            "image/png": "[encoded data removed]",
            "text/plain": [
              "<Figure size 432x288 with 1 Axes>"
            ]
          },
          "metadata": {
            "tags": []
          }
        }
      ]
    },
    {
      "cell_type": "code",
      "metadata": {
        "id": "8GQwNJvJrWm-"
      },
      "source": [
        "df=pd.read_csv(\"/content/drive/MyDrive/BTECH_PRO_COE1,29,48/Combined_timeline_labelled_time.csv\")"
      ],
      "execution_count": null,
      "outputs": []
    },
    {
      "cell_type": "code",
      "metadata": {
        "colab": {
          "base_uri": "https://localhost:8080/",
          "height": 239
        },
        "id": "tP3AeY46rdb0",
        "outputId": "33e63fae-8c71-4b8c-bd13-7bb27df4af47"
      },
      "source": [
        "df.head()"
      ],
      "execution_count": null,
      "outputs": [
        {
          "output_type": "execute_result",
          "data": {
            "text/html": [
              "<div>\n",
              "<style scoped>\n",
              "    .dataframe tbody tr th:only-of-type {\n",
              "        vertical-align: middle;\n",
              "    }\n",
              "\n",
              "    .dataframe tbody tr th {\n",
              "        vertical-align: top;\n",
              "    }\n",
              "\n",
              "    .dataframe thead th {\n",
              "        text-align: right;\n",
              "    }\n",
              "</style>\n",
              "<table border=\"1\" class=\"dataframe\">\n",
              "  <thead>\n",
              "    <tr style=\"text-align: right;\">\n",
              "      <th></th>\n",
              "      <th>Unnamed: 0</th>\n",
              "      <th>Unnamed: 0.1</th>\n",
              "      <th>User_id</th>\n",
              "      <th>Tweet_id</th>\n",
              "      <th>Time_acc_tweet</th>\n",
              "      <th>followers_count</th>\n",
              "      <th>friends_count</th>\n",
              "      <th>statuses_count</th>\n",
              "      <th>interacted_with_fake</th>\n",
              "      <th>interacted_with_real</th>\n",
              "    </tr>\n",
              "  </thead>\n",
              "  <tbody>\n",
              "    <tr>\n",
              "      <th>0</th>\n",
              "      <td>0</td>\n",
              "      <td>0</td>\n",
              "      <td>255637301</td>\n",
              "      <td>1237756123798745089</td>\n",
              "      <td>285622350.0</td>\n",
              "      <td>852.0</td>\n",
              "      <td>719.0</td>\n",
              "      <td>62227.0</td>\n",
              "      <td>0.0</td>\n",
              "      <td>1.0</td>\n",
              "    </tr>\n",
              "    <tr>\n",
              "      <th>1</th>\n",
              "      <td>1</td>\n",
              "      <td>1</td>\n",
              "      <td>255637301</td>\n",
              "      <td>1237756042387361793</td>\n",
              "      <td>285622331.0</td>\n",
              "      <td>852.0</td>\n",
              "      <td>719.0</td>\n",
              "      <td>62227.0</td>\n",
              "      <td>0.0</td>\n",
              "      <td>1.0</td>\n",
              "    </tr>\n",
              "    <tr>\n",
              "      <th>2</th>\n",
              "      <td>2</td>\n",
              "      <td>2</td>\n",
              "      <td>255637301</td>\n",
              "      <td>1237755941883346946</td>\n",
              "      <td>285622307.0</td>\n",
              "      <td>852.0</td>\n",
              "      <td>719.0</td>\n",
              "      <td>62227.0</td>\n",
              "      <td>0.0</td>\n",
              "      <td>1.0</td>\n",
              "    </tr>\n",
              "    <tr>\n",
              "      <th>3</th>\n",
              "      <td>3</td>\n",
              "      <td>3</td>\n",
              "      <td>255637301</td>\n",
              "      <td>1237755621618995202</td>\n",
              "      <td>285622231.0</td>\n",
              "      <td>852.0</td>\n",
              "      <td>719.0</td>\n",
              "      <td>62227.0</td>\n",
              "      <td>0.0</td>\n",
              "      <td>1.0</td>\n",
              "    </tr>\n",
              "    <tr>\n",
              "      <th>4</th>\n",
              "      <td>4</td>\n",
              "      <td>4</td>\n",
              "      <td>255637301</td>\n",
              "      <td>1237755147088003072</td>\n",
              "      <td>285622118.0</td>\n",
              "      <td>852.0</td>\n",
              "      <td>719.0</td>\n",
              "      <td>62227.0</td>\n",
              "      <td>0.0</td>\n",
              "      <td>1.0</td>\n",
              "    </tr>\n",
              "  </tbody>\n",
              "</table>\n",
              "</div>"
            ],
            "text/plain": [
              "   Unnamed: 0  Unnamed: 0.1  ...  interacted_with_fake  interacted_with_real\n",
              "0           0             0  ...                   0.0                   1.0\n",
              "1           1             1  ...                   0.0                   1.0\n",
              "2           2             2  ...                   0.0                   1.0\n",
              "3           3             3  ...                   0.0                   1.0\n",
              "4           4             4  ...                   0.0                   1.0\n",
              "\n",
              "[5 rows x 10 columns]"
            ]
          },
          "metadata": {
            "tags": []
          },
          "execution_count": 9
        }
      ]
    },
    {
      "cell_type": "code",
      "metadata": {
        "colab": {
          "base_uri": "https://localhost:8080/"
        },
        "id": "WDORUteZR6PH",
        "outputId": "1e9d8abc-fc7b-4616-c9c2-e7171b69a7cd"
      },
      "source": [
        "print(len(df['User_id']))"
      ],
      "execution_count": null,
      "outputs": [
        {
          "output_type": "stream",
          "text": [
            "767695\n"
          ],
          "name": "stdout"
        }
      ]
    },
    {
      "cell_type": "code",
      "metadata": {
        "id": "_NqVpz5WO9NF"
      },
      "source": [
        "Userid=df['User_id']\n",
        "Tweetid=df['Tweet_id']\n",
        "c=0\n",
        "verb=[]\n",
        "noun=[]\n",
        "adj=[]\n",
        "import os\n",
        "import json\n",
        "for file in os.listdir(\"/content/drive/MyDrive/BTECH_PRO_COE1,29,48/FakeNewDet-FYP/code/fakenewsnet_dataset/user_timeline_tweets\"):\n",
        "  f=open('/content/drive/MyDrive/BTECH_PRO_COE1,29,48/FakeNewDet-FYP/code/fakenewsnet_dataset/user_timeline_tweets/'+str(file))\n",
        "  d=json.load(f)\n",
        "  for tweet in d:\n",
        "    if tweet['id']==Tweetid[c] and tweet['user']['id']==Userid[c]:\n",
        "      print(tweet['text'])\n",
        "      cleaned=test.cleantext(tweet['text'])\n",
        "      if cleaned==\"\":\n",
        "        vb=0\n",
        "        n=0\n",
        "        ad=0\n",
        "      else:\n",
        "        vb=0\n",
        "        n=0\n",
        "        ad=0\n",
        "        token = word_tokenize(cleaned.lower())\n",
        "        s=nltk.pos_tag(token)\n",
        "        for pos in s:\n",
        "          if len(str(pos[0]))>1:\n",
        "            if 'VB' in str(pos[1]):\n",
        "              vb+=1\n",
        "            if 'NN' in str(pos[1]):     \n",
        "              n+=1\n",
        "            if 'JJ' in str(pos[1]):\n",
        "              ad+=1\n",
        "      verb.append(vb)\n",
        "      noun.append(n)\n",
        "      adj.append(adj)\n",
        "      c+=1"
      ],
      "execution_count": null,
      "outputs": []
    },
    {
      "cell_type": "code",
      "metadata": {
        "id": "VD23QT8USsT9"
      },
      "source": [
        "df['Verbcount']=verb\n",
        "df['Nouncount']=noun\n",
        "df['Adjectivecount']=adj"
      ],
      "execution_count": null,
      "outputs": []
    },
    {
      "cell_type": "code",
      "metadata": {
        "id": "x6A2FC3dmULw"
      },
      "source": [
        "df.head()"
      ],
      "execution_count": null,
      "outputs": []
    },
    {
      "cell_type": "code",
      "metadata": {
        "id": "AYkqzXKomcEL"
      },
      "source": [
        "df.to_csv(\"\")"
      ],
      "execution_count": null,
      "outputs": []
    },
    {
      "cell_type": "code",
      "metadata": {
        "colab": {
          "base_uri": "https://localhost:8080/"
        },
        "id": "m7Cx42YYszcl",
        "outputId": "9961c95a-49b2-4920-888c-c93957571e99"
      },
      "source": [
        "df.columns"
      ],
      "execution_count": null,
      "outputs": [
        {
          "output_type": "execute_result",
          "data": {
            "text/plain": [
              "Index(['Unnamed: 0', 'Unnamed: 0.1', 'User_id', 'Tweet_id', 'Time_acc_tweet',\n",
              "       'followers_count', 'friends_count', 'statuses_count',\n",
              "       'interacted_with_fake', 'interacted_with_real'],\n",
              "      dtype='object')"
            ]
          },
          "metadata": {
            "tags": []
          },
          "execution_count": 25
        }
      ]
    },
    {
      "cell_type": "code",
      "metadata": {
        "id": "fcFvkv6-rzhK"
      },
      "source": [
        "c=0\n",
        "usersentilist=[]\n",
        "\n",
        "for i in df['User_id']:\n",
        "  f=open('/content/drive/MyDrive/BTECH_PRO_COE1,29,48/FakeNewDet-FYP/code/fakenewsnet_dataset/user_timeline_tweets/'+str(i)+'.json')\n",
        "  d=json.load(f)\n",
        "  print(df.iloc[c,3])  \n",
        "  for j in d:\n",
        "    if j['id']==df.iloc[c,3]:\n",
        "      cleaned=test.cleantext(j['text'])\n",
        "      k=test.txtblobsenti(cleaned)\n",
        "      usersentilist.append(k[0])\n",
        "  c+=1"
      ],
      "execution_count": null,
      "outputs": []
    },
    {
      "cell_type": "code",
      "metadata": {
        "id": "m9XtOqj9A0b1"
      },
      "source": [
        "def writetotext(filename,rec_res):\n",
        "#input directory that contains the scanned images\n",
        "  input_dir= '/content/gdrive/MyDrive/textjpgs/'\n",
        "  filename=filename.lstrip(input_dir)\n",
        "\n",
        "  #output directory where the txt file will be saved\n",
        "  directory= \"/content/gdrive/MyDrive/Paddle_OCR/PaddleOCR/inference_results/text_txt/\"\n",
        "\n",
        "  outfile=directory+filename+\".txt\"\n",
        "  f=open(outfile,'w')\n",
        "  for text in rec_res:\n",
        "    f.write(text+'\\n')\n",
        "  f.close()"
      ],
      "execution_count": null,
      "outputs": []
    },
    {
      "cell_type": "markdown",
      "metadata": {
        "id": "N3CqcCUaYePr"
      },
      "source": [
        "#Sentiment analysis"
      ]
    },
    {
      "cell_type": "code",
      "metadata": {
        "id": "41Y3BsYwbx6e"
      },
      "source": [
        "import pandas as pd\n",
        "data1=pd.read_csv(\"/content/drive/MyDrive/BTECH_PRO_COE1,29,48/time_fol_text.csv\")\n"
      ],
      "execution_count": null,
      "outputs": []
    },
    {
      "cell_type": "code",
      "metadata": {
        "colab": {
          "base_uri": "https://localhost:8080/",
          "height": 239
        },
        "id": "MiEBQcP8f4kA",
        "outputId": "29894050-2056-4a77-a5c1-a984994f0c27"
      },
      "source": [
        "data1.head()"
      ],
      "execution_count": null,
      "outputs": [
        {
          "output_type": "execute_result",
          "data": {
            "text/html": [
              "<div>\n",
              "<style scoped>\n",
              "    .dataframe tbody tr th:only-of-type {\n",
              "        vertical-align: middle;\n",
              "    }\n",
              "\n",
              "    .dataframe tbody tr th {\n",
              "        vertical-align: top;\n",
              "    }\n",
              "\n",
              "    .dataframe thead th {\n",
              "        text-align: right;\n",
              "    }\n",
              "</style>\n",
              "<table border=\"1\" class=\"dataframe\">\n",
              "  <thead>\n",
              "    <tr style=\"text-align: right;\">\n",
              "      <th></th>\n",
              "      <th>Unnamed: 0</th>\n",
              "      <th>Article_id</th>\n",
              "      <th>Tweet_id</th>\n",
              "      <th>User_id</th>\n",
              "      <th>acc_tweet_time</th>\n",
              "      <th>art_tweet_time</th>\n",
              "      <th>art_acc_time</th>\n",
              "      <th>Label</th>\n",
              "      <th>followers_count</th>\n",
              "      <th>friends_count</th>\n",
              "      <th>statuses_count</th>\n",
              "      <th>Verb count</th>\n",
              "      <th>Noun count</th>\n",
              "      <th>Adjective count</th>\n",
              "    </tr>\n",
              "  </thead>\n",
              "  <tbody>\n",
              "    <tr>\n",
              "      <th>0</th>\n",
              "      <td>0</td>\n",
              "      <td>513</td>\n",
              "      <td>1019342286893801480</td>\n",
              "      <td>2964254435</td>\n",
              "      <td>111309433.0</td>\n",
              "      <td>319369034.0</td>\n",
              "      <td>208059601.0</td>\n",
              "      <td>0</td>\n",
              "      <td>1681.0</td>\n",
              "      <td>699.0</td>\n",
              "      <td>14184.0</td>\n",
              "      <td>2.0</td>\n",
              "      <td>4.0</td>\n",
              "      <td>0.0</td>\n",
              "    </tr>\n",
              "    <tr>\n",
              "      <th>1</th>\n",
              "      <td>1</td>\n",
              "      <td>513</td>\n",
              "      <td>1019334214460821504</td>\n",
              "      <td>1978998907</td>\n",
              "      <td>149496448.0</td>\n",
              "      <td>319367109.0</td>\n",
              "      <td>169870661.0</td>\n",
              "      <td>0</td>\n",
              "      <td>40.0</td>\n",
              "      <td>117.0</td>\n",
              "      <td>5917.0</td>\n",
              "      <td>2.0</td>\n",
              "      <td>6.0</td>\n",
              "      <td>1.0</td>\n",
              "    </tr>\n",
              "    <tr>\n",
              "      <th>2</th>\n",
              "      <td>2</td>\n",
              "      <td>513</td>\n",
              "      <td>1019330010279239680</td>\n",
              "      <td>259380130</td>\n",
              "      <td>232852005.0</td>\n",
              "      <td>319366107.0</td>\n",
              "      <td>86514102.0</td>\n",
              "      <td>0</td>\n",
              "      <td>1135.0</td>\n",
              "      <td>1592.0</td>\n",
              "      <td>100413.0</td>\n",
              "      <td>2.0</td>\n",
              "      <td>7.0</td>\n",
              "      <td>2.0</td>\n",
              "    </tr>\n",
              "    <tr>\n",
              "      <th>3</th>\n",
              "      <td>3</td>\n",
              "      <td>513</td>\n",
              "      <td>1019330809688461319</td>\n",
              "      <td>295632077</td>\n",
              "      <td>226920458.0</td>\n",
              "      <td>319366297.0</td>\n",
              "      <td>92445839.0</td>\n",
              "      <td>0</td>\n",
              "      <td>565.0</td>\n",
              "      <td>282.0</td>\n",
              "      <td>72348.0</td>\n",
              "      <td>0.0</td>\n",
              "      <td>4.0</td>\n",
              "      <td>1.0</td>\n",
              "    </tr>\n",
              "    <tr>\n",
              "      <th>4</th>\n",
              "      <td>4</td>\n",
              "      <td>513</td>\n",
              "      <td>1019329269166673920</td>\n",
              "      <td>1978998907</td>\n",
              "      <td>149495269.0</td>\n",
              "      <td>319365930.0</td>\n",
              "      <td>169870661.0</td>\n",
              "      <td>0</td>\n",
              "      <td>40.0</td>\n",
              "      <td>117.0</td>\n",
              "      <td>5917.0</td>\n",
              "      <td>2.0</td>\n",
              "      <td>6.0</td>\n",
              "      <td>1.0</td>\n",
              "    </tr>\n",
              "  </tbody>\n",
              "</table>\n",
              "</div>"
            ],
            "text/plain": [
              "   Unnamed: 0  Article_id  ...  Noun count  Adjective count\n",
              "0           0         513  ...         4.0              0.0\n",
              "1           1         513  ...         6.0              1.0\n",
              "2           2         513  ...         7.0              2.0\n",
              "3           3         513  ...         4.0              1.0\n",
              "4           4         513  ...         6.0              1.0\n",
              "\n",
              "[5 rows x 14 columns]"
            ]
          },
          "metadata": {
            "tags": []
          },
          "execution_count": 22
        }
      ]
    },
    {
      "cell_type": "code",
      "metadata": {
        "colab": {
          "base_uri": "https://localhost:8080/",
          "height": 202
        },
        "id": "2IMscBSm2AHU",
        "outputId": "a4fa61f2-e112-43ad-de33-ca6669251af6"
      },
      "source": [
        "senti_data.head()"
      ],
      "execution_count": null,
      "outputs": [
        {
          "output_type": "execute_result",
          "data": {
            "text/html": [
              "<div>\n",
              "<style scoped>\n",
              "    .dataframe tbody tr th:only-of-type {\n",
              "        vertical-align: middle;\n",
              "    }\n",
              "\n",
              "    .dataframe tbody tr th {\n",
              "        vertical-align: top;\n",
              "    }\n",
              "\n",
              "    .dataframe thead th {\n",
              "        text-align: right;\n",
              "    }\n",
              "</style>\n",
              "<table border=\"1\" class=\"dataframe\">\n",
              "  <thead>\n",
              "    <tr style=\"text-align: right;\">\n",
              "      <th></th>\n",
              "      <th>Unnamed: 0</th>\n",
              "      <th>id</th>\n",
              "      <th>senti</th>\n",
              "      <th>label</th>\n",
              "    </tr>\n",
              "  </thead>\n",
              "  <tbody>\n",
              "    <tr>\n",
              "      <th>0</th>\n",
              "      <td>0</td>\n",
              "      <td>494475371278909441</td>\n",
              "      <td>-0.500000</td>\n",
              "      <td>0</td>\n",
              "    </tr>\n",
              "    <tr>\n",
              "      <th>1</th>\n",
              "      <td>1</td>\n",
              "      <td>494480095512248320</td>\n",
              "      <td>-0.533333</td>\n",
              "      <td>0</td>\n",
              "    </tr>\n",
              "    <tr>\n",
              "      <th>2</th>\n",
              "      <td>2</td>\n",
              "      <td>494476039628673024</td>\n",
              "      <td>-0.533333</td>\n",
              "      <td>0</td>\n",
              "    </tr>\n",
              "    <tr>\n",
              "      <th>3</th>\n",
              "      <td>3</td>\n",
              "      <td>494514485957525504</td>\n",
              "      <td>-0.500000</td>\n",
              "      <td>0</td>\n",
              "    </tr>\n",
              "    <tr>\n",
              "      <th>4</th>\n",
              "      <td>4</td>\n",
              "      <td>494479344186585089</td>\n",
              "      <td>-0.500000</td>\n",
              "      <td>0</td>\n",
              "    </tr>\n",
              "  </tbody>\n",
              "</table>\n",
              "</div>"
            ],
            "text/plain": [
              "   Unnamed: 0                  id     senti  label\n",
              "0           0  494475371278909441 -0.500000      0\n",
              "1           1  494480095512248320 -0.533333      0\n",
              "2           2  494476039628673024 -0.533333      0\n",
              "3           3  494514485957525504 -0.500000      0\n",
              "4           4  494479344186585089 -0.500000      0"
            ]
          },
          "metadata": {
            "tags": []
          },
          "execution_count": 24
        }
      ]
    },
    {
      "cell_type": "code",
      "metadata": {
        "colab": {
          "base_uri": "https://localhost:8080/"
        },
        "id": "zf3_MYqk14aH",
        "outputId": "0e9b7b89-b999-436e-b8f8-d0e6195f4128"
      },
      "source": [
        "len(data1)"
      ],
      "execution_count": null,
      "outputs": [
        {
          "output_type": "execute_result",
          "data": {
            "text/plain": [
              "1350"
            ]
          },
          "metadata": {
            "tags": []
          },
          "execution_count": 36
        }
      ]
    },
    {
      "cell_type": "code",
      "metadata": {
        "id": "0cPh__shgUA4"
      },
      "source": [
        "senti_data=pd.read_csv(\"/content/drive/MyDrive/BTECH_PRO_COE1,29,48/sentiments.csv\")"
      ],
      "execution_count": null,
      "outputs": []
    },
    {
      "cell_type": "code",
      "metadata": {
        "colab": {
          "base_uri": "https://localhost:8080/",
          "height": 202
        },
        "id": "CL8rDvFXgb4A",
        "outputId": "c6ef2279-8d11-492f-a3d0-e97c5334977a"
      },
      "source": [
        "senti_data.head()"
      ],
      "execution_count": null,
      "outputs": [
        {
          "output_type": "execute_result",
          "data": {
            "text/html": [
              "<div>\n",
              "<style scoped>\n",
              "    .dataframe tbody tr th:only-of-type {\n",
              "        vertical-align: middle;\n",
              "    }\n",
              "\n",
              "    .dataframe tbody tr th {\n",
              "        vertical-align: top;\n",
              "    }\n",
              "\n",
              "    .dataframe thead th {\n",
              "        text-align: right;\n",
              "    }\n",
              "</style>\n",
              "<table border=\"1\" class=\"dataframe\">\n",
              "  <thead>\n",
              "    <tr style=\"text-align: right;\">\n",
              "      <th></th>\n",
              "      <th>Unnamed: 0</th>\n",
              "      <th>Tweet_id</th>\n",
              "      <th>senti</th>\n",
              "      <th>label</th>\n",
              "    </tr>\n",
              "  </thead>\n",
              "  <tbody>\n",
              "    <tr>\n",
              "      <th>0</th>\n",
              "      <td>0</td>\n",
              "      <td>494475371278909441</td>\n",
              "      <td>-0.500000</td>\n",
              "      <td>0</td>\n",
              "    </tr>\n",
              "    <tr>\n",
              "      <th>1</th>\n",
              "      <td>1</td>\n",
              "      <td>494480095512248320</td>\n",
              "      <td>-0.533333</td>\n",
              "      <td>0</td>\n",
              "    </tr>\n",
              "    <tr>\n",
              "      <th>2</th>\n",
              "      <td>2</td>\n",
              "      <td>494476039628673024</td>\n",
              "      <td>-0.533333</td>\n",
              "      <td>0</td>\n",
              "    </tr>\n",
              "    <tr>\n",
              "      <th>3</th>\n",
              "      <td>3</td>\n",
              "      <td>494514485957525504</td>\n",
              "      <td>-0.500000</td>\n",
              "      <td>0</td>\n",
              "    </tr>\n",
              "    <tr>\n",
              "      <th>4</th>\n",
              "      <td>4</td>\n",
              "      <td>494479344186585089</td>\n",
              "      <td>-0.500000</td>\n",
              "      <td>0</td>\n",
              "    </tr>\n",
              "  </tbody>\n",
              "</table>\n",
              "</div>"
            ],
            "text/plain": [
              "   Unnamed: 0            Tweet_id     senti  label\n",
              "0           0  494475371278909441 -0.500000      0\n",
              "1           1  494480095512248320 -0.533333      0\n",
              "2           2  494476039628673024 -0.533333      0\n",
              "3           3  494514485957525504 -0.500000      0\n",
              "4           4  494479344186585089 -0.500000      0"
            ]
          },
          "metadata": {
            "tags": []
          },
          "execution_count": 29
        }
      ]
    },
    {
      "cell_type": "code",
      "metadata": {
        "id": "Oj17Kqm_3IQ3"
      },
      "source": [
        "NER_data = NER_data.rename(columns={'id': 'Tweet_id'})"
      ],
      "execution_count": null,
      "outputs": []
    },
    {
      "cell_type": "code",
      "metadata": {
        "colab": {
          "base_uri": "https://localhost:8080/"
        },
        "id": "8iEd0oE4Jnam",
        "outputId": "fb9cafee-c4a0-481b-9e06-e7ac00560785"
      },
      "source": [
        "NER_data.head()\n",
        "for i in range(0,len(NER_data)):\n",
        "  NER_data.iloc[i]['Tweet_id']=np.float64(NER_data.iloc[i]['Tweet_id'])"
      ],
      "execution_count": null,
      "outputs": [
        {
          "output_type": "stream",
          "text": [
            "/usr/local/lib/python3.7/dist-packages/ipykernel_launcher.py:3: SettingWithCopyWarning: \n",
            "A value is trying to be set on a copy of a slice from a DataFrame\n",
            "\n",
            "See the caveats in the documentation: https://pandas.pydata.org/pandas-docs/stable/user_guide/indexing.html#returning-a-view-versus-a-copy\n",
            "  This is separate from the ipykernel package so we can avoid doing imports until\n"
          ],
          "name": "stderr"
        }
      ]
    },
    {
      "cell_type": "code",
      "metadata": {
        "colab": {
          "base_uri": "https://localhost:8080/"
        },
        "id": "FDGaJlpYKtek",
        "outputId": "73c553df-74fe-4f9b-b1a4-bda2d030fd48"
      },
      "source": [
        "print(type(NER_data.iloc[0]['Tweet_id']))"
      ],
      "execution_count": null,
      "outputs": [
        {
          "output_type": "stream",
          "text": [
            "<class 'str'>\n"
          ],
          "name": "stdout"
        }
      ]
    },
    {
      "cell_type": "code",
      "metadata": {
        "id": "GlVYam7a3WQk"
      },
      "source": [
        "int_df = pd.merge(data1,NER_data, how='inner', on=['Tweet_id'])\n",
        "print(int_df)"
      ],
      "execution_count": null,
      "outputs": []
    },
    {
      "cell_type": "code",
      "metadata": {
        "colab": {
          "base_uri": "https://localhost:8080/"
        },
        "id": "_5F6X2Bh3gH0",
        "outputId": "fb326594-c4af-4994-8f3d-f51b2d340914"
      },
      "source": [
        "int_df.head()\n",
        "int_df=int_df.drop(columns=['Unnamed: 0_x','Unnamed: 0_y','label'])\n",
        "len(int_df)"
      ],
      "execution_count": null,
      "outputs": [
        {
          "output_type": "execute_result",
          "data": {
            "text/plain": [
              "1349"
            ]
          },
          "metadata": {
            "tags": []
          },
          "execution_count": 42
        }
      ]
    },
    {
      "cell_type": "code",
      "metadata": {
        "colab": {
          "base_uri": "https://localhost:8080/",
          "height": 239
        },
        "id": "rKR7S3ay4Gfu",
        "outputId": "d02dcd52-7aa5-4375-9731-5b4dd916d01d"
      },
      "source": [
        "int_df.head()"
      ],
      "execution_count": null,
      "outputs": [
        {
          "output_type": "execute_result",
          "data": {
            "text/html": [
              "<div>\n",
              "<style scoped>\n",
              "    .dataframe tbody tr th:only-of-type {\n",
              "        vertical-align: middle;\n",
              "    }\n",
              "\n",
              "    .dataframe tbody tr th {\n",
              "        vertical-align: top;\n",
              "    }\n",
              "\n",
              "    .dataframe thead th {\n",
              "        text-align: right;\n",
              "    }\n",
              "</style>\n",
              "<table border=\"1\" class=\"dataframe\">\n",
              "  <thead>\n",
              "    <tr style=\"text-align: right;\">\n",
              "      <th></th>\n",
              "      <th>Article_id</th>\n",
              "      <th>Tweet_id</th>\n",
              "      <th>User_id</th>\n",
              "      <th>acc_tweet_time</th>\n",
              "      <th>art_tweet_time</th>\n",
              "      <th>art_acc_time</th>\n",
              "      <th>Label</th>\n",
              "      <th>followers_count</th>\n",
              "      <th>friends_count</th>\n",
              "      <th>statuses_count</th>\n",
              "      <th>Verb count</th>\n",
              "      <th>Noun count</th>\n",
              "      <th>Adjective count</th>\n",
              "      <th>senti</th>\n",
              "    </tr>\n",
              "  </thead>\n",
              "  <tbody>\n",
              "    <tr>\n",
              "      <th>0</th>\n",
              "      <td>513</td>\n",
              "      <td>1019342286893801480</td>\n",
              "      <td>2964254435</td>\n",
              "      <td>111309433.0</td>\n",
              "      <td>319369034.0</td>\n",
              "      <td>208059601.0</td>\n",
              "      <td>0</td>\n",
              "      <td>1681.0</td>\n",
              "      <td>699.0</td>\n",
              "      <td>14184.0</td>\n",
              "      <td>2.0</td>\n",
              "      <td>4.0</td>\n",
              "      <td>0.0</td>\n",
              "      <td>0.000000</td>\n",
              "    </tr>\n",
              "    <tr>\n",
              "      <th>1</th>\n",
              "      <td>513</td>\n",
              "      <td>1019334214460821504</td>\n",
              "      <td>1978998907</td>\n",
              "      <td>149496448.0</td>\n",
              "      <td>319367109.0</td>\n",
              "      <td>169870661.0</td>\n",
              "      <td>0</td>\n",
              "      <td>40.0</td>\n",
              "      <td>117.0</td>\n",
              "      <td>5917.0</td>\n",
              "      <td>2.0</td>\n",
              "      <td>6.0</td>\n",
              "      <td>1.0</td>\n",
              "      <td>0.136364</td>\n",
              "    </tr>\n",
              "    <tr>\n",
              "      <th>2</th>\n",
              "      <td>513</td>\n",
              "      <td>1019330010279239680</td>\n",
              "      <td>259380130</td>\n",
              "      <td>232852005.0</td>\n",
              "      <td>319366107.0</td>\n",
              "      <td>86514102.0</td>\n",
              "      <td>0</td>\n",
              "      <td>1135.0</td>\n",
              "      <td>1592.0</td>\n",
              "      <td>100413.0</td>\n",
              "      <td>2.0</td>\n",
              "      <td>7.0</td>\n",
              "      <td>2.0</td>\n",
              "      <td>0.136364</td>\n",
              "    </tr>\n",
              "    <tr>\n",
              "      <th>3</th>\n",
              "      <td>513</td>\n",
              "      <td>1019330809688461319</td>\n",
              "      <td>295632077</td>\n",
              "      <td>226920458.0</td>\n",
              "      <td>319366297.0</td>\n",
              "      <td>92445839.0</td>\n",
              "      <td>0</td>\n",
              "      <td>565.0</td>\n",
              "      <td>282.0</td>\n",
              "      <td>72348.0</td>\n",
              "      <td>0.0</td>\n",
              "      <td>4.0</td>\n",
              "      <td>1.0</td>\n",
              "      <td>0.000000</td>\n",
              "    </tr>\n",
              "    <tr>\n",
              "      <th>4</th>\n",
              "      <td>513</td>\n",
              "      <td>1019329269166673920</td>\n",
              "      <td>1978998907</td>\n",
              "      <td>149495269.0</td>\n",
              "      <td>319365930.0</td>\n",
              "      <td>169870661.0</td>\n",
              "      <td>0</td>\n",
              "      <td>40.0</td>\n",
              "      <td>117.0</td>\n",
              "      <td>5917.0</td>\n",
              "      <td>2.0</td>\n",
              "      <td>6.0</td>\n",
              "      <td>1.0</td>\n",
              "      <td>0.136364</td>\n",
              "    </tr>\n",
              "  </tbody>\n",
              "</table>\n",
              "</div>"
            ],
            "text/plain": [
              "   Article_id             Tweet_id  ...  Adjective count     senti\n",
              "0         513  1019342286893801480  ...              0.0  0.000000\n",
              "1         513  1019334214460821504  ...              1.0  0.136364\n",
              "2         513  1019330010279239680  ...              2.0  0.136364\n",
              "3         513  1019330809688461319  ...              1.0  0.000000\n",
              "4         513  1019329269166673920  ...              1.0  0.136364\n",
              "\n",
              "[5 rows x 14 columns]"
            ]
          },
          "metadata": {
            "tags": []
          },
          "execution_count": 43
        }
      ]
    },
    {
      "cell_type": "code",
      "metadata": {
        "colab": {
          "base_uri": "https://localhost:8080/"
        },
        "id": "GYxT2z0OgfdS",
        "outputId": "4033b3c6-4728-47b9-a551-123a58a86c8d"
      },
      "source": [
        "for tweetid in senti_data['id']:\n",
        "  if tweetid==1019342286893801480:\n",
        "    print(\"hi\")\n",
        "    break\n"
      ],
      "execution_count": null,
      "outputs": [
        {
          "output_type": "stream",
          "text": [
            "hi\n"
          ],
          "name": "stdout"
        }
      ]
    },
    {
      "cell_type": "markdown",
      "metadata": {
        "id": "z_O1yroRxmCI"
      },
      "source": [
        "#Feature Selection with Modelling"
      ]
    },
    {
      "cell_type": "code",
      "metadata": {
        "id": "Trg6ukm7xoyl"
      },
      "source": [
        "import pandas as pd\n",
        "textdata=pd.read_csv(\"/content/drive/MyDrive/BTECH_PRO_COE1,29,48/textdata.csv\", index_col = [0])"
      ],
      "execution_count": null,
      "outputs": []
    },
    {
      "cell_type": "code",
      "metadata": {
        "colab": {
          "base_uri": "https://localhost:8080/",
          "height": 419
        },
        "id": "Mit0ReGtxrff",
        "outputId": "6999c07f-549b-4cef-8840-f18607879f16"
      },
      "source": [
        "textdata"
      ],
      "execution_count": null,
      "outputs": [
        {
          "output_type": "execute_result",
          "data": {
            "text/html": [
              "<div>\n",
              "<style scoped>\n",
              "    .dataframe tbody tr th:only-of-type {\n",
              "        vertical-align: middle;\n",
              "    }\n",
              "\n",
              "    .dataframe tbody tr th {\n",
              "        vertical-align: top;\n",
              "    }\n",
              "\n",
              "    .dataframe thead th {\n",
              "        text-align: right;\n",
              "    }\n",
              "</style>\n",
              "<table border=\"1\" class=\"dataframe\">\n",
              "  <thead>\n",
              "    <tr style=\"text-align: right;\">\n",
              "      <th></th>\n",
              "      <th>id</th>\n",
              "      <th>senti</th>\n",
              "      <th>PERSON</th>\n",
              "      <th>NORP</th>\n",
              "      <th>GPE</th>\n",
              "      <th>ORG</th>\n",
              "      <th>Verb count</th>\n",
              "      <th>Noun count</th>\n",
              "      <th>Adjective count</th>\n",
              "      <th>label_y</th>\n",
              "    </tr>\n",
              "  </thead>\n",
              "  <tbody>\n",
              "    <tr>\n",
              "      <th>0</th>\n",
              "      <td>494475371278909441</td>\n",
              "      <td>-0.500000</td>\n",
              "      <td>0</td>\n",
              "      <td>0</td>\n",
              "      <td>0</td>\n",
              "      <td>0</td>\n",
              "      <td>1</td>\n",
              "      <td>2</td>\n",
              "      <td>2</td>\n",
              "      <td>0</td>\n",
              "    </tr>\n",
              "    <tr>\n",
              "      <th>1</th>\n",
              "      <td>494480095512248320</td>\n",
              "      <td>-0.533333</td>\n",
              "      <td>0</td>\n",
              "      <td>0</td>\n",
              "      <td>0</td>\n",
              "      <td>0</td>\n",
              "      <td>2</td>\n",
              "      <td>3</td>\n",
              "      <td>4</td>\n",
              "      <td>0</td>\n",
              "    </tr>\n",
              "    <tr>\n",
              "      <th>2</th>\n",
              "      <td>494476039628673024</td>\n",
              "      <td>-0.533333</td>\n",
              "      <td>0</td>\n",
              "      <td>0</td>\n",
              "      <td>0</td>\n",
              "      <td>0</td>\n",
              "      <td>2</td>\n",
              "      <td>5</td>\n",
              "      <td>3</td>\n",
              "      <td>0</td>\n",
              "    </tr>\n",
              "    <tr>\n",
              "      <th>3</th>\n",
              "      <td>494514485957525504</td>\n",
              "      <td>-0.500000</td>\n",
              "      <td>0</td>\n",
              "      <td>0</td>\n",
              "      <td>0</td>\n",
              "      <td>1</td>\n",
              "      <td>1</td>\n",
              "      <td>4</td>\n",
              "      <td>2</td>\n",
              "      <td>0</td>\n",
              "    </tr>\n",
              "    <tr>\n",
              "      <th>4</th>\n",
              "      <td>494479344186585089</td>\n",
              "      <td>-0.500000</td>\n",
              "      <td>0</td>\n",
              "      <td>0</td>\n",
              "      <td>0</td>\n",
              "      <td>0</td>\n",
              "      <td>1</td>\n",
              "      <td>4</td>\n",
              "      <td>1</td>\n",
              "      <td>0</td>\n",
              "    </tr>\n",
              "    <tr>\n",
              "      <th>...</th>\n",
              "      <td>...</td>\n",
              "      <td>...</td>\n",
              "      <td>...</td>\n",
              "      <td>...</td>\n",
              "      <td>...</td>\n",
              "      <td>...</td>\n",
              "      <td>...</td>\n",
              "      <td>...</td>\n",
              "      <td>...</td>\n",
              "      <td>...</td>\n",
              "    </tr>\n",
              "    <tr>\n",
              "      <th>4588</th>\n",
              "      <td>755236203184676864</td>\n",
              "      <td>0.000000</td>\n",
              "      <td>1</td>\n",
              "      <td>0</td>\n",
              "      <td>0</td>\n",
              "      <td>0</td>\n",
              "      <td>5</td>\n",
              "      <td>6</td>\n",
              "      <td>1</td>\n",
              "      <td>1</td>\n",
              "    </tr>\n",
              "    <tr>\n",
              "      <th>4589</th>\n",
              "      <td>755229426871173120</td>\n",
              "      <td>0.000000</td>\n",
              "      <td>1</td>\n",
              "      <td>0</td>\n",
              "      <td>0</td>\n",
              "      <td>0</td>\n",
              "      <td>5</td>\n",
              "      <td>6</td>\n",
              "      <td>1</td>\n",
              "      <td>1</td>\n",
              "    </tr>\n",
              "    <tr>\n",
              "      <th>4590</th>\n",
              "      <td>755286149082521600</td>\n",
              "      <td>0.000000</td>\n",
              "      <td>1</td>\n",
              "      <td>0</td>\n",
              "      <td>0</td>\n",
              "      <td>0</td>\n",
              "      <td>5</td>\n",
              "      <td>6</td>\n",
              "      <td>1</td>\n",
              "      <td>1</td>\n",
              "    </tr>\n",
              "    <tr>\n",
              "      <th>4591</th>\n",
              "      <td>755240045053968384</td>\n",
              "      <td>0.000000</td>\n",
              "      <td>1</td>\n",
              "      <td>0</td>\n",
              "      <td>0</td>\n",
              "      <td>0</td>\n",
              "      <td>5</td>\n",
              "      <td>6</td>\n",
              "      <td>1</td>\n",
              "      <td>1</td>\n",
              "    </tr>\n",
              "    <tr>\n",
              "      <th>4592</th>\n",
              "      <td>755061854343340032</td>\n",
              "      <td>0.000000</td>\n",
              "      <td>1</td>\n",
              "      <td>0</td>\n",
              "      <td>0</td>\n",
              "      <td>0</td>\n",
              "      <td>5</td>\n",
              "      <td>6</td>\n",
              "      <td>1</td>\n",
              "      <td>1</td>\n",
              "    </tr>\n",
              "  </tbody>\n",
              "</table>\n",
              "<p>4593 rows × 10 columns</p>\n",
              "</div>"
            ],
            "text/plain": [
              "                      id     senti  ...  Adjective count  label_y\n",
              "0     494475371278909441 -0.500000  ...                2        0\n",
              "1     494480095512248320 -0.533333  ...                4        0\n",
              "2     494476039628673024 -0.533333  ...                3        0\n",
              "3     494514485957525504 -0.500000  ...                2        0\n",
              "4     494479344186585089 -0.500000  ...                1        0\n",
              "...                  ...       ...  ...              ...      ...\n",
              "4588  755236203184676864  0.000000  ...                1        1\n",
              "4589  755229426871173120  0.000000  ...                1        1\n",
              "4590  755286149082521600  0.000000  ...                1        1\n",
              "4591  755240045053968384  0.000000  ...                1        1\n",
              "4592  755061854343340032  0.000000  ...                1        1\n",
              "\n",
              "[4593 rows x 10 columns]"
            ]
          },
          "metadata": {
            "tags": []
          },
          "execution_count": 9
        }
      ]
    },
    {
      "cell_type": "markdown",
      "metadata": {
        "id": "UwuSG7a101Gj"
      },
      "source": [
        "##Sentiment"
      ]
    },
    {
      "cell_type": "code",
      "metadata": {
        "id": "LKaZ1rEUyD8N"
      },
      "source": [
        "X = textdata[['senti']]\n",
        "Y = textdata['label_y']"
      ],
      "execution_count": null,
      "outputs": []
    },
    {
      "cell_type": "code",
      "metadata": {
        "id": "7u5YeDWZxtKn"
      },
      "source": [
        "from sklearn.model_selection import train_test_split\n",
        "X_train, X_test, y_train, y_test=train_test_split(X,Y, test_size=0.20, random_state=30)"
      ],
      "execution_count": null,
      "outputs": []
    },
    {
      "cell_type": "markdown",
      "metadata": {
        "id": "uGulYdhBzC2Z"
      },
      "source": [
        "######Logistic Regression"
      ]
    },
    {
      "cell_type": "code",
      "metadata": {
        "id": "QYTuJx2UzC2Z"
      },
      "source": [
        "from sklearn.linear_model import LogisticRegression\n",
        "model1 = LogisticRegression(random_state=30).fit(X_train, y_train)"
      ],
      "execution_count": null,
      "outputs": []
    },
    {
      "cell_type": "code",
      "metadata": {
        "colab": {
          "base_uri": "https://localhost:8080/"
        },
        "id": "FZ1S7hs7zC2a",
        "outputId": "5f9d58ee-12ac-419b-a7f8-f35b502d567e"
      },
      "source": [
        "model1.score(X_train, y_train)"
      ],
      "execution_count": null,
      "outputs": [
        {
          "output_type": "execute_result",
          "data": {
            "text/plain": [
              "0.6012520413718019"
            ]
          },
          "metadata": {
            "tags": []
          },
          "execution_count": 17
        }
      ]
    },
    {
      "cell_type": "code",
      "metadata": {
        "colab": {
          "base_uri": "https://localhost:8080/"
        },
        "id": "DQUimhMHzC2a",
        "outputId": "de27acc6-99ca-4055-a250-3adb58ea6fc5"
      },
      "source": [
        "model1.score(X_test, y_test)"
      ],
      "execution_count": null,
      "outputs": [
        {
          "output_type": "execute_result",
          "data": {
            "text/plain": [
              "0.6528835690968444"
            ]
          },
          "metadata": {
            "tags": []
          },
          "execution_count": 18
        }
      ]
    },
    {
      "cell_type": "markdown",
      "metadata": {
        "id": "V-wKzhAYyTVB"
      },
      "source": [
        "#####SVC"
      ]
    },
    {
      "cell_type": "code",
      "metadata": {
        "colab": {
          "base_uri": "https://localhost:8080/"
        },
        "id": "-acsZO_cx8g4",
        "outputId": "9a6087f6-d80c-4a2f-a86b-c2ec8f2019ef"
      },
      "source": [
        "from sklearn.pipeline import make_pipeline\n",
        "from sklearn.preprocessing import StandardScaler\n",
        "from sklearn.svm import SVC\n",
        "model2 = make_pipeline(StandardScaler(), SVC(gamma='auto'))\n",
        "model2.fit(X_train, y_train)"
      ],
      "execution_count": null,
      "outputs": [
        {
          "output_type": "execute_result",
          "data": {
            "text/plain": [
              "Pipeline(memory=None,\n",
              "         steps=[('standardscaler',\n",
              "                 StandardScaler(copy=True, with_mean=True, with_std=True)),\n",
              "                ('svc',\n",
              "                 SVC(C=1.0, break_ties=False, cache_size=200, class_weight=None,\n",
              "                     coef0=0.0, decision_function_shape='ovr', degree=3,\n",
              "                     gamma='auto', kernel='rbf', max_iter=-1, probability=False,\n",
              "                     random_state=None, shrinking=True, tol=0.001,\n",
              "                     verbose=False))],\n",
              "         verbose=False)"
            ]
          },
          "metadata": {
            "tags": []
          },
          "execution_count": 19
        }
      ]
    },
    {
      "cell_type": "code",
      "metadata": {
        "colab": {
          "base_uri": "https://localhost:8080/"
        },
        "id": "qQ3awnrKyzby",
        "outputId": "6badb08b-2aaf-4f73-860b-ca7c0cdb833c"
      },
      "source": [
        "model2.score(X_train,y_train)"
      ],
      "execution_count": null,
      "outputs": [
        {
          "output_type": "execute_result",
          "data": {
            "text/plain": [
              "0.6216657593903103"
            ]
          },
          "metadata": {
            "tags": []
          },
          "execution_count": 20
        }
      ]
    },
    {
      "cell_type": "code",
      "metadata": {
        "colab": {
          "base_uri": "https://localhost:8080/"
        },
        "id": "x5SY-jByyzbz",
        "outputId": "a7a3cc77-e202-44e7-fad0-b4399b5f3e32"
      },
      "source": [
        "model2.score(X_test, y_test)"
      ],
      "execution_count": null,
      "outputs": [
        {
          "output_type": "execute_result",
          "data": {
            "text/plain": [
              "0.6724700761697497"
            ]
          },
          "metadata": {
            "tags": []
          },
          "execution_count": 21
        }
      ]
    },
    {
      "cell_type": "markdown",
      "metadata": {
        "id": "Xy6ZxJmhzOZB"
      },
      "source": [
        "#####Linear regression"
      ]
    },
    {
      "cell_type": "code",
      "metadata": {
        "id": "VT3R5-AIzOZB"
      },
      "source": [
        "from sklearn.linear_model import LinearRegression\n",
        "model3 = LinearRegression().fit(X_train, y_train)"
      ],
      "execution_count": null,
      "outputs": []
    },
    {
      "cell_type": "code",
      "metadata": {
        "colab": {
          "base_uri": "https://localhost:8080/"
        },
        "id": "3oGJkcFVzOZC",
        "outputId": "bf430c0b-b19b-460e-ceb3-d2fb3bf3e8e7"
      },
      "source": [
        "model3.score(X_train, y_train)"
      ],
      "execution_count": null,
      "outputs": [
        {
          "output_type": "execute_result",
          "data": {
            "text/plain": [
              "0.00197149260444629"
            ]
          },
          "metadata": {
            "tags": []
          },
          "execution_count": 23
        }
      ]
    },
    {
      "cell_type": "code",
      "metadata": {
        "colab": {
          "base_uri": "https://localhost:8080/"
        },
        "id": "nWAR3oONzOZC",
        "outputId": "01e15697-a760-4087-91d6-f9121ead7daa"
      },
      "source": [
        "model3.score(X_test, y_test)"
      ],
      "execution_count": null,
      "outputs": [
        {
          "output_type": "execute_result",
          "data": {
            "text/plain": [
              "-0.009677485162373545"
            ]
          },
          "metadata": {
            "tags": []
          },
          "execution_count": 24
        }
      ]
    },
    {
      "cell_type": "markdown",
      "metadata": {
        "id": "sOP_mQiYyagQ"
      },
      "source": [
        "#####Random Forest"
      ]
    },
    {
      "cell_type": "code",
      "metadata": {
        "colab": {
          "base_uri": "https://localhost:8080/"
        },
        "id": "_FuFLxWnyWvA",
        "outputId": "fb1f7912-f120-470f-9dd1-33e74dcd317a"
      },
      "source": [
        "from sklearn.ensemble import RandomForestClassifier\n",
        "model4 = RandomForestClassifier(max_depth=4, random_state=30)\n",
        "model4.fit(X_train, y_train)"
      ],
      "execution_count": null,
      "outputs": [
        {
          "output_type": "execute_result",
          "data": {
            "text/plain": [
              "RandomForestClassifier(bootstrap=True, ccp_alpha=0.0, class_weight=None,\n",
              "                       criterion='gini', max_depth=4, max_features='auto',\n",
              "                       max_leaf_nodes=None, max_samples=None,\n",
              "                       min_impurity_decrease=0.0, min_impurity_split=None,\n",
              "                       min_samples_leaf=1, min_samples_split=2,\n",
              "                       min_weight_fraction_leaf=0.0, n_estimators=100,\n",
              "                       n_jobs=None, oob_score=False, random_state=30, verbose=0,\n",
              "                       warm_start=False)"
            ]
          },
          "metadata": {
            "tags": []
          },
          "execution_count": 25
        }
      ]
    },
    {
      "cell_type": "code",
      "metadata": {
        "colab": {
          "base_uri": "https://localhost:8080/"
        },
        "id": "3FHRmSj2y04W",
        "outputId": "cdde5891-b096-4db8-f24b-72844ec06cf7"
      },
      "source": [
        "model4.score(X_train,y_train)"
      ],
      "execution_count": null,
      "outputs": [
        {
          "output_type": "execute_result",
          "data": {
            "text/plain": [
              "0.6472509526401742"
            ]
          },
          "metadata": {
            "tags": []
          },
          "execution_count": 26
        }
      ]
    },
    {
      "cell_type": "code",
      "metadata": {
        "colab": {
          "base_uri": "https://localhost:8080/"
        },
        "id": "vzPH1PFby04X",
        "outputId": "f403a424-795f-46b2-ae87-e9a83d10ab8d"
      },
      "source": [
        "model4.score(X_test, y_test)"
      ],
      "execution_count": null,
      "outputs": [
        {
          "output_type": "execute_result",
          "data": {
            "text/plain": [
              "0.6844396082698585"
            ]
          },
          "metadata": {
            "tags": []
          },
          "execution_count": 27
        }
      ]
    },
    {
      "cell_type": "markdown",
      "metadata": {
        "id": "_Z_3QHNoye1B"
      },
      "source": [
        "######Gradient boost"
      ]
    },
    {
      "cell_type": "code",
      "metadata": {
        "id": "15x0k9Fzyi-y"
      },
      "source": [
        "from sklearn.ensemble import GradientBoostingClassifier\n",
        "model5 = GradientBoostingClassifier(n_estimators=100, learning_rate=1.0,max_depth=1, random_state=30).fit(X_train, y_train)"
      ],
      "execution_count": null,
      "outputs": []
    },
    {
      "cell_type": "code",
      "metadata": {
        "colab": {
          "base_uri": "https://localhost:8080/"
        },
        "id": "czMl8q9Zy2Us",
        "outputId": "f1c92897-4161-48dc-f942-3615aa659d02"
      },
      "source": [
        "model5.score(X_train,y_train)"
      ],
      "execution_count": null,
      "outputs": [
        {
          "output_type": "execute_result",
          "data": {
            "text/plain": [
              "0.6793685356559608"
            ]
          },
          "metadata": {
            "tags": []
          },
          "execution_count": 29
        }
      ]
    },
    {
      "cell_type": "code",
      "metadata": {
        "colab": {
          "base_uri": "https://localhost:8080/"
        },
        "id": "rBHS270wy2Uu",
        "outputId": "ff58b280-7ad6-4b9e-ec98-4dcd4de82c6d"
      },
      "source": [
        "model5.score(X_test, y_test)"
      ],
      "execution_count": null,
      "outputs": [
        {
          "output_type": "execute_result",
          "data": {
            "text/plain": [
              "0.70620239390642"
            ]
          },
          "metadata": {
            "tags": []
          },
          "execution_count": 30
        }
      ]
    },
    {
      "cell_type": "markdown",
      "metadata": {
        "id": "HDE6ztRazWSw"
      },
      "source": [
        "#####K Neighbors Classifier"
      ]
    },
    {
      "cell_type": "code",
      "metadata": {
        "id": "uH20ExiYzWSw"
      },
      "source": [
        "from sklearn.neighbors import KNeighborsClassifier\n",
        "model6 = KNeighborsClassifier(n_neighbors=1).fit(X_train,y_train)"
      ],
      "execution_count": null,
      "outputs": []
    },
    {
      "cell_type": "code",
      "metadata": {
        "colab": {
          "base_uri": "https://localhost:8080/"
        },
        "id": "OidLQtEuzWSx",
        "outputId": "dc746ea3-ace8-44b8-b53a-eb5e34b23bc0"
      },
      "source": [
        "model6.score(X_train,y_train)"
      ],
      "execution_count": null,
      "outputs": [
        {
          "output_type": "execute_result",
          "data": {
            "text/plain": [
              "0.673380511703865"
            ]
          },
          "metadata": {
            "tags": []
          },
          "execution_count": 32
        }
      ]
    },
    {
      "cell_type": "code",
      "metadata": {
        "colab": {
          "base_uri": "https://localhost:8080/"
        },
        "id": "zZ4BaXgYzWSx",
        "outputId": "b20cce4e-5773-46e2-fc83-fdfa35978aee"
      },
      "source": [
        "model6.score(X_test,y_test)"
      ],
      "execution_count": null,
      "outputs": [
        {
          "output_type": "execute_result",
          "data": {
            "text/plain": [
              "0.6659412404787813"
            ]
          },
          "metadata": {
            "tags": []
          },
          "execution_count": 33
        }
      ]
    },
    {
      "cell_type": "markdown",
      "metadata": {
        "id": "rz2NgPeIykx5"
      },
      "source": [
        "#####Adaboost"
      ]
    },
    {
      "cell_type": "code",
      "metadata": {
        "colab": {
          "base_uri": "https://localhost:8080/"
        },
        "id": "7gOdnTfFymri",
        "outputId": "b9ae09d8-db59-4f37-e673-a237ecaf3a73"
      },
      "source": [
        "from sklearn.ensemble import AdaBoostClassifier\n",
        "model7 = AdaBoostClassifier(n_estimators=100, learning_rate=1)\n",
        "model7.fit(X_train, y_train)"
      ],
      "execution_count": null,
      "outputs": [
        {
          "output_type": "execute_result",
          "data": {
            "text/plain": [
              "AdaBoostClassifier(algorithm='SAMME.R', base_estimator=None, learning_rate=1,\n",
              "                   n_estimators=100, random_state=None)"
            ]
          },
          "metadata": {
            "tags": []
          },
          "execution_count": 34
        }
      ]
    },
    {
      "cell_type": "code",
      "metadata": {
        "colab": {
          "base_uri": "https://localhost:8080/"
        },
        "id": "DhvPNM-My3mG",
        "outputId": "16c0fa6b-2398-47f8-ae46-24fc87a27030"
      },
      "source": [
        "model7.score(X_train,y_train)"
      ],
      "execution_count": null,
      "outputs": [
        {
          "output_type": "execute_result",
          "data": {
            "text/plain": [
              "0.6701143168209036"
            ]
          },
          "metadata": {
            "tags": []
          },
          "execution_count": 35
        }
      ]
    },
    {
      "cell_type": "code",
      "metadata": {
        "colab": {
          "base_uri": "https://localhost:8080/"
        },
        "id": "sBdV4a62y3mH",
        "outputId": "4b6f77e0-6c02-4c95-ce89-04ec80b101bf"
      },
      "source": [
        "model7.score(X_test, y_test)"
      ],
      "execution_count": null,
      "outputs": [
        {
          "output_type": "execute_result",
          "data": {
            "text/plain": [
              "0.6964091403699674"
            ]
          },
          "metadata": {
            "tags": []
          },
          "execution_count": 36
        }
      ]
    },
    {
      "cell_type": "markdown",
      "metadata": {
        "id": "pFuqUoM51D1_"
      },
      "source": [
        "##Noun Count"
      ]
    },
    {
      "cell_type": "code",
      "metadata": {
        "id": "PtkgwiyN1D2A"
      },
      "source": [
        "X = textdata[['Noun count']]\n",
        "Y = textdata['label_y']"
      ],
      "execution_count": null,
      "outputs": []
    },
    {
      "cell_type": "code",
      "metadata": {
        "id": "KthBSDQm1D2A"
      },
      "source": [
        "from sklearn.model_selection import train_test_split\n",
        "X_train, X_test, y_train, y_test=train_test_split(X,Y, test_size=0.20, random_state=30)"
      ],
      "execution_count": null,
      "outputs": []
    },
    {
      "cell_type": "markdown",
      "metadata": {
        "id": "JuuANnkO1D2A"
      },
      "source": [
        "######Logistic Regression"
      ]
    },
    {
      "cell_type": "code",
      "metadata": {
        "id": "GaidgrVM1D2B"
      },
      "source": [
        "from sklearn.linear_model import LogisticRegression\n",
        "model1 = LogisticRegression(random_state=30).fit(X_train, y_train)"
      ],
      "execution_count": null,
      "outputs": []
    },
    {
      "cell_type": "code",
      "metadata": {
        "colab": {
          "base_uri": "https://localhost:8080/"
        },
        "id": "aMCxdhZA1D2B",
        "outputId": "e9c5fcf7-c966-4c88-e4ff-865e8d17c8ae"
      },
      "source": [
        "model1.score(X_train, y_train)"
      ],
      "execution_count": null,
      "outputs": [
        {
          "output_type": "execute_result",
          "data": {
            "text/plain": [
              "0.6951551442569407"
            ]
          },
          "metadata": {
            "tags": []
          },
          "execution_count": 40
        }
      ]
    },
    {
      "cell_type": "code",
      "metadata": {
        "colab": {
          "base_uri": "https://localhost:8080/"
        },
        "id": "I2ncLISR1D2C",
        "outputId": "ca9b0692-5de4-421f-a076-615030e8a95a"
      },
      "source": [
        "model1.score(X_test, y_test)"
      ],
      "execution_count": null,
      "outputs": [
        {
          "output_type": "execute_result",
          "data": {
            "text/plain": [
              "0.7040261153427638"
            ]
          },
          "metadata": {
            "tags": []
          },
          "execution_count": 41
        }
      ]
    },
    {
      "cell_type": "markdown",
      "metadata": {
        "id": "ZM6rslT01D2C"
      },
      "source": [
        "#####SVC"
      ]
    },
    {
      "cell_type": "code",
      "metadata": {
        "colab": {
          "base_uri": "https://localhost:8080/"
        },
        "id": "Xrk8LMUO1D2C",
        "outputId": "7d8dfb3e-52c2-4df9-d50c-340ab17e820e"
      },
      "source": [
        "from sklearn.pipeline import make_pipeline\n",
        "from sklearn.preprocessing import StandardScaler\n",
        "from sklearn.svm import SVC\n",
        "model2 = make_pipeline(StandardScaler(), SVC(gamma='auto'))\n",
        "model2.fit(X_train, y_train)"
      ],
      "execution_count": null,
      "outputs": [
        {
          "output_type": "execute_result",
          "data": {
            "text/plain": [
              "Pipeline(memory=None,\n",
              "         steps=[('standardscaler',\n",
              "                 StandardScaler(copy=True, with_mean=True, with_std=True)),\n",
              "                ('svc',\n",
              "                 SVC(C=1.0, break_ties=False, cache_size=200, class_weight=None,\n",
              "                     coef0=0.0, decision_function_shape='ovr', degree=3,\n",
              "                     gamma='auto', kernel='rbf', max_iter=-1, probability=False,\n",
              "                     random_state=None, shrinking=True, tol=0.001,\n",
              "                     verbose=False))],\n",
              "         verbose=False)"
            ]
          },
          "metadata": {
            "tags": []
          },
          "execution_count": 42
        }
      ]
    },
    {
      "cell_type": "code",
      "metadata": {
        "colab": {
          "base_uri": "https://localhost:8080/"
        },
        "id": "IAZSSoEX1D2D",
        "outputId": "7186ff70-8704-42c7-ae69-2571619c7ae0"
      },
      "source": [
        "model2.score(X_train,y_train)"
      ],
      "execution_count": null,
      "outputs": [
        {
          "output_type": "execute_result",
          "data": {
            "text/plain": [
              "0.6951551442569407"
            ]
          },
          "metadata": {
            "tags": []
          },
          "execution_count": 43
        }
      ]
    },
    {
      "cell_type": "code",
      "metadata": {
        "colab": {
          "base_uri": "https://localhost:8080/"
        },
        "id": "dM8nP0OS1D2D",
        "outputId": "df09a18f-2ba1-4653-cefc-0cea2e36a0a7"
      },
      "source": [
        "model2.score(X_test, y_test)"
      ],
      "execution_count": null,
      "outputs": [
        {
          "output_type": "execute_result",
          "data": {
            "text/plain": [
              "0.7040261153427638"
            ]
          },
          "metadata": {
            "tags": []
          },
          "execution_count": 44
        }
      ]
    },
    {
      "cell_type": "markdown",
      "metadata": {
        "id": "8-xfek5X1D2D"
      },
      "source": [
        "#####Linear regression"
      ]
    },
    {
      "cell_type": "code",
      "metadata": {
        "id": "U7Lausl11D2E"
      },
      "source": [
        "from sklearn.linear_model import LinearRegression\n",
        "model3 = LinearRegression().fit(X_train, y_train)"
      ],
      "execution_count": null,
      "outputs": []
    },
    {
      "cell_type": "code",
      "metadata": {
        "colab": {
          "base_uri": "https://localhost:8080/"
        },
        "id": "tEfIRBzi1D2E",
        "outputId": "39aeff6d-7d7f-46f1-c360-ab25f6e1ec2e"
      },
      "source": [
        "model3.score(X_train, y_train)"
      ],
      "execution_count": null,
      "outputs": [
        {
          "output_type": "execute_result",
          "data": {
            "text/plain": [
              "0.1210643243001297"
            ]
          },
          "metadata": {
            "tags": []
          },
          "execution_count": 46
        }
      ]
    },
    {
      "cell_type": "code",
      "metadata": {
        "colab": {
          "base_uri": "https://localhost:8080/"
        },
        "id": "sQRnR1qD1D2E",
        "outputId": "33649b01-34ed-4550-8916-d822457778ad"
      },
      "source": [
        "model3.score(X_test, y_test)"
      ],
      "execution_count": null,
      "outputs": [
        {
          "output_type": "execute_result",
          "data": {
            "text/plain": [
              "0.0809135729508662"
            ]
          },
          "metadata": {
            "tags": []
          },
          "execution_count": 47
        }
      ]
    },
    {
      "cell_type": "markdown",
      "metadata": {
        "id": "qodvs_As1D2E"
      },
      "source": [
        "#####Random Forest"
      ]
    },
    {
      "cell_type": "code",
      "metadata": {
        "colab": {
          "base_uri": "https://localhost:8080/"
        },
        "id": "YK-0w1bS1D2F",
        "outputId": "c6323c18-1792-4485-c993-479359d420f7"
      },
      "source": [
        "from sklearn.ensemble import RandomForestClassifier\n",
        "model4 = RandomForestClassifier(max_depth=4, random_state=30)\n",
        "model4.fit(X_train, y_train)"
      ],
      "execution_count": null,
      "outputs": [
        {
          "output_type": "execute_result",
          "data": {
            "text/plain": [
              "RandomForestClassifier(bootstrap=True, ccp_alpha=0.0, class_weight=None,\n",
              "                       criterion='gini', max_depth=4, max_features='auto',\n",
              "                       max_leaf_nodes=None, max_samples=None,\n",
              "                       min_impurity_decrease=0.0, min_impurity_split=None,\n",
              "                       min_samples_leaf=1, min_samples_split=2,\n",
              "                       min_weight_fraction_leaf=0.0, n_estimators=100,\n",
              "                       n_jobs=None, oob_score=False, random_state=30, verbose=0,\n",
              "                       warm_start=False)"
            ]
          },
          "metadata": {
            "tags": []
          },
          "execution_count": 48
        }
      ]
    },
    {
      "cell_type": "code",
      "metadata": {
        "colab": {
          "base_uri": "https://localhost:8080/"
        },
        "id": "tVQp-lY-1D2F",
        "outputId": "91ecf856-34c0-4d50-a191-853ee1d614e1"
      },
      "source": [
        "model4.score(X_train,y_train)"
      ],
      "execution_count": null,
      "outputs": [
        {
          "output_type": "execute_result",
          "data": {
            "text/plain": [
              "0.6954273271638541"
            ]
          },
          "metadata": {
            "tags": []
          },
          "execution_count": 49
        }
      ]
    },
    {
      "cell_type": "code",
      "metadata": {
        "colab": {
          "base_uri": "https://localhost:8080/"
        },
        "id": "fGWtcIbM1D2F",
        "outputId": "998df717-e676-493e-da34-33947792b8dd"
      },
      "source": [
        "model4.score(X_test, y_test)"
      ],
      "execution_count": null,
      "outputs": [
        {
          "output_type": "execute_result",
          "data": {
            "text/plain": [
              "0.7040261153427638"
            ]
          },
          "metadata": {
            "tags": []
          },
          "execution_count": 50
        }
      ]
    },
    {
      "cell_type": "markdown",
      "metadata": {
        "id": "SBThlKil1D2F"
      },
      "source": [
        "######Gradient boost"
      ]
    },
    {
      "cell_type": "code",
      "metadata": {
        "id": "CcUDIYwb1D2F"
      },
      "source": [
        "from sklearn.ensemble import GradientBoostingClassifier\n",
        "model5 = GradientBoostingClassifier(n_estimators=100, learning_rate=1.0,max_depth=1, random_state=30).fit(X_train, y_train)"
      ],
      "execution_count": null,
      "outputs": []
    },
    {
      "cell_type": "code",
      "metadata": {
        "colab": {
          "base_uri": "https://localhost:8080/"
        },
        "id": "9vjj4OTL1D2G",
        "outputId": "f69171af-894c-4f14-80d8-c529dfedc9a8"
      },
      "source": [
        "model5.score(X_train,y_train)"
      ],
      "execution_count": null,
      "outputs": [
        {
          "output_type": "execute_result",
          "data": {
            "text/plain": [
              "0.6954273271638541"
            ]
          },
          "metadata": {
            "tags": []
          },
          "execution_count": 52
        }
      ]
    },
    {
      "cell_type": "code",
      "metadata": {
        "colab": {
          "base_uri": "https://localhost:8080/"
        },
        "id": "X1kblugj1D2G",
        "outputId": "5b6037f5-6737-4bb2-98a0-0f9362e304bc"
      },
      "source": [
        "model5.score(X_test, y_test)"
      ],
      "execution_count": null,
      "outputs": [
        {
          "output_type": "execute_result",
          "data": {
            "text/plain": [
              "0.7040261153427638"
            ]
          },
          "metadata": {
            "tags": []
          },
          "execution_count": 53
        }
      ]
    },
    {
      "cell_type": "markdown",
      "metadata": {
        "id": "UcG1wDpa1D2G"
      },
      "source": [
        "#####K Neighbors Classifier"
      ]
    },
    {
      "cell_type": "code",
      "metadata": {
        "id": "iR_1q7e51D2G"
      },
      "source": [
        "from sklearn.neighbors import KNeighborsClassifier\n",
        "model6 = KNeighborsClassifier(n_neighbors=1).fit(X_train,y_train)"
      ],
      "execution_count": null,
      "outputs": []
    },
    {
      "cell_type": "code",
      "metadata": {
        "colab": {
          "base_uri": "https://localhost:8080/"
        },
        "id": "DnP-kuo61D2H",
        "outputId": "e691208c-77cd-4675-dfdf-18ce52eba370"
      },
      "source": [
        "model6.score(X_train,y_train)"
      ],
      "execution_count": null,
      "outputs": [
        {
          "output_type": "execute_result",
          "data": {
            "text/plain": [
              "0.5"
            ]
          },
          "metadata": {
            "tags": []
          },
          "execution_count": 55
        }
      ]
    },
    {
      "cell_type": "code",
      "metadata": {
        "colab": {
          "base_uri": "https://localhost:8080/"
        },
        "id": "wH2S5Fj51D2H",
        "outputId": "4ef02a23-90cb-460b-a29b-0bdb6fd32540"
      },
      "source": [
        "model6.score(X_test,y_test)"
      ],
      "execution_count": null,
      "outputs": [
        {
          "output_type": "execute_result",
          "data": {
            "text/plain": [
              "0.4896626768226333"
            ]
          },
          "metadata": {
            "tags": []
          },
          "execution_count": 56
        }
      ]
    },
    {
      "cell_type": "markdown",
      "metadata": {
        "id": "gus3tjJJ1D2H"
      },
      "source": [
        "#####Adaboost"
      ]
    },
    {
      "cell_type": "code",
      "metadata": {
        "colab": {
          "base_uri": "https://localhost:8080/"
        },
        "id": "2snJYe7v1D2J",
        "outputId": "4871c61f-a8a4-4da4-b53b-215eb7329281"
      },
      "source": [
        "from sklearn.ensemble import AdaBoostClassifier\n",
        "model7 = AdaBoostClassifier(n_estimators=100, learning_rate=1)\n",
        "model7.fit(X_train, y_train)"
      ],
      "execution_count": null,
      "outputs": [
        {
          "output_type": "execute_result",
          "data": {
            "text/plain": [
              "AdaBoostClassifier(algorithm='SAMME.R', base_estimator=None, learning_rate=1,\n",
              "                   n_estimators=100, random_state=None)"
            ]
          },
          "metadata": {
            "tags": []
          },
          "execution_count": 57
        }
      ]
    },
    {
      "cell_type": "code",
      "metadata": {
        "colab": {
          "base_uri": "https://localhost:8080/"
        },
        "id": "1tQ_GJ1-1D2J",
        "outputId": "866668b9-f2c3-4578-e137-8458c09b7b43"
      },
      "source": [
        "model7.score(X_train,y_train)"
      ],
      "execution_count": null,
      "outputs": [
        {
          "output_type": "execute_result",
          "data": {
            "text/plain": [
              "0.6954273271638541"
            ]
          },
          "metadata": {
            "tags": []
          },
          "execution_count": 58
        }
      ]
    },
    {
      "cell_type": "code",
      "metadata": {
        "colab": {
          "base_uri": "https://localhost:8080/"
        },
        "id": "8tiAk2uE1D2K",
        "outputId": "e7293567-737d-4872-fe87-d844d992d9a7"
      },
      "source": [
        "model7.score(X_test, y_test)"
      ],
      "execution_count": null,
      "outputs": [
        {
          "output_type": "execute_result",
          "data": {
            "text/plain": [
              "0.7040261153427638"
            ]
          },
          "metadata": {
            "tags": []
          },
          "execution_count": 59
        }
      ]
    },
    {
      "cell_type": "markdown",
      "metadata": {
        "id": "GjDiAbug1fjC"
      },
      "source": [
        "##Adjective count"
      ]
    },
    {
      "cell_type": "code",
      "metadata": {
        "id": "wyrkdODs1fjC"
      },
      "source": [
        "X = textdata[['Adjective count']]\n",
        "Y = textdata['label_y']"
      ],
      "execution_count": null,
      "outputs": []
    },
    {
      "cell_type": "code",
      "metadata": {
        "id": "T7ESqxHW1fjD"
      },
      "source": [
        "from sklearn.model_selection import train_test_split\n",
        "X_train, X_test, y_train, y_test=train_test_split(X,Y, test_size=0.20, random_state=30)"
      ],
      "execution_count": null,
      "outputs": []
    },
    {
      "cell_type": "markdown",
      "metadata": {
        "id": "0vik-LuJ1fjD"
      },
      "source": [
        "######Logistic Regression"
      ]
    },
    {
      "cell_type": "code",
      "metadata": {
        "id": "kFVbVaII1fjD"
      },
      "source": [
        "from sklearn.linear_model import LogisticRegression\n",
        "model1 = LogisticRegression(random_state=30).fit(X_train, y_train)"
      ],
      "execution_count": null,
      "outputs": []
    },
    {
      "cell_type": "code",
      "metadata": {
        "colab": {
          "base_uri": "https://localhost:8080/"
        },
        "id": "Wc0vh5fb1fjE",
        "outputId": "fbdcb2cd-1489-4f6c-84af-8b6bdd66ba33"
      },
      "source": [
        "model1.score(X_train, y_train)"
      ],
      "execution_count": null,
      "outputs": [
        {
          "output_type": "execute_result",
          "data": {
            "text/plain": [
              "0.5990745781164943"
            ]
          },
          "metadata": {
            "tags": []
          },
          "execution_count": 62
        }
      ]
    },
    {
      "cell_type": "code",
      "metadata": {
        "colab": {
          "base_uri": "https://localhost:8080/"
        },
        "id": "rbmQqHXk1fjE",
        "outputId": "f704a751-138a-4cb6-9cd6-f3bfbefc6a18"
      },
      "source": [
        "model1.score(X_test, y_test)"
      ],
      "execution_count": null,
      "outputs": [
        {
          "output_type": "execute_result",
          "data": {
            "text/plain": [
              "0.6496191512513602"
            ]
          },
          "metadata": {
            "tags": []
          },
          "execution_count": 63
        }
      ]
    },
    {
      "cell_type": "markdown",
      "metadata": {
        "id": "4a121u6W1fjF"
      },
      "source": [
        "#####SVC"
      ]
    },
    {
      "cell_type": "code",
      "metadata": {
        "colab": {
          "base_uri": "https://localhost:8080/"
        },
        "id": "9TYB7oTu1fjF",
        "outputId": "14ca5abe-babf-478b-812a-fff054913fc4"
      },
      "source": [
        "from sklearn.pipeline import make_pipeline\n",
        "from sklearn.preprocessing import StandardScaler\n",
        "from sklearn.svm import SVC\n",
        "model2 = make_pipeline(StandardScaler(), SVC(gamma='auto'))\n",
        "model2.fit(X_train, y_train)"
      ],
      "execution_count": null,
      "outputs": [
        {
          "output_type": "execute_result",
          "data": {
            "text/plain": [
              "Pipeline(memory=None,\n",
              "         steps=[('standardscaler',\n",
              "                 StandardScaler(copy=True, with_mean=True, with_std=True)),\n",
              "                ('svc',\n",
              "                 SVC(C=1.0, break_ties=False, cache_size=200, class_weight=None,\n",
              "                     coef0=0.0, decision_function_shape='ovr', degree=3,\n",
              "                     gamma='auto', kernel='rbf', max_iter=-1, probability=False,\n",
              "                     random_state=None, shrinking=True, tol=0.001,\n",
              "                     verbose=False))],\n",
              "         verbose=False)"
            ]
          },
          "metadata": {
            "tags": []
          },
          "execution_count": 64
        }
      ]
    },
    {
      "cell_type": "code",
      "metadata": {
        "colab": {
          "base_uri": "https://localhost:8080/"
        },
        "id": "NT6BQrKA1fjF",
        "outputId": "d87a05f1-b6d9-44f7-b239-da278c6f0ba7"
      },
      "source": [
        "model2.score(X_train,y_train)"
      ],
      "execution_count": null,
      "outputs": [
        {
          "output_type": "execute_result",
          "data": {
            "text/plain": [
              "0.640990745781165"
            ]
          },
          "metadata": {
            "tags": []
          },
          "execution_count": 65
        }
      ]
    },
    {
      "cell_type": "code",
      "metadata": {
        "colab": {
          "base_uri": "https://localhost:8080/"
        },
        "id": "2S5mrstq1fjG",
        "outputId": "98acb3f6-f38a-4796-e36c-ab080ffcdf49"
      },
      "source": [
        "model2.score(X_test, y_test)"
      ],
      "execution_count": null,
      "outputs": [
        {
          "output_type": "execute_result",
          "data": {
            "text/plain": [
              "0.6800870511425462"
            ]
          },
          "metadata": {
            "tags": []
          },
          "execution_count": 66
        }
      ]
    },
    {
      "cell_type": "markdown",
      "metadata": {
        "id": "z4GAOW3-1fjJ"
      },
      "source": [
        "#####Random Forest"
      ]
    },
    {
      "cell_type": "code",
      "metadata": {
        "colab": {
          "base_uri": "https://localhost:8080/"
        },
        "id": "yk-E3Ye11fjJ",
        "outputId": "0e760b72-5345-4b99-8587-c737c96e08c9"
      },
      "source": [
        "from sklearn.ensemble import RandomForestClassifier\n",
        "model4 = RandomForestClassifier(max_depth=4, random_state=30)\n",
        "model4.fit(X_train, y_train)"
      ],
      "execution_count": null,
      "outputs": [
        {
          "output_type": "execute_result",
          "data": {
            "text/plain": [
              "RandomForestClassifier(bootstrap=True, ccp_alpha=0.0, class_weight=None,\n",
              "                       criterion='gini', max_depth=4, max_features='auto',\n",
              "                       max_leaf_nodes=None, max_samples=None,\n",
              "                       min_impurity_decrease=0.0, min_impurity_split=None,\n",
              "                       min_samples_leaf=1, min_samples_split=2,\n",
              "                       min_weight_fraction_leaf=0.0, n_estimators=100,\n",
              "                       n_jobs=None, oob_score=False, random_state=30, verbose=0,\n",
              "                       warm_start=False)"
            ]
          },
          "metadata": {
            "tags": []
          },
          "execution_count": 67
        }
      ]
    },
    {
      "cell_type": "code",
      "metadata": {
        "colab": {
          "base_uri": "https://localhost:8080/"
        },
        "id": "-3_roceq1fjJ",
        "outputId": "cbc47fc1-033a-4c06-e8d7-504cfb233c37"
      },
      "source": [
        "model4.score(X_train,y_train)"
      ],
      "execution_count": null,
      "outputs": [
        {
          "output_type": "execute_result",
          "data": {
            "text/plain": [
              "0.640990745781165"
            ]
          },
          "metadata": {
            "tags": []
          },
          "execution_count": 68
        }
      ]
    },
    {
      "cell_type": "code",
      "metadata": {
        "colab": {
          "base_uri": "https://localhost:8080/"
        },
        "id": "n71u2h7G1fjJ",
        "outputId": "903ce6a7-1112-44de-fa96-9f01119eb3c7"
      },
      "source": [
        "model4.score(X_test, y_test)"
      ],
      "execution_count": null,
      "outputs": [
        {
          "output_type": "execute_result",
          "data": {
            "text/plain": [
              "0.6800870511425462"
            ]
          },
          "metadata": {
            "tags": []
          },
          "execution_count": 69
        }
      ]
    },
    {
      "cell_type": "markdown",
      "metadata": {
        "id": "IcctlNgp1fjK"
      },
      "source": [
        "######Gradient boost"
      ]
    },
    {
      "cell_type": "code",
      "metadata": {
        "id": "4Z7rghkg1fjK"
      },
      "source": [
        "from sklearn.ensemble import GradientBoostingClassifier\n",
        "model5 = GradientBoostingClassifier(n_estimators=100, learning_rate=1.0,max_depth=1, random_state=30).fit(X_train, y_train)"
      ],
      "execution_count": null,
      "outputs": []
    },
    {
      "cell_type": "code",
      "metadata": {
        "colab": {
          "base_uri": "https://localhost:8080/"
        },
        "id": "RihMryn11fjK",
        "outputId": "2295239e-4756-4101-a994-45dbd70095a4"
      },
      "source": [
        "model5.score(X_train,y_train)"
      ],
      "execution_count": null,
      "outputs": [
        {
          "output_type": "execute_result",
          "data": {
            "text/plain": [
              "0.640990745781165"
            ]
          },
          "metadata": {
            "tags": []
          },
          "execution_count": 71
        }
      ]
    },
    {
      "cell_type": "code",
      "metadata": {
        "colab": {
          "base_uri": "https://localhost:8080/"
        },
        "id": "9Ec2KU3w1fjK",
        "outputId": "e16aebe6-44e2-4eb0-808a-8adf442e1f3a"
      },
      "source": [
        "model5.score(X_test, y_test)"
      ],
      "execution_count": null,
      "outputs": [
        {
          "output_type": "execute_result",
          "data": {
            "text/plain": [
              "0.6800870511425462"
            ]
          },
          "metadata": {
            "tags": []
          },
          "execution_count": 72
        }
      ]
    },
    {
      "cell_type": "markdown",
      "metadata": {
        "id": "z0V0tgbS1fjL"
      },
      "source": [
        "#####Adaboost"
      ]
    },
    {
      "cell_type": "code",
      "metadata": {
        "colab": {
          "base_uri": "https://localhost:8080/"
        },
        "id": "2uZCJK3P1fjL",
        "outputId": "55cb639b-84b2-45f1-bca7-cc1bf799ab4f"
      },
      "source": [
        "from sklearn.ensemble import AdaBoostClassifier\n",
        "model7 = AdaBoostClassifier(n_estimators=100, learning_rate=1)\n",
        "model7.fit(X_train, y_train)"
      ],
      "execution_count": null,
      "outputs": [
        {
          "output_type": "execute_result",
          "data": {
            "text/plain": [
              "AdaBoostClassifier(algorithm='SAMME.R', base_estimator=None, learning_rate=1,\n",
              "                   n_estimators=100, random_state=None)"
            ]
          },
          "metadata": {
            "tags": []
          },
          "execution_count": 73
        }
      ]
    },
    {
      "cell_type": "code",
      "metadata": {
        "colab": {
          "base_uri": "https://localhost:8080/"
        },
        "id": "bI-uRQMk1fjM",
        "outputId": "9632a6e4-9fbe-4e8e-b881-f05a9dfb87cb"
      },
      "source": [
        "model7.score(X_train,y_train)"
      ],
      "execution_count": null,
      "outputs": [
        {
          "output_type": "execute_result",
          "data": {
            "text/plain": [
              "0.640990745781165"
            ]
          },
          "metadata": {
            "tags": []
          },
          "execution_count": 74
        }
      ]
    },
    {
      "cell_type": "code",
      "metadata": {
        "colab": {
          "base_uri": "https://localhost:8080/"
        },
        "id": "5hSEZwBN1fjM",
        "outputId": "a553de3a-c882-4382-f825-daf880643212"
      },
      "source": [
        "model7.score(X_test, y_test)"
      ],
      "execution_count": null,
      "outputs": [
        {
          "output_type": "execute_result",
          "data": {
            "text/plain": [
              "0.6800870511425462"
            ]
          },
          "metadata": {
            "tags": []
          },
          "execution_count": 75
        }
      ]
    },
    {
      "cell_type": "markdown",
      "metadata": {
        "id": "05zU6xUu2LJa"
      },
      "source": [
        "##Verb count"
      ]
    },
    {
      "cell_type": "code",
      "metadata": {
        "id": "lj3AbXPI2LJb"
      },
      "source": [
        "X = textdata[['Verb count']]\n",
        "Y = textdata['label_y']"
      ],
      "execution_count": null,
      "outputs": []
    },
    {
      "cell_type": "code",
      "metadata": {
        "id": "PBcphFiN2LJb"
      },
      "source": [
        "from sklearn.model_selection import train_test_split\n",
        "X_train, X_test, y_train, y_test=train_test_split(X,Y, test_size=0.20, random_state=30)"
      ],
      "execution_count": null,
      "outputs": []
    },
    {
      "cell_type": "markdown",
      "metadata": {
        "id": "uza4D20-2LJd"
      },
      "source": [
        "#####SVC"
      ]
    },
    {
      "cell_type": "code",
      "metadata": {
        "colab": {
          "base_uri": "https://localhost:8080/"
        },
        "id": "_CpNM5cp2LJd",
        "outputId": "b321cb1f-9dae-47fa-b406-3663d183a5f1"
      },
      "source": [
        "from sklearn.pipeline import make_pipeline\n",
        "from sklearn.preprocessing import StandardScaler\n",
        "from sklearn.svm import SVC\n",
        "model2 = make_pipeline(StandardScaler(), SVC(gamma='auto'))\n",
        "model2.fit(X_train, y_train)"
      ],
      "execution_count": null,
      "outputs": [
        {
          "output_type": "execute_result",
          "data": {
            "text/plain": [
              "Pipeline(memory=None,\n",
              "         steps=[('standardscaler',\n",
              "                 StandardScaler(copy=True, with_mean=True, with_std=True)),\n",
              "                ('svc',\n",
              "                 SVC(C=1.0, break_ties=False, cache_size=200, class_weight=None,\n",
              "                     coef0=0.0, decision_function_shape='ovr', degree=3,\n",
              "                     gamma='auto', kernel='rbf', max_iter=-1, probability=False,\n",
              "                     random_state=None, shrinking=True, tol=0.001,\n",
              "                     verbose=False))],\n",
              "         verbose=False)"
            ]
          },
          "metadata": {
            "tags": []
          },
          "execution_count": 90
        }
      ]
    },
    {
      "cell_type": "code",
      "metadata": {
        "colab": {
          "base_uri": "https://localhost:8080/"
        },
        "id": "k2Q7XEJO2LJe",
        "outputId": "dfc80ce9-9c83-470e-93dc-b663aa4ab771"
      },
      "source": [
        "model2.score(X_train,y_train)"
      ],
      "execution_count": null,
      "outputs": [
        {
          "output_type": "execute_result",
          "data": {
            "text/plain": [
              "0.6622210125204138"
            ]
          },
          "metadata": {
            "tags": []
          },
          "execution_count": 91
        }
      ]
    },
    {
      "cell_type": "code",
      "metadata": {
        "colab": {
          "base_uri": "https://localhost:8080/"
        },
        "id": "wOEio-No2LJe",
        "outputId": "f16e2703-d369-4825-9a3b-40d773c6264c"
      },
      "source": [
        "model2.score(X_test, y_test)"
      ],
      "execution_count": null,
      "outputs": [
        {
          "output_type": "execute_result",
          "data": {
            "text/plain": [
              "0.7007616974972797"
            ]
          },
          "metadata": {
            "tags": []
          },
          "execution_count": 92
        }
      ]
    },
    {
      "cell_type": "markdown",
      "metadata": {
        "id": "t3cQVHSh2LJe"
      },
      "source": [
        "#####Random Forest"
      ]
    },
    {
      "cell_type": "code",
      "metadata": {
        "colab": {
          "base_uri": "https://localhost:8080/"
        },
        "id": "lh7iI-X62LJe",
        "outputId": "1a211b93-f746-4cbc-9390-e10f93a54557"
      },
      "source": [
        "from sklearn.ensemble import RandomForestClassifier\n",
        "model4 = RandomForestClassifier(max_depth=4, random_state=30)\n",
        "model4.fit(X_train, y_train)"
      ],
      "execution_count": null,
      "outputs": [
        {
          "output_type": "execute_result",
          "data": {
            "text/plain": [
              "RandomForestClassifier(bootstrap=True, ccp_alpha=0.0, class_weight=None,\n",
              "                       criterion='gini', max_depth=4, max_features='auto',\n",
              "                       max_leaf_nodes=None, max_samples=None,\n",
              "                       min_impurity_decrease=0.0, min_impurity_split=None,\n",
              "                       min_samples_leaf=1, min_samples_split=2,\n",
              "                       min_weight_fraction_leaf=0.0, n_estimators=100,\n",
              "                       n_jobs=None, oob_score=False, random_state=30, verbose=0,\n",
              "                       warm_start=False)"
            ]
          },
          "metadata": {
            "tags": []
          },
          "execution_count": 93
        }
      ]
    },
    {
      "cell_type": "code",
      "metadata": {
        "colab": {
          "base_uri": "https://localhost:8080/"
        },
        "id": "NXgxORLJ2LJf",
        "outputId": "844d4d8c-5507-46d7-8dd3-d343b0ddee94"
      },
      "source": [
        "model4.score(X_train,y_train)"
      ],
      "execution_count": null,
      "outputs": [
        {
          "output_type": "execute_result",
          "data": {
            "text/plain": [
              "0.6624931954273272"
            ]
          },
          "metadata": {
            "tags": []
          },
          "execution_count": 94
        }
      ]
    },
    {
      "cell_type": "code",
      "metadata": {
        "colab": {
          "base_uri": "https://localhost:8080/"
        },
        "id": "urYCvKQs2LJf",
        "outputId": "c479d48e-9389-4a2f-ebc2-621fb0c47ea1"
      },
      "source": [
        "model4.score(X_test, y_test)"
      ],
      "execution_count": null,
      "outputs": [
        {
          "output_type": "execute_result",
          "data": {
            "text/plain": [
              "0.6996735582154516"
            ]
          },
          "metadata": {
            "tags": []
          },
          "execution_count": 95
        }
      ]
    },
    {
      "cell_type": "markdown",
      "metadata": {
        "id": "3xmUkire2LJf"
      },
      "source": [
        "######Gradient boost"
      ]
    },
    {
      "cell_type": "code",
      "metadata": {
        "id": "a1WCAGWf2LJf"
      },
      "source": [
        "from sklearn.ensemble import GradientBoostingClassifier\n",
        "model5 = GradientBoostingClassifier(n_estimators=100, learning_rate=1.0,max_depth=1, random_state=30).fit(X_train, y_train)"
      ],
      "execution_count": null,
      "outputs": []
    },
    {
      "cell_type": "code",
      "metadata": {
        "colab": {
          "base_uri": "https://localhost:8080/"
        },
        "id": "y_jq-t-32LJg",
        "outputId": "1bd16549-12f8-4956-b1f0-54b4957dd7c7"
      },
      "source": [
        "model5.score(X_train,y_train)"
      ],
      "execution_count": null,
      "outputs": [
        {
          "output_type": "execute_result",
          "data": {
            "text/plain": [
              "0.6624931954273272"
            ]
          },
          "metadata": {
            "tags": []
          },
          "execution_count": 97
        }
      ]
    },
    {
      "cell_type": "code",
      "metadata": {
        "colab": {
          "base_uri": "https://localhost:8080/"
        },
        "id": "Jvqde-1Q2LJg",
        "outputId": "0224da94-8434-4895-fcf0-7bd0757d805c"
      },
      "source": [
        "model5.score(X_test, y_test)"
      ],
      "execution_count": null,
      "outputs": [
        {
          "output_type": "execute_result",
          "data": {
            "text/plain": [
              "0.6996735582154516"
            ]
          },
          "metadata": {
            "tags": []
          },
          "execution_count": 98
        }
      ]
    },
    {
      "cell_type": "markdown",
      "metadata": {
        "id": "pLdaIDWt2LJg"
      },
      "source": [
        "#####Adaboost"
      ]
    },
    {
      "cell_type": "code",
      "metadata": {
        "colab": {
          "base_uri": "https://localhost:8080/"
        },
        "id": "hAzrinoY2LJg",
        "outputId": "a37831d7-5a8e-43fe-8abe-a7c2504ca43a"
      },
      "source": [
        "from sklearn.ensemble import AdaBoostClassifier\n",
        "model7 = AdaBoostClassifier(n_estimators=100, learning_rate=1)\n",
        "model7.fit(X_train, y_train)"
      ],
      "execution_count": null,
      "outputs": [
        {
          "output_type": "execute_result",
          "data": {
            "text/plain": [
              "AdaBoostClassifier(algorithm='SAMME.R', base_estimator=None, learning_rate=1,\n",
              "                   n_estimators=100, random_state=None)"
            ]
          },
          "metadata": {
            "tags": []
          },
          "execution_count": 99
        }
      ]
    },
    {
      "cell_type": "code",
      "metadata": {
        "colab": {
          "base_uri": "https://localhost:8080/"
        },
        "id": "V2rnihLN2LJh",
        "outputId": "318c55d4-669c-410b-b032-8702bf57df44"
      },
      "source": [
        "model7.score(X_train,y_train)"
      ],
      "execution_count": null,
      "outputs": [
        {
          "output_type": "execute_result",
          "data": {
            "text/plain": [
              "0.6624931954273272"
            ]
          },
          "metadata": {
            "tags": []
          },
          "execution_count": 100
        }
      ]
    },
    {
      "cell_type": "code",
      "metadata": {
        "colab": {
          "base_uri": "https://localhost:8080/"
        },
        "id": "oFB8Qk9v2LJh",
        "outputId": "4708ee87-a9a9-4d15-b973-ebbc7dcbf6f1"
      },
      "source": [
        "model7.score(X_test, y_test)"
      ],
      "execution_count": null,
      "outputs": [
        {
          "output_type": "execute_result",
          "data": {
            "text/plain": [
              "0.6996735582154516"
            ]
          },
          "metadata": {
            "tags": []
          },
          "execution_count": 101
        }
      ]
    },
    {
      "cell_type": "markdown",
      "metadata": {
        "id": "f2xU9Rxn2lUU"
      },
      "source": [
        "##Person"
      ]
    },
    {
      "cell_type": "code",
      "metadata": {
        "id": "4yvmFcbv2lUV"
      },
      "source": [
        "X = textdata[['PERSON']]\n",
        "Y = textdata['label_y']"
      ],
      "execution_count": null,
      "outputs": []
    },
    {
      "cell_type": "code",
      "metadata": {
        "id": "DrIZibB62lUV"
      },
      "source": [
        "from sklearn.model_selection import train_test_split\n",
        "X_train, X_test, y_train, y_test=train_test_split(X,Y, test_size=0.20, random_state=30)"
      ],
      "execution_count": null,
      "outputs": []
    },
    {
      "cell_type": "markdown",
      "metadata": {
        "id": "ffDTpKmr2lUV"
      },
      "source": [
        "#####SVC"
      ]
    },
    {
      "cell_type": "code",
      "metadata": {
        "colab": {
          "base_uri": "https://localhost:8080/"
        },
        "id": "ok-_aZ5M2lUW",
        "outputId": "29390915-aea3-4017-97b5-536d32aa47b7"
      },
      "source": [
        "from sklearn.pipeline import make_pipeline\n",
        "from sklearn.preprocessing import StandardScaler\n",
        "from sklearn.svm import SVC\n",
        "model2 = make_pipeline(StandardScaler(), SVC(gamma='auto'))\n",
        "model2.fit(X_train, y_train)"
      ],
      "execution_count": null,
      "outputs": [
        {
          "output_type": "execute_result",
          "data": {
            "text/plain": [
              "Pipeline(memory=None,\n",
              "         steps=[('standardscaler',\n",
              "                 StandardScaler(copy=True, with_mean=True, with_std=True)),\n",
              "                ('svc',\n",
              "                 SVC(C=1.0, break_ties=False, cache_size=200, class_weight=None,\n",
              "                     coef0=0.0, decision_function_shape='ovr', degree=3,\n",
              "                     gamma='auto', kernel='rbf', max_iter=-1, probability=False,\n",
              "                     random_state=None, shrinking=True, tol=0.001,\n",
              "                     verbose=False))],\n",
              "         verbose=False)"
            ]
          },
          "metadata": {
            "tags": []
          },
          "execution_count": 104
        }
      ]
    },
    {
      "cell_type": "code",
      "metadata": {
        "colab": {
          "base_uri": "https://localhost:8080/"
        },
        "id": "E5zg6FCa2lUW",
        "outputId": "f91e9853-6654-4390-fbdc-1f41be5ce59b"
      },
      "source": [
        "model2.score(X_train,y_train)"
      ],
      "execution_count": null,
      "outputs": [
        {
          "output_type": "execute_result",
          "data": {
            "text/plain": [
              "0.5993467610234078"
            ]
          },
          "metadata": {
            "tags": []
          },
          "execution_count": 105
        }
      ]
    },
    {
      "cell_type": "code",
      "metadata": {
        "colab": {
          "base_uri": "https://localhost:8080/"
        },
        "id": "M0BVvjJD2lUX",
        "outputId": "60e9e050-5633-4f1b-b3e6-09ab8383b866"
      },
      "source": [
        "model2.score(X_test, y_test)"
      ],
      "execution_count": null,
      "outputs": [
        {
          "output_type": "execute_result",
          "data": {
            "text/plain": [
              "0.6485310119695321"
            ]
          },
          "metadata": {
            "tags": []
          },
          "execution_count": 106
        }
      ]
    },
    {
      "cell_type": "markdown",
      "metadata": {
        "id": "JRu6prC92lUX"
      },
      "source": [
        "#####Random Forest"
      ]
    },
    {
      "cell_type": "code",
      "metadata": {
        "colab": {
          "base_uri": "https://localhost:8080/"
        },
        "id": "7y47d_3E2lUX",
        "outputId": "7b5c4460-fdb8-4d4a-c962-c55974f5c43e"
      },
      "source": [
        "from sklearn.ensemble import RandomForestClassifier\n",
        "model4 = RandomForestClassifier(max_depth=4, random_state=30)\n",
        "model4.fit(X_train, y_train)"
      ],
      "execution_count": null,
      "outputs": [
        {
          "output_type": "execute_result",
          "data": {
            "text/plain": [
              "RandomForestClassifier(bootstrap=True, ccp_alpha=0.0, class_weight=None,\n",
              "                       criterion='gini', max_depth=4, max_features='auto',\n",
              "                       max_leaf_nodes=None, max_samples=None,\n",
              "                       min_impurity_decrease=0.0, min_impurity_split=None,\n",
              "                       min_samples_leaf=1, min_samples_split=2,\n",
              "                       min_weight_fraction_leaf=0.0, n_estimators=100,\n",
              "                       n_jobs=None, oob_score=False, random_state=30, verbose=0,\n",
              "                       warm_start=False)"
            ]
          },
          "metadata": {
            "tags": []
          },
          "execution_count": 107
        }
      ]
    },
    {
      "cell_type": "code",
      "metadata": {
        "colab": {
          "base_uri": "https://localhost:8080/"
        },
        "id": "kOXrbPb_2lUY",
        "outputId": "e5c99650-fd50-4768-b300-3ff0365458d8"
      },
      "source": [
        "model4.score(X_train,y_train)"
      ],
      "execution_count": null,
      "outputs": [
        {
          "output_type": "execute_result",
          "data": {
            "text/plain": [
              "0.5993467610234078"
            ]
          },
          "metadata": {
            "tags": []
          },
          "execution_count": 108
        }
      ]
    },
    {
      "cell_type": "code",
      "metadata": {
        "colab": {
          "base_uri": "https://localhost:8080/"
        },
        "id": "0QM6L_sA2lUY",
        "outputId": "78106e6a-f86c-42ce-a173-94f2b6ed2604"
      },
      "source": [
        "model4.score(X_test, y_test)"
      ],
      "execution_count": null,
      "outputs": [
        {
          "output_type": "execute_result",
          "data": {
            "text/plain": [
              "0.6485310119695321"
            ]
          },
          "metadata": {
            "tags": []
          },
          "execution_count": 109
        }
      ]
    },
    {
      "cell_type": "markdown",
      "metadata": {
        "id": "TmjQG9Qs2lUY"
      },
      "source": [
        "######Gradient boost"
      ]
    },
    {
      "cell_type": "code",
      "metadata": {
        "id": "zJ8bIjXe2lUZ"
      },
      "source": [
        "from sklearn.ensemble import GradientBoostingClassifier\n",
        "model5 = GradientBoostingClassifier(n_estimators=100, learning_rate=1.0,max_depth=1, random_state=30).fit(X_train, y_train)"
      ],
      "execution_count": null,
      "outputs": []
    },
    {
      "cell_type": "code",
      "metadata": {
        "colab": {
          "base_uri": "https://localhost:8080/"
        },
        "id": "26cOkDLQ2lUZ",
        "outputId": "ef199b77-e8bf-4643-88d1-7b4a4aadd3ba"
      },
      "source": [
        "model5.score(X_train,y_train)"
      ],
      "execution_count": null,
      "outputs": [
        {
          "output_type": "execute_result",
          "data": {
            "text/plain": [
              "0.5993467610234078"
            ]
          },
          "metadata": {
            "tags": []
          },
          "execution_count": 111
        }
      ]
    },
    {
      "cell_type": "code",
      "metadata": {
        "colab": {
          "base_uri": "https://localhost:8080/"
        },
        "id": "07sqRdre2lUZ",
        "outputId": "50568c42-a275-4d61-c3e6-aea80af9dc44"
      },
      "source": [
        "model5.score(X_test, y_test)"
      ],
      "execution_count": null,
      "outputs": [
        {
          "output_type": "execute_result",
          "data": {
            "text/plain": [
              "0.6441784548422198"
            ]
          },
          "metadata": {
            "tags": []
          },
          "execution_count": 112
        }
      ]
    },
    {
      "cell_type": "markdown",
      "metadata": {
        "id": "4lych-H22lUa"
      },
      "source": [
        "#####Adaboost"
      ]
    },
    {
      "cell_type": "code",
      "metadata": {
        "colab": {
          "base_uri": "https://localhost:8080/"
        },
        "id": "ILAXWmER2lUa",
        "outputId": "b02e9fa9-a1a8-411d-cd6c-8e3ce8a448bf"
      },
      "source": [
        "from sklearn.ensemble import AdaBoostClassifier\n",
        "model7 = AdaBoostClassifier(n_estimators=100, learning_rate=1)\n",
        "model7.fit(X_train, y_train)"
      ],
      "execution_count": null,
      "outputs": [
        {
          "output_type": "execute_result",
          "data": {
            "text/plain": [
              "AdaBoostClassifier(algorithm='SAMME.R', base_estimator=None, learning_rate=1,\n",
              "                   n_estimators=100, random_state=None)"
            ]
          },
          "metadata": {
            "tags": []
          },
          "execution_count": 113
        }
      ]
    },
    {
      "cell_type": "code",
      "metadata": {
        "colab": {
          "base_uri": "https://localhost:8080/"
        },
        "id": "vEjXdQ9Z2lUa",
        "outputId": "33b33cf5-96e7-4586-f8f5-68b8ba8e0db8"
      },
      "source": [
        "model7.score(X_train,y_train)"
      ],
      "execution_count": null,
      "outputs": [
        {
          "output_type": "execute_result",
          "data": {
            "text/plain": [
              "0.5993467610234078"
            ]
          },
          "metadata": {
            "tags": []
          },
          "execution_count": 114
        }
      ]
    },
    {
      "cell_type": "code",
      "metadata": {
        "colab": {
          "base_uri": "https://localhost:8080/"
        },
        "id": "w55rrdPz2lUa",
        "outputId": "08c2c456-79ac-44a5-8ac9-2a8220cbf90e"
      },
      "source": [
        "model7.score(X_test, y_test)"
      ],
      "execution_count": null,
      "outputs": [
        {
          "output_type": "execute_result",
          "data": {
            "text/plain": [
              "0.6485310119695321"
            ]
          },
          "metadata": {
            "tags": []
          },
          "execution_count": 115
        }
      ]
    },
    {
      "cell_type": "markdown",
      "metadata": {
        "id": "BnTh6tV22_tM"
      },
      "source": [
        "##GPE"
      ]
    },
    {
      "cell_type": "code",
      "metadata": {
        "id": "6ty_pu2S2_tM"
      },
      "source": [
        "X = textdata[['GPE']]\n",
        "Y = textdata['label_y']"
      ],
      "execution_count": null,
      "outputs": []
    },
    {
      "cell_type": "code",
      "metadata": {
        "id": "RiDbUt_82_tM"
      },
      "source": [
        "from sklearn.model_selection import train_test_split\n",
        "X_train, X_test, y_train, y_test=train_test_split(X,Y, test_size=0.20, random_state=30)"
      ],
      "execution_count": null,
      "outputs": []
    },
    {
      "cell_type": "markdown",
      "metadata": {
        "id": "LIdY81Y52_tN"
      },
      "source": [
        "#####SVC"
      ]
    },
    {
      "cell_type": "code",
      "metadata": {
        "colab": {
          "base_uri": "https://localhost:8080/"
        },
        "id": "PoViKV512_tN",
        "outputId": "c579dd8d-59d5-4108-9c16-f58ef2a0022e"
      },
      "source": [
        "from sklearn.pipeline import make_pipeline\n",
        "from sklearn.preprocessing import StandardScaler\n",
        "from sklearn.svm import SVC\n",
        "model2 = make_pipeline(StandardScaler(), SVC(gamma='auto'))\n",
        "model2.fit(X_train, y_train)"
      ],
      "execution_count": null,
      "outputs": [
        {
          "output_type": "execute_result",
          "data": {
            "text/plain": [
              "Pipeline(memory=None,\n",
              "         steps=[('standardscaler',\n",
              "                 StandardScaler(copy=True, with_mean=True, with_std=True)),\n",
              "                ('svc',\n",
              "                 SVC(C=1.0, break_ties=False, cache_size=200, class_weight=None,\n",
              "                     coef0=0.0, decision_function_shape='ovr', degree=3,\n",
              "                     gamma='auto', kernel='rbf', max_iter=-1, probability=False,\n",
              "                     random_state=None, shrinking=True, tol=0.001,\n",
              "                     verbose=False))],\n",
              "         verbose=False)"
            ]
          },
          "metadata": {
            "tags": []
          },
          "execution_count": 118
        }
      ]
    },
    {
      "cell_type": "code",
      "metadata": {
        "colab": {
          "base_uri": "https://localhost:8080/"
        },
        "id": "eXKvmu2y2_tO",
        "outputId": "b6dc7d34-ca12-4278-983a-529b3941e824"
      },
      "source": [
        "model2.score(X_train,y_train)"
      ],
      "execution_count": null,
      "outputs": [
        {
          "output_type": "execute_result",
          "data": {
            "text/plain": [
              "0.640446379967338"
            ]
          },
          "metadata": {
            "tags": []
          },
          "execution_count": 119
        }
      ]
    },
    {
      "cell_type": "code",
      "metadata": {
        "colab": {
          "base_uri": "https://localhost:8080/"
        },
        "id": "nLYX2zgI2_tO",
        "outputId": "91ed6115-bbfb-47f3-f9ca-dcd02883fa10"
      },
      "source": [
        "model2.score(X_test, y_test)"
      ],
      "execution_count": null,
      "outputs": [
        {
          "output_type": "execute_result",
          "data": {
            "text/plain": [
              "0.6822633297062024"
            ]
          },
          "metadata": {
            "tags": []
          },
          "execution_count": 120
        }
      ]
    },
    {
      "cell_type": "markdown",
      "metadata": {
        "id": "LoeLFskR2_tO"
      },
      "source": [
        "#####Random Forest"
      ]
    },
    {
      "cell_type": "code",
      "metadata": {
        "colab": {
          "base_uri": "https://localhost:8080/"
        },
        "id": "X0ZiDfyc2_tO",
        "outputId": "4d72b595-fbf9-4cc1-8576-02123b720168"
      },
      "source": [
        "from sklearn.ensemble import RandomForestClassifier\n",
        "model4 = RandomForestClassifier(max_depth=4, random_state=30)\n",
        "model4.fit(X_train, y_train)"
      ],
      "execution_count": null,
      "outputs": [
        {
          "output_type": "execute_result",
          "data": {
            "text/plain": [
              "RandomForestClassifier(bootstrap=True, ccp_alpha=0.0, class_weight=None,\n",
              "                       criterion='gini', max_depth=4, max_features='auto',\n",
              "                       max_leaf_nodes=None, max_samples=None,\n",
              "                       min_impurity_decrease=0.0, min_impurity_split=None,\n",
              "                       min_samples_leaf=1, min_samples_split=2,\n",
              "                       min_weight_fraction_leaf=0.0, n_estimators=100,\n",
              "                       n_jobs=None, oob_score=False, random_state=30, verbose=0,\n",
              "                       warm_start=False)"
            ]
          },
          "metadata": {
            "tags": []
          },
          "execution_count": 121
        }
      ]
    },
    {
      "cell_type": "code",
      "metadata": {
        "colab": {
          "base_uri": "https://localhost:8080/"
        },
        "id": "aRpVU0yY2_tP",
        "outputId": "03758a27-30aa-4a58-d417-39d814043064"
      },
      "source": [
        "model4.score(X_train,y_train)"
      ],
      "execution_count": null,
      "outputs": [
        {
          "output_type": "execute_result",
          "data": {
            "text/plain": [
              "0.640446379967338"
            ]
          },
          "metadata": {
            "tags": []
          },
          "execution_count": 122
        }
      ]
    },
    {
      "cell_type": "code",
      "metadata": {
        "colab": {
          "base_uri": "https://localhost:8080/"
        },
        "id": "hxhkK3NZ2_tP",
        "outputId": "064c754b-e931-4fed-adc3-ee358e7b9c89"
      },
      "source": [
        "model4.score(X_test, y_test)"
      ],
      "execution_count": null,
      "outputs": [
        {
          "output_type": "execute_result",
          "data": {
            "text/plain": [
              "0.6822633297062024"
            ]
          },
          "metadata": {
            "tags": []
          },
          "execution_count": 123
        }
      ]
    },
    {
      "cell_type": "markdown",
      "metadata": {
        "id": "fSY1gJQI2_tP"
      },
      "source": [
        "######Gradient boost"
      ]
    },
    {
      "cell_type": "code",
      "metadata": {
        "id": "TwVwAxEx2_tP"
      },
      "source": [
        "from sklearn.ensemble import GradientBoostingClassifier\n",
        "model5 = GradientBoostingClassifier(n_estimators=100, learning_rate=1.0,max_depth=1, random_state=30).fit(X_train, y_train)"
      ],
      "execution_count": null,
      "outputs": []
    },
    {
      "cell_type": "code",
      "metadata": {
        "colab": {
          "base_uri": "https://localhost:8080/"
        },
        "id": "BLGEIC0u2_tQ",
        "outputId": "aac9debf-8058-45a6-956f-9c7df92600d2"
      },
      "source": [
        "model5.score(X_train,y_train)"
      ],
      "execution_count": null,
      "outputs": [
        {
          "output_type": "execute_result",
          "data": {
            "text/plain": [
              "0.640446379967338"
            ]
          },
          "metadata": {
            "tags": []
          },
          "execution_count": 125
        }
      ]
    },
    {
      "cell_type": "code",
      "metadata": {
        "colab": {
          "base_uri": "https://localhost:8080/"
        },
        "id": "XIeER1Ds2_tQ",
        "outputId": "d027c12b-0372-43ac-c3fc-c4f613fe3a41"
      },
      "source": [
        "model5.score(X_test, y_test)"
      ],
      "execution_count": null,
      "outputs": [
        {
          "output_type": "execute_result",
          "data": {
            "text/plain": [
              "0.6822633297062024"
            ]
          },
          "metadata": {
            "tags": []
          },
          "execution_count": 126
        }
      ]
    },
    {
      "cell_type": "markdown",
      "metadata": {
        "id": "oA53I5bK2_tQ"
      },
      "source": [
        "#####Adaboost"
      ]
    },
    {
      "cell_type": "code",
      "metadata": {
        "colab": {
          "base_uri": "https://localhost:8080/"
        },
        "id": "1TODaDAs2_tQ",
        "outputId": "eb8ea9e6-841e-447c-bd28-9a30d4ad632f"
      },
      "source": [
        "from sklearn.ensemble import AdaBoostClassifier\n",
        "model7 = AdaBoostClassifier(n_estimators=100, learning_rate=1)\n",
        "model7.fit(X_train, y_train)"
      ],
      "execution_count": null,
      "outputs": [
        {
          "output_type": "execute_result",
          "data": {
            "text/plain": [
              "AdaBoostClassifier(algorithm='SAMME.R', base_estimator=None, learning_rate=1,\n",
              "                   n_estimators=100, random_state=None)"
            ]
          },
          "metadata": {
            "tags": []
          },
          "execution_count": 127
        }
      ]
    },
    {
      "cell_type": "code",
      "metadata": {
        "colab": {
          "base_uri": "https://localhost:8080/"
        },
        "id": "ZYRyA2cF2_tR",
        "outputId": "4d0ab38f-f17f-4152-b424-9c785853c5a8"
      },
      "source": [
        "model7.score(X_train,y_train)"
      ],
      "execution_count": null,
      "outputs": [
        {
          "output_type": "execute_result",
          "data": {
            "text/plain": [
              "0.640446379967338"
            ]
          },
          "metadata": {
            "tags": []
          },
          "execution_count": 128
        }
      ]
    },
    {
      "cell_type": "code",
      "metadata": {
        "colab": {
          "base_uri": "https://localhost:8080/"
        },
        "id": "gPj-CC5w2_tR",
        "outputId": "ca935263-a211-4152-f03e-29587c72a160"
      },
      "source": [
        "model7.score(X_test, y_test)"
      ],
      "execution_count": null,
      "outputs": [
        {
          "output_type": "execute_result",
          "data": {
            "text/plain": [
              "0.6822633297062024"
            ]
          },
          "metadata": {
            "tags": []
          },
          "execution_count": 129
        }
      ]
    },
    {
      "cell_type": "markdown",
      "metadata": {
        "id": "zmAiZWO63MDg"
      },
      "source": [
        "##NORP"
      ]
    },
    {
      "cell_type": "code",
      "metadata": {
        "id": "Ib8XOeb03MDg"
      },
      "source": [
        "X = textdata[['NORP']]\n",
        "Y = textdata['label_y']"
      ],
      "execution_count": null,
      "outputs": []
    },
    {
      "cell_type": "code",
      "metadata": {
        "id": "W0VbcgmC3MDg"
      },
      "source": [
        "from sklearn.model_selection import train_test_split\n",
        "X_train, X_test, y_train, y_test=train_test_split(X,Y, test_size=0.20, random_state=30)"
      ],
      "execution_count": null,
      "outputs": []
    },
    {
      "cell_type": "markdown",
      "metadata": {
        "id": "KpdgdNQ73MDh"
      },
      "source": [
        "#####SVC"
      ]
    },
    {
      "cell_type": "code",
      "metadata": {
        "colab": {
          "base_uri": "https://localhost:8080/"
        },
        "id": "OnmKv6UM3MDh",
        "outputId": "9bfdc7ef-7c24-4a98-fb3e-69e7b5a59c2b"
      },
      "source": [
        "from sklearn.pipeline import make_pipeline\n",
        "from sklearn.preprocessing import StandardScaler\n",
        "from sklearn.svm import SVC\n",
        "model2 = make_pipeline(StandardScaler(), SVC(gamma='auto'))\n",
        "model2.fit(X_train, y_train)"
      ],
      "execution_count": null,
      "outputs": [
        {
          "output_type": "execute_result",
          "data": {
            "text/plain": [
              "Pipeline(memory=None,\n",
              "         steps=[('standardscaler',\n",
              "                 StandardScaler(copy=True, with_mean=True, with_std=True)),\n",
              "                ('svc',\n",
              "                 SVC(C=1.0, break_ties=False, cache_size=200, class_weight=None,\n",
              "                     coef0=0.0, decision_function_shape='ovr', degree=3,\n",
              "                     gamma='auto', kernel='rbf', max_iter=-1, probability=False,\n",
              "                     random_state=None, shrinking=True, tol=0.001,\n",
              "                     verbose=False))],\n",
              "         verbose=False)"
            ]
          },
          "metadata": {
            "tags": []
          },
          "execution_count": 132
        }
      ]
    },
    {
      "cell_type": "code",
      "metadata": {
        "colab": {
          "base_uri": "https://localhost:8080/"
        },
        "id": "q_Nro0dg3MDh",
        "outputId": "1438cb39-670e-4c3d-96f6-1ff0c5e72753"
      },
      "source": [
        "model2.score(X_train,y_train)"
      ],
      "execution_count": null,
      "outputs": [
        {
          "output_type": "execute_result",
          "data": {
            "text/plain": [
              "0.6009798584648884"
            ]
          },
          "metadata": {
            "tags": []
          },
          "execution_count": 133
        }
      ]
    },
    {
      "cell_type": "code",
      "metadata": {
        "colab": {
          "base_uri": "https://localhost:8080/"
        },
        "id": "aI584S0Z3MDh",
        "outputId": "1f91ebf9-3f56-4d88-95dc-c0901992e9b5"
      },
      "source": [
        "model2.score(X_test, y_test)"
      ],
      "execution_count": null,
      "outputs": [
        {
          "output_type": "execute_result",
          "data": {
            "text/plain": [
              "0.6539717083786725"
            ]
          },
          "metadata": {
            "tags": []
          },
          "execution_count": 134
        }
      ]
    },
    {
      "cell_type": "markdown",
      "metadata": {
        "id": "nmZD6gDL3MDi"
      },
      "source": [
        "#####Random Forest"
      ]
    },
    {
      "cell_type": "code",
      "metadata": {
        "colab": {
          "base_uri": "https://localhost:8080/"
        },
        "id": "fo7NCKX_3MDi",
        "outputId": "7af3aeb3-e69e-4947-912e-82d23b22347d"
      },
      "source": [
        "from sklearn.ensemble import RandomForestClassifier\n",
        "model4 = RandomForestClassifier(max_depth=4, random_state=30)\n",
        "model4.fit(X_train, y_train)"
      ],
      "execution_count": null,
      "outputs": [
        {
          "output_type": "execute_result",
          "data": {
            "text/plain": [
              "RandomForestClassifier(bootstrap=True, ccp_alpha=0.0, class_weight=None,\n",
              "                       criterion='gini', max_depth=4, max_features='auto',\n",
              "                       max_leaf_nodes=None, max_samples=None,\n",
              "                       min_impurity_decrease=0.0, min_impurity_split=None,\n",
              "                       min_samples_leaf=1, min_samples_split=2,\n",
              "                       min_weight_fraction_leaf=0.0, n_estimators=100,\n",
              "                       n_jobs=None, oob_score=False, random_state=30, verbose=0,\n",
              "                       warm_start=False)"
            ]
          },
          "metadata": {
            "tags": []
          },
          "execution_count": 135
        }
      ]
    },
    {
      "cell_type": "code",
      "metadata": {
        "colab": {
          "base_uri": "https://localhost:8080/"
        },
        "id": "U8-KUZq83MDi",
        "outputId": "a65bcabc-f6e5-4f68-c2a0-6f66750fe2d3"
      },
      "source": [
        "model4.score(X_train,y_train)"
      ],
      "execution_count": null,
      "outputs": [
        {
          "output_type": "execute_result",
          "data": {
            "text/plain": [
              "0.6009798584648884"
            ]
          },
          "metadata": {
            "tags": []
          },
          "execution_count": 136
        }
      ]
    },
    {
      "cell_type": "code",
      "metadata": {
        "colab": {
          "base_uri": "https://localhost:8080/"
        },
        "id": "SD0mFQha3MDi",
        "outputId": "f95da05a-db07-474b-c4c1-401cf297fbab"
      },
      "source": [
        "model4.score(X_test, y_test)"
      ],
      "execution_count": null,
      "outputs": [
        {
          "output_type": "execute_result",
          "data": {
            "text/plain": [
              "0.6539717083786725"
            ]
          },
          "metadata": {
            "tags": []
          },
          "execution_count": 137
        }
      ]
    },
    {
      "cell_type": "markdown",
      "metadata": {
        "id": "42pUVPN53MDi"
      },
      "source": [
        "######Gradient boost"
      ]
    },
    {
      "cell_type": "code",
      "metadata": {
        "id": "QPOXxIhT3MDj"
      },
      "source": [
        "from sklearn.ensemble import GradientBoostingClassifier\n",
        "model5 = GradientBoostingClassifier(n_estimators=100, learning_rate=1.0,max_depth=1, random_state=30).fit(X_train, y_train)"
      ],
      "execution_count": null,
      "outputs": []
    },
    {
      "cell_type": "code",
      "metadata": {
        "colab": {
          "base_uri": "https://localhost:8080/"
        },
        "id": "-5q6BWHc3MDj",
        "outputId": "45c07b75-c9e5-4cd1-fbec-ffeb45a31036"
      },
      "source": [
        "model5.score(X_train,y_train)"
      ],
      "execution_count": null,
      "outputs": [
        {
          "output_type": "execute_result",
          "data": {
            "text/plain": [
              "0.6009798584648884"
            ]
          },
          "metadata": {
            "tags": []
          },
          "execution_count": 139
        }
      ]
    },
    {
      "cell_type": "code",
      "metadata": {
        "colab": {
          "base_uri": "https://localhost:8080/"
        },
        "id": "BeRMbsnp3MDj",
        "outputId": "cff051c7-1931-462c-ca6c-78c14ea995ae"
      },
      "source": [
        "model5.score(X_test, y_test)"
      ],
      "execution_count": null,
      "outputs": [
        {
          "output_type": "execute_result",
          "data": {
            "text/plain": [
              "0.6539717083786725"
            ]
          },
          "metadata": {
            "tags": []
          },
          "execution_count": 140
        }
      ]
    },
    {
      "cell_type": "markdown",
      "metadata": {
        "id": "toruiz7q3MDj"
      },
      "source": [
        "#####Adaboost"
      ]
    },
    {
      "cell_type": "code",
      "metadata": {
        "colab": {
          "base_uri": "https://localhost:8080/"
        },
        "id": "W72y0gqi3MDj",
        "outputId": "804f94b7-b567-4938-aa88-42eb7db252a1"
      },
      "source": [
        "from sklearn.ensemble import AdaBoostClassifier\n",
        "model7 = AdaBoostClassifier(n_estimators=100, learning_rate=1)\n",
        "model7.fit(X_train, y_train)"
      ],
      "execution_count": null,
      "outputs": [
        {
          "output_type": "execute_result",
          "data": {
            "text/plain": [
              "AdaBoostClassifier(algorithm='SAMME.R', base_estimator=None, learning_rate=1,\n",
              "                   n_estimators=100, random_state=None)"
            ]
          },
          "metadata": {
            "tags": []
          },
          "execution_count": 141
        }
      ]
    },
    {
      "cell_type": "code",
      "metadata": {
        "colab": {
          "base_uri": "https://localhost:8080/"
        },
        "id": "rCMCzpvj3MDl",
        "outputId": "22280d89-0778-48a7-84c3-e467f48b895b"
      },
      "source": [
        "model7.score(X_train,y_train)"
      ],
      "execution_count": null,
      "outputs": [
        {
          "output_type": "execute_result",
          "data": {
            "text/plain": [
              "0.6009798584648884"
            ]
          },
          "metadata": {
            "tags": []
          },
          "execution_count": 142
        }
      ]
    },
    {
      "cell_type": "code",
      "metadata": {
        "colab": {
          "base_uri": "https://localhost:8080/"
        },
        "id": "ne-wRSE_3MDm",
        "outputId": "bf14a444-761c-4342-9b01-f072606d5841"
      },
      "source": [
        "model7.score(X_test, y_test)"
      ],
      "execution_count": null,
      "outputs": [
        {
          "output_type": "execute_result",
          "data": {
            "text/plain": [
              "0.6539717083786725"
            ]
          },
          "metadata": {
            "tags": []
          },
          "execution_count": 143
        }
      ]
    },
    {
      "cell_type": "markdown",
      "metadata": {
        "id": "P8uLZHGg3WAd"
      },
      "source": [
        "##ORG"
      ]
    },
    {
      "cell_type": "code",
      "metadata": {
        "id": "wS3YBR9z3WAd"
      },
      "source": [
        "X = textdata[['ORG']]\n",
        "Y = textdata['label_y']"
      ],
      "execution_count": null,
      "outputs": []
    },
    {
      "cell_type": "code",
      "metadata": {
        "id": "t6QIbehE3WAd"
      },
      "source": [
        "from sklearn.model_selection import train_test_split\n",
        "X_train, X_test, y_train, y_test=train_test_split(X,Y, test_size=0.20, random_state=30)"
      ],
      "execution_count": null,
      "outputs": []
    },
    {
      "cell_type": "markdown",
      "metadata": {
        "id": "WAeapxWK3WAe"
      },
      "source": [
        "#####SVC"
      ]
    },
    {
      "cell_type": "code",
      "metadata": {
        "colab": {
          "base_uri": "https://localhost:8080/"
        },
        "id": "qMdKinRj3WAe",
        "outputId": "a68df562-3fc5-4af6-e8b2-0b056227f616"
      },
      "source": [
        "from sklearn.pipeline import make_pipeline\n",
        "from sklearn.preprocessing import StandardScaler\n",
        "from sklearn.svm import SVC\n",
        "model2 = make_pipeline(StandardScaler(), SVC(gamma='auto'))\n",
        "model2.fit(X_train, y_train)"
      ],
      "execution_count": null,
      "outputs": [
        {
          "output_type": "execute_result",
          "data": {
            "text/plain": [
              "Pipeline(memory=None,\n",
              "         steps=[('standardscaler',\n",
              "                 StandardScaler(copy=True, with_mean=True, with_std=True)),\n",
              "                ('svc',\n",
              "                 SVC(C=1.0, break_ties=False, cache_size=200, class_weight=None,\n",
              "                     coef0=0.0, decision_function_shape='ovr', degree=3,\n",
              "                     gamma='auto', kernel='rbf', max_iter=-1, probability=False,\n",
              "                     random_state=None, shrinking=True, tol=0.001,\n",
              "                     verbose=False))],\n",
              "         verbose=False)"
            ]
          },
          "metadata": {
            "tags": []
          },
          "execution_count": 146
        }
      ]
    },
    {
      "cell_type": "code",
      "metadata": {
        "colab": {
          "base_uri": "https://localhost:8080/"
        },
        "id": "lEMrHl4e3WAf",
        "outputId": "5ea40de0-c6ce-4ea8-955f-c4626533f772"
      },
      "source": [
        "model2.score(X_train,y_train)"
      ],
      "execution_count": null,
      "outputs": [
        {
          "output_type": "execute_result",
          "data": {
            "text/plain": [
              "0.7046815459989113"
            ]
          },
          "metadata": {
            "tags": []
          },
          "execution_count": 147
        }
      ]
    },
    {
      "cell_type": "code",
      "metadata": {
        "colab": {
          "base_uri": "https://localhost:8080/"
        },
        "id": "cn4LNtpF3WAf",
        "outputId": "b66ff88c-e839-4166-c364-e326bad90ee5"
      },
      "source": [
        "model2.score(X_test, y_test)"
      ],
      "execution_count": null,
      "outputs": [
        {
          "output_type": "execute_result",
          "data": {
            "text/plain": [
              "0.6724700761697497"
            ]
          },
          "metadata": {
            "tags": []
          },
          "execution_count": 148
        }
      ]
    },
    {
      "cell_type": "markdown",
      "metadata": {
        "id": "-Z41cvc23WAf"
      },
      "source": [
        "#####Random Forest"
      ]
    },
    {
      "cell_type": "code",
      "metadata": {
        "colab": {
          "base_uri": "https://localhost:8080/"
        },
        "id": "48OFA1rF3WAf",
        "outputId": "b41531c5-ecbb-4a91-daba-e93fed3c5010"
      },
      "source": [
        "from sklearn.ensemble import RandomForestClassifier\n",
        "model4 = RandomForestClassifier(max_depth=4, random_state=30)\n",
        "model4.fit(X_train, y_train)"
      ],
      "execution_count": null,
      "outputs": [
        {
          "output_type": "execute_result",
          "data": {
            "text/plain": [
              "RandomForestClassifier(bootstrap=True, ccp_alpha=0.0, class_weight=None,\n",
              "                       criterion='gini', max_depth=4, max_features='auto',\n",
              "                       max_leaf_nodes=None, max_samples=None,\n",
              "                       min_impurity_decrease=0.0, min_impurity_split=None,\n",
              "                       min_samples_leaf=1, min_samples_split=2,\n",
              "                       min_weight_fraction_leaf=0.0, n_estimators=100,\n",
              "                       n_jobs=None, oob_score=False, random_state=30, verbose=0,\n",
              "                       warm_start=False)"
            ]
          },
          "metadata": {
            "tags": []
          },
          "execution_count": 149
        }
      ]
    },
    {
      "cell_type": "code",
      "metadata": {
        "colab": {
          "base_uri": "https://localhost:8080/"
        },
        "id": "Qq6bAmAr3WAg",
        "outputId": "c6c4193a-e0e7-4c87-cbf0-8090f4003d24"
      },
      "source": [
        "model4.score(X_train,y_train)"
      ],
      "execution_count": null,
      "outputs": [
        {
          "output_type": "execute_result",
          "data": {
            "text/plain": [
              "0.7046815459989113"
            ]
          },
          "metadata": {
            "tags": []
          },
          "execution_count": 150
        }
      ]
    },
    {
      "cell_type": "code",
      "metadata": {
        "colab": {
          "base_uri": "https://localhost:8080/"
        },
        "id": "ftKQPe2r3WAg",
        "outputId": "abbb16bb-19a1-4023-88a4-162bdefbbbbe"
      },
      "source": [
        "model4.score(X_test, y_test)"
      ],
      "execution_count": null,
      "outputs": [
        {
          "output_type": "execute_result",
          "data": {
            "text/plain": [
              "0.6724700761697497"
            ]
          },
          "metadata": {
            "tags": []
          },
          "execution_count": 151
        }
      ]
    },
    {
      "cell_type": "markdown",
      "metadata": {
        "id": "2u30rc073WAg"
      },
      "source": [
        "######Gradient boost"
      ]
    },
    {
      "cell_type": "code",
      "metadata": {
        "id": "cMLjgC1H3WAh"
      },
      "source": [
        "from sklearn.ensemble import GradientBoostingClassifier\n",
        "model5 = GradientBoostingClassifier(n_estimators=100, learning_rate=1.0,max_depth=1, random_state=30).fit(X_train, y_train)"
      ],
      "execution_count": null,
      "outputs": []
    },
    {
      "cell_type": "code",
      "metadata": {
        "colab": {
          "base_uri": "https://localhost:8080/"
        },
        "id": "R5sDX64A3WAh",
        "outputId": "376216b3-80e1-4f5b-c270-038b920103d8"
      },
      "source": [
        "model5.score(X_train,y_train)"
      ],
      "execution_count": null,
      "outputs": [
        {
          "output_type": "execute_result",
          "data": {
            "text/plain": [
              "0.7046815459989113"
            ]
          },
          "metadata": {
            "tags": []
          },
          "execution_count": 153
        }
      ]
    },
    {
      "cell_type": "code",
      "metadata": {
        "colab": {
          "base_uri": "https://localhost:8080/"
        },
        "id": "HPKCeg973WAh",
        "outputId": "4cd2b96a-91ba-4221-c464-fc0763b6ee7e"
      },
      "source": [
        "model5.score(X_test, y_test)"
      ],
      "execution_count": null,
      "outputs": [
        {
          "output_type": "execute_result",
          "data": {
            "text/plain": [
              "0.6724700761697497"
            ]
          },
          "metadata": {
            "tags": []
          },
          "execution_count": 154
        }
      ]
    },
    {
      "cell_type": "markdown",
      "metadata": {
        "id": "MBvII5JH3WAh"
      },
      "source": [
        "#####Adaboost"
      ]
    },
    {
      "cell_type": "code",
      "metadata": {
        "colab": {
          "base_uri": "https://localhost:8080/"
        },
        "id": "JbTG8WT73WAh",
        "outputId": "ec40ded8-239b-49a8-ab2b-3ffcb673da6e"
      },
      "source": [
        "from sklearn.ensemble import AdaBoostClassifier\n",
        "model7 = AdaBoostClassifier(n_estimators=100, learning_rate=1)\n",
        "model7.fit(X_train, y_train)"
      ],
      "execution_count": null,
      "outputs": [
        {
          "output_type": "execute_result",
          "data": {
            "text/plain": [
              "AdaBoostClassifier(algorithm='SAMME.R', base_estimator=None, learning_rate=1,\n",
              "                   n_estimators=100, random_state=None)"
            ]
          },
          "metadata": {
            "tags": []
          },
          "execution_count": 155
        }
      ]
    },
    {
      "cell_type": "code",
      "metadata": {
        "colab": {
          "base_uri": "https://localhost:8080/"
        },
        "id": "rfDgoMPl3WAi",
        "outputId": "3bc711b6-ec27-446e-9000-ce5a38c4136a"
      },
      "source": [
        "model7.score(X_train,y_train)"
      ],
      "execution_count": null,
      "outputs": [
        {
          "output_type": "execute_result",
          "data": {
            "text/plain": [
              "0.7046815459989113"
            ]
          },
          "metadata": {
            "tags": []
          },
          "execution_count": 156
        }
      ]
    },
    {
      "cell_type": "code",
      "metadata": {
        "colab": {
          "base_uri": "https://localhost:8080/"
        },
        "id": "hTIqbquJ3WAi",
        "outputId": "dc12b937-ef2d-42c6-fadc-79a1211905f7"
      },
      "source": [
        "model7.score(X_test, y_test)"
      ],
      "execution_count": null,
      "outputs": [
        {
          "output_type": "execute_result",
          "data": {
            "text/plain": [
              "0.6724700761697497"
            ]
          },
          "metadata": {
            "tags": []
          },
          "execution_count": 157
        }
      ]
    },
    {
      "cell_type": "markdown",
      "metadata": {
        "id": "WIxX-YDm60B6"
      },
      "source": [
        "In the above individual feature modelling process, Algorithms are filtered considering their performance on the various features of the dataset."
      ]
    },
    {
      "cell_type": "markdown",
      "metadata": {
        "id": "_eBu4nuT6KOn"
      },
      "source": [
        "**Gradient Boosting Algorithm** is used for further feature selection because from the above analysis, it can be seen as the best performing algorithm on our dataset."
      ]
    },
    {
      "cell_type": "markdown",
      "metadata": {
        "id": "tHgRed_z3k4G"
      },
      "source": [
        "#Combination of different textual features"
      ]
    },
    {
      "cell_type": "markdown",
      "metadata": {
        "id": "g-Hv8oM03oYQ"
      },
      "source": [
        "##Sentiment, Noun count"
      ]
    },
    {
      "cell_type": "code",
      "metadata": {
        "id": "4Wb70m343oYR"
      },
      "source": [
        "X = textdata[['senti', 'Noun count']]\n",
        "Y = textdata['label_y']"
      ],
      "execution_count": null,
      "outputs": []
    },
    {
      "cell_type": "code",
      "metadata": {
        "id": "BjB4t1aX3oYR"
      },
      "source": [
        "from sklearn.model_selection import train_test_split\n",
        "X_train, X_test, y_train, y_test=train_test_split(X,Y, test_size=0.20, random_state=30)"
      ],
      "execution_count": null,
      "outputs": []
    },
    {
      "cell_type": "markdown",
      "metadata": {
        "id": "2pr043U33oYT"
      },
      "source": [
        "######Gradient boost"
      ]
    },
    {
      "cell_type": "code",
      "metadata": {
        "id": "PLM3YnuD3oYT"
      },
      "source": [
        "from sklearn.ensemble import GradientBoostingClassifier\n",
        "model5 = GradientBoostingClassifier(n_estimators=100, learning_rate=1.0,max_depth=1, random_state=30).fit(X_train, y_train)"
      ],
      "execution_count": null,
      "outputs": []
    },
    {
      "cell_type": "code",
      "metadata": {
        "colab": {
          "base_uri": "https://localhost:8080/"
        },
        "id": "2WZsabc-3oYT",
        "outputId": "da5e8540-6c74-43a3-98ad-35ed92286c5b"
      },
      "source": [
        "model5.score(X_train,y_train)"
      ],
      "execution_count": null,
      "outputs": [
        {
          "output_type": "execute_result",
          "data": {
            "text/plain": [
              "0.7729994556341862"
            ]
          },
          "metadata": {
            "tags": []
          },
          "execution_count": 161
        }
      ]
    },
    {
      "cell_type": "code",
      "metadata": {
        "colab": {
          "base_uri": "https://localhost:8080/"
        },
        "id": "7f2u8q613oYU",
        "outputId": "07034f01-ce07-4c9a-cc49-067094428e12"
      },
      "source": [
        "model5.score(X_test, y_test)"
      ],
      "execution_count": null,
      "outputs": [
        {
          "output_type": "execute_result",
          "data": {
            "text/plain": [
              "0.763873775843308"
            ]
          },
          "metadata": {
            "tags": []
          },
          "execution_count": 162
        }
      ]
    },
    {
      "cell_type": "markdown",
      "metadata": {
        "id": "qtGCXVzH38rE"
      },
      "source": [
        "##Sentiment, Noun count, Verb count"
      ]
    },
    {
      "cell_type": "code",
      "metadata": {
        "id": "ADZnord-38rF"
      },
      "source": [
        "X = textdata[['senti', 'Noun count', 'Verb count']]\n",
        "Y = textdata['label_y']"
      ],
      "execution_count": null,
      "outputs": []
    },
    {
      "cell_type": "code",
      "metadata": {
        "id": "W1eTMyJk38rF"
      },
      "source": [
        "from sklearn.model_selection import train_test_split\n",
        "X_train, X_test, y_train, y_test=train_test_split(X,Y, test_size=0.20, random_state=30)"
      ],
      "execution_count": null,
      "outputs": []
    },
    {
      "cell_type": "code",
      "metadata": {
        "id": "T1PchwPz38rG"
      },
      "source": [
        "from sklearn.ensemble import GradientBoostingClassifier\n",
        "model5 = GradientBoostingClassifier(n_estimators=100, learning_rate=1.0,max_depth=1, random_state=30).fit(X_train, y_train)"
      ],
      "execution_count": null,
      "outputs": []
    },
    {
      "cell_type": "code",
      "metadata": {
        "colab": {
          "base_uri": "https://localhost:8080/"
        },
        "id": "G54DZcOK38rG",
        "outputId": "cc8f9fca-5272-451e-c129-63ee95283a8e"
      },
      "source": [
        "model5.score(X_train,y_train)"
      ],
      "execution_count": null,
      "outputs": [
        {
          "output_type": "execute_result",
          "data": {
            "text/plain": [
              "0.7972237343494829"
            ]
          },
          "metadata": {
            "tags": []
          },
          "execution_count": 166
        }
      ]
    },
    {
      "cell_type": "code",
      "metadata": {
        "colab": {
          "base_uri": "https://localhost:8080/"
        },
        "id": "2xbHod2V38rG",
        "outputId": "7eacd51d-6540-4dea-f375-79883e3d5764"
      },
      "source": [
        "model5.score(X_test, y_test)"
      ],
      "execution_count": null,
      "outputs": [
        {
          "output_type": "execute_result",
          "data": {
            "text/plain": [
              "0.7932535364526659"
            ]
          },
          "metadata": {
            "tags": []
          },
          "execution_count": 167
        }
      ]
    },
    {
      "cell_type": "markdown",
      "metadata": {
        "id": "0BuuIjrz4IFp"
      },
      "source": [
        "##Sentiment, Noun count, Adjective count"
      ]
    },
    {
      "cell_type": "code",
      "metadata": {
        "id": "rVGIm4oD4IFq"
      },
      "source": [
        "X = textdata[['senti', 'Noun count', 'Adjective count']]\n",
        "Y = textdata['label_y']"
      ],
      "execution_count": null,
      "outputs": []
    },
    {
      "cell_type": "code",
      "metadata": {
        "id": "gvK174Y54IFq"
      },
      "source": [
        "from sklearn.model_selection import train_test_split\n",
        "X_train, X_test, y_train, y_test=train_test_split(X,Y, test_size=0.20, random_state=30)"
      ],
      "execution_count": null,
      "outputs": []
    },
    {
      "cell_type": "code",
      "metadata": {
        "id": "WKjgvScZ4IFr"
      },
      "source": [
        "from sklearn.ensemble import GradientBoostingClassifier\n",
        "model5 = GradientBoostingClassifier(n_estimators=100, learning_rate=1.0,max_depth=1, random_state=30).fit(X_train, y_train)"
      ],
      "execution_count": null,
      "outputs": []
    },
    {
      "cell_type": "code",
      "metadata": {
        "colab": {
          "base_uri": "https://localhost:8080/"
        },
        "id": "6HzhPzMQ4IFr",
        "outputId": "6eea4783-558f-4896-efcb-3f9ee5296c64"
      },
      "source": [
        "model5.score(X_train,y_train)"
      ],
      "execution_count": null,
      "outputs": [
        {
          "output_type": "execute_result",
          "data": {
            "text/plain": [
              "0.799129014697877"
            ]
          },
          "metadata": {
            "tags": []
          },
          "execution_count": 171
        }
      ]
    },
    {
      "cell_type": "code",
      "metadata": {
        "colab": {
          "base_uri": "https://localhost:8080/"
        },
        "id": "xM_I2c9J4IFs",
        "outputId": "f0fafaea-726a-43b0-871c-4471ac22355c"
      },
      "source": [
        "model5.score(X_test, y_test)"
      ],
      "execution_count": null,
      "outputs": [
        {
          "output_type": "execute_result",
          "data": {
            "text/plain": [
              "0.7997823721436343"
            ]
          },
          "metadata": {
            "tags": []
          },
          "execution_count": 172
        }
      ]
    },
    {
      "cell_type": "markdown",
      "metadata": {
        "id": "2_tyzbGV4VyC"
      },
      "source": [
        "##Sentiment, Noun count, Adjective count, Verb count"
      ]
    },
    {
      "cell_type": "code",
      "metadata": {
        "id": "yiTiUaJ-4VyD"
      },
      "source": [
        "X = textdata[['senti', 'Noun count', 'Adjective count', 'Verb count']]\n",
        "Y = textdata['label_y']"
      ],
      "execution_count": null,
      "outputs": []
    },
    {
      "cell_type": "code",
      "metadata": {
        "id": "Vo-oS9Le4VyD"
      },
      "source": [
        "from sklearn.model_selection import train_test_split\n",
        "X_train, X_test, y_train, y_test=train_test_split(X,Y, test_size=0.20, random_state=30)"
      ],
      "execution_count": null,
      "outputs": []
    },
    {
      "cell_type": "code",
      "metadata": {
        "id": "b-FIDSud4VyD"
      },
      "source": [
        "from sklearn.ensemble import GradientBoostingClassifier\n",
        "model5 = GradientBoostingClassifier(n_estimators=100, learning_rate=1.0,max_depth=1, random_state=30).fit(X_train, y_train)"
      ],
      "execution_count": null,
      "outputs": []
    },
    {
      "cell_type": "code",
      "metadata": {
        "colab": {
          "base_uri": "https://localhost:8080/"
        },
        "id": "m9pLK6vi4VyD",
        "outputId": "daafecfc-834d-4870-d8f2-f04496724133"
      },
      "source": [
        "model5.score(X_train,y_train)"
      ],
      "execution_count": null,
      "outputs": [
        {
          "output_type": "execute_result",
          "data": {
            "text/plain": [
              "0.8317909635274905"
            ]
          },
          "metadata": {
            "tags": []
          },
          "execution_count": 176
        }
      ]
    },
    {
      "cell_type": "code",
      "metadata": {
        "colab": {
          "base_uri": "https://localhost:8080/"
        },
        "id": "nE3no3Nx4VyE",
        "outputId": "064f3cbe-5873-46a0-a9e0-21ec80799929"
      },
      "source": [
        "model5.score(X_test, y_test)"
      ],
      "execution_count": null,
      "outputs": [
        {
          "output_type": "execute_result",
          "data": {
            "text/plain": [
              "0.8335146898803046"
            ]
          },
          "metadata": {
            "tags": []
          },
          "execution_count": 177
        }
      ]
    },
    {
      "cell_type": "markdown",
      "metadata": {
        "id": "lbCKyUYh4cGa"
      },
      "source": [
        "##Sentiment, Noun count, Adjective count, Verb count, PERSON"
      ]
    },
    {
      "cell_type": "code",
      "metadata": {
        "id": "p_h8XSNH4cGa"
      },
      "source": [
        "X = textdata[['senti', 'Noun count', 'Adjective count', 'Verb count', 'PERSON']]\n",
        "Y = textdata['label_y']"
      ],
      "execution_count": null,
      "outputs": []
    },
    {
      "cell_type": "code",
      "metadata": {
        "id": "cFJai96A4cGa"
      },
      "source": [
        "from sklearn.model_selection import train_test_split\n",
        "X_train, X_test, y_train, y_test=train_test_split(X,Y, test_size=0.20, random_state=30)"
      ],
      "execution_count": null,
      "outputs": []
    },
    {
      "cell_type": "code",
      "metadata": {
        "id": "v1FpFpal4cGb"
      },
      "source": [
        "from sklearn.ensemble import GradientBoostingClassifier\n",
        "model5 = GradientBoostingClassifier(n_estimators=100, learning_rate=1.0,max_depth=1, random_state=30).fit(X_train, y_train)"
      ],
      "execution_count": null,
      "outputs": []
    },
    {
      "cell_type": "code",
      "metadata": {
        "colab": {
          "base_uri": "https://localhost:8080/"
        },
        "id": "x6t5phAm4cGb",
        "outputId": "d73209fc-5ba4-47ec-8a4a-c0cbb3dca607"
      },
      "source": [
        "model5.score(X_train,y_train)"
      ],
      "execution_count": null,
      "outputs": [
        {
          "output_type": "execute_result",
          "data": {
            "text/plain": [
              "0.8238976592270005"
            ]
          },
          "metadata": {
            "tags": []
          },
          "execution_count": 181
        }
      ]
    },
    {
      "cell_type": "code",
      "metadata": {
        "colab": {
          "base_uri": "https://localhost:8080/"
        },
        "id": "Irwy6zpN4cGb",
        "outputId": "0dbef92d-48c3-4346-b892-c6d19b69c5cf"
      },
      "source": [
        "model5.score(X_test, y_test)"
      ],
      "execution_count": null,
      "outputs": [
        {
          "output_type": "execute_result",
          "data": {
            "text/plain": [
              "0.8204570184983678"
            ]
          },
          "metadata": {
            "tags": []
          },
          "execution_count": 182
        }
      ]
    },
    {
      "cell_type": "markdown",
      "metadata": {
        "id": "5pOYCAXi4plO"
      },
      "source": [
        "##Sentiment, Noun count, Adjective count, Verb count, GPE"
      ]
    },
    {
      "cell_type": "code",
      "metadata": {
        "id": "hQpLE7k14plP"
      },
      "source": [
        "X = textdata[['senti', 'Noun count', 'Adjective count', 'Verb count', 'GPE']]\n",
        "Y = textdata['label_y']"
      ],
      "execution_count": null,
      "outputs": []
    },
    {
      "cell_type": "code",
      "metadata": {
        "id": "qWl9UV8u4plP"
      },
      "source": [
        "from sklearn.model_selection import train_test_split\n",
        "X_train, X_test, y_train, y_test=train_test_split(X,Y, test_size=0.20, random_state=30)"
      ],
      "execution_count": null,
      "outputs": []
    },
    {
      "cell_type": "code",
      "metadata": {
        "id": "JOgLIVG54plP"
      },
      "source": [
        "from sklearn.ensemble import GradientBoostingClassifier\n",
        "model5 = GradientBoostingClassifier(n_estimators=100, learning_rate=1.0,max_depth=1, random_state=30).fit(X_train, y_train)"
      ],
      "execution_count": null,
      "outputs": []
    },
    {
      "cell_type": "code",
      "metadata": {
        "colab": {
          "base_uri": "https://localhost:8080/"
        },
        "id": "t9GBrShz4plP",
        "outputId": "6358f3fa-2af0-4aa5-b714-066e806e9bad"
      },
      "source": [
        "model5.score(X_train,y_train)"
      ],
      "execution_count": null,
      "outputs": [
        {
          "output_type": "execute_result",
          "data": {
            "text/plain": [
              "0.8358737071311921"
            ]
          },
          "metadata": {
            "tags": []
          },
          "execution_count": 186
        }
      ]
    },
    {
      "cell_type": "code",
      "metadata": {
        "colab": {
          "base_uri": "https://localhost:8080/"
        },
        "id": "i4s0ssNc4plQ",
        "outputId": "6cd246ed-d923-440a-b696-a931276ba5a1"
      },
      "source": [
        "model5.score(X_test, y_test)"
      ],
      "execution_count": null,
      "outputs": [
        {
          "output_type": "execute_result",
          "data": {
            "text/plain": [
              "0.8302502720348205"
            ]
          },
          "metadata": {
            "tags": []
          },
          "execution_count": 187
        }
      ]
    },
    {
      "cell_type": "markdown",
      "metadata": {
        "id": "55c_S2Xj431X"
      },
      "source": [
        "##Sentiment, Noun count, Adjective count, Verb count, ORG"
      ]
    },
    {
      "cell_type": "code",
      "metadata": {
        "id": "9uDAyGhl431X"
      },
      "source": [
        "X = textdata[['senti', 'Noun count', 'Adjective count', 'Verb count', 'ORG']]\n",
        "Y = textdata['label_y']"
      ],
      "execution_count": null,
      "outputs": []
    },
    {
      "cell_type": "code",
      "metadata": {
        "id": "V9aTYwf2431X"
      },
      "source": [
        "from sklearn.model_selection import train_test_split\n",
        "X_train, X_test, y_train, y_test=train_test_split(X,Y, test_size=0.20, random_state=30)"
      ],
      "execution_count": null,
      "outputs": []
    },
    {
      "cell_type": "code",
      "metadata": {
        "id": "d-0NPErr431Y"
      },
      "source": [
        "from sklearn.ensemble import GradientBoostingClassifier\n",
        "model5 = GradientBoostingClassifier(n_estimators=100, learning_rate=1.0,max_depth=1, random_state=30).fit(X_train, y_train)"
      ],
      "execution_count": null,
      "outputs": []
    },
    {
      "cell_type": "code",
      "metadata": {
        "colab": {
          "base_uri": "https://localhost:8080/"
        },
        "id": "IRShgr48431Y",
        "outputId": "00376fb8-b581-450f-abac-e397f274910c"
      },
      "source": [
        "model5.score(X_train,y_train)"
      ],
      "execution_count": null,
      "outputs": [
        {
          "output_type": "execute_result",
          "data": {
            "text/plain": [
              "0.8405008165487208"
            ]
          },
          "metadata": {
            "tags": []
          },
          "execution_count": 196
        }
      ]
    },
    {
      "cell_type": "code",
      "metadata": {
        "colab": {
          "base_uri": "https://localhost:8080/"
        },
        "id": "rQvR4Rw-431Y",
        "outputId": "55d49747-c3ba-417d-9b5b-fd96518f21c9"
      },
      "source": [
        "model5.score(X_test, y_test)"
      ],
      "execution_count": null,
      "outputs": [
        {
          "output_type": "execute_result",
          "data": {
            "text/plain": [
              "0.8302502720348205"
            ]
          },
          "metadata": {
            "tags": []
          },
          "execution_count": 197
        }
      ]
    },
    {
      "cell_type": "markdown",
      "metadata": {
        "id": "UM5jr5lv4wht"
      },
      "source": [
        "##Sentiment, Noun count, Adjective count, Verb count, NORP"
      ]
    },
    {
      "cell_type": "code",
      "metadata": {
        "id": "j3XkuLoa4whu"
      },
      "source": [
        "X = textdata[['senti', 'Noun count', 'Adjective count', 'Verb count', 'NORP']]\n",
        "Y = textdata['label_y']"
      ],
      "execution_count": null,
      "outputs": []
    },
    {
      "cell_type": "code",
      "metadata": {
        "id": "BZ6TTtI74whu"
      },
      "source": [
        "from sklearn.model_selection import train_test_split\n",
        "X_train, X_test, y_train, y_test=train_test_split(X,Y, test_size=0.20, random_state=30)"
      ],
      "execution_count": null,
      "outputs": []
    },
    {
      "cell_type": "code",
      "metadata": {
        "id": "PMNOCYgU4whu"
      },
      "source": [
        "from sklearn.ensemble import GradientBoostingClassifier\n",
        "model5 = GradientBoostingClassifier(n_estimators=100, learning_rate=1.0,max_depth=1, random_state=30).fit(X_train, y_train)"
      ],
      "execution_count": null,
      "outputs": []
    },
    {
      "cell_type": "code",
      "metadata": {
        "colab": {
          "base_uri": "https://localhost:8080/"
        },
        "id": "f2aUycLI4whu",
        "outputId": "2824fe18-662b-4a6d-9d74-dcfb2d1dc499"
      },
      "source": [
        "model5.score(X_train,y_train)"
      ],
      "execution_count": null,
      "outputs": [
        {
          "output_type": "execute_result",
          "data": {
            "text/plain": [
              "0.8301578660860098"
            ]
          },
          "metadata": {
            "tags": []
          },
          "execution_count": 191
        }
      ]
    },
    {
      "cell_type": "code",
      "metadata": {
        "colab": {
          "base_uri": "https://localhost:8080/"
        },
        "id": "Q2pY5Bmh4whv",
        "outputId": "310effa9-b638-44b4-bcf4-b7652ed8e3e9"
      },
      "source": [
        "model5.score(X_test, y_test)"
      ],
      "execution_count": null,
      "outputs": [
        {
          "output_type": "execute_result",
          "data": {
            "text/plain": [
              "0.8313384113166485"
            ]
          },
          "metadata": {
            "tags": []
          },
          "execution_count": 192
        }
      ]
    },
    {
      "cell_type": "markdown",
      "metadata": {
        "id": "OCRT8Uj84-qP"
      },
      "source": [
        "##Sentiment, Noun count, Adjective count, Verb count, PERSON, NORP, ORG, GPE"
      ]
    },
    {
      "cell_type": "code",
      "metadata": {
        "id": "qCKtzlTN4-qQ"
      },
      "source": [
        "X = textdata[['senti', 'Noun count', 'Adjective count', 'Verb count', 'PERSON', 'NORP', 'ORG', 'GPE']]\n",
        "Y = textdata['label_y']"
      ],
      "execution_count": null,
      "outputs": []
    },
    {
      "cell_type": "code",
      "metadata": {
        "id": "fGS_KBJ64-qQ"
      },
      "source": [
        "from sklearn.model_selection import train_test_split\n",
        "X_train, X_test, y_train, y_test=train_test_split(X,Y, test_size=0.20, random_state=30)"
      ],
      "execution_count": null,
      "outputs": []
    },
    {
      "cell_type": "code",
      "metadata": {
        "id": "0tYotgpd4-qQ"
      },
      "source": [
        "from sklearn.ensemble import GradientBoostingClassifier\n",
        "model5 = GradientBoostingClassifier(n_estimators=100, learning_rate=1.0,max_depth=1, random_state=30).fit(X_train, y_train)"
      ],
      "execution_count": null,
      "outputs": []
    },
    {
      "cell_type": "code",
      "metadata": {
        "colab": {
          "base_uri": "https://localhost:8080/"
        },
        "id": "azQEgaJ24-qQ",
        "outputId": "002253fd-58bd-4f2a-a08f-880897ae9d20"
      },
      "source": [
        "model5.score(X_train,y_train)"
      ],
      "execution_count": null,
      "outputs": [
        {
          "output_type": "execute_result",
          "data": {
            "text/plain": [
              "0.864452912357104"
            ]
          },
          "metadata": {
            "tags": []
          },
          "execution_count": 201
        }
      ]
    },
    {
      "cell_type": "code",
      "metadata": {
        "colab": {
          "base_uri": "https://localhost:8080/"
        },
        "id": "h3WEdki54-qR",
        "outputId": "4c3cb2dd-9a24-440d-fb90-ff1b12aba676"
      },
      "source": [
        "model5.score(X_test, y_test)"
      ],
      "execution_count": null,
      "outputs": [
        {
          "output_type": "execute_result",
          "data": {
            "text/plain": [
              "0.8683351468988031"
            ]
          },
          "metadata": {
            "tags": []
          },
          "execution_count": 202
        }
      ]
    }
  ]
}